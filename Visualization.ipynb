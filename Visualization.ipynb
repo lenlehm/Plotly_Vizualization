{
 "cells": [
  {
   "cell_type": "markdown",
   "metadata": {},
   "source": [
    "# Visualization\n",
    "\n",
    "Plotly Visualization with a Listenchampion List."
   ]
  },
  {
   "cell_type": "code",
<<<<<<< HEAD
   "execution_count": 1,
=======
   "execution_count": 8,
>>>>>>> 43c3f4fbec4b4d8c427eb3e7336f70c7b1eae197
   "metadata": {
    "collapsed": true
   },
   "outputs": [],
   "source": [
    "import chart_studio.plotly as py\n",
    "import chart_studio.tools as tls\n",
    "import plotly.io as pio\n",
    "import chart_studio\n",
    "import pandas as pd\n",
    "import numpy as np\n",
    "import os\n",
    "import re\n",
    "\n",
    "from credentials import USERNAME, API_KEY\n",
    "\n",
    "import matplotlib.pyplot as plt\n",
    "import plotly.express as px\n",
    "import plotly.graph_objects as go\n",
    "from IPython import display\n",
    "%matplotlib inline"
   ]
  },
  {
   "cell_type": "code",
<<<<<<< HEAD
   "execution_count": 2,
=======
   "execution_count": 9,
>>>>>>> 43c3f4fbec4b4d8c427eb3e7336f70c7b1eae197
   "metadata": {
    "collapsed": true
   },
   "outputs": [],
   "source": [
    "## Connect Plotly's chart studio \n",
    "chart_studio.tools.set_credentials_file(username=USERNAME, api_key=API_KEY)"
   ]
  },
  {
   "cell_type": "code",
<<<<<<< HEAD
   "execution_count": 3,
=======
   "execution_count": 10,
>>>>>>> 43c3f4fbec4b4d8c427eb3e7336f70c7b1eae197
   "metadata": {
    "collapsed": true
   },
   "outputs": [],
   "source": [
    "def convert_to_list(string):\n",
    "    '''\n",
    "    gets a tuple string, i.e. '(12.221342, 9.0998203)', representing (latitude, longitude) and outputs a float value\n",
    "    '''\n",
    "    liste = string[1:-1].split(\",\") # discards the brackets (from 1 until foremost ele)\n",
    "    return [float(x) for x in liste]"
   ]
  },
  {
   "cell_type": "code",
<<<<<<< HEAD
   "execution_count": 4,
=======
   "execution_count": 11,
>>>>>>> 43c3f4fbec4b4d8c427eb3e7336f70c7b1eae197
   "metadata": {
    "collapsed": true
   },
   "outputs": [],
   "source": [
    "def cast_to_float(string):\n",
    "    '''\n",
    "    casts a string to a float value\n",
    "    '''\n",
    "    try: \n",
    "        x = float(string)\n",
    "    except: # n.a.\n",
    "        x = None\n",
    "    return x"
   ]
  },
  {
   "cell_type": "code",
<<<<<<< HEAD
   "execution_count": 5,
=======
   "execution_count": 12,
>>>>>>> 43c3f4fbec4b4d8c427eb3e7336f70c7b1eae197
   "metadata": {
    "collapsed": true
   },
   "outputs": [],
   "source": [
    "def merge_columns(df1, df2, on_column, how='left'):\n",
    "    ''' merges 2 dataframes on the first given (df1) and returns the merged dataframe\n",
    "    Please give only the columns of interest and sub-dataframe the other one i.e. df2[['Key', 'interestA', 'interestCol2']]\n",
    "    on_column needs to be string, same as how\n",
    "    '''\n",
    "    return pd.merge(df1, df2, on=on_column, how=how)"
   ]
  },
  {
   "cell_type": "code",
<<<<<<< HEAD
   "execution_count": 6,
=======
   "execution_count": 13,
>>>>>>> 43c3f4fbec4b4d8c427eb3e7336f70c7b1eae197
   "metadata": {
    "collapsed": true
   },
   "outputs": [],
   "source": [
    "def difference_of_columns(df, col1, col2, newColName, withColor=True):\n",
    "    '''\n",
    "    gets dataframe and returns two columns with the difference and color\n",
    "    df: pd. Data Frame\n",
    "    col1: string\n",
    "    col2: string\n",
    "    newColName: string\n",
    "    '''\n",
    "    df[newColName] = df[col1] - df[col2]\n",
    "    ## substitute NaN with 0\n",
    "    df[newColName].fillna(0, inplace=True)\n",
    "    df[newColName].apply(lambda x: float(x))\n",
    "    \n",
    "    if withColor:\n",
    "        ## new colum with the color coding (red or green) for visualization\n",
    "        df['color'] = df[newColName].apply(lambda x: 'green' if x >=0 else 'red')\n",
    "        return df\n",
    "    else: \n",
    "        return df"
   ]
  },
  {
   "cell_type": "code",
<<<<<<< HEAD
   "execution_count": 7,
=======
   "execution_count": 14,
>>>>>>> 43c3f4fbec4b4d8c427eb3e7336f70c7b1eae197
   "metadata": {},
   "outputs": [
    {
     "data": {
      "text/plain": [
       "'<iframe id=\"igraph\" scrolling=\"no\" style=\"border:none;\" seamless=\"seamless\" src=\"https://plotly.com/~lenlehm/13.embed\" height=\"525\" width=\"100%\"></iframe>'"
      ]
     },
<<<<<<< HEAD
     "execution_count": 7,
=======
     "execution_count": 14,
>>>>>>> 43c3f4fbec4b4d8c427eb3e7336f70c7b1eae197
     "metadata": {},
     "output_type": "execute_result"
    }
   ],
   "source": [
    "def generate_iFrame(string): \n",
    "    '''\n",
    "    Generates the iFrame to embed the Plotly Vizu in an HTML side to make it still responsive\n",
    "    i.e. string = 'https://plot.ly/~lenlehm/9/'\n",
    "    '''\n",
    "    return tls.get_embed(string)\n",
    "generate_iFrame('https://plotly.com/~lenlehm/13/')"
   ]
  },
  {
   "cell_type": "code",
<<<<<<< HEAD
   "execution_count": 8,
=======
   "execution_count": 15,
>>>>>>> 43c3f4fbec4b4d8c427eb3e7336f70c7b1eae197
   "metadata": {},
   "outputs": [
    {
     "data": {
      "text/html": [
       "<div>\n",
       "<style scoped>\n",
       "    .dataframe tbody tr th:only-of-type {\n",
       "        vertical-align: middle;\n",
       "    }\n",
       "\n",
       "    .dataframe tbody tr th {\n",
       "        vertical-align: top;\n",
       "    }\n",
       "\n",
       "    .dataframe thead th {\n",
       "        text-align: right;\n",
       "    }\n",
       "</style>\n",
       "<table border=\"1\" class=\"dataframe\">\n",
       "  <thead>\n",
       "    <tr style=\"text-align: right;\">\n",
       "      <th></th>\n",
       "      <th>Unternehmen</th>\n",
       "      <th>Rechtsform</th>\n",
       "      <th>Branche</th>\n",
       "      <th>Unterteilung</th>\n",
       "      <th>Tätigkeitsgebiet</th>\n",
       "      <th>Umsatz 2018 (in Mio. €)</th>\n",
       "      <th>Umsatz 2017 (in Mio. €)</th>\n",
       "      <th>Umsatz 2016 (in Mio. €)</th>\n",
       "      <th>Umsatz 2015 (in Mio. €)</th>\n",
       "      <th>Mitarbeiter</th>\n",
       "      <th>...</th>\n",
       "      <th>E-Mail</th>\n",
       "      <th>Telefon</th>\n",
       "      <th>Geschäftsführung</th>\n",
       "      <th>URL</th>\n",
       "      <th>Eintrag erstellt</th>\n",
       "      <th>Zuletzt überprüft</th>\n",
       "      <th>Zuletzt aktualisiert</th>\n",
       "      <th>Letzte Aktualisierung</th>\n",
       "      <th>latitude</th>\n",
       "      <th>longitude</th>\n",
       "    </tr>\n",
       "  </thead>\n",
       "  <tbody>\n",
       "    <tr>\n",
       "      <th>0</th>\n",
       "      <td>Robert Bosch GmbH</td>\n",
       "      <td>GmbH</td>\n",
       "      <td>Industrie, IT</td>\n",
       "      <td>Automobilzulieferer, Bauzulieferer, Elektrotec...</td>\n",
       "      <td>Hardware, Software, Services</td>\n",
       "      <td>78465</td>\n",
       "      <td>78066</td>\n",
       "      <td>73129</td>\n",
       "      <td>70607</td>\n",
       "      <td>409900</td>\n",
       "      <td>...</td>\n",
       "      <td>kontakt@bosch.de</td>\n",
       "      <td>49 711 400 40990</td>\n",
       "      <td>Dr. Volkmar Denner, Prof. Dr. Stefan Asenkersc...</td>\n",
       "      <td>https://www.bosch.com/</td>\n",
       "      <td>2017-11-08</td>\n",
       "      <td>2020-03-31</td>\n",
       "      <td>2020-03-31</td>\n",
       "      <td>Geschäftsführung</td>\n",
       "      <td>48.790806</td>\n",
       "      <td>9.065157</td>\n",
       "    </tr>\n",
       "    <tr>\n",
       "      <th>1</th>\n",
       "      <td>Continental AG</td>\n",
       "      <td>AG</td>\n",
       "      <td>Industrie, IT</td>\n",
       "      <td>Automobilzulieferer, Kunststoffverarbeiter, So...</td>\n",
       "      <td>Universalzulieferer</td>\n",
       "      <td>44404</td>\n",
       "      <td>44010</td>\n",
       "      <td>40550</td>\n",
       "      <td>39232</td>\n",
       "      <td>243226</td>\n",
       "      <td>...</td>\n",
       "      <td>mail_service@conti.de</td>\n",
       "      <td>49 511 938 01</td>\n",
       "      <td>Dr. Elmar Degenhart, Hans-Jürgen Duensing, Fra...</td>\n",
       "      <td>https://www.continental.com/</td>\n",
       "      <td>2017-11-08</td>\n",
       "      <td>2020-03-26</td>\n",
       "      <td>2020-03-26</td>\n",
       "      <td>Geschäftsführung</td>\n",
       "      <td>52.404292</td>\n",
       "      <td>9.725677</td>\n",
       "    </tr>\n",
       "    <tr>\n",
       "      <th>2</th>\n",
       "      <td>ZF Friedrichshafen AG</td>\n",
       "      <td>AG</td>\n",
       "      <td>Industrie, IT</td>\n",
       "      <td>Automobilzulieferer, Elektroindustrie, Software</td>\n",
       "      <td>Antrieb, Fahrwerk, Sicherheitssysteme</td>\n",
       "      <td>36929</td>\n",
       "      <td>36444</td>\n",
       "      <td>35166</td>\n",
       "      <td>29154</td>\n",
       "      <td>147332</td>\n",
       "      <td>...</td>\n",
       "      <td>postoffice@zf.com</td>\n",
       "      <td>49 7541 77 0</td>\n",
       "      <td>Wolf-Henning Scheider, Dr. Konstantin Sauer, S...</td>\n",
       "      <td>https://www.zf.com/</td>\n",
       "      <td>2017-11-08</td>\n",
       "      <td>2020-03-27</td>\n",
       "      <td>2020-03-27</td>\n",
       "      <td>Geschäftsführung</td>\n",
       "      <td>47.642280</td>\n",
       "      <td>9.497300</td>\n",
       "    </tr>\n",
       "    <tr>\n",
       "      <th>3</th>\n",
       "      <td>thyssenkrupp AG</td>\n",
       "      <td>AG</td>\n",
       "      <td>Industrie</td>\n",
       "      <td>Metallverarbeiter, Rohstoffe, Automobilzuliefe...</td>\n",
       "      <td>Lenksysteme, Bleck, Kunststoffe, Metalle, Legi...</td>\n",
       "      <td>34777</td>\n",
       "      <td>33993</td>\n",
       "      <td>39263</td>\n",
       "      <td>42778</td>\n",
       "      <td>161096</td>\n",
       "      <td>...</td>\n",
       "      <td>info@thyssenkrupp.com</td>\n",
       "      <td>49 201 844 0</td>\n",
       "      <td>Martina Merz, Dr. Klaus Keysberg, Oliver Burkhard</td>\n",
       "      <td>https://www.thyssenkrupp.com/</td>\n",
       "      <td>2020-04-01</td>\n",
       "      <td>2020-04-01</td>\n",
       "      <td>NaN</td>\n",
       "      <td>NaN</td>\n",
       "      <td>51.462792</td>\n",
       "      <td>6.978757</td>\n",
       "    </tr>\n",
       "    <tr>\n",
       "      <th>4</th>\n",
       "      <td>Schaeffler AG</td>\n",
       "      <td>AG</td>\n",
       "      <td>Industrie</td>\n",
       "      <td>Automobilzulieferer, Maschinenbau, Metallverar...</td>\n",
       "      <td>Antrieb, Getriebe, Fahrwerk</td>\n",
       "      <td>14241</td>\n",
       "      <td>14021</td>\n",
       "      <td>13338</td>\n",
       "      <td>13179</td>\n",
       "      <td>92478</td>\n",
       "      <td>...</td>\n",
       "      <td>info.de@schaeffler.com</td>\n",
       "      <td>49 9132 82 0</td>\n",
       "      <td>Klaus Rosenfeld, Dietmar Heinrich, Andreas Sch...</td>\n",
       "      <td>https://www.schaeffler.de/</td>\n",
       "      <td>2017-11-08</td>\n",
       "      <td>2020-03-31</td>\n",
       "      <td>2020-03-31</td>\n",
       "      <td>Geschäftsführung</td>\n",
       "      <td>49.578242</td>\n",
       "      <td>10.881903</td>\n",
       "    </tr>\n",
       "  </tbody>\n",
       "</table>\n",
       "<p>5 rows × 25 columns</p>\n",
       "</div>"
      ],
      "text/plain": [
       "             Unternehmen Rechtsform        Branche  \\\n",
       "0      Robert Bosch GmbH       GmbH  Industrie, IT   \n",
       "1         Continental AG         AG  Industrie, IT   \n",
       "2  ZF Friedrichshafen AG         AG  Industrie, IT   \n",
       "3        thyssenkrupp AG         AG      Industrie   \n",
       "4          Schaeffler AG         AG      Industrie   \n",
       "\n",
       "                                        Unterteilung  \\\n",
       "0  Automobilzulieferer, Bauzulieferer, Elektrotec...   \n",
       "1  Automobilzulieferer, Kunststoffverarbeiter, So...   \n",
       "2    Automobilzulieferer, Elektroindustrie, Software   \n",
       "3  Metallverarbeiter, Rohstoffe, Automobilzuliefe...   \n",
       "4  Automobilzulieferer, Maschinenbau, Metallverar...   \n",
       "\n",
       "                                    Tätigkeitsgebiet  Umsatz 2018 (in Mio. €)  \\\n",
       "0                       Hardware, Software, Services                    78465   \n",
       "1                                Universalzulieferer                    44404   \n",
       "2              Antrieb, Fahrwerk, Sicherheitssysteme                    36929   \n",
       "3  Lenksysteme, Bleck, Kunststoffe, Metalle, Legi...                    34777   \n",
       "4                        Antrieb, Getriebe, Fahrwerk                    14241   \n",
       "\n",
       "  Umsatz 2017 (in Mio. €) Umsatz 2016 (in Mio. €) Umsatz 2015 (in Mio. €)  \\\n",
       "0                   78066                   73129                   70607   \n",
       "1                   44010                   40550                   39232   \n",
       "2                   36444                   35166                   29154   \n",
       "3                   33993                   39263                   42778   \n",
       "4                   14021                   13338                   13179   \n",
       "\n",
       "   Mitarbeiter  ...                  E-Mail           Telefon  \\\n",
       "0       409900  ...        kontakt@bosch.de  49 711 400 40990   \n",
       "1       243226  ...   mail_service@conti.de     49 511 938 01   \n",
       "2       147332  ...       postoffice@zf.com      49 7541 77 0   \n",
       "3       161096  ...   info@thyssenkrupp.com      49 201 844 0   \n",
       "4        92478  ...  info.de@schaeffler.com      49 9132 82 0   \n",
       "\n",
       "                                    Geschäftsführung  \\\n",
       "0  Dr. Volkmar Denner, Prof. Dr. Stefan Asenkersc...   \n",
       "1  Dr. Elmar Degenhart, Hans-Jürgen Duensing, Fra...   \n",
       "2  Wolf-Henning Scheider, Dr. Konstantin Sauer, S...   \n",
       "3  Martina Merz, Dr. Klaus Keysberg, Oliver Burkhard   \n",
       "4  Klaus Rosenfeld, Dietmar Heinrich, Andreas Sch...   \n",
       "\n",
       "                             URL Eintrag erstellt Zuletzt überprüft  \\\n",
       "0         https://www.bosch.com/       2017-11-08        2020-03-31   \n",
       "1   https://www.continental.com/       2017-11-08        2020-03-26   \n",
       "2            https://www.zf.com/       2017-11-08        2020-03-27   \n",
       "3  https://www.thyssenkrupp.com/       2020-04-01        2020-04-01   \n",
       "4     https://www.schaeffler.de/       2017-11-08        2020-03-31   \n",
       "\n",
       "  Zuletzt aktualisiert Letzte Aktualisierung   latitude  longitude  \n",
       "0           2020-03-31      Geschäftsführung  48.790806   9.065157  \n",
       "1           2020-03-26      Geschäftsführung  52.404292   9.725677  \n",
       "2           2020-03-27      Geschäftsführung  47.642280   9.497300  \n",
       "3                  NaN                   NaN  51.462792   6.978757  \n",
       "4           2020-03-31      Geschäftsführung  49.578242  10.881903  \n",
       "\n",
       "[5 rows x 25 columns]"
      ]
     },
<<<<<<< HEAD
     "execution_count": 8,
=======
     "execution_count": 15,
>>>>>>> 43c3f4fbec4b4d8c427eb3e7336f70c7b1eae197
     "metadata": {},
     "output_type": "execute_result"
    }
   ],
   "source": [
    "filename = os.path.join(os.getcwd(), \"Listenchampion_Top20AutomotiveSuppliers.csv\")\n",
    "df = pd.read_csv(filename, index_col=False)\n",
    "df.head() # 20 x 25"
   ]
  },
  {
   "cell_type": "code",
<<<<<<< HEAD
   "execution_count": 9,
=======
   "execution_count": 16,
>>>>>>> 43c3f4fbec4b4d8c427eb3e7336f70c7b1eae197
   "metadata": {},
   "outputs": [
    {
     "name": "stdout",
     "output_type": "stream",
     "text": [
      "<class 'pandas.core.frame.DataFrame'>\n",
      "RangeIndex: 20 entries, 0 to 19\n",
      "Data columns (total 25 columns):\n",
      " #   Column                   Non-Null Count  Dtype  \n",
      "---  ------                   --------------  -----  \n",
      " 0   Unternehmen              20 non-null     object \n",
      " 1   Rechtsform               20 non-null     object \n",
      " 2   Branche                  20 non-null     object \n",
      " 3   Unterteilung             20 non-null     object \n",
      " 4   Tätigkeitsgebiet         20 non-null     object \n",
      " 5   Umsatz 2018 (in Mio. €)  20 non-null     int64  \n",
      " 6   Umsatz 2017 (in Mio. €)  20 non-null     object \n",
      " 7   Umsatz 2016 (in Mio. €)  20 non-null     object \n",
      " 8   Umsatz 2015 (in Mio. €)  20 non-null     object \n",
      " 9   Mitarbeiter              20 non-null     int64  \n",
      " 10  Muttergesellschaft       0 non-null      float64\n",
      " 11  Bundesland               20 non-null     object \n",
      " 12  Stadt                    20 non-null     object \n",
      " 13  PLZ                      20 non-null     int64  \n",
      " 14  Anschrift                20 non-null     object \n",
      " 15  E-Mail                   20 non-null     object \n",
      " 16  Telefon                  20 non-null     object \n",
      " 17  Geschäftsführung         20 non-null     object \n",
      " 18  URL                      20 non-null     object \n",
      " 19  Eintrag erstellt         20 non-null     object \n",
      " 20  Zuletzt überprüft        20 non-null     object \n",
      " 21  Zuletzt aktualisiert     13 non-null     object \n",
      " 22  Letzte Aktualisierung    13 non-null     object \n",
      " 23  latitude                 20 non-null     float64\n",
      " 24  longitude                20 non-null     float64\n",
      "dtypes: float64(3), int64(3), object(19)\n",
      "memory usage: 4.0+ KB\n"
     ]
    }
   ],
   "source": [
    "df.info()"
   ]
  },
  {
   "cell_type": "code",
<<<<<<< HEAD
   "execution_count": 10,
=======
   "execution_count": 17,
>>>>>>> 43c3f4fbec4b4d8c427eb3e7336f70c7b1eae197
   "metadata": {
    "collapsed": true
   },
   "outputs": [],
   "source": [
    "if 'lat / lon' in df.columns: \n",
    "    if type(df['lat / lon'][0]) == str:\n",
    "        df['lat / lon'] = df['lat / lon'].apply(lambda x: convert_to_list(x))\n",
    "    else: \n",
    "        print(type(df['lat / lon'][0]))"
   ]
  },
  {
   "cell_type": "code",
<<<<<<< HEAD
   "execution_count": 11,
   "metadata": {
    "collapsed": true
   },
=======
   "execution_count": 18,
   "metadata": {},
>>>>>>> 43c3f4fbec4b4d8c427eb3e7336f70c7b1eae197
   "outputs": [],
   "source": [
    "## split lat/lon column up into two seperate columns and cast the Revenues to NUMBER types, are string\n",
    "if 'latitude' not in df.columns:\n",
    "    df['latitude'] = df['lat / lon'].apply(lambda x: x[0])\n",
    "    df['longitude'] = df['lat / lon'].apply(lambda x: x[1])\n",
    "    #df = df.drop(['lat / lon'], axis=1)\n",
    "\n",
    "## Cast the Revenues to float entries\n",
    "if type(df['Umsatz 2015 (in Mio. €)']) != float:\n",
    "    df['Umsatz 2015 (in Mio. €)'] = df['Umsatz 2015 (in Mio. €)'].apply(lambda x: cast_to_float(x))\n",
    "    df['Umsatz 2016 (in Mio. €)'] = df['Umsatz 2016 (in Mio. €)'].apply(lambda x: cast_to_float(x))\n",
    "    df['Umsatz 2017 (in Mio. €)'] = df['Umsatz 2017 (in Mio. €)'].apply(lambda x: cast_to_float(x))\n",
    "    df['Umsatz 2018 (in Mio. €)'] = df['Umsatz 2018 (in Mio. €)'].apply(lambda x: cast_to_float(x))\n",
    "    \n",
    "## Create the difference column\n",
    "colName = 'difference'\n",
    "if colName not in df.columns:\n",
    "    df = difference_of_columns(df, col1='Umsatz 2018 (in Mio. €)', col2='Umsatz 2017 (in Mio. €)', newColName=colName)"
   ]
  },
  {
   "cell_type": "code",
<<<<<<< HEAD
   "execution_count": 12,
=======
   "execution_count": 19,
>>>>>>> 43c3f4fbec4b4d8c427eb3e7336f70c7b1eae197
   "metadata": {
    "collapsed": true
   },
   "outputs": [],
   "source": [
    "## remove NaNs by filling them with their previous or future value\n",
    "df2 = df.fillna(method='ffill')\n",
    "df2 = df.fillna(method='backfill')"
   ]
  },
  {
   "cell_type": "markdown",
   "metadata": {},
   "source": [
    "## Map Visualization with Revenue change from 2017 to 2018"
   ]
  },
  {
   "cell_type": "code",
<<<<<<< HEAD
   "execution_count": 19,
=======
   "execution_count": 21,
>>>>>>> 43c3f4fbec4b4d8c427eb3e7336f70c7b1eae197
   "metadata": {
    "scrolled": false
   },
   "outputs": [
    {
     "data": {
      "application/vnd.plotly.v1+json": {
       "config": {
        "plotlyServerURL": "https://plotly.com"
       },
       "data": [
        {
         "hovertemplate": "<b>Robert Bosch GmbH </b><br><br>Rev. Difference: 399.0<br># Employees: 409900<br>",
         "lat": [
          48.79080560000001
         ],
         "locationmode": "geojson-id",
         "lon": [
          9.0651574
         ],
         "marker": {
          "color": [
           "green"
          ],
          "line": {
           "color": "rgb(40,40,40)",
           "width": 0.4
          },
          "size": 7.125,
          "sizemode": "area"
         },
         "name": "Robert Bosch GmbH",
         "type": "scattergeo"
        },
        {
         "hovertemplate": "<b>Continental AG </b><br><br>Rev. Difference: 394.0<br># Employees: 243226<br>",
         "lat": [
          52.4042924
         ],
         "locationmode": "geojson-id",
         "lon": [
          9.7256772
         ],
         "marker": {
          "color": [
           "green"
          ],
          "line": {
           "color": "rgb(40,40,40)",
           "width": 0.4
          },
          "size": 7.035714285714286,
          "sizemode": "area"
         },
         "name": "Continental AG",
         "type": "scattergeo"
        },
        {
         "hovertemplate": "<b>ZF Friedrichshafen AG </b><br><br>Rev. Difference: 485.0<br># Employees: 147332<br>",
         "lat": [
          47.6422797
         ],
         "locationmode": "geojson-id",
         "lon": [
          9.4972996
         ],
         "marker": {
          "color": [
           "green"
          ],
          "line": {
           "color": "rgb(40,40,40)",
           "width": 0.4
          },
          "size": 8.660714285714286,
          "sizemode": "area"
         },
         "name": "ZF Friedrichshafen AG",
         "type": "scattergeo"
        },
        {
         "hovertemplate": "<b>thyssenkrupp AG </b><br><br>Rev. Difference: 784.0<br># Employees: 161096<br>",
         "lat": [
          51.46279209999999
         ],
         "locationmode": "geojson-id",
         "lon": [
          6.9787572
         ],
         "marker": {
          "color": [
           "green"
          ],
          "line": {
           "color": "rgb(40,40,40)",
           "width": 0.4
          },
          "size": 14,
          "sizemode": "area"
         },
         "name": "thyssenkrupp AG",
         "type": "scattergeo"
        },
        {
         "hovertemplate": "<b>Schaeffler AG </b><br><br>Rev. Difference: 220.0<br># Employees: 92478<br>",
         "lat": [
          49.57824160000001
         ],
         "locationmode": "geojson-id",
         "lon": [
          10.8819032
         ],
         "marker": {
          "color": [
           "green"
          ],
          "line": {
           "color": "rgb(40,40,40)",
           "width": 0.4
          },
          "size": 7,
          "sizemode": "area"
         },
         "name": "Schaeffler AG",
         "type": "scattergeo"
        },
        {
         "hovertemplate": "<b>Freudenberg SE </b><br><br>Rev. Difference: -109.0<br># Employees: 48894<br>",
         "lat": [
          49.5407466
         ],
         "locationmode": "geojson-id",
         "lon": [
          8.662045299999999
         ],
         "marker": {
          "color": [
           "red"
          ],
          "line": {
           "color": "rgb(40,40,40)",
           "width": 0.4
          },
          "size": 7,
          "sizemode": "area"
         },
         "name": "Freudenberg SE",
         "type": "scattergeo"
        },
        {
         "hovertemplate": "<b>HELLA GmbH & Co. KGaA </b><br><br>Rev. Difference: -70.0<br># Employees: 38845<br>",
         "lat": [
          51.6731727
         ],
         "locationmode": "geojson-id",
         "lon": [
          8.3588214
         ],
         "marker": {
          "color": [
           "red"
          ],
          "line": {
           "color": "rgb(40,40,40)",
           "width": 0.4
          },
          "size": 7,
          "sizemode": "area"
         },
         "name": "HELLA GmbH & Co. KGaA",
         "type": "scattergeo"
        },
        {
         "hovertemplate": "<b>Brose Fahrzeugteile SE & Co. Kommanditgesellschaft </b><br><br>Rev. Difference: -48.0<br># Employees: 26000<br>",
         "lat": [
          50.255698
         ],
         "locationmode": "geojson-id",
         "lon": [
          10.955081800000002
         ],
         "marker": {
          "color": [
           "red"
          ],
          "line": {
           "color": "rgb(40,40,40)",
           "width": 0.4
          },
          "size": 7,
          "sizemode": "area"
         },
         "name": "Brose Fahrzeugteile SE & Co. Kommanditgesellschaft",
         "type": "scattergeo"
        },
        {
         "hovertemplate": "<b>LEONI AG </b><br><br>Rev. Difference: 176.0<br># Employees: 92549<br>",
         "lat": [
          49.449102
         ],
         "locationmode": "geojson-id",
         "lon": [
          11.0873543
         ],
         "marker": {
          "color": [
           "green"
          ],
          "line": {
           "color": "rgb(40,40,40)",
           "width": 0.4
          },
          "size": 7,
          "sizemode": "area"
         },
         "name": "LEONI AG",
         "type": "scattergeo"
        },
        {
         "hovertemplate": "<b>Eberspächer Gruppe GmbH & Co. KG </b><br><br>Rev. Difference: 129.0<br># Employees: 9862<br>",
         "lat": [
          48.72718370000001
         ],
         "locationmode": "geojson-id",
         "lon": [
          9.3526316
         ],
         "marker": {
          "color": [
           "green"
          ],
          "line": {
           "color": "rgb(40,40,40)",
           "width": 0.4
          },
          "size": 7,
          "sizemode": "area"
         },
         "name": "Eberspächer Gruppe GmbH & Co. KG",
         "type": "scattergeo"
        },
        {
         "hovertemplate": "<b>Fritz Dräxlmaier GmbH & Co. KG </b><br><br>Rev. Difference: 488.0<br># Employees: 79126<br>",
         "lat": [
          48.43777290000001
         ],
         "locationmode": "geojson-id",
         "lon": [
          12.3430106
         ],
         "marker": {
          "color": [
           "green"
          ],
          "line": {
           "color": "rgb(40,40,40)",
           "width": 0.4
          },
          "size": 8.714285714285714,
          "sizemode": "area"
         },
         "name": "Fritz Dräxlmaier GmbH & Co. KG",
         "type": "scattergeo"
        },
        {
         "hovertemplate": "<b>Voith GmbH & Co. KGaA </b><br><br>Rev. Difference: -15.0<br># Employees: 19511<br>",
         "lat": [
          48.6628951
         ],
         "locationmode": "geojson-id",
         "lon": [
          10.1658148
         ],
         "marker": {
          "color": [
           "red"
          ],
          "line": {
           "color": "rgb(40,40,40)",
           "width": 0.4
          },
          "size": 7,
          "sizemode": "area"
         },
         "name": "Voith GmbH & Co. KGaA",
         "type": "scattergeo"
        },
        {
         "hovertemplate": "<b>Dürr Aktiengesellschaft </b><br><br>Rev. Difference: 157.0<br># Employees: 16312<br>",
         "lat": [
          48.95356820000001
         ],
         "locationmode": "geojson-id",
         "lon": [
          9.1241772
         ],
         "marker": {
          "color": [
           "green"
          ],
          "line": {
           "color": "rgb(40,40,40)",
           "width": 0.4
          },
          "size": 7,
          "sizemode": "area"
         },
         "name": "Dürr Aktiengesellschaft",
         "type": "scattergeo"
        },
        {
         "hovertemplate": "<b>Diehl Stiftung & Co. KG </b><br><br>Rev. Difference: -55.0<br># Employees: 17298<br>",
         "lat": [
          49.4429032
         ],
         "locationmode": "geojson-id",
         "lon": [
          11.1044714
         ],
         "marker": {
          "color": [
           "red"
          ],
          "line": {
           "color": "rgb(40,40,40)",
           "width": 0.4
          },
          "size": 7,
          "sizemode": "area"
         },
         "name": "Diehl Stiftung & Co. KG",
         "type": "scattergeo"
        },
        {
         "hovertemplate": "<b>Webasto SE </b><br><br>Rev. Difference: -79.0<br># Employees: 13298<br>",
         "lat": [
          48.0644849
         ],
         "locationmode": "geojson-id",
         "lon": [
          11.3744084
         ],
         "marker": {
          "color": [
           "red"
          ],
          "line": {
           "color": "rgb(40,40,40)",
           "width": 0.4
          },
          "size": 7,
          "sizemode": "area"
         },
         "name": "Webasto SE",
         "type": "scattergeo"
        },
        {
         "hovertemplate": "<b>OTTO FUCHS KG </b><br><br>Rev. Difference: 153.0<br># Employees: 9899<br>",
         "lat": [
          51.1140959
         ],
         "locationmode": "geojson-id",
         "lon": [
          7.7082643
         ],
         "marker": {
          "color": [
           "green"
          ],
          "line": {
           "color": "rgb(40,40,40)",
           "width": 0.4
          },
          "size": 7,
          "sizemode": "area"
         },
         "name": "OTTO FUCHS KG",
         "type": "scattergeo"
        },
        {
         "hovertemplate": "<b>AUNDE Group SE </b><br><br>Rev. Difference: 0.0<br># Employees: 24500<br>",
         "lat": [
          51.1987421
         ],
         "locationmode": "geojson-id",
         "lon": [
          6.3944066999999984
         ],
         "marker": {
          "color": [
           "green"
          ],
          "line": {
           "color": "rgb(40,40,40)",
           "width": 0.4
          },
          "size": 7,
          "sizemode": "area"
         },
         "name": "AUNDE Group SE",
         "type": "scattergeo"
        },
        {
         "hovertemplate": "<b>Michelin Reifenwerke AG & Co. KGaA </b><br><br>Rev. Difference: -116.0<br># Employees: 5471<br>",
         "lat": [
          49.00721710000001
         ],
         "locationmode": "geojson-id",
         "lon": [
          8.352578099999999
         ],
         "marker": {
          "color": [
           "red"
          ],
          "line": {
           "color": "rgb(40,40,40)",
           "width": 0.4
          },
          "size": 7,
          "sizemode": "area"
         },
         "name": "Michelin Reifenwerke AG & Co. KGaA",
         "type": "scattergeo"
        },
        {
         "hovertemplate": "<b>Muhr und Bender KG </b><br><br>Rev. Difference: 209.0<br># Employees: 12892<br>",
         "lat": [
          51.1035104
         ],
         "locationmode": "geojson-id",
         "lon": [
          7.866654599999999
         ],
         "marker": {
          "color": [
           "green"
          ],
          "line": {
           "color": "rgb(40,40,40)",
           "width": 0.4
          },
          "size": 7,
          "sizemode": "area"
         },
         "name": "Muhr und Bender KG",
         "type": "scattergeo"
        },
        {
         "hovertemplate": "<b>Röchling SE & Co. KG </b><br><br>Rev. Difference: 299.0<br># Employees: 9687<br>",
         "lat": [
          49.4764407
         ],
         "locationmode": "geojson-id",
         "lon": [
          8.4930737
         ],
         "marker": {
          "color": [
           "green"
          ],
          "line": {
           "color": "rgb(40,40,40)",
           "width": 0.4
          },
          "size": 7,
          "sizemode": "area"
         },
         "name": "Röchling SE & Co. KG",
         "type": "scattergeo"
        }
       ],
       "layout": {
        "geo": {
         "center": {
          "lat": 50.757958,
          "lon": 10.266271
         },
         "coastlinecolor": "white",
         "countrycolor": "white",
         "domain": {
          "x": [
           0,
           1
          ],
          "y": [
           0,
           1
          ]
         },
         "landcolor": "rgb(229, 229, 229)",
         "lataxis": {
          "range": [
           47,
           55
          ]
         },
         "lonaxis": {
          "range": [
           5,
           15
          ]
         },
         "projection": {
          "type": "mercator"
         },
         "resolution": 50,
         "scope": "europe",
         "showcoastlines": true,
         "showframe": false
        },
        "height": 800,
        "legend": {
         "orientation": "h",
         "title": {
          "text": "<b> Company </b>"
         }
        },
        "showlegend": true,
        "template": {
         "data": {
          "bar": [
           {
            "error_x": {
             "color": "#2a3f5f"
            },
            "error_y": {
             "color": "#2a3f5f"
            },
            "marker": {
             "line": {
              "color": "#E5ECF6",
              "width": 0.5
             }
            },
            "type": "bar"
           }
          ],
          "barpolar": [
           {
            "marker": {
             "line": {
              "color": "#E5ECF6",
              "width": 0.5
             }
            },
            "type": "barpolar"
           }
          ],
          "carpet": [
           {
            "aaxis": {
             "endlinecolor": "#2a3f5f",
             "gridcolor": "white",
             "linecolor": "white",
             "minorgridcolor": "white",
             "startlinecolor": "#2a3f5f"
            },
            "baxis": {
             "endlinecolor": "#2a3f5f",
             "gridcolor": "white",
             "linecolor": "white",
             "minorgridcolor": "white",
             "startlinecolor": "#2a3f5f"
            },
            "type": "carpet"
           }
          ],
          "choropleth": [
           {
            "colorbar": {
             "outlinewidth": 0,
             "ticks": ""
            },
            "type": "choropleth"
           }
          ],
          "contour": [
           {
            "colorbar": {
             "outlinewidth": 0,
             "ticks": ""
            },
            "colorscale": [
             [
              0,
              "#0d0887"
             ],
             [
              0.1111111111111111,
              "#46039f"
             ],
             [
              0.2222222222222222,
              "#7201a8"
             ],
             [
              0.3333333333333333,
              "#9c179e"
             ],
             [
              0.4444444444444444,
              "#bd3786"
             ],
             [
              0.5555555555555556,
              "#d8576b"
             ],
             [
              0.6666666666666666,
              "#ed7953"
             ],
             [
              0.7777777777777778,
              "#fb9f3a"
             ],
             [
              0.8888888888888888,
              "#fdca26"
             ],
             [
              1,
              "#f0f921"
             ]
            ],
            "type": "contour"
           }
          ],
          "contourcarpet": [
           {
            "colorbar": {
             "outlinewidth": 0,
             "ticks": ""
            },
            "type": "contourcarpet"
           }
          ],
          "heatmap": [
           {
            "colorbar": {
             "outlinewidth": 0,
             "ticks": ""
            },
            "colorscale": [
             [
              0,
              "#0d0887"
             ],
             [
              0.1111111111111111,
              "#46039f"
             ],
             [
              0.2222222222222222,
              "#7201a8"
             ],
             [
              0.3333333333333333,
              "#9c179e"
             ],
             [
              0.4444444444444444,
              "#bd3786"
             ],
             [
              0.5555555555555556,
              "#d8576b"
             ],
             [
              0.6666666666666666,
              "#ed7953"
             ],
             [
              0.7777777777777778,
              "#fb9f3a"
             ],
             [
              0.8888888888888888,
              "#fdca26"
             ],
             [
              1,
              "#f0f921"
             ]
            ],
            "type": "heatmap"
           }
          ],
          "heatmapgl": [
           {
            "colorbar": {
             "outlinewidth": 0,
             "ticks": ""
            },
            "colorscale": [
             [
              0,
              "#0d0887"
             ],
             [
              0.1111111111111111,
              "#46039f"
             ],
             [
              0.2222222222222222,
              "#7201a8"
             ],
             [
              0.3333333333333333,
              "#9c179e"
             ],
             [
              0.4444444444444444,
              "#bd3786"
             ],
             [
              0.5555555555555556,
              "#d8576b"
             ],
             [
              0.6666666666666666,
              "#ed7953"
             ],
             [
              0.7777777777777778,
              "#fb9f3a"
             ],
             [
              0.8888888888888888,
              "#fdca26"
             ],
             [
              1,
              "#f0f921"
             ]
            ],
            "type": "heatmapgl"
           }
          ],
          "histogram": [
           {
            "marker": {
             "colorbar": {
              "outlinewidth": 0,
              "ticks": ""
             }
            },
            "type": "histogram"
           }
          ],
          "histogram2d": [
           {
            "colorbar": {
             "outlinewidth": 0,
             "ticks": ""
            },
            "colorscale": [
             [
              0,
              "#0d0887"
             ],
             [
              0.1111111111111111,
              "#46039f"
             ],
             [
              0.2222222222222222,
              "#7201a8"
             ],
             [
              0.3333333333333333,
              "#9c179e"
             ],
             [
              0.4444444444444444,
              "#bd3786"
             ],
             [
              0.5555555555555556,
              "#d8576b"
             ],
             [
              0.6666666666666666,
              "#ed7953"
             ],
             [
              0.7777777777777778,
              "#fb9f3a"
             ],
             [
              0.8888888888888888,
              "#fdca26"
             ],
             [
              1,
              "#f0f921"
             ]
            ],
            "type": "histogram2d"
           }
          ],
          "histogram2dcontour": [
           {
            "colorbar": {
             "outlinewidth": 0,
             "ticks": ""
            },
            "colorscale": [
             [
              0,
              "#0d0887"
             ],
             [
              0.1111111111111111,
              "#46039f"
             ],
             [
              0.2222222222222222,
              "#7201a8"
             ],
             [
              0.3333333333333333,
              "#9c179e"
             ],
             [
              0.4444444444444444,
              "#bd3786"
             ],
             [
              0.5555555555555556,
              "#d8576b"
             ],
             [
              0.6666666666666666,
              "#ed7953"
             ],
             [
              0.7777777777777778,
              "#fb9f3a"
             ],
             [
              0.8888888888888888,
              "#fdca26"
             ],
             [
              1,
              "#f0f921"
             ]
            ],
            "type": "histogram2dcontour"
           }
          ],
          "mesh3d": [
           {
            "colorbar": {
             "outlinewidth": 0,
             "ticks": ""
            },
            "type": "mesh3d"
           }
          ],
          "parcoords": [
           {
            "line": {
             "colorbar": {
              "outlinewidth": 0,
              "ticks": ""
             }
            },
            "type": "parcoords"
           }
          ],
          "pie": [
           {
            "automargin": true,
            "type": "pie"
           }
          ],
          "scatter": [
           {
            "marker": {
             "colorbar": {
              "outlinewidth": 0,
              "ticks": ""
             }
            },
            "type": "scatter"
           }
          ],
          "scatter3d": [
           {
            "line": {
             "colorbar": {
              "outlinewidth": 0,
              "ticks": ""
             }
            },
            "marker": {
             "colorbar": {
              "outlinewidth": 0,
              "ticks": ""
             }
            },
            "type": "scatter3d"
           }
          ],
          "scattercarpet": [
           {
            "marker": {
             "colorbar": {
              "outlinewidth": 0,
              "ticks": ""
             }
            },
            "type": "scattercarpet"
           }
          ],
          "scattergeo": [
           {
            "marker": {
             "colorbar": {
              "outlinewidth": 0,
              "ticks": ""
             }
            },
            "type": "scattergeo"
           }
          ],
          "scattergl": [
           {
            "marker": {
             "colorbar": {
              "outlinewidth": 0,
              "ticks": ""
             }
            },
            "type": "scattergl"
           }
          ],
          "scattermapbox": [
           {
            "marker": {
             "colorbar": {
              "outlinewidth": 0,
              "ticks": ""
             }
            },
            "type": "scattermapbox"
           }
          ],
          "scatterpolar": [
           {
            "marker": {
             "colorbar": {
              "outlinewidth": 0,
              "ticks": ""
             }
            },
            "type": "scatterpolar"
           }
          ],
          "scatterpolargl": [
           {
            "marker": {
             "colorbar": {
              "outlinewidth": 0,
              "ticks": ""
             }
            },
            "type": "scatterpolargl"
           }
          ],
          "scatterternary": [
           {
            "marker": {
             "colorbar": {
              "outlinewidth": 0,
              "ticks": ""
             }
            },
            "type": "scatterternary"
           }
          ],
          "surface": [
           {
            "colorbar": {
             "outlinewidth": 0,
             "ticks": ""
            },
            "colorscale": [
             [
              0,
              "#0d0887"
             ],
             [
              0.1111111111111111,
              "#46039f"
             ],
             [
              0.2222222222222222,
              "#7201a8"
             ],
             [
              0.3333333333333333,
              "#9c179e"
             ],
             [
              0.4444444444444444,
              "#bd3786"
             ],
             [
              0.5555555555555556,
              "#d8576b"
             ],
             [
              0.6666666666666666,
              "#ed7953"
             ],
             [
              0.7777777777777778,
              "#fb9f3a"
             ],
             [
              0.8888888888888888,
              "#fdca26"
             ],
             [
              1,
              "#f0f921"
             ]
            ],
            "type": "surface"
           }
          ],
          "table": [
           {
            "cells": {
             "fill": {
              "color": "#EBF0F8"
             },
             "line": {
              "color": "white"
             }
            },
            "header": {
             "fill": {
              "color": "#C8D4E3"
             },
             "line": {
              "color": "white"
             }
            },
            "type": "table"
           }
          ]
         },
         "layout": {
          "annotationdefaults": {
           "arrowcolor": "#2a3f5f",
           "arrowhead": 0,
           "arrowwidth": 1
          },
          "coloraxis": {
           "colorbar": {
            "outlinewidth": 0,
            "ticks": ""
           }
          },
          "colorscale": {
           "diverging": [
            [
             0,
             "#8e0152"
            ],
            [
             0.1,
             "#c51b7d"
            ],
            [
             0.2,
             "#de77ae"
            ],
            [
             0.3,
             "#f1b6da"
            ],
            [
             0.4,
             "#fde0ef"
            ],
            [
             0.5,
             "#f7f7f7"
            ],
            [
             0.6,
             "#e6f5d0"
            ],
            [
             0.7,
             "#b8e186"
            ],
            [
             0.8,
             "#7fbc41"
            ],
            [
             0.9,
             "#4d9221"
            ],
            [
             1,
             "#276419"
            ]
           ],
           "sequential": [
            [
             0,
             "#0d0887"
            ],
            [
             0.1111111111111111,
             "#46039f"
            ],
            [
             0.2222222222222222,
             "#7201a8"
            ],
            [
             0.3333333333333333,
             "#9c179e"
            ],
            [
             0.4444444444444444,
             "#bd3786"
            ],
            [
             0.5555555555555556,
             "#d8576b"
            ],
            [
             0.6666666666666666,
             "#ed7953"
            ],
            [
             0.7777777777777778,
             "#fb9f3a"
            ],
            [
             0.8888888888888888,
             "#fdca26"
            ],
            [
             1,
             "#f0f921"
            ]
           ],
           "sequentialminus": [
            [
             0,
             "#0d0887"
            ],
            [
             0.1111111111111111,
             "#46039f"
            ],
            [
             0.2222222222222222,
             "#7201a8"
            ],
            [
             0.3333333333333333,
             "#9c179e"
            ],
            [
             0.4444444444444444,
             "#bd3786"
            ],
            [
             0.5555555555555556,
             "#d8576b"
            ],
            [
             0.6666666666666666,
             "#ed7953"
            ],
            [
             0.7777777777777778,
             "#fb9f3a"
            ],
            [
             0.8888888888888888,
             "#fdca26"
            ],
            [
             1,
             "#f0f921"
            ]
           ]
          },
          "colorway": [
           "#636efa",
           "#EF553B",
           "#00cc96",
           "#ab63fa",
           "#FFA15A",
           "#19d3f3",
           "#FF6692",
           "#B6E880",
           "#FF97FF",
           "#FECB52"
          ],
          "font": {
           "color": "#2a3f5f"
          },
          "geo": {
           "bgcolor": "white",
           "lakecolor": "white",
           "landcolor": "#E5ECF6",
           "showlakes": true,
           "showland": true,
           "subunitcolor": "white"
          },
          "hoverlabel": {
           "align": "left"
          },
          "hovermode": "closest",
          "mapbox": {
           "style": "light"
          },
          "paper_bgcolor": "white",
          "plot_bgcolor": "#E5ECF6",
          "polar": {
           "angularaxis": {
            "gridcolor": "white",
            "linecolor": "white",
            "ticks": ""
           },
           "bgcolor": "#E5ECF6",
           "radialaxis": {
            "gridcolor": "white",
            "linecolor": "white",
            "ticks": ""
           }
          },
          "scene": {
           "xaxis": {
            "backgroundcolor": "#E5ECF6",
            "gridcolor": "white",
            "gridwidth": 2,
            "linecolor": "white",
            "showbackground": true,
            "ticks": "",
            "zerolinecolor": "white"
           },
           "yaxis": {
            "backgroundcolor": "#E5ECF6",
            "gridcolor": "white",
            "gridwidth": 2,
            "linecolor": "white",
            "showbackground": true,
            "ticks": "",
            "zerolinecolor": "white"
           },
           "zaxis": {
            "backgroundcolor": "#E5ECF6",
            "gridcolor": "white",
            "gridwidth": 2,
            "linecolor": "white",
            "showbackground": true,
            "ticks": "",
            "zerolinecolor": "white"
           }
          },
          "shapedefaults": {
           "line": {
            "color": "#2a3f5f"
           }
          },
          "ternary": {
           "aaxis": {
            "gridcolor": "white",
            "linecolor": "white",
            "ticks": ""
           },
           "baxis": {
            "gridcolor": "white",
            "linecolor": "white",
            "ticks": ""
           },
           "bgcolor": "#E5ECF6",
           "caxis": {
            "gridcolor": "white",
            "linecolor": "white",
            "ticks": ""
           }
          },
          "title": {
           "x": 0.05
          },
          "xaxis": {
           "automargin": true,
           "gridcolor": "white",
           "linecolor": "white",
           "ticks": "",
           "title": {
            "standoff": 15
           },
           "zerolinecolor": "white",
           "zerolinewidth": 2
          },
          "yaxis": {
           "automargin": true,
           "gridcolor": "white",
           "linecolor": "white",
           "ticks": "",
           "title": {
            "standoff": 15
           },
           "zerolinecolor": "white",
           "zerolinewidth": 2
          }
         }
<<<<<<< HEAD
        },
        "width": 1200
=======
        }
>>>>>>> 43c3f4fbec4b4d8c427eb3e7336f70c7b1eae197
       }
      },
      "text/html": [
       "<div>\n",
       "        \n",
       "        \n",
<<<<<<< HEAD
       "            <div id=\"c60d0caf-fb0d-4ccf-9f22-e5ff44de5d23\" class=\"plotly-graph-div\" style=\"height:800px; width:1200px;\"></div>\n",
=======
       "            <div id=\"59d6cbbf-459e-4222-ad77-04f7e61927eb\" class=\"plotly-graph-div\" style=\"height:525px; width:100%;\"></div>\n",
>>>>>>> 43c3f4fbec4b4d8c427eb3e7336f70c7b1eae197
       "            <script type=\"text/javascript\">\n",
       "                require([\"plotly\"], function(Plotly) {\n",
       "                    window.PLOTLYENV=window.PLOTLYENV || {};\n",
       "                    \n",
<<<<<<< HEAD
       "                if (document.getElementById(\"c60d0caf-fb0d-4ccf-9f22-e5ff44de5d23\")) {\n",
       "                    Plotly.newPlot(\n",
       "                        'c60d0caf-fb0d-4ccf-9f22-e5ff44de5d23',\n",
       "                        [{\"hovertemplate\": \"<b>Robert Bosch GmbH </b><br><br>Rev. Difference: 399.0<br># Employees: 409900<br>\", \"lat\": [48.79080560000001], \"locationmode\": \"geojson-id\", \"lon\": [9.0651574], \"marker\": {\"color\": [\"green\"], \"line\": {\"color\": \"rgb(40,40,40)\", \"width\": 0.4}, \"size\": 7.125, \"sizemode\": \"area\"}, \"name\": \"Robert Bosch GmbH\", \"type\": \"scattergeo\"}, {\"hovertemplate\": \"<b>Continental AG </b><br><br>Rev. Difference: 394.0<br># Employees: 243226<br>\", \"lat\": [52.4042924], \"locationmode\": \"geojson-id\", \"lon\": [9.7256772], \"marker\": {\"color\": [\"green\"], \"line\": {\"color\": \"rgb(40,40,40)\", \"width\": 0.4}, \"size\": 7.035714285714286, \"sizemode\": \"area\"}, \"name\": \"Continental AG\", \"type\": \"scattergeo\"}, {\"hovertemplate\": \"<b>ZF Friedrichshafen AG </b><br><br>Rev. Difference: 485.0<br># Employees: 147332<br>\", \"lat\": [47.6422797], \"locationmode\": \"geojson-id\", \"lon\": [9.4972996], \"marker\": {\"color\": [\"green\"], \"line\": {\"color\": \"rgb(40,40,40)\", \"width\": 0.4}, \"size\": 8.660714285714286, \"sizemode\": \"area\"}, \"name\": \"ZF Friedrichshafen AG\", \"type\": \"scattergeo\"}, {\"hovertemplate\": \"<b>thyssenkrupp AG </b><br><br>Rev. Difference: 784.0<br># Employees: 161096<br>\", \"lat\": [51.46279209999999], \"locationmode\": \"geojson-id\", \"lon\": [6.9787572], \"marker\": {\"color\": [\"green\"], \"line\": {\"color\": \"rgb(40,40,40)\", \"width\": 0.4}, \"size\": 14.0, \"sizemode\": \"area\"}, \"name\": \"thyssenkrupp AG\", \"type\": \"scattergeo\"}, {\"hovertemplate\": \"<b>Schaeffler AG </b><br><br>Rev. Difference: 220.0<br># Employees: 92478<br>\", \"lat\": [49.57824160000001], \"locationmode\": \"geojson-id\", \"lon\": [10.8819032], \"marker\": {\"color\": [\"green\"], \"line\": {\"color\": \"rgb(40,40,40)\", \"width\": 0.4}, \"size\": 7, \"sizemode\": \"area\"}, \"name\": \"Schaeffler AG\", \"type\": \"scattergeo\"}, {\"hovertemplate\": \"<b>Freudenberg SE </b><br><br>Rev. Difference: -109.0<br># Employees: 48894<br>\", \"lat\": [49.5407466], \"locationmode\": \"geojson-id\", \"lon\": [8.662045299999999], \"marker\": {\"color\": [\"red\"], \"line\": {\"color\": \"rgb(40,40,40)\", \"width\": 0.4}, \"size\": 7, \"sizemode\": \"area\"}, \"name\": \"Freudenberg SE\", \"type\": \"scattergeo\"}, {\"hovertemplate\": \"<b>HELLA GmbH & Co. KGaA </b><br><br>Rev. Difference: -70.0<br># Employees: 38845<br>\", \"lat\": [51.6731727], \"locationmode\": \"geojson-id\", \"lon\": [8.3588214], \"marker\": {\"color\": [\"red\"], \"line\": {\"color\": \"rgb(40,40,40)\", \"width\": 0.4}, \"size\": 7, \"sizemode\": \"area\"}, \"name\": \"HELLA GmbH & Co. KGaA\", \"type\": \"scattergeo\"}, {\"hovertemplate\": \"<b>Brose Fahrzeugteile SE & Co. Kommanditgesellschaft </b><br><br>Rev. Difference: -48.0<br># Employees: 26000<br>\", \"lat\": [50.255698], \"locationmode\": \"geojson-id\", \"lon\": [10.955081800000002], \"marker\": {\"color\": [\"red\"], \"line\": {\"color\": \"rgb(40,40,40)\", \"width\": 0.4}, \"size\": 7, \"sizemode\": \"area\"}, \"name\": \"Brose Fahrzeugteile SE & Co. Kommanditgesellschaft\", \"type\": \"scattergeo\"}, {\"hovertemplate\": \"<b>LEONI AG </b><br><br>Rev. Difference: 176.0<br># Employees: 92549<br>\", \"lat\": [49.449102], \"locationmode\": \"geojson-id\", \"lon\": [11.0873543], \"marker\": {\"color\": [\"green\"], \"line\": {\"color\": \"rgb(40,40,40)\", \"width\": 0.4}, \"size\": 7, \"sizemode\": \"area\"}, \"name\": \"LEONI AG\", \"type\": \"scattergeo\"}, {\"hovertemplate\": \"<b>Ebersp\\u00e4cher Gruppe GmbH & Co. KG </b><br><br>Rev. Difference: 129.0<br># Employees: 9862<br>\", \"lat\": [48.72718370000001], \"locationmode\": \"geojson-id\", \"lon\": [9.3526316], \"marker\": {\"color\": [\"green\"], \"line\": {\"color\": \"rgb(40,40,40)\", \"width\": 0.4}, \"size\": 7, \"sizemode\": \"area\"}, \"name\": \"Ebersp\\u00e4cher Gruppe GmbH & Co. KG\", \"type\": \"scattergeo\"}, {\"hovertemplate\": \"<b>Fritz Dr\\u00e4xlmaier GmbH & Co. KG </b><br><br>Rev. Difference: 488.0<br># Employees: 79126<br>\", \"lat\": [48.43777290000001], \"locationmode\": \"geojson-id\", \"lon\": [12.3430106], \"marker\": {\"color\": [\"green\"], \"line\": {\"color\": \"rgb(40,40,40)\", \"width\": 0.4}, \"size\": 8.714285714285714, \"sizemode\": \"area\"}, \"name\": \"Fritz Dr\\u00e4xlmaier GmbH & Co. KG\", \"type\": \"scattergeo\"}, {\"hovertemplate\": \"<b>Voith GmbH & Co. KGaA </b><br><br>Rev. Difference: -15.0<br># Employees: 19511<br>\", \"lat\": [48.6628951], \"locationmode\": \"geojson-id\", \"lon\": [10.1658148], \"marker\": {\"color\": [\"red\"], \"line\": {\"color\": \"rgb(40,40,40)\", \"width\": 0.4}, \"size\": 7, \"sizemode\": \"area\"}, \"name\": \"Voith GmbH & Co. KGaA\", \"type\": \"scattergeo\"}, {\"hovertemplate\": \"<b>D\\u00fcrr Aktiengesellschaft </b><br><br>Rev. Difference: 157.0<br># Employees: 16312<br>\", \"lat\": [48.95356820000001], \"locationmode\": \"geojson-id\", \"lon\": [9.1241772], \"marker\": {\"color\": [\"green\"], \"line\": {\"color\": \"rgb(40,40,40)\", \"width\": 0.4}, \"size\": 7, \"sizemode\": \"area\"}, \"name\": \"D\\u00fcrr Aktiengesellschaft\", \"type\": \"scattergeo\"}, {\"hovertemplate\": \"<b>Diehl Stiftung & Co. KG </b><br><br>Rev. Difference: -55.0<br># Employees: 17298<br>\", \"lat\": [49.4429032], \"locationmode\": \"geojson-id\", \"lon\": [11.1044714], \"marker\": {\"color\": [\"red\"], \"line\": {\"color\": \"rgb(40,40,40)\", \"width\": 0.4}, \"size\": 7, \"sizemode\": \"area\"}, \"name\": \"Diehl Stiftung & Co. KG\", \"type\": \"scattergeo\"}, {\"hovertemplate\": \"<b>Webasto SE </b><br><br>Rev. Difference: -79.0<br># Employees: 13298<br>\", \"lat\": [48.0644849], \"locationmode\": \"geojson-id\", \"lon\": [11.3744084], \"marker\": {\"color\": [\"red\"], \"line\": {\"color\": \"rgb(40,40,40)\", \"width\": 0.4}, \"size\": 7, \"sizemode\": \"area\"}, \"name\": \"Webasto SE\", \"type\": \"scattergeo\"}, {\"hovertemplate\": \"<b>OTTO FUCHS KG </b><br><br>Rev. Difference: 153.0<br># Employees: 9899<br>\", \"lat\": [51.1140959], \"locationmode\": \"geojson-id\", \"lon\": [7.7082643], \"marker\": {\"color\": [\"green\"], \"line\": {\"color\": \"rgb(40,40,40)\", \"width\": 0.4}, \"size\": 7, \"sizemode\": \"area\"}, \"name\": \"OTTO FUCHS KG\", \"type\": \"scattergeo\"}, {\"hovertemplate\": \"<b>AUNDE Group SE </b><br><br>Rev. Difference: 0.0<br># Employees: 24500<br>\", \"lat\": [51.1987421], \"locationmode\": \"geojson-id\", \"lon\": [6.3944066999999984], \"marker\": {\"color\": [\"green\"], \"line\": {\"color\": \"rgb(40,40,40)\", \"width\": 0.4}, \"size\": 7, \"sizemode\": \"area\"}, \"name\": \"AUNDE Group SE\", \"type\": \"scattergeo\"}, {\"hovertemplate\": \"<b>Michelin Reifenwerke AG & Co. KGaA </b><br><br>Rev. Difference: -116.0<br># Employees: 5471<br>\", \"lat\": [49.00721710000001], \"locationmode\": \"geojson-id\", \"lon\": [8.352578099999999], \"marker\": {\"color\": [\"red\"], \"line\": {\"color\": \"rgb(40,40,40)\", \"width\": 0.4}, \"size\": 7, \"sizemode\": \"area\"}, \"name\": \"Michelin Reifenwerke AG & Co. KGaA\", \"type\": \"scattergeo\"}, {\"hovertemplate\": \"<b>Muhr und Bender KG </b><br><br>Rev. Difference: 209.0<br># Employees: 12892<br>\", \"lat\": [51.1035104], \"locationmode\": \"geojson-id\", \"lon\": [7.866654599999999], \"marker\": {\"color\": [\"green\"], \"line\": {\"color\": \"rgb(40,40,40)\", \"width\": 0.4}, \"size\": 7, \"sizemode\": \"area\"}, \"name\": \"Muhr und Bender KG\", \"type\": \"scattergeo\"}, {\"hovertemplate\": \"<b>R\\u00f6chling SE & Co. KG </b><br><br>Rev. Difference: 299.0<br># Employees: 9687<br>\", \"lat\": [49.4764407], \"locationmode\": \"geojson-id\", \"lon\": [8.4930737], \"marker\": {\"color\": [\"green\"], \"line\": {\"color\": \"rgb(40,40,40)\", \"width\": 0.4}, \"size\": 7, \"sizemode\": \"area\"}, \"name\": \"R\\u00f6chling SE & Co. KG\", \"type\": \"scattergeo\"}],\n",
       "                        {\"geo\": {\"center\": {\"lat\": 50.757958, \"lon\": 10.266271}, \"coastlinecolor\": \"white\", \"countrycolor\": \"white\", \"domain\": {\"x\": [0, 1], \"y\": [0, 1]}, \"landcolor\": \"rgb(229, 229, 229)\", \"lataxis\": {\"range\": [47.0, 55.0]}, \"lonaxis\": {\"range\": [5.0, 15.0]}, \"projection\": {\"type\": \"mercator\"}, \"resolution\": 50, \"scope\": \"europe\", \"showcoastlines\": true, \"showframe\": false}, \"height\": 800, \"legend\": {\"orientation\": \"h\", \"title\": {\"text\": \"<b> Company </b>\"}}, \"showlegend\": true, \"template\": {\"data\": {\"bar\": [{\"error_x\": {\"color\": \"#2a3f5f\"}, \"error_y\": {\"color\": \"#2a3f5f\"}, \"marker\": {\"line\": {\"color\": \"#E5ECF6\", \"width\": 0.5}}, \"type\": \"bar\"}], \"barpolar\": [{\"marker\": {\"line\": {\"color\": \"#E5ECF6\", \"width\": 0.5}}, \"type\": \"barpolar\"}], \"carpet\": [{\"aaxis\": {\"endlinecolor\": \"#2a3f5f\", \"gridcolor\": \"white\", \"linecolor\": \"white\", \"minorgridcolor\": \"white\", \"startlinecolor\": \"#2a3f5f\"}, \"baxis\": {\"endlinecolor\": \"#2a3f5f\", \"gridcolor\": \"white\", \"linecolor\": \"white\", \"minorgridcolor\": \"white\", \"startlinecolor\": \"#2a3f5f\"}, \"type\": \"carpet\"}], \"choropleth\": [{\"colorbar\": {\"outlinewidth\": 0, \"ticks\": \"\"}, \"type\": \"choropleth\"}], \"contour\": [{\"colorbar\": {\"outlinewidth\": 0, \"ticks\": \"\"}, \"colorscale\": [[0.0, \"#0d0887\"], [0.1111111111111111, \"#46039f\"], [0.2222222222222222, \"#7201a8\"], [0.3333333333333333, \"#9c179e\"], [0.4444444444444444, \"#bd3786\"], [0.5555555555555556, \"#d8576b\"], [0.6666666666666666, \"#ed7953\"], [0.7777777777777778, \"#fb9f3a\"], [0.8888888888888888, \"#fdca26\"], [1.0, \"#f0f921\"]], \"type\": \"contour\"}], \"contourcarpet\": [{\"colorbar\": {\"outlinewidth\": 0, \"ticks\": \"\"}, \"type\": \"contourcarpet\"}], \"heatmap\": [{\"colorbar\": {\"outlinewidth\": 0, \"ticks\": \"\"}, \"colorscale\": [[0.0, \"#0d0887\"], [0.1111111111111111, \"#46039f\"], [0.2222222222222222, \"#7201a8\"], [0.3333333333333333, \"#9c179e\"], [0.4444444444444444, \"#bd3786\"], [0.5555555555555556, \"#d8576b\"], [0.6666666666666666, \"#ed7953\"], [0.7777777777777778, \"#fb9f3a\"], [0.8888888888888888, \"#fdca26\"], [1.0, \"#f0f921\"]], \"type\": \"heatmap\"}], \"heatmapgl\": [{\"colorbar\": {\"outlinewidth\": 0, \"ticks\": \"\"}, \"colorscale\": [[0.0, \"#0d0887\"], [0.1111111111111111, \"#46039f\"], [0.2222222222222222, \"#7201a8\"], [0.3333333333333333, \"#9c179e\"], [0.4444444444444444, \"#bd3786\"], [0.5555555555555556, \"#d8576b\"], [0.6666666666666666, \"#ed7953\"], [0.7777777777777778, \"#fb9f3a\"], [0.8888888888888888, \"#fdca26\"], [1.0, \"#f0f921\"]], \"type\": \"heatmapgl\"}], \"histogram\": [{\"marker\": {\"colorbar\": {\"outlinewidth\": 0, \"ticks\": \"\"}}, \"type\": \"histogram\"}], \"histogram2d\": [{\"colorbar\": {\"outlinewidth\": 0, \"ticks\": \"\"}, \"colorscale\": [[0.0, \"#0d0887\"], [0.1111111111111111, \"#46039f\"], [0.2222222222222222, \"#7201a8\"], [0.3333333333333333, \"#9c179e\"], [0.4444444444444444, \"#bd3786\"], [0.5555555555555556, \"#d8576b\"], [0.6666666666666666, \"#ed7953\"], [0.7777777777777778, \"#fb9f3a\"], [0.8888888888888888, \"#fdca26\"], [1.0, \"#f0f921\"]], \"type\": \"histogram2d\"}], \"histogram2dcontour\": [{\"colorbar\": {\"outlinewidth\": 0, \"ticks\": \"\"}, \"colorscale\": [[0.0, \"#0d0887\"], [0.1111111111111111, \"#46039f\"], [0.2222222222222222, \"#7201a8\"], [0.3333333333333333, \"#9c179e\"], [0.4444444444444444, \"#bd3786\"], [0.5555555555555556, \"#d8576b\"], [0.6666666666666666, \"#ed7953\"], [0.7777777777777778, \"#fb9f3a\"], [0.8888888888888888, \"#fdca26\"], [1.0, \"#f0f921\"]], \"type\": \"histogram2dcontour\"}], \"mesh3d\": [{\"colorbar\": {\"outlinewidth\": 0, \"ticks\": \"\"}, \"type\": \"mesh3d\"}], \"parcoords\": [{\"line\": {\"colorbar\": {\"outlinewidth\": 0, \"ticks\": \"\"}}, \"type\": \"parcoords\"}], \"pie\": [{\"automargin\": true, \"type\": \"pie\"}], \"scatter\": [{\"marker\": {\"colorbar\": {\"outlinewidth\": 0, \"ticks\": \"\"}}, \"type\": \"scatter\"}], \"scatter3d\": [{\"line\": {\"colorbar\": {\"outlinewidth\": 0, \"ticks\": \"\"}}, \"marker\": {\"colorbar\": {\"outlinewidth\": 0, \"ticks\": \"\"}}, \"type\": \"scatter3d\"}], \"scattercarpet\": [{\"marker\": {\"colorbar\": {\"outlinewidth\": 0, \"ticks\": \"\"}}, \"type\": \"scattercarpet\"}], \"scattergeo\": [{\"marker\": {\"colorbar\": {\"outlinewidth\": 0, \"ticks\": \"\"}}, \"type\": \"scattergeo\"}], \"scattergl\": [{\"marker\": {\"colorbar\": {\"outlinewidth\": 0, \"ticks\": \"\"}}, \"type\": \"scattergl\"}], \"scattermapbox\": [{\"marker\": {\"colorbar\": {\"outlinewidth\": 0, \"ticks\": \"\"}}, \"type\": \"scattermapbox\"}], \"scatterpolar\": [{\"marker\": {\"colorbar\": {\"outlinewidth\": 0, \"ticks\": \"\"}}, \"type\": \"scatterpolar\"}], \"scatterpolargl\": [{\"marker\": {\"colorbar\": {\"outlinewidth\": 0, \"ticks\": \"\"}}, \"type\": \"scatterpolargl\"}], \"scatterternary\": [{\"marker\": {\"colorbar\": {\"outlinewidth\": 0, \"ticks\": \"\"}}, \"type\": \"scatterternary\"}], \"surface\": [{\"colorbar\": {\"outlinewidth\": 0, \"ticks\": \"\"}, \"colorscale\": [[0.0, \"#0d0887\"], [0.1111111111111111, \"#46039f\"], [0.2222222222222222, \"#7201a8\"], [0.3333333333333333, \"#9c179e\"], [0.4444444444444444, \"#bd3786\"], [0.5555555555555556, \"#d8576b\"], [0.6666666666666666, \"#ed7953\"], [0.7777777777777778, \"#fb9f3a\"], [0.8888888888888888, \"#fdca26\"], [1.0, \"#f0f921\"]], \"type\": \"surface\"}], \"table\": [{\"cells\": {\"fill\": {\"color\": \"#EBF0F8\"}, \"line\": {\"color\": \"white\"}}, \"header\": {\"fill\": {\"color\": \"#C8D4E3\"}, \"line\": {\"color\": \"white\"}}, \"type\": \"table\"}]}, \"layout\": {\"annotationdefaults\": {\"arrowcolor\": \"#2a3f5f\", \"arrowhead\": 0, \"arrowwidth\": 1}, \"coloraxis\": {\"colorbar\": {\"outlinewidth\": 0, \"ticks\": \"\"}}, \"colorscale\": {\"diverging\": [[0, \"#8e0152\"], [0.1, \"#c51b7d\"], [0.2, \"#de77ae\"], [0.3, \"#f1b6da\"], [0.4, \"#fde0ef\"], [0.5, \"#f7f7f7\"], [0.6, \"#e6f5d0\"], [0.7, \"#b8e186\"], [0.8, \"#7fbc41\"], [0.9, \"#4d9221\"], [1, \"#276419\"]], \"sequential\": [[0.0, \"#0d0887\"], [0.1111111111111111, \"#46039f\"], [0.2222222222222222, \"#7201a8\"], [0.3333333333333333, \"#9c179e\"], [0.4444444444444444, \"#bd3786\"], [0.5555555555555556, \"#d8576b\"], [0.6666666666666666, \"#ed7953\"], [0.7777777777777778, \"#fb9f3a\"], [0.8888888888888888, \"#fdca26\"], [1.0, \"#f0f921\"]], \"sequentialminus\": [[0.0, \"#0d0887\"], [0.1111111111111111, \"#46039f\"], [0.2222222222222222, \"#7201a8\"], [0.3333333333333333, \"#9c179e\"], [0.4444444444444444, \"#bd3786\"], [0.5555555555555556, \"#d8576b\"], [0.6666666666666666, \"#ed7953\"], [0.7777777777777778, \"#fb9f3a\"], [0.8888888888888888, \"#fdca26\"], [1.0, \"#f0f921\"]]}, \"colorway\": [\"#636efa\", \"#EF553B\", \"#00cc96\", \"#ab63fa\", \"#FFA15A\", \"#19d3f3\", \"#FF6692\", \"#B6E880\", \"#FF97FF\", \"#FECB52\"], \"font\": {\"color\": \"#2a3f5f\"}, \"geo\": {\"bgcolor\": \"white\", \"lakecolor\": \"white\", \"landcolor\": \"#E5ECF6\", \"showlakes\": true, \"showland\": true, \"subunitcolor\": \"white\"}, \"hoverlabel\": {\"align\": \"left\"}, \"hovermode\": \"closest\", \"mapbox\": {\"style\": \"light\"}, \"paper_bgcolor\": \"white\", \"plot_bgcolor\": \"#E5ECF6\", \"polar\": {\"angularaxis\": {\"gridcolor\": \"white\", \"linecolor\": \"white\", \"ticks\": \"\"}, \"bgcolor\": \"#E5ECF6\", \"radialaxis\": {\"gridcolor\": \"white\", \"linecolor\": \"white\", \"ticks\": \"\"}}, \"scene\": {\"xaxis\": {\"backgroundcolor\": \"#E5ECF6\", \"gridcolor\": \"white\", \"gridwidth\": 2, \"linecolor\": \"white\", \"showbackground\": true, \"ticks\": \"\", \"zerolinecolor\": \"white\"}, \"yaxis\": {\"backgroundcolor\": \"#E5ECF6\", \"gridcolor\": \"white\", \"gridwidth\": 2, \"linecolor\": \"white\", \"showbackground\": true, \"ticks\": \"\", \"zerolinecolor\": \"white\"}, \"zaxis\": {\"backgroundcolor\": \"#E5ECF6\", \"gridcolor\": \"white\", \"gridwidth\": 2, \"linecolor\": \"white\", \"showbackground\": true, \"ticks\": \"\", \"zerolinecolor\": \"white\"}}, \"shapedefaults\": {\"line\": {\"color\": \"#2a3f5f\"}}, \"ternary\": {\"aaxis\": {\"gridcolor\": \"white\", \"linecolor\": \"white\", \"ticks\": \"\"}, \"baxis\": {\"gridcolor\": \"white\", \"linecolor\": \"white\", \"ticks\": \"\"}, \"bgcolor\": \"#E5ECF6\", \"caxis\": {\"gridcolor\": \"white\", \"linecolor\": \"white\", \"ticks\": \"\"}}, \"title\": {\"x\": 0.05}, \"xaxis\": {\"automargin\": true, \"gridcolor\": \"white\", \"linecolor\": \"white\", \"ticks\": \"\", \"title\": {\"standoff\": 15}, \"zerolinecolor\": \"white\", \"zerolinewidth\": 2}, \"yaxis\": {\"automargin\": true, \"gridcolor\": \"white\", \"linecolor\": \"white\", \"ticks\": \"\", \"title\": {\"standoff\": 15}, \"zerolinecolor\": \"white\", \"zerolinewidth\": 2}}}, \"width\": 1200},\n",
       "                        {\"responsive\": true}\n",
       "                    ).then(function(){\n",
       "                            \n",
       "var gd = document.getElementById('c60d0caf-fb0d-4ccf-9f22-e5ff44de5d23');\n",
=======
       "                if (document.getElementById(\"59d6cbbf-459e-4222-ad77-04f7e61927eb\")) {\n",
       "                    Plotly.newPlot(\n",
       "                        '59d6cbbf-459e-4222-ad77-04f7e61927eb',\n",
       "                        [{\"hovertemplate\": \"<b>Robert Bosch GmbH </b><br><br>Rev. Difference: 399.0<br># Employees: 409900<br>\", \"lat\": [48.79080560000001], \"locationmode\": \"geojson-id\", \"lon\": [9.0651574], \"marker\": {\"color\": [\"green\"], \"line\": {\"color\": \"rgb(40,40,40)\", \"width\": 0.4}, \"size\": 7.125, \"sizemode\": \"area\"}, \"name\": \"Robert Bosch GmbH\", \"type\": \"scattergeo\"}, {\"hovertemplate\": \"<b>Continental AG </b><br><br>Rev. Difference: 394.0<br># Employees: 243226<br>\", \"lat\": [52.4042924], \"locationmode\": \"geojson-id\", \"lon\": [9.7256772], \"marker\": {\"color\": [\"green\"], \"line\": {\"color\": \"rgb(40,40,40)\", \"width\": 0.4}, \"size\": 7.035714285714286, \"sizemode\": \"area\"}, \"name\": \"Continental AG\", \"type\": \"scattergeo\"}, {\"hovertemplate\": \"<b>ZF Friedrichshafen AG </b><br><br>Rev. Difference: 485.0<br># Employees: 147332<br>\", \"lat\": [47.6422797], \"locationmode\": \"geojson-id\", \"lon\": [9.4972996], \"marker\": {\"color\": [\"green\"], \"line\": {\"color\": \"rgb(40,40,40)\", \"width\": 0.4}, \"size\": 8.660714285714286, \"sizemode\": \"area\"}, \"name\": \"ZF Friedrichshafen AG\", \"type\": \"scattergeo\"}, {\"hovertemplate\": \"<b>thyssenkrupp AG </b><br><br>Rev. Difference: 784.0<br># Employees: 161096<br>\", \"lat\": [51.46279209999999], \"locationmode\": \"geojson-id\", \"lon\": [6.9787572], \"marker\": {\"color\": [\"green\"], \"line\": {\"color\": \"rgb(40,40,40)\", \"width\": 0.4}, \"size\": 14.0, \"sizemode\": \"area\"}, \"name\": \"thyssenkrupp AG\", \"type\": \"scattergeo\"}, {\"hovertemplate\": \"<b>Schaeffler AG </b><br><br>Rev. Difference: 220.0<br># Employees: 92478<br>\", \"lat\": [49.57824160000001], \"locationmode\": \"geojson-id\", \"lon\": [10.8819032], \"marker\": {\"color\": [\"green\"], \"line\": {\"color\": \"rgb(40,40,40)\", \"width\": 0.4}, \"size\": 7, \"sizemode\": \"area\"}, \"name\": \"Schaeffler AG\", \"type\": \"scattergeo\"}, {\"hovertemplate\": \"<b>Freudenberg SE </b><br><br>Rev. Difference: -109.0<br># Employees: 48894<br>\", \"lat\": [49.5407466], \"locationmode\": \"geojson-id\", \"lon\": [8.662045299999999], \"marker\": {\"color\": [\"red\"], \"line\": {\"color\": \"rgb(40,40,40)\", \"width\": 0.4}, \"size\": 7, \"sizemode\": \"area\"}, \"name\": \"Freudenberg SE\", \"type\": \"scattergeo\"}, {\"hovertemplate\": \"<b>HELLA GmbH & Co. KGaA </b><br><br>Rev. Difference: -70.0<br># Employees: 38845<br>\", \"lat\": [51.6731727], \"locationmode\": \"geojson-id\", \"lon\": [8.3588214], \"marker\": {\"color\": [\"red\"], \"line\": {\"color\": \"rgb(40,40,40)\", \"width\": 0.4}, \"size\": 7, \"sizemode\": \"area\"}, \"name\": \"HELLA GmbH & Co. KGaA\", \"type\": \"scattergeo\"}, {\"hovertemplate\": \"<b>Brose Fahrzeugteile SE & Co. Kommanditgesellschaft </b><br><br>Rev. Difference: -48.0<br># Employees: 26000<br>\", \"lat\": [50.255698], \"locationmode\": \"geojson-id\", \"lon\": [10.955081800000002], \"marker\": {\"color\": [\"red\"], \"line\": {\"color\": \"rgb(40,40,40)\", \"width\": 0.4}, \"size\": 7, \"sizemode\": \"area\"}, \"name\": \"Brose Fahrzeugteile SE & Co. Kommanditgesellschaft\", \"type\": \"scattergeo\"}, {\"hovertemplate\": \"<b>LEONI AG </b><br><br>Rev. Difference: 176.0<br># Employees: 92549<br>\", \"lat\": [49.449102], \"locationmode\": \"geojson-id\", \"lon\": [11.0873543], \"marker\": {\"color\": [\"green\"], \"line\": {\"color\": \"rgb(40,40,40)\", \"width\": 0.4}, \"size\": 7, \"sizemode\": \"area\"}, \"name\": \"LEONI AG\", \"type\": \"scattergeo\"}, {\"hovertemplate\": \"<b>Ebersp\\u00e4cher Gruppe GmbH & Co. KG </b><br><br>Rev. Difference: 129.0<br># Employees: 9862<br>\", \"lat\": [48.72718370000001], \"locationmode\": \"geojson-id\", \"lon\": [9.3526316], \"marker\": {\"color\": [\"green\"], \"line\": {\"color\": \"rgb(40,40,40)\", \"width\": 0.4}, \"size\": 7, \"sizemode\": \"area\"}, \"name\": \"Ebersp\\u00e4cher Gruppe GmbH & Co. KG\", \"type\": \"scattergeo\"}, {\"hovertemplate\": \"<b>Fritz Dr\\u00e4xlmaier GmbH & Co. KG </b><br><br>Rev. Difference: 488.0<br># Employees: 79126<br>\", \"lat\": [48.43777290000001], \"locationmode\": \"geojson-id\", \"lon\": [12.3430106], \"marker\": {\"color\": [\"green\"], \"line\": {\"color\": \"rgb(40,40,40)\", \"width\": 0.4}, \"size\": 8.714285714285714, \"sizemode\": \"area\"}, \"name\": \"Fritz Dr\\u00e4xlmaier GmbH & Co. KG\", \"type\": \"scattergeo\"}, {\"hovertemplate\": \"<b>Voith GmbH & Co. KGaA </b><br><br>Rev. Difference: -15.0<br># Employees: 19511<br>\", \"lat\": [48.6628951], \"locationmode\": \"geojson-id\", \"lon\": [10.1658148], \"marker\": {\"color\": [\"red\"], \"line\": {\"color\": \"rgb(40,40,40)\", \"width\": 0.4}, \"size\": 7, \"sizemode\": \"area\"}, \"name\": \"Voith GmbH & Co. KGaA\", \"type\": \"scattergeo\"}, {\"hovertemplate\": \"<b>D\\u00fcrr Aktiengesellschaft </b><br><br>Rev. Difference: 157.0<br># Employees: 16312<br>\", \"lat\": [48.95356820000001], \"locationmode\": \"geojson-id\", \"lon\": [9.1241772], \"marker\": {\"color\": [\"green\"], \"line\": {\"color\": \"rgb(40,40,40)\", \"width\": 0.4}, \"size\": 7, \"sizemode\": \"area\"}, \"name\": \"D\\u00fcrr Aktiengesellschaft\", \"type\": \"scattergeo\"}, {\"hovertemplate\": \"<b>Diehl Stiftung & Co. KG </b><br><br>Rev. Difference: -55.0<br># Employees: 17298<br>\", \"lat\": [49.4429032], \"locationmode\": \"geojson-id\", \"lon\": [11.1044714], \"marker\": {\"color\": [\"red\"], \"line\": {\"color\": \"rgb(40,40,40)\", \"width\": 0.4}, \"size\": 7, \"sizemode\": \"area\"}, \"name\": \"Diehl Stiftung & Co. KG\", \"type\": \"scattergeo\"}, {\"hovertemplate\": \"<b>Webasto SE </b><br><br>Rev. Difference: -79.0<br># Employees: 13298<br>\", \"lat\": [48.0644849], \"locationmode\": \"geojson-id\", \"lon\": [11.3744084], \"marker\": {\"color\": [\"red\"], \"line\": {\"color\": \"rgb(40,40,40)\", \"width\": 0.4}, \"size\": 7, \"sizemode\": \"area\"}, \"name\": \"Webasto SE\", \"type\": \"scattergeo\"}, {\"hovertemplate\": \"<b>OTTO FUCHS KG </b><br><br>Rev. Difference: 153.0<br># Employees: 9899<br>\", \"lat\": [51.1140959], \"locationmode\": \"geojson-id\", \"lon\": [7.7082643], \"marker\": {\"color\": [\"green\"], \"line\": {\"color\": \"rgb(40,40,40)\", \"width\": 0.4}, \"size\": 7, \"sizemode\": \"area\"}, \"name\": \"OTTO FUCHS KG\", \"type\": \"scattergeo\"}, {\"hovertemplate\": \"<b>AUNDE Group SE </b><br><br>Rev. Difference: 0.0<br># Employees: 24500<br>\", \"lat\": [51.1987421], \"locationmode\": \"geojson-id\", \"lon\": [6.3944066999999984], \"marker\": {\"color\": [\"green\"], \"line\": {\"color\": \"rgb(40,40,40)\", \"width\": 0.4}, \"size\": 7, \"sizemode\": \"area\"}, \"name\": \"AUNDE Group SE\", \"type\": \"scattergeo\"}, {\"hovertemplate\": \"<b>Michelin Reifenwerke AG & Co. KGaA </b><br><br>Rev. Difference: -116.0<br># Employees: 5471<br>\", \"lat\": [49.00721710000001], \"locationmode\": \"geojson-id\", \"lon\": [8.352578099999999], \"marker\": {\"color\": [\"red\"], \"line\": {\"color\": \"rgb(40,40,40)\", \"width\": 0.4}, \"size\": 7, \"sizemode\": \"area\"}, \"name\": \"Michelin Reifenwerke AG & Co. KGaA\", \"type\": \"scattergeo\"}, {\"hovertemplate\": \"<b>Muhr und Bender KG </b><br><br>Rev. Difference: 209.0<br># Employees: 12892<br>\", \"lat\": [51.1035104], \"locationmode\": \"geojson-id\", \"lon\": [7.866654599999999], \"marker\": {\"color\": [\"green\"], \"line\": {\"color\": \"rgb(40,40,40)\", \"width\": 0.4}, \"size\": 7, \"sizemode\": \"area\"}, \"name\": \"Muhr und Bender KG\", \"type\": \"scattergeo\"}, {\"hovertemplate\": \"<b>R\\u00f6chling SE & Co. KG </b><br><br>Rev. Difference: 299.0<br># Employees: 9687<br>\", \"lat\": [49.4764407], \"locationmode\": \"geojson-id\", \"lon\": [8.4930737], \"marker\": {\"color\": [\"green\"], \"line\": {\"color\": \"rgb(40,40,40)\", \"width\": 0.4}, \"size\": 7, \"sizemode\": \"area\"}, \"name\": \"R\\u00f6chling SE & Co. KG\", \"type\": \"scattergeo\"}],\n",
       "                        {\"geo\": {\"center\": {\"lat\": 50.757958, \"lon\": 10.266271}, \"coastlinecolor\": \"white\", \"countrycolor\": \"white\", \"domain\": {\"x\": [0, 1], \"y\": [0, 1]}, \"landcolor\": \"rgb(229, 229, 229)\", \"lataxis\": {\"range\": [47.0, 55.0]}, \"lonaxis\": {\"range\": [5.0, 15.0]}, \"projection\": {\"type\": \"mercator\"}, \"resolution\": 50, \"scope\": \"europe\", \"showcoastlines\": true, \"showframe\": false}, \"showlegend\": true, \"template\": {\"data\": {\"bar\": [{\"error_x\": {\"color\": \"#2a3f5f\"}, \"error_y\": {\"color\": \"#2a3f5f\"}, \"marker\": {\"line\": {\"color\": \"#E5ECF6\", \"width\": 0.5}}, \"type\": \"bar\"}], \"barpolar\": [{\"marker\": {\"line\": {\"color\": \"#E5ECF6\", \"width\": 0.5}}, \"type\": \"barpolar\"}], \"carpet\": [{\"aaxis\": {\"endlinecolor\": \"#2a3f5f\", \"gridcolor\": \"white\", \"linecolor\": \"white\", \"minorgridcolor\": \"white\", \"startlinecolor\": \"#2a3f5f\"}, \"baxis\": {\"endlinecolor\": \"#2a3f5f\", \"gridcolor\": \"white\", \"linecolor\": \"white\", \"minorgridcolor\": \"white\", \"startlinecolor\": \"#2a3f5f\"}, \"type\": \"carpet\"}], \"choropleth\": [{\"colorbar\": {\"outlinewidth\": 0, \"ticks\": \"\"}, \"type\": \"choropleth\"}], \"contour\": [{\"colorbar\": {\"outlinewidth\": 0, \"ticks\": \"\"}, \"colorscale\": [[0.0, \"#0d0887\"], [0.1111111111111111, \"#46039f\"], [0.2222222222222222, \"#7201a8\"], [0.3333333333333333, \"#9c179e\"], [0.4444444444444444, \"#bd3786\"], [0.5555555555555556, \"#d8576b\"], [0.6666666666666666, \"#ed7953\"], [0.7777777777777778, \"#fb9f3a\"], [0.8888888888888888, \"#fdca26\"], [1.0, \"#f0f921\"]], \"type\": \"contour\"}], \"contourcarpet\": [{\"colorbar\": {\"outlinewidth\": 0, \"ticks\": \"\"}, \"type\": \"contourcarpet\"}], \"heatmap\": [{\"colorbar\": {\"outlinewidth\": 0, \"ticks\": \"\"}, \"colorscale\": [[0.0, \"#0d0887\"], [0.1111111111111111, \"#46039f\"], [0.2222222222222222, \"#7201a8\"], [0.3333333333333333, \"#9c179e\"], [0.4444444444444444, \"#bd3786\"], [0.5555555555555556, \"#d8576b\"], [0.6666666666666666, \"#ed7953\"], [0.7777777777777778, \"#fb9f3a\"], [0.8888888888888888, \"#fdca26\"], [1.0, \"#f0f921\"]], \"type\": \"heatmap\"}], \"heatmapgl\": [{\"colorbar\": {\"outlinewidth\": 0, \"ticks\": \"\"}, \"colorscale\": [[0.0, \"#0d0887\"], [0.1111111111111111, \"#46039f\"], [0.2222222222222222, \"#7201a8\"], [0.3333333333333333, \"#9c179e\"], [0.4444444444444444, \"#bd3786\"], [0.5555555555555556, \"#d8576b\"], [0.6666666666666666, \"#ed7953\"], [0.7777777777777778, \"#fb9f3a\"], [0.8888888888888888, \"#fdca26\"], [1.0, \"#f0f921\"]], \"type\": \"heatmapgl\"}], \"histogram\": [{\"marker\": {\"colorbar\": {\"outlinewidth\": 0, \"ticks\": \"\"}}, \"type\": \"histogram\"}], \"histogram2d\": [{\"colorbar\": {\"outlinewidth\": 0, \"ticks\": \"\"}, \"colorscale\": [[0.0, \"#0d0887\"], [0.1111111111111111, \"#46039f\"], [0.2222222222222222, \"#7201a8\"], [0.3333333333333333, \"#9c179e\"], [0.4444444444444444, \"#bd3786\"], [0.5555555555555556, \"#d8576b\"], [0.6666666666666666, \"#ed7953\"], [0.7777777777777778, \"#fb9f3a\"], [0.8888888888888888, \"#fdca26\"], [1.0, \"#f0f921\"]], \"type\": \"histogram2d\"}], \"histogram2dcontour\": [{\"colorbar\": {\"outlinewidth\": 0, \"ticks\": \"\"}, \"colorscale\": [[0.0, \"#0d0887\"], [0.1111111111111111, \"#46039f\"], [0.2222222222222222, \"#7201a8\"], [0.3333333333333333, \"#9c179e\"], [0.4444444444444444, \"#bd3786\"], [0.5555555555555556, \"#d8576b\"], [0.6666666666666666, \"#ed7953\"], [0.7777777777777778, \"#fb9f3a\"], [0.8888888888888888, \"#fdca26\"], [1.0, \"#f0f921\"]], \"type\": \"histogram2dcontour\"}], \"mesh3d\": [{\"colorbar\": {\"outlinewidth\": 0, \"ticks\": \"\"}, \"type\": \"mesh3d\"}], \"parcoords\": [{\"line\": {\"colorbar\": {\"outlinewidth\": 0, \"ticks\": \"\"}}, \"type\": \"parcoords\"}], \"pie\": [{\"automargin\": true, \"type\": \"pie\"}], \"scatter\": [{\"marker\": {\"colorbar\": {\"outlinewidth\": 0, \"ticks\": \"\"}}, \"type\": \"scatter\"}], \"scatter3d\": [{\"line\": {\"colorbar\": {\"outlinewidth\": 0, \"ticks\": \"\"}}, \"marker\": {\"colorbar\": {\"outlinewidth\": 0, \"ticks\": \"\"}}, \"type\": \"scatter3d\"}], \"scattercarpet\": [{\"marker\": {\"colorbar\": {\"outlinewidth\": 0, \"ticks\": \"\"}}, \"type\": \"scattercarpet\"}], \"scattergeo\": [{\"marker\": {\"colorbar\": {\"outlinewidth\": 0, \"ticks\": \"\"}}, \"type\": \"scattergeo\"}], \"scattergl\": [{\"marker\": {\"colorbar\": {\"outlinewidth\": 0, \"ticks\": \"\"}}, \"type\": \"scattergl\"}], \"scattermapbox\": [{\"marker\": {\"colorbar\": {\"outlinewidth\": 0, \"ticks\": \"\"}}, \"type\": \"scattermapbox\"}], \"scatterpolar\": [{\"marker\": {\"colorbar\": {\"outlinewidth\": 0, \"ticks\": \"\"}}, \"type\": \"scatterpolar\"}], \"scatterpolargl\": [{\"marker\": {\"colorbar\": {\"outlinewidth\": 0, \"ticks\": \"\"}}, \"type\": \"scatterpolargl\"}], \"scatterternary\": [{\"marker\": {\"colorbar\": {\"outlinewidth\": 0, \"ticks\": \"\"}}, \"type\": \"scatterternary\"}], \"surface\": [{\"colorbar\": {\"outlinewidth\": 0, \"ticks\": \"\"}, \"colorscale\": [[0.0, \"#0d0887\"], [0.1111111111111111, \"#46039f\"], [0.2222222222222222, \"#7201a8\"], [0.3333333333333333, \"#9c179e\"], [0.4444444444444444, \"#bd3786\"], [0.5555555555555556, \"#d8576b\"], [0.6666666666666666, \"#ed7953\"], [0.7777777777777778, \"#fb9f3a\"], [0.8888888888888888, \"#fdca26\"], [1.0, \"#f0f921\"]], \"type\": \"surface\"}], \"table\": [{\"cells\": {\"fill\": {\"color\": \"#EBF0F8\"}, \"line\": {\"color\": \"white\"}}, \"header\": {\"fill\": {\"color\": \"#C8D4E3\"}, \"line\": {\"color\": \"white\"}}, \"type\": \"table\"}]}, \"layout\": {\"annotationdefaults\": {\"arrowcolor\": \"#2a3f5f\", \"arrowhead\": 0, \"arrowwidth\": 1}, \"coloraxis\": {\"colorbar\": {\"outlinewidth\": 0, \"ticks\": \"\"}}, \"colorscale\": {\"diverging\": [[0, \"#8e0152\"], [0.1, \"#c51b7d\"], [0.2, \"#de77ae\"], [0.3, \"#f1b6da\"], [0.4, \"#fde0ef\"], [0.5, \"#f7f7f7\"], [0.6, \"#e6f5d0\"], [0.7, \"#b8e186\"], [0.8, \"#7fbc41\"], [0.9, \"#4d9221\"], [1, \"#276419\"]], \"sequential\": [[0.0, \"#0d0887\"], [0.1111111111111111, \"#46039f\"], [0.2222222222222222, \"#7201a8\"], [0.3333333333333333, \"#9c179e\"], [0.4444444444444444, \"#bd3786\"], [0.5555555555555556, \"#d8576b\"], [0.6666666666666666, \"#ed7953\"], [0.7777777777777778, \"#fb9f3a\"], [0.8888888888888888, \"#fdca26\"], [1.0, \"#f0f921\"]], \"sequentialminus\": [[0.0, \"#0d0887\"], [0.1111111111111111, \"#46039f\"], [0.2222222222222222, \"#7201a8\"], [0.3333333333333333, \"#9c179e\"], [0.4444444444444444, \"#bd3786\"], [0.5555555555555556, \"#d8576b\"], [0.6666666666666666, \"#ed7953\"], [0.7777777777777778, \"#fb9f3a\"], [0.8888888888888888, \"#fdca26\"], [1.0, \"#f0f921\"]]}, \"colorway\": [\"#636efa\", \"#EF553B\", \"#00cc96\", \"#ab63fa\", \"#FFA15A\", \"#19d3f3\", \"#FF6692\", \"#B6E880\", \"#FF97FF\", \"#FECB52\"], \"font\": {\"color\": \"#2a3f5f\"}, \"geo\": {\"bgcolor\": \"white\", \"lakecolor\": \"white\", \"landcolor\": \"#E5ECF6\", \"showlakes\": true, \"showland\": true, \"subunitcolor\": \"white\"}, \"hoverlabel\": {\"align\": \"left\"}, \"hovermode\": \"closest\", \"mapbox\": {\"style\": \"light\"}, \"paper_bgcolor\": \"white\", \"plot_bgcolor\": \"#E5ECF6\", \"polar\": {\"angularaxis\": {\"gridcolor\": \"white\", \"linecolor\": \"white\", \"ticks\": \"\"}, \"bgcolor\": \"#E5ECF6\", \"radialaxis\": {\"gridcolor\": \"white\", \"linecolor\": \"white\", \"ticks\": \"\"}}, \"scene\": {\"xaxis\": {\"backgroundcolor\": \"#E5ECF6\", \"gridcolor\": \"white\", \"gridwidth\": 2, \"linecolor\": \"white\", \"showbackground\": true, \"ticks\": \"\", \"zerolinecolor\": \"white\"}, \"yaxis\": {\"backgroundcolor\": \"#E5ECF6\", \"gridcolor\": \"white\", \"gridwidth\": 2, \"linecolor\": \"white\", \"showbackground\": true, \"ticks\": \"\", \"zerolinecolor\": \"white\"}, \"zaxis\": {\"backgroundcolor\": \"#E5ECF6\", \"gridcolor\": \"white\", \"gridwidth\": 2, \"linecolor\": \"white\", \"showbackground\": true, \"ticks\": \"\", \"zerolinecolor\": \"white\"}}, \"shapedefaults\": {\"line\": {\"color\": \"#2a3f5f\"}}, \"ternary\": {\"aaxis\": {\"gridcolor\": \"white\", \"linecolor\": \"white\", \"ticks\": \"\"}, \"baxis\": {\"gridcolor\": \"white\", \"linecolor\": \"white\", \"ticks\": \"\"}, \"bgcolor\": \"#E5ECF6\", \"caxis\": {\"gridcolor\": \"white\", \"linecolor\": \"white\", \"ticks\": \"\"}}, \"title\": {\"x\": 0.05}, \"xaxis\": {\"automargin\": true, \"gridcolor\": \"white\", \"linecolor\": \"white\", \"ticks\": \"\", \"title\": {\"standoff\": 15}, \"zerolinecolor\": \"white\", \"zerolinewidth\": 2}, \"yaxis\": {\"automargin\": true, \"gridcolor\": \"white\", \"linecolor\": \"white\", \"ticks\": \"\", \"title\": {\"standoff\": 15}, \"zerolinecolor\": \"white\", \"zerolinewidth\": 2}}}},\n",
       "                        {\"responsive\": true}\n",
       "                    ).then(function(){\n",
       "                            \n",
       "var gd = document.getElementById('59d6cbbf-459e-4222-ad77-04f7e61927eb');\n",
>>>>>>> 43c3f4fbec4b4d8c427eb3e7336f70c7b1eae197
       "var x = new MutationObserver(function (mutations, observer) {{\n",
       "        var display = window.getComputedStyle(gd).display;\n",
       "        if (!display || display === 'none') {{\n",
       "            console.log([gd, 'removed!']);\n",
       "            Plotly.purge(gd);\n",
       "            observer.disconnect();\n",
       "        }}\n",
       "}});\n",
       "\n",
       "// Listen for the removal of the full notebook cells\n",
       "var notebookContainer = gd.closest('#notebook-container');\n",
       "if (notebookContainer) {{\n",
       "    x.observe(notebookContainer, {childList: true});\n",
       "}}\n",
       "\n",
       "// Listen for the clearing of the current output cell\n",
       "var outputEl = gd.closest('.output');\n",
       "if (outputEl) {{\n",
       "    x.observe(outputEl, {childList: true});\n",
       "}}\n",
       "\n",
       "                        })\n",
       "                };\n",
       "                });\n",
       "            </script>\n",
       "        </div>"
      ]
     },
     "metadata": {},
     "output_type": "display_data"
    }
   ],
   "source": [
    "scale = 56\n",
    "revenue = go.Figure()\n",
    "\n",
    "for diff in list(df[colName]):\n",
    "    ## create sub dataframe containing the 16 federal states in Germany\n",
    "    df_sub = df[df[colName] == diff]\n",
    "    ## plot the bubbles on the map\n",
    "    revenue.add_trace(go.Scattergeo(\n",
    "        locationmode = 'geojson-id',\n",
    "        lon = df_sub['longitude'],\n",
    "        lat = df_sub['latitude'],\n",
    "        name = df_sub['Unternehmen'].values[0],\n",
    "        hovertemplate = \"<b>{} </b><br><br>\".format(df_sub['Unternehmen'].values[0]) +\n",
    "                        \"Rev. Difference: {}<br>\".format(diff) +\n",
    "                        \"# Employees: {}<br>\".format(df_sub[\"Mitarbeiter\"].values[0]) ,\n",
    "        marker = dict(\n",
    "            ## scale the bubble size properly, to at least have a size of 5\n",
    "            size = diff/scale if (diff/scale) > 6 else 7,\n",
    "            line_color='rgb(40,40,40)',\n",
    "            line_width=0.4,\n",
    "            color = df_sub['color'],\n",
    "            sizemode = 'area'\n",
    "        )))\n",
    "\n",
    "## get the layout right\n",
    "revenue.update_layout(\n",
<<<<<<< HEAD
    "    #title_text = 'Revenue Difference [in Mio. €] from 2017 to 2018 of selected automotive suppliers',\n",
    "    showlegend = True,\n",
    "    legend_title='<b> Company </b>',\n",
    "    legend_orientation=\"h\",\n",
    "    width = 1200,\n",
    "    height = 800,\n",
    "    \n",
=======
    "        #title_text = 'Revenue Difference [in Mio. €] from 2017 to 2018 of selected automotive suppliers',\n",
    "        showlegend = True,\n",
>>>>>>> 43c3f4fbec4b4d8c427eb3e7336f70c7b1eae197
    "    \n",
    "    geo = go.layout.Geo(\n",
    "        resolution = 50,\n",
    "        scope = 'europe',\n",
    "        showframe = False,\n",
    "        showcoastlines = True,\n",
    "        landcolor = \"rgb(229, 229, 229)\",\n",
    "        countrycolor = \"white\" ,\n",
    "        coastlinecolor = \"white\",\n",
    "        projection_type = 'mercator',\n",
    "        ## limit our projection to Germany only\n",
    "        lonaxis_range= [ 5.0, 15.0 ],\n",
    "        lataxis_range= [ 47.0, 55.0 ],\n",
    "        ## center the projection at Germany's center coordinates\n",
    "        center = {\"lat\": 50.757958, \"lon\": 10.266271},\n",
    "        domain = dict(x = [ 0, 1 ], y = [ 0, 1 ])\n",
    "    )\n",
    ")\n",
    "## enable and disable all the configurations we do not want to display\n",
    "config = dict({'scrollZoom':True, \n",
    "               'displayModeBar':False,\n",
    "               'showLink':False, \n",
    "               'displaylogo': False,\n",
    "               'editable': False})\n",
    "\n",
    "## Save Plot on plotly account\n",
    "py.plot(revenue, filename = 'revenue difference map', auto_open=True, showLink=False, config=config)\n",
    "revenue.show()\n",
    "\n",
    "## Also possible to save it as HTML and host it on github\n",
    "#pio.write_html(revenue, file=’biggest firms.html’, auto_open=True)"
   ]
  },
  {
   "cell_type": "markdown",
   "metadata": {},
   "source": [
    "## Visualize each firms Revenue of 2018"
   ]
  },
  {
   "cell_type": "code",
   "execution_count": 124,
   "metadata": {},
   "outputs": [
    {
     "data": {
      "application/vnd.plotly.v1+json": {
       "config": {
        "plotlyServerURL": "https://plotly.com"
       },
       "data": [
        {
         "hovertemplate": "<b>Robert Bosch GmbH </b><br><br>Revenue 2018: 78465.0<br># Employees: 409900<br>",
         "lat": [
          48.79080560000001
         ],
         "locationmode": "geojson-id",
         "lon": [
          9.0651574
         ],
         "marker": {
          "line": {
           "color": "rgb(40,40,40)",
           "width": 0.5
          },
          "size": [
           784.65
          ],
          "sizemode": "area"
         },
         "name": "Robert Bosch GmbH",
         "type": "scattergeo"
        },
        {
         "hovertemplate": "<b>Continental AG </b><br><br>Revenue 2018: 44404.0<br># Employees: 243226<br>",
         "lat": [
          52.4042924
         ],
         "locationmode": "geojson-id",
         "lon": [
          9.7256772
         ],
         "marker": {
          "line": {
           "color": "rgb(40,40,40)",
           "width": 0.5
          },
          "size": [
           444.04
          ],
          "sizemode": "area"
         },
         "name": "Continental AG",
         "type": "scattergeo"
        },
        {
         "hovertemplate": "<b>ZF Friedrichshafen AG </b><br><br>Revenue 2018: 36929.0<br># Employees: 147332<br>",
         "lat": [
          47.6422797
         ],
         "locationmode": "geojson-id",
         "lon": [
          9.4972996
         ],
         "marker": {
          "line": {
           "color": "rgb(40,40,40)",
           "width": 0.5
          },
          "size": [
           369.29
          ],
          "sizemode": "area"
         },
         "name": "ZF Friedrichshafen AG",
         "type": "scattergeo"
        },
        {
         "hovertemplate": "<b>thyssenkrupp AG </b><br><br>Revenue 2018: 34777.0<br># Employees: 161096<br>",
         "lat": [
          51.46279209999999
         ],
         "locationmode": "geojson-id",
         "lon": [
          6.9787572
         ],
         "marker": {
          "line": {
           "color": "rgb(40,40,40)",
           "width": 0.5
          },
          "size": [
           347.77
          ],
          "sizemode": "area"
         },
         "name": "thyssenkrupp AG",
         "type": "scattergeo"
        },
        {
         "hovertemplate": "<b>Schaeffler AG </b><br><br>Revenue 2018: 14241.0<br># Employees: 92478<br>",
         "lat": [
          49.57824160000001
         ],
         "locationmode": "geojson-id",
         "lon": [
          10.8819032
         ],
         "marker": {
          "line": {
           "color": "rgb(40,40,40)",
           "width": 0.5
          },
          "size": [
           142.41
          ],
          "sizemode": "area"
         },
         "name": "Schaeffler AG",
         "type": "scattergeo"
        },
        {
         "hovertemplate": "<b>Freudenberg SE </b><br><br>Revenue 2018: 9346.0<br># Employees: 48894<br>",
         "lat": [
          49.5407466
         ],
         "locationmode": "geojson-id",
         "lon": [
          8.662045299999999
         ],
         "marker": {
          "line": {
           "color": "rgb(40,40,40)",
           "width": 0.5
          },
          "size": [
           93.46
          ],
          "sizemode": "area"
         },
         "name": "Freudenberg SE",
         "type": "scattergeo"
        },
        {
         "hovertemplate": "<b>HELLA GmbH & Co. KGaA </b><br><br>Revenue 2018: 6990.0<br># Employees: 38845<br>",
         "lat": [
          51.6731727
         ],
         "locationmode": "geojson-id",
         "lon": [
          8.3588214
         ],
         "marker": {
          "line": {
           "color": "rgb(40,40,40)",
           "width": 0.5
          },
          "size": [
           69.9
          ],
          "sizemode": "area"
         },
         "name": "HELLA GmbH & Co. KGaA",
         "type": "scattergeo"
        },
        {
         "hovertemplate": "<b>Brose Fahrzeugteile SE & Co. Kommanditgesellschaft </b><br><br>Revenue 2018: 6263.0<br># Employees: 26000<br>",
         "lat": [
          50.255698
         ],
         "locationmode": "geojson-id",
         "lon": [
          10.955081800000002
         ],
         "marker": {
          "line": {
           "color": "rgb(40,40,40)",
           "width": 0.5
          },
          "size": [
           62.63
          ],
          "sizemode": "area"
         },
         "name": "Brose Fahrzeugteile SE & Co. Kommanditgesellschaft",
         "type": "scattergeo"
        },
        {
         "hovertemplate": "<b>LEONI AG </b><br><br>Revenue 2018: 5101.0<br># Employees: 92549<br>",
         "lat": [
          49.449102
         ],
         "locationmode": "geojson-id",
         "lon": [
          11.0873543
         ],
         "marker": {
          "line": {
           "color": "rgb(40,40,40)",
           "width": 0.5
          },
          "size": [
           51.01
          ],
          "sizemode": "area"
         },
         "name": "LEONI AG",
         "type": "scattergeo"
        },
        {
         "hovertemplate": "<b>Eberspächer Gruppe GmbH & Co. KG </b><br><br>Revenue 2018: 4610.0<br># Employees: 9862<br>",
         "lat": [
          48.72718370000001
         ],
         "locationmode": "geojson-id",
         "lon": [
          9.3526316
         ],
         "marker": {
          "line": {
           "color": "rgb(40,40,40)",
           "width": 0.5
          },
          "size": [
           46.1
          ],
          "sizemode": "area"
         },
         "name": "Eberspächer Gruppe GmbH & Co. KG",
         "type": "scattergeo"
        },
        {
         "hovertemplate": "<b>Fritz Dräxlmaier GmbH & Co. KG </b><br><br>Revenue 2018: 4551.0<br># Employees: 79126<br>",
         "lat": [
          48.43777290000001
         ],
         "locationmode": "geojson-id",
         "lon": [
          12.3430106
         ],
         "marker": {
          "line": {
           "color": "rgb(40,40,40)",
           "width": 0.5
          },
          "size": [
           45.51
          ],
          "sizemode": "area"
         },
         "name": "Fritz Dräxlmaier GmbH & Co. KG",
         "type": "scattergeo"
        },
        {
         "hovertemplate": "<b>Voith GmbH & Co. KGaA </b><br><br>Revenue 2018: 4209.0<br># Employees: 19511<br>",
         "lat": [
          48.6628951
         ],
         "locationmode": "geojson-id",
         "lon": [
          10.1658148
         ],
         "marker": {
          "line": {
           "color": "rgb(40,40,40)",
           "width": 0.5
          },
          "size": [
           42.09
          ],
          "sizemode": "area"
         },
         "name": "Voith GmbH & Co. KGaA",
         "type": "scattergeo"
        },
        {
         "hovertemplate": "<b>Dürr Aktiengesellschaft </b><br><br>Revenue 2018: 3870.0<br># Employees: 16312<br>",
         "lat": [
          48.95356820000001
         ],
         "locationmode": "geojson-id",
         "lon": [
          9.1241772
         ],
         "marker": {
          "line": {
           "color": "rgb(40,40,40)",
           "width": 0.5
          },
          "size": [
           38.7
          ],
          "sizemode": "area"
         },
         "name": "Dürr Aktiengesellschaft",
         "type": "scattergeo"
        },
        {
         "hovertemplate": "<b>Diehl Stiftung & Co. KG </b><br><br>Revenue 2018: 3694.0<br># Employees: 17298<br>",
         "lat": [
          49.4429032
         ],
         "locationmode": "geojson-id",
         "lon": [
          11.1044714
         ],
         "marker": {
          "line": {
           "color": "rgb(40,40,40)",
           "width": 0.5
          },
          "size": [
           36.94
          ],
          "sizemode": "area"
         },
         "name": "Diehl Stiftung & Co. KG",
         "type": "scattergeo"
        },
        {
         "hovertemplate": "<b>Webasto SE </b><br><br>Revenue 2018: 3433.0<br># Employees: 13298<br>",
         "lat": [
          48.0644849
         ],
         "locationmode": "geojson-id",
         "lon": [
          11.3744084
         ],
         "marker": {
          "line": {
           "color": "rgb(40,40,40)",
           "width": 0.5
          },
          "size": [
           34.33
          ],
          "sizemode": "area"
         },
         "name": "Webasto SE",
         "type": "scattergeo"
        },
        {
         "hovertemplate": "<b>OTTO FUCHS KG </b><br><br>Revenue 2018: 2811.0<br># Employees: 9899<br>",
         "lat": [
          51.1140959
         ],
         "locationmode": "geojson-id",
         "lon": [
          7.7082643
         ],
         "marker": {
          "line": {
           "color": "rgb(40,40,40)",
           "width": 0.5
          },
          "size": [
           28.11
          ],
          "sizemode": "area"
         },
         "name": "OTTO FUCHS KG",
         "type": "scattergeo"
        },
        {
         "hovertemplate": "<b>AUNDE Group SE </b><br><br>Revenue 2018: 2700.0<br># Employees: 24500<br>",
         "lat": [
          51.1987421
         ],
         "locationmode": "geojson-id",
         "lon": [
          6.3944066999999984
         ],
         "marker": {
          "line": {
           "color": "rgb(40,40,40)",
           "width": 0.5
          },
          "size": [
           27
          ],
          "sizemode": "area"
         },
         "name": "AUNDE Group SE",
         "type": "scattergeo"
        },
        {
         "hovertemplate": "<b>Michelin Reifenwerke AG & Co. KGaA </b><br><br>Revenue 2018: 2639.0<br># Employees: 5471<br>",
         "lat": [
          49.00721710000001
         ],
         "locationmode": "geojson-id",
         "lon": [
          8.352578099999999
         ],
         "marker": {
          "line": {
           "color": "rgb(40,40,40)",
           "width": 0.5
          },
          "size": [
           26.39
          ],
          "sizemode": "area"
         },
         "name": "Michelin Reifenwerke AG & Co. KGaA",
         "type": "scattergeo"
        },
        {
         "hovertemplate": "<b>Muhr und Bender KG </b><br><br>Revenue 2018: 2385.0<br># Employees: 12892<br>",
         "lat": [
          51.1035104
         ],
         "locationmode": "geojson-id",
         "lon": [
          7.866654599999999
         ],
         "marker": {
          "line": {
           "color": "rgb(40,40,40)",
           "width": 0.5
          },
          "size": [
           23.85
          ],
          "sizemode": "area"
         },
         "name": "Muhr und Bender KG",
         "type": "scattergeo"
        },
        {
         "hovertemplate": "<b>Röchling SE & Co. KG </b><br><br>Revenue 2018: 2140.0<br># Employees: 9687<br>",
         "lat": [
          49.4764407
         ],
         "locationmode": "geojson-id",
         "lon": [
          8.4930737
         ],
         "marker": {
          "line": {
           "color": "rgb(40,40,40)",
           "width": 0.5
          },
          "size": [
           21.4
          ],
          "sizemode": "area"
         },
         "name": "Röchling SE & Co. KG",
         "type": "scattergeo"
        }
       ],
       "layout": {
        "geo": {
         "center": {
          "lat": 50.757958,
          "lon": 10.266271
         },
         "coastlinecolor": "white",
         "countrycolor": "white",
         "domain": {
          "x": [
           0,
           1
          ],
          "y": [
           0,
           1
          ]
         },
         "landcolor": "rgb(229, 229, 229)",
         "lataxis": {
          "range": [
           47,
           55
          ]
         },
         "lonaxis": {
          "range": [
           5,
           15
          ]
         },
         "projection": {
          "type": "mercator"
         },
         "resolution": 50,
         "scope": "europe",
         "showcoastlines": true,
         "showframe": false
        },
        "showlegend": true,
        "template": {
         "data": {
          "bar": [
           {
            "error_x": {
             "color": "#2a3f5f"
            },
            "error_y": {
             "color": "#2a3f5f"
            },
            "marker": {
             "line": {
              "color": "#E5ECF6",
              "width": 0.5
             }
            },
            "type": "bar"
           }
          ],
          "barpolar": [
           {
            "marker": {
             "line": {
              "color": "#E5ECF6",
              "width": 0.5
             }
            },
            "type": "barpolar"
           }
          ],
          "carpet": [
           {
            "aaxis": {
             "endlinecolor": "#2a3f5f",
             "gridcolor": "white",
             "linecolor": "white",
             "minorgridcolor": "white",
             "startlinecolor": "#2a3f5f"
            },
            "baxis": {
             "endlinecolor": "#2a3f5f",
             "gridcolor": "white",
             "linecolor": "white",
             "minorgridcolor": "white",
             "startlinecolor": "#2a3f5f"
            },
            "type": "carpet"
           }
          ],
          "choropleth": [
           {
            "colorbar": {
             "outlinewidth": 0,
             "ticks": ""
            },
            "type": "choropleth"
           }
          ],
          "contour": [
           {
            "colorbar": {
             "outlinewidth": 0,
             "ticks": ""
            },
            "colorscale": [
             [
              0,
              "#0d0887"
             ],
             [
              0.1111111111111111,
              "#46039f"
             ],
             [
              0.2222222222222222,
              "#7201a8"
             ],
             [
              0.3333333333333333,
              "#9c179e"
             ],
             [
              0.4444444444444444,
              "#bd3786"
             ],
             [
              0.5555555555555556,
              "#d8576b"
             ],
             [
              0.6666666666666666,
              "#ed7953"
             ],
             [
              0.7777777777777778,
              "#fb9f3a"
             ],
             [
              0.8888888888888888,
              "#fdca26"
             ],
             [
              1,
              "#f0f921"
             ]
            ],
            "type": "contour"
           }
          ],
          "contourcarpet": [
           {
            "colorbar": {
             "outlinewidth": 0,
             "ticks": ""
            },
            "type": "contourcarpet"
           }
          ],
          "heatmap": [
           {
            "colorbar": {
             "outlinewidth": 0,
             "ticks": ""
            },
            "colorscale": [
             [
              0,
              "#0d0887"
             ],
             [
              0.1111111111111111,
              "#46039f"
             ],
             [
              0.2222222222222222,
              "#7201a8"
             ],
             [
              0.3333333333333333,
              "#9c179e"
             ],
             [
              0.4444444444444444,
              "#bd3786"
             ],
             [
              0.5555555555555556,
              "#d8576b"
             ],
             [
              0.6666666666666666,
              "#ed7953"
             ],
             [
              0.7777777777777778,
              "#fb9f3a"
             ],
             [
              0.8888888888888888,
              "#fdca26"
             ],
             [
              1,
              "#f0f921"
             ]
            ],
            "type": "heatmap"
           }
          ],
          "heatmapgl": [
           {
            "colorbar": {
             "outlinewidth": 0,
             "ticks": ""
            },
            "colorscale": [
             [
              0,
              "#0d0887"
             ],
             [
              0.1111111111111111,
              "#46039f"
             ],
             [
              0.2222222222222222,
              "#7201a8"
             ],
             [
              0.3333333333333333,
              "#9c179e"
             ],
             [
              0.4444444444444444,
              "#bd3786"
             ],
             [
              0.5555555555555556,
              "#d8576b"
             ],
             [
              0.6666666666666666,
              "#ed7953"
             ],
             [
              0.7777777777777778,
              "#fb9f3a"
             ],
             [
              0.8888888888888888,
              "#fdca26"
             ],
             [
              1,
              "#f0f921"
             ]
            ],
            "type": "heatmapgl"
           }
          ],
          "histogram": [
           {
            "marker": {
             "colorbar": {
              "outlinewidth": 0,
              "ticks": ""
             }
            },
            "type": "histogram"
           }
          ],
          "histogram2d": [
           {
            "colorbar": {
             "outlinewidth": 0,
             "ticks": ""
            },
            "colorscale": [
             [
              0,
              "#0d0887"
             ],
             [
              0.1111111111111111,
              "#46039f"
             ],
             [
              0.2222222222222222,
              "#7201a8"
             ],
             [
              0.3333333333333333,
              "#9c179e"
             ],
             [
              0.4444444444444444,
              "#bd3786"
             ],
             [
              0.5555555555555556,
              "#d8576b"
             ],
             [
              0.6666666666666666,
              "#ed7953"
             ],
             [
              0.7777777777777778,
              "#fb9f3a"
             ],
             [
              0.8888888888888888,
              "#fdca26"
             ],
             [
              1,
              "#f0f921"
             ]
            ],
            "type": "histogram2d"
           }
          ],
          "histogram2dcontour": [
           {
            "colorbar": {
             "outlinewidth": 0,
             "ticks": ""
            },
            "colorscale": [
             [
              0,
              "#0d0887"
             ],
             [
              0.1111111111111111,
              "#46039f"
             ],
             [
              0.2222222222222222,
              "#7201a8"
             ],
             [
              0.3333333333333333,
              "#9c179e"
             ],
             [
              0.4444444444444444,
              "#bd3786"
             ],
             [
              0.5555555555555556,
              "#d8576b"
             ],
             [
              0.6666666666666666,
              "#ed7953"
             ],
             [
              0.7777777777777778,
              "#fb9f3a"
             ],
             [
              0.8888888888888888,
              "#fdca26"
             ],
             [
              1,
              "#f0f921"
             ]
            ],
            "type": "histogram2dcontour"
           }
          ],
          "mesh3d": [
           {
            "colorbar": {
             "outlinewidth": 0,
             "ticks": ""
            },
            "type": "mesh3d"
           }
          ],
          "parcoords": [
           {
            "line": {
             "colorbar": {
              "outlinewidth": 0,
              "ticks": ""
             }
            },
            "type": "parcoords"
           }
          ],
          "pie": [
           {
            "automargin": true,
            "type": "pie"
           }
          ],
          "scatter": [
           {
            "marker": {
             "colorbar": {
              "outlinewidth": 0,
              "ticks": ""
             }
            },
            "type": "scatter"
           }
          ],
          "scatter3d": [
           {
            "line": {
             "colorbar": {
              "outlinewidth": 0,
              "ticks": ""
             }
            },
            "marker": {
             "colorbar": {
              "outlinewidth": 0,
              "ticks": ""
             }
            },
            "type": "scatter3d"
           }
          ],
          "scattercarpet": [
           {
            "marker": {
             "colorbar": {
              "outlinewidth": 0,
              "ticks": ""
             }
            },
            "type": "scattercarpet"
           }
          ],
          "scattergeo": [
           {
            "marker": {
             "colorbar": {
              "outlinewidth": 0,
              "ticks": ""
             }
            },
            "type": "scattergeo"
           }
          ],
          "scattergl": [
           {
            "marker": {
             "colorbar": {
              "outlinewidth": 0,
              "ticks": ""
             }
            },
            "type": "scattergl"
           }
          ],
          "scattermapbox": [
           {
            "marker": {
             "colorbar": {
              "outlinewidth": 0,
              "ticks": ""
             }
            },
            "type": "scattermapbox"
           }
          ],
          "scatterpolar": [
           {
            "marker": {
             "colorbar": {
              "outlinewidth": 0,
              "ticks": ""
             }
            },
            "type": "scatterpolar"
           }
          ],
          "scatterpolargl": [
           {
            "marker": {
             "colorbar": {
              "outlinewidth": 0,
              "ticks": ""
             }
            },
            "type": "scatterpolargl"
           }
          ],
          "scatterternary": [
           {
            "marker": {
             "colorbar": {
              "outlinewidth": 0,
              "ticks": ""
             }
            },
            "type": "scatterternary"
           }
          ],
          "surface": [
           {
            "colorbar": {
             "outlinewidth": 0,
             "ticks": ""
            },
            "colorscale": [
             [
              0,
              "#0d0887"
             ],
             [
              0.1111111111111111,
              "#46039f"
             ],
             [
              0.2222222222222222,
              "#7201a8"
             ],
             [
              0.3333333333333333,
              "#9c179e"
             ],
             [
              0.4444444444444444,
              "#bd3786"
             ],
             [
              0.5555555555555556,
              "#d8576b"
             ],
             [
              0.6666666666666666,
              "#ed7953"
             ],
             [
              0.7777777777777778,
              "#fb9f3a"
             ],
             [
              0.8888888888888888,
              "#fdca26"
             ],
             [
              1,
              "#f0f921"
             ]
            ],
            "type": "surface"
           }
          ],
          "table": [
           {
            "cells": {
             "fill": {
              "color": "#EBF0F8"
             },
             "line": {
              "color": "white"
             }
            },
            "header": {
             "fill": {
              "color": "#C8D4E3"
             },
             "line": {
              "color": "white"
             }
            },
            "type": "table"
           }
          ]
         },
         "layout": {
          "annotationdefaults": {
           "arrowcolor": "#2a3f5f",
           "arrowhead": 0,
           "arrowwidth": 1
          },
          "coloraxis": {
           "colorbar": {
            "outlinewidth": 0,
            "ticks": ""
           }
          },
          "colorscale": {
           "diverging": [
            [
             0,
             "#8e0152"
            ],
            [
             0.1,
             "#c51b7d"
            ],
            [
             0.2,
             "#de77ae"
            ],
            [
             0.3,
             "#f1b6da"
            ],
            [
             0.4,
             "#fde0ef"
            ],
            [
             0.5,
             "#f7f7f7"
            ],
            [
             0.6,
             "#e6f5d0"
            ],
            [
             0.7,
             "#b8e186"
            ],
            [
             0.8,
             "#7fbc41"
            ],
            [
             0.9,
             "#4d9221"
            ],
            [
             1,
             "#276419"
            ]
           ],
           "sequential": [
            [
             0,
             "#0d0887"
            ],
            [
             0.1111111111111111,
             "#46039f"
            ],
            [
             0.2222222222222222,
             "#7201a8"
            ],
            [
             0.3333333333333333,
             "#9c179e"
            ],
            [
             0.4444444444444444,
             "#bd3786"
            ],
            [
             0.5555555555555556,
             "#d8576b"
            ],
            [
             0.6666666666666666,
             "#ed7953"
            ],
            [
             0.7777777777777778,
             "#fb9f3a"
            ],
            [
             0.8888888888888888,
             "#fdca26"
            ],
            [
             1,
             "#f0f921"
            ]
           ],
           "sequentialminus": [
            [
             0,
             "#0d0887"
            ],
            [
             0.1111111111111111,
             "#46039f"
            ],
            [
             0.2222222222222222,
             "#7201a8"
            ],
            [
             0.3333333333333333,
             "#9c179e"
            ],
            [
             0.4444444444444444,
             "#bd3786"
            ],
            [
             0.5555555555555556,
             "#d8576b"
            ],
            [
             0.6666666666666666,
             "#ed7953"
            ],
            [
             0.7777777777777778,
             "#fb9f3a"
            ],
            [
             0.8888888888888888,
             "#fdca26"
            ],
            [
             1,
             "#f0f921"
            ]
           ]
          },
          "colorway": [
           "#636efa",
           "#EF553B",
           "#00cc96",
           "#ab63fa",
           "#FFA15A",
           "#19d3f3",
           "#FF6692",
           "#B6E880",
           "#FF97FF",
           "#FECB52"
          ],
          "font": {
           "color": "#2a3f5f"
          },
          "geo": {
           "bgcolor": "white",
           "lakecolor": "white",
           "landcolor": "#E5ECF6",
           "showlakes": true,
           "showland": true,
           "subunitcolor": "white"
          },
          "hoverlabel": {
           "align": "left"
          },
          "hovermode": "closest",
          "mapbox": {
           "style": "light"
          },
          "paper_bgcolor": "white",
          "plot_bgcolor": "#E5ECF6",
          "polar": {
           "angularaxis": {
            "gridcolor": "white",
            "linecolor": "white",
            "ticks": ""
           },
           "bgcolor": "#E5ECF6",
           "radialaxis": {
            "gridcolor": "white",
            "linecolor": "white",
            "ticks": ""
           }
          },
          "scene": {
           "xaxis": {
            "backgroundcolor": "#E5ECF6",
            "gridcolor": "white",
            "gridwidth": 2,
            "linecolor": "white",
            "showbackground": true,
            "ticks": "",
            "zerolinecolor": "white"
           },
           "yaxis": {
            "backgroundcolor": "#E5ECF6",
            "gridcolor": "white",
            "gridwidth": 2,
            "linecolor": "white",
            "showbackground": true,
            "ticks": "",
            "zerolinecolor": "white"
           },
           "zaxis": {
            "backgroundcolor": "#E5ECF6",
            "gridcolor": "white",
            "gridwidth": 2,
            "linecolor": "white",
            "showbackground": true,
            "ticks": "",
            "zerolinecolor": "white"
           }
          },
          "shapedefaults": {
           "line": {
            "color": "#2a3f5f"
           }
          },
          "ternary": {
           "aaxis": {
            "gridcolor": "white",
            "linecolor": "white",
            "ticks": ""
           },
           "baxis": {
            "gridcolor": "white",
            "linecolor": "white",
            "ticks": ""
           },
           "bgcolor": "#E5ECF6",
           "caxis": {
            "gridcolor": "white",
            "linecolor": "white",
            "ticks": ""
           }
          },
          "title": {
           "x": 0.05
          },
          "xaxis": {
           "automargin": true,
           "gridcolor": "white",
           "linecolor": "white",
           "ticks": "",
           "title": {
            "standoff": 15
           },
           "zerolinecolor": "white",
           "zerolinewidth": 2
          },
          "yaxis": {
           "automargin": true,
           "gridcolor": "white",
           "linecolor": "white",
           "ticks": "",
           "title": {
            "standoff": 15
           },
           "zerolinecolor": "white",
           "zerolinewidth": 2
          }
         }
        },
        "title": {
         "text": "2018 Revenue [in Mio. EUR] of selected Automotive suppliers"
        }
       }
      },
      "text/html": [
       "<div>\n",
       "        \n",
       "        \n",
       "            <div id=\"f378fd44-b6c9-449d-876e-7d82d65c176e\" class=\"plotly-graph-div\" style=\"height:525px; width:100%;\"></div>\n",
       "            <script type=\"text/javascript\">\n",
       "                require([\"plotly\"], function(Plotly) {\n",
       "                    window.PLOTLYENV=window.PLOTLYENV || {};\n",
       "                    \n",
       "                if (document.getElementById(\"f378fd44-b6c9-449d-876e-7d82d65c176e\")) {\n",
       "                    Plotly.newPlot(\n",
       "                        'f378fd44-b6c9-449d-876e-7d82d65c176e',\n",
       "                        [{\"hovertemplate\": \"<b>Robert Bosch GmbH </b><br><br>Revenue 2018: 78465.0<br># Employees: 409900<br>\", \"lat\": [48.79080560000001], \"locationmode\": \"geojson-id\", \"lon\": [9.0651574], \"marker\": {\"line\": {\"color\": \"rgb(40,40,40)\", \"width\": 0.5}, \"size\": [784.65], \"sizemode\": \"area\"}, \"name\": \"Robert Bosch GmbH\", \"type\": \"scattergeo\"}, {\"hovertemplate\": \"<b>Continental AG </b><br><br>Revenue 2018: 44404.0<br># Employees: 243226<br>\", \"lat\": [52.4042924], \"locationmode\": \"geojson-id\", \"lon\": [9.7256772], \"marker\": {\"line\": {\"color\": \"rgb(40,40,40)\", \"width\": 0.5}, \"size\": [444.04], \"sizemode\": \"area\"}, \"name\": \"Continental AG\", \"type\": \"scattergeo\"}, {\"hovertemplate\": \"<b>ZF Friedrichshafen AG </b><br><br>Revenue 2018: 36929.0<br># Employees: 147332<br>\", \"lat\": [47.6422797], \"locationmode\": \"geojson-id\", \"lon\": [9.4972996], \"marker\": {\"line\": {\"color\": \"rgb(40,40,40)\", \"width\": 0.5}, \"size\": [369.29], \"sizemode\": \"area\"}, \"name\": \"ZF Friedrichshafen AG\", \"type\": \"scattergeo\"}, {\"hovertemplate\": \"<b>thyssenkrupp AG </b><br><br>Revenue 2018: 34777.0<br># Employees: 161096<br>\", \"lat\": [51.46279209999999], \"locationmode\": \"geojson-id\", \"lon\": [6.9787572], \"marker\": {\"line\": {\"color\": \"rgb(40,40,40)\", \"width\": 0.5}, \"size\": [347.77], \"sizemode\": \"area\"}, \"name\": \"thyssenkrupp AG\", \"type\": \"scattergeo\"}, {\"hovertemplate\": \"<b>Schaeffler AG </b><br><br>Revenue 2018: 14241.0<br># Employees: 92478<br>\", \"lat\": [49.57824160000001], \"locationmode\": \"geojson-id\", \"lon\": [10.8819032], \"marker\": {\"line\": {\"color\": \"rgb(40,40,40)\", \"width\": 0.5}, \"size\": [142.41], \"sizemode\": \"area\"}, \"name\": \"Schaeffler AG\", \"type\": \"scattergeo\"}, {\"hovertemplate\": \"<b>Freudenberg SE </b><br><br>Revenue 2018: 9346.0<br># Employees: 48894<br>\", \"lat\": [49.5407466], \"locationmode\": \"geojson-id\", \"lon\": [8.662045299999999], \"marker\": {\"line\": {\"color\": \"rgb(40,40,40)\", \"width\": 0.5}, \"size\": [93.46], \"sizemode\": \"area\"}, \"name\": \"Freudenberg SE\", \"type\": \"scattergeo\"}, {\"hovertemplate\": \"<b>HELLA GmbH & Co. KGaA </b><br><br>Revenue 2018: 6990.0<br># Employees: 38845<br>\", \"lat\": [51.6731727], \"locationmode\": \"geojson-id\", \"lon\": [8.3588214], \"marker\": {\"line\": {\"color\": \"rgb(40,40,40)\", \"width\": 0.5}, \"size\": [69.9], \"sizemode\": \"area\"}, \"name\": \"HELLA GmbH & Co. KGaA\", \"type\": \"scattergeo\"}, {\"hovertemplate\": \"<b>Brose Fahrzeugteile SE & Co. Kommanditgesellschaft </b><br><br>Revenue 2018: 6263.0<br># Employees: 26000<br>\", \"lat\": [50.255698], \"locationmode\": \"geojson-id\", \"lon\": [10.955081800000002], \"marker\": {\"line\": {\"color\": \"rgb(40,40,40)\", \"width\": 0.5}, \"size\": [62.63], \"sizemode\": \"area\"}, \"name\": \"Brose Fahrzeugteile SE & Co. Kommanditgesellschaft\", \"type\": \"scattergeo\"}, {\"hovertemplate\": \"<b>LEONI AG </b><br><br>Revenue 2018: 5101.0<br># Employees: 92549<br>\", \"lat\": [49.449102], \"locationmode\": \"geojson-id\", \"lon\": [11.0873543], \"marker\": {\"line\": {\"color\": \"rgb(40,40,40)\", \"width\": 0.5}, \"size\": [51.01], \"sizemode\": \"area\"}, \"name\": \"LEONI AG\", \"type\": \"scattergeo\"}, {\"hovertemplate\": \"<b>Ebersp\\u00e4cher Gruppe GmbH & Co. KG </b><br><br>Revenue 2018: 4610.0<br># Employees: 9862<br>\", \"lat\": [48.72718370000001], \"locationmode\": \"geojson-id\", \"lon\": [9.3526316], \"marker\": {\"line\": {\"color\": \"rgb(40,40,40)\", \"width\": 0.5}, \"size\": [46.1], \"sizemode\": \"area\"}, \"name\": \"Ebersp\\u00e4cher Gruppe GmbH & Co. KG\", \"type\": \"scattergeo\"}, {\"hovertemplate\": \"<b>Fritz Dr\\u00e4xlmaier GmbH & Co. KG </b><br><br>Revenue 2018: 4551.0<br># Employees: 79126<br>\", \"lat\": [48.43777290000001], \"locationmode\": \"geojson-id\", \"lon\": [12.3430106], \"marker\": {\"line\": {\"color\": \"rgb(40,40,40)\", \"width\": 0.5}, \"size\": [45.51], \"sizemode\": \"area\"}, \"name\": \"Fritz Dr\\u00e4xlmaier GmbH & Co. KG\", \"type\": \"scattergeo\"}, {\"hovertemplate\": \"<b>Voith GmbH & Co. KGaA </b><br><br>Revenue 2018: 4209.0<br># Employees: 19511<br>\", \"lat\": [48.6628951], \"locationmode\": \"geojson-id\", \"lon\": [10.1658148], \"marker\": {\"line\": {\"color\": \"rgb(40,40,40)\", \"width\": 0.5}, \"size\": [42.09], \"sizemode\": \"area\"}, \"name\": \"Voith GmbH & Co. KGaA\", \"type\": \"scattergeo\"}, {\"hovertemplate\": \"<b>D\\u00fcrr Aktiengesellschaft </b><br><br>Revenue 2018: 3870.0<br># Employees: 16312<br>\", \"lat\": [48.95356820000001], \"locationmode\": \"geojson-id\", \"lon\": [9.1241772], \"marker\": {\"line\": {\"color\": \"rgb(40,40,40)\", \"width\": 0.5}, \"size\": [38.7], \"sizemode\": \"area\"}, \"name\": \"D\\u00fcrr Aktiengesellschaft\", \"type\": \"scattergeo\"}, {\"hovertemplate\": \"<b>Diehl Stiftung & Co. KG </b><br><br>Revenue 2018: 3694.0<br># Employees: 17298<br>\", \"lat\": [49.4429032], \"locationmode\": \"geojson-id\", \"lon\": [11.1044714], \"marker\": {\"line\": {\"color\": \"rgb(40,40,40)\", \"width\": 0.5}, \"size\": [36.94], \"sizemode\": \"area\"}, \"name\": \"Diehl Stiftung & Co. KG\", \"type\": \"scattergeo\"}, {\"hovertemplate\": \"<b>Webasto SE </b><br><br>Revenue 2018: 3433.0<br># Employees: 13298<br>\", \"lat\": [48.0644849], \"locationmode\": \"geojson-id\", \"lon\": [11.3744084], \"marker\": {\"line\": {\"color\": \"rgb(40,40,40)\", \"width\": 0.5}, \"size\": [34.33], \"sizemode\": \"area\"}, \"name\": \"Webasto SE\", \"type\": \"scattergeo\"}, {\"hovertemplate\": \"<b>OTTO FUCHS KG </b><br><br>Revenue 2018: 2811.0<br># Employees: 9899<br>\", \"lat\": [51.1140959], \"locationmode\": \"geojson-id\", \"lon\": [7.7082643], \"marker\": {\"line\": {\"color\": \"rgb(40,40,40)\", \"width\": 0.5}, \"size\": [28.11], \"sizemode\": \"area\"}, \"name\": \"OTTO FUCHS KG\", \"type\": \"scattergeo\"}, {\"hovertemplate\": \"<b>AUNDE Group SE </b><br><br>Revenue 2018: 2700.0<br># Employees: 24500<br>\", \"lat\": [51.1987421], \"locationmode\": \"geojson-id\", \"lon\": [6.3944066999999984], \"marker\": {\"line\": {\"color\": \"rgb(40,40,40)\", \"width\": 0.5}, \"size\": [27.0], \"sizemode\": \"area\"}, \"name\": \"AUNDE Group SE\", \"type\": \"scattergeo\"}, {\"hovertemplate\": \"<b>Michelin Reifenwerke AG & Co. KGaA </b><br><br>Revenue 2018: 2639.0<br># Employees: 5471<br>\", \"lat\": [49.00721710000001], \"locationmode\": \"geojson-id\", \"lon\": [8.352578099999999], \"marker\": {\"line\": {\"color\": \"rgb(40,40,40)\", \"width\": 0.5}, \"size\": [26.39], \"sizemode\": \"area\"}, \"name\": \"Michelin Reifenwerke AG & Co. KGaA\", \"type\": \"scattergeo\"}, {\"hovertemplate\": \"<b>Muhr und Bender KG </b><br><br>Revenue 2018: 2385.0<br># Employees: 12892<br>\", \"lat\": [51.1035104], \"locationmode\": \"geojson-id\", \"lon\": [7.866654599999999], \"marker\": {\"line\": {\"color\": \"rgb(40,40,40)\", \"width\": 0.5}, \"size\": [23.85], \"sizemode\": \"area\"}, \"name\": \"Muhr und Bender KG\", \"type\": \"scattergeo\"}, {\"hovertemplate\": \"<b>R\\u00f6chling SE & Co. KG </b><br><br>Revenue 2018: 2140.0<br># Employees: 9687<br>\", \"lat\": [49.4764407], \"locationmode\": \"geojson-id\", \"lon\": [8.4930737], \"marker\": {\"line\": {\"color\": \"rgb(40,40,40)\", \"width\": 0.5}, \"size\": [21.4], \"sizemode\": \"area\"}, \"name\": \"R\\u00f6chling SE & Co. KG\", \"type\": \"scattergeo\"}],\n",
       "                        {\"geo\": {\"center\": {\"lat\": 50.757958, \"lon\": 10.266271}, \"coastlinecolor\": \"white\", \"countrycolor\": \"white\", \"domain\": {\"x\": [0, 1], \"y\": [0, 1]}, \"landcolor\": \"rgb(229, 229, 229)\", \"lataxis\": {\"range\": [47.0, 55.0]}, \"lonaxis\": {\"range\": [5.0, 15.0]}, \"projection\": {\"type\": \"mercator\"}, \"resolution\": 50, \"scope\": \"europe\", \"showcoastlines\": true, \"showframe\": false}, \"showlegend\": true, \"template\": {\"data\": {\"bar\": [{\"error_x\": {\"color\": \"#2a3f5f\"}, \"error_y\": {\"color\": \"#2a3f5f\"}, \"marker\": {\"line\": {\"color\": \"#E5ECF6\", \"width\": 0.5}}, \"type\": \"bar\"}], \"barpolar\": [{\"marker\": {\"line\": {\"color\": \"#E5ECF6\", \"width\": 0.5}}, \"type\": \"barpolar\"}], \"carpet\": [{\"aaxis\": {\"endlinecolor\": \"#2a3f5f\", \"gridcolor\": \"white\", \"linecolor\": \"white\", \"minorgridcolor\": \"white\", \"startlinecolor\": \"#2a3f5f\"}, \"baxis\": {\"endlinecolor\": \"#2a3f5f\", \"gridcolor\": \"white\", \"linecolor\": \"white\", \"minorgridcolor\": \"white\", \"startlinecolor\": \"#2a3f5f\"}, \"type\": \"carpet\"}], \"choropleth\": [{\"colorbar\": {\"outlinewidth\": 0, \"ticks\": \"\"}, \"type\": \"choropleth\"}], \"contour\": [{\"colorbar\": {\"outlinewidth\": 0, \"ticks\": \"\"}, \"colorscale\": [[0.0, \"#0d0887\"], [0.1111111111111111, \"#46039f\"], [0.2222222222222222, \"#7201a8\"], [0.3333333333333333, \"#9c179e\"], [0.4444444444444444, \"#bd3786\"], [0.5555555555555556, \"#d8576b\"], [0.6666666666666666, \"#ed7953\"], [0.7777777777777778, \"#fb9f3a\"], [0.8888888888888888, \"#fdca26\"], [1.0, \"#f0f921\"]], \"type\": \"contour\"}], \"contourcarpet\": [{\"colorbar\": {\"outlinewidth\": 0, \"ticks\": \"\"}, \"type\": \"contourcarpet\"}], \"heatmap\": [{\"colorbar\": {\"outlinewidth\": 0, \"ticks\": \"\"}, \"colorscale\": [[0.0, \"#0d0887\"], [0.1111111111111111, \"#46039f\"], [0.2222222222222222, \"#7201a8\"], [0.3333333333333333, \"#9c179e\"], [0.4444444444444444, \"#bd3786\"], [0.5555555555555556, \"#d8576b\"], [0.6666666666666666, \"#ed7953\"], [0.7777777777777778, \"#fb9f3a\"], [0.8888888888888888, \"#fdca26\"], [1.0, \"#f0f921\"]], \"type\": \"heatmap\"}], \"heatmapgl\": [{\"colorbar\": {\"outlinewidth\": 0, \"ticks\": \"\"}, \"colorscale\": [[0.0, \"#0d0887\"], [0.1111111111111111, \"#46039f\"], [0.2222222222222222, \"#7201a8\"], [0.3333333333333333, \"#9c179e\"], [0.4444444444444444, \"#bd3786\"], [0.5555555555555556, \"#d8576b\"], [0.6666666666666666, \"#ed7953\"], [0.7777777777777778, \"#fb9f3a\"], [0.8888888888888888, \"#fdca26\"], [1.0, \"#f0f921\"]], \"type\": \"heatmapgl\"}], \"histogram\": [{\"marker\": {\"colorbar\": {\"outlinewidth\": 0, \"ticks\": \"\"}}, \"type\": \"histogram\"}], \"histogram2d\": [{\"colorbar\": {\"outlinewidth\": 0, \"ticks\": \"\"}, \"colorscale\": [[0.0, \"#0d0887\"], [0.1111111111111111, \"#46039f\"], [0.2222222222222222, \"#7201a8\"], [0.3333333333333333, \"#9c179e\"], [0.4444444444444444, \"#bd3786\"], [0.5555555555555556, \"#d8576b\"], [0.6666666666666666, \"#ed7953\"], [0.7777777777777778, \"#fb9f3a\"], [0.8888888888888888, \"#fdca26\"], [1.0, \"#f0f921\"]], \"type\": \"histogram2d\"}], \"histogram2dcontour\": [{\"colorbar\": {\"outlinewidth\": 0, \"ticks\": \"\"}, \"colorscale\": [[0.0, \"#0d0887\"], [0.1111111111111111, \"#46039f\"], [0.2222222222222222, \"#7201a8\"], [0.3333333333333333, \"#9c179e\"], [0.4444444444444444, \"#bd3786\"], [0.5555555555555556, \"#d8576b\"], [0.6666666666666666, \"#ed7953\"], [0.7777777777777778, \"#fb9f3a\"], [0.8888888888888888, \"#fdca26\"], [1.0, \"#f0f921\"]], \"type\": \"histogram2dcontour\"}], \"mesh3d\": [{\"colorbar\": {\"outlinewidth\": 0, \"ticks\": \"\"}, \"type\": \"mesh3d\"}], \"parcoords\": [{\"line\": {\"colorbar\": {\"outlinewidth\": 0, \"ticks\": \"\"}}, \"type\": \"parcoords\"}], \"pie\": [{\"automargin\": true, \"type\": \"pie\"}], \"scatter\": [{\"marker\": {\"colorbar\": {\"outlinewidth\": 0, \"ticks\": \"\"}}, \"type\": \"scatter\"}], \"scatter3d\": [{\"line\": {\"colorbar\": {\"outlinewidth\": 0, \"ticks\": \"\"}}, \"marker\": {\"colorbar\": {\"outlinewidth\": 0, \"ticks\": \"\"}}, \"type\": \"scatter3d\"}], \"scattercarpet\": [{\"marker\": {\"colorbar\": {\"outlinewidth\": 0, \"ticks\": \"\"}}, \"type\": \"scattercarpet\"}], \"scattergeo\": [{\"marker\": {\"colorbar\": {\"outlinewidth\": 0, \"ticks\": \"\"}}, \"type\": \"scattergeo\"}], \"scattergl\": [{\"marker\": {\"colorbar\": {\"outlinewidth\": 0, \"ticks\": \"\"}}, \"type\": \"scattergl\"}], \"scattermapbox\": [{\"marker\": {\"colorbar\": {\"outlinewidth\": 0, \"ticks\": \"\"}}, \"type\": \"scattermapbox\"}], \"scatterpolar\": [{\"marker\": {\"colorbar\": {\"outlinewidth\": 0, \"ticks\": \"\"}}, \"type\": \"scatterpolar\"}], \"scatterpolargl\": [{\"marker\": {\"colorbar\": {\"outlinewidth\": 0, \"ticks\": \"\"}}, \"type\": \"scatterpolargl\"}], \"scatterternary\": [{\"marker\": {\"colorbar\": {\"outlinewidth\": 0, \"ticks\": \"\"}}, \"type\": \"scatterternary\"}], \"surface\": [{\"colorbar\": {\"outlinewidth\": 0, \"ticks\": \"\"}, \"colorscale\": [[0.0, \"#0d0887\"], [0.1111111111111111, \"#46039f\"], [0.2222222222222222, \"#7201a8\"], [0.3333333333333333, \"#9c179e\"], [0.4444444444444444, \"#bd3786\"], [0.5555555555555556, \"#d8576b\"], [0.6666666666666666, \"#ed7953\"], [0.7777777777777778, \"#fb9f3a\"], [0.8888888888888888, \"#fdca26\"], [1.0, \"#f0f921\"]], \"type\": \"surface\"}], \"table\": [{\"cells\": {\"fill\": {\"color\": \"#EBF0F8\"}, \"line\": {\"color\": \"white\"}}, \"header\": {\"fill\": {\"color\": \"#C8D4E3\"}, \"line\": {\"color\": \"white\"}}, \"type\": \"table\"}]}, \"layout\": {\"annotationdefaults\": {\"arrowcolor\": \"#2a3f5f\", \"arrowhead\": 0, \"arrowwidth\": 1}, \"coloraxis\": {\"colorbar\": {\"outlinewidth\": 0, \"ticks\": \"\"}}, \"colorscale\": {\"diverging\": [[0, \"#8e0152\"], [0.1, \"#c51b7d\"], [0.2, \"#de77ae\"], [0.3, \"#f1b6da\"], [0.4, \"#fde0ef\"], [0.5, \"#f7f7f7\"], [0.6, \"#e6f5d0\"], [0.7, \"#b8e186\"], [0.8, \"#7fbc41\"], [0.9, \"#4d9221\"], [1, \"#276419\"]], \"sequential\": [[0.0, \"#0d0887\"], [0.1111111111111111, \"#46039f\"], [0.2222222222222222, \"#7201a8\"], [0.3333333333333333, \"#9c179e\"], [0.4444444444444444, \"#bd3786\"], [0.5555555555555556, \"#d8576b\"], [0.6666666666666666, \"#ed7953\"], [0.7777777777777778, \"#fb9f3a\"], [0.8888888888888888, \"#fdca26\"], [1.0, \"#f0f921\"]], \"sequentialminus\": [[0.0, \"#0d0887\"], [0.1111111111111111, \"#46039f\"], [0.2222222222222222, \"#7201a8\"], [0.3333333333333333, \"#9c179e\"], [0.4444444444444444, \"#bd3786\"], [0.5555555555555556, \"#d8576b\"], [0.6666666666666666, \"#ed7953\"], [0.7777777777777778, \"#fb9f3a\"], [0.8888888888888888, \"#fdca26\"], [1.0, \"#f0f921\"]]}, \"colorway\": [\"#636efa\", \"#EF553B\", \"#00cc96\", \"#ab63fa\", \"#FFA15A\", \"#19d3f3\", \"#FF6692\", \"#B6E880\", \"#FF97FF\", \"#FECB52\"], \"font\": {\"color\": \"#2a3f5f\"}, \"geo\": {\"bgcolor\": \"white\", \"lakecolor\": \"white\", \"landcolor\": \"#E5ECF6\", \"showlakes\": true, \"showland\": true, \"subunitcolor\": \"white\"}, \"hoverlabel\": {\"align\": \"left\"}, \"hovermode\": \"closest\", \"mapbox\": {\"style\": \"light\"}, \"paper_bgcolor\": \"white\", \"plot_bgcolor\": \"#E5ECF6\", \"polar\": {\"angularaxis\": {\"gridcolor\": \"white\", \"linecolor\": \"white\", \"ticks\": \"\"}, \"bgcolor\": \"#E5ECF6\", \"radialaxis\": {\"gridcolor\": \"white\", \"linecolor\": \"white\", \"ticks\": \"\"}}, \"scene\": {\"xaxis\": {\"backgroundcolor\": \"#E5ECF6\", \"gridcolor\": \"white\", \"gridwidth\": 2, \"linecolor\": \"white\", \"showbackground\": true, \"ticks\": \"\", \"zerolinecolor\": \"white\"}, \"yaxis\": {\"backgroundcolor\": \"#E5ECF6\", \"gridcolor\": \"white\", \"gridwidth\": 2, \"linecolor\": \"white\", \"showbackground\": true, \"ticks\": \"\", \"zerolinecolor\": \"white\"}, \"zaxis\": {\"backgroundcolor\": \"#E5ECF6\", \"gridcolor\": \"white\", \"gridwidth\": 2, \"linecolor\": \"white\", \"showbackground\": true, \"ticks\": \"\", \"zerolinecolor\": \"white\"}}, \"shapedefaults\": {\"line\": {\"color\": \"#2a3f5f\"}}, \"ternary\": {\"aaxis\": {\"gridcolor\": \"white\", \"linecolor\": \"white\", \"ticks\": \"\"}, \"baxis\": {\"gridcolor\": \"white\", \"linecolor\": \"white\", \"ticks\": \"\"}, \"bgcolor\": \"#E5ECF6\", \"caxis\": {\"gridcolor\": \"white\", \"linecolor\": \"white\", \"ticks\": \"\"}}, \"title\": {\"x\": 0.05}, \"xaxis\": {\"automargin\": true, \"gridcolor\": \"white\", \"linecolor\": \"white\", \"ticks\": \"\", \"title\": {\"standoff\": 15}, \"zerolinecolor\": \"white\", \"zerolinewidth\": 2}, \"yaxis\": {\"automargin\": true, \"gridcolor\": \"white\", \"linecolor\": \"white\", \"ticks\": \"\", \"title\": {\"standoff\": 15}, \"zerolinecolor\": \"white\", \"zerolinewidth\": 2}}}, \"title\": {\"text\": \"2018 Revenue [in Mio. EUR] of selected Automotive suppliers\"}},\n",
       "                        {\"responsive\": true}\n",
       "                    ).then(function(){\n",
       "                            \n",
       "var gd = document.getElementById('f378fd44-b6c9-449d-876e-7d82d65c176e');\n",
       "var x = new MutationObserver(function (mutations, observer) {{\n",
       "        var display = window.getComputedStyle(gd).display;\n",
       "        if (!display || display === 'none') {{\n",
       "            console.log([gd, 'removed!']);\n",
       "            Plotly.purge(gd);\n",
       "            observer.disconnect();\n",
       "        }}\n",
       "}});\n",
       "\n",
       "// Listen for the removal of the full notebook cells\n",
       "var notebookContainer = gd.closest('#notebook-container');\n",
       "if (notebookContainer) {{\n",
       "    x.observe(notebookContainer, {childList: true});\n",
       "}}\n",
       "\n",
       "// Listen for the clearing of the current output cell\n",
       "var outputEl = gd.closest('.output');\n",
       "if (outputEl) {{\n",
       "    x.observe(outputEl, {childList: true});\n",
       "}}\n",
       "\n",
       "                        })\n",
       "                };\n",
       "                });\n",
       "            </script>\n",
       "        </div>"
      ]
     },
     "metadata": {},
     "output_type": "display_data"
    }
   ],
   "source": [
    "scale = 100\n",
    "companies = go.Figure()\n",
    "\n",
    "for firm in list(df['Unternehmen'].unique()):\n",
    "    # create sub dataframe containing the 16 federal states in Germany\n",
    "    df_sub = df[df['Unternehmen'] == firm]\n",
    "\n",
    "    # plot the bubbles on the map\n",
    "    companies.add_trace(go.Scattergeo(\n",
    "        locationmode = 'geojson-id',\n",
    "        lon = df_sub['longitude'],\n",
    "        lat = df_sub['latitude'],\n",
    "        name = str(firm),\n",
    "        hovertemplate = \"<b>{} </b><br><br>\".format(df_sub['Unternehmen'].values[0]) +\n",
    "                \"Revenue 2018: {}<br>\".format(df_sub['Umsatz 2018 (in Mio. €)'].values[0]) +\n",
    "                \"# Employees: {}<br>\".format(df_sub[\"Mitarbeiter\"].values[0]) ,\n",
    "        marker = dict(\n",
    "            # scale the bubble size properly, to at least have a size of 5\n",
    "            size = df_sub['Umsatz 2018 (in Mio. €)'].apply(lambda x: (x/scale) if (x/scale) > 5 else 5),\n",
    "            line_color='rgb(40,40,40)',\n",
    "            line_width=0.5,\n",
    "            sizemode = 'area'\n",
    "        )))\n",
    "\n",
    "# get the layout right\n",
    "companies.update_layout(\n",
    "        title_text = '2018 Revenue [in Mio. EUR] of selected Automotive suppliers',\n",
    "        showlegend = True,\n",
    "    \n",
    "    geo = go.layout.Geo(\n",
    "        resolution = 50,\n",
    "        scope = 'europe',\n",
    "        showframe = False,\n",
    "        showcoastlines = True,\n",
    "        landcolor = \"rgb(229, 229, 229)\",\n",
    "        countrycolor = \"white\" ,\n",
    "        coastlinecolor = \"white\",\n",
    "        projection_type = 'mercator',\n",
    "        # limit our projection to Germany only\n",
    "        lonaxis_range= [ 5.0, 15.0 ],\n",
    "        lataxis_range= [ 47.0, 55.0 ],\n",
    "        # center the projection at Germany's center coordinates\n",
    "        center = {\"lat\": 50.757958, \"lon\": 10.266271},\n",
    "        domain = dict(x = [ 0, 1 ], y = [ 0, 1 ])\n",
    "    )\n",
    ")\n",
    "## Save Plot on plotly account\n",
    "py.plot(companies, filename = 'firms revenue 2018 map', auto_open=True, config={\"displayModeBar\": False})\n",
    "companies.show()\n",
    "\n",
    "## Also possible to save it as HTML and host it on github\n",
    "#pio.write_html(companies, file=’biggest firms.html’, auto_open=True)"
   ]
  },
  {
   "cell_type": "markdown",
   "metadata": {},
   "source": [
    "## Visualize the biggest Companies in chunks"
   ]
  },
  {
   "cell_type": "code",
   "execution_count": 125,
   "metadata": {},
   "outputs": [
    {
     "data": {
      "application/vnd.plotly.v1+json": {
       "config": {
        "plotlyServerURL": "https://plotly.com"
       },
       "data": [
        {
         "hovertemplate": "<b>Robert Bosch GmbH </b><br><br>Revenue 2018: 78465.0<br># Employees: 409900<br>",
         "lat": [
          48.79080560000001,
          52.4042924,
          47.6422797,
          51.46279209999999,
          49.57824160000001
         ],
         "locationmode": "geojson-id",
         "lon": [
          9.0651574,
          9.7256772,
          9.4972996,
          6.9787572,
          10.8819032
         ],
         "marker": {
          "color": "royalblue",
          "line": {
           "color": "rgb(40,40,40)",
           "width": 0.5
          },
          "size": [
           784.65,
           444.04,
           369.29,
           347.77,
           142.41
          ],
          "sizemode": "area"
         },
         "name": "Top 5 biggest companies",
         "type": "scattergeo"
        },
        {
         "hovertemplate": "<b>HELLA GmbH & Co. KGaA </b><br><br>Revenue 2018: 6990.0<br># Employees: 38845<br>",
         "lat": [
          51.6731727,
          50.255698,
          49.449102,
          48.72718370000001
         ],
         "locationmode": "geojson-id",
         "lon": [
          8.3588214,
          10.955081800000002,
          11.0873543,
          9.3526316
         ],
         "marker": {
          "color": "crimson",
          "line": {
           "color": "rgb(40,40,40)",
           "width": 0.5
          },
          "size": [
           69.9,
           62.63,
           51.01,
           46.1
          ],
          "sizemode": "area"
         },
         "name": "Top 10 biggest companies",
         "type": "scattergeo"
        },
        {
         "hovertemplate": "<b>Voith GmbH & Co. KGaA </b><br><br>Revenue 2018: 4209.0<br># Employees: 19511<br>",
         "lat": [
          48.6628951,
          48.95356820000001,
          49.4429032,
          48.0644849
         ],
         "locationmode": "geojson-id",
         "lon": [
          10.1658148,
          9.1241772,
          11.1044714,
          11.3744084
         ],
         "marker": {
          "color": "lightseagreen",
          "line": {
           "color": "rgb(40,40,40)",
           "width": 0.5
          },
          "size": [
           42.09,
           38.7,
           36.94,
           34.33
          ],
          "sizemode": "area"
         },
         "name": "Top 15 biggest companies",
         "type": "scattergeo"
        },
        {
         "hovertemplate": "<b>AUNDE Group SE </b><br><br>Revenue 2018: 2700.0<br># Employees: 24500<br>",
         "lat": [
          51.1987421,
          49.00721710000001,
          51.1035104,
          49.4764407
         ],
         "locationmode": "geojson-id",
         "lon": [
          6.3944066999999984,
          8.352578099999999,
          7.866654599999999,
          8.4930737
         ],
         "marker": {
          "color": "orange",
          "line": {
           "color": "rgb(40,40,40)",
           "width": 0.5
          },
          "size": [
           27,
           26.39,
           23.85,
           21.4
          ],
          "sizemode": "area"
         },
         "name": "Top 20 biggest companies",
         "type": "scattergeo"
        }
       ],
       "layout": {
        "geo": {
         "center": {
          "lat": 50.757958,
          "lon": 10.266271
         },
         "coastlinecolor": "white",
         "countrycolor": "white",
         "domain": {
          "x": [
           0,
           1
          ],
          "y": [
           0,
           1
          ]
         },
         "landcolor": "rgb(229, 229, 229)",
         "lataxis": {
          "range": [
           47,
           55
          ]
         },
         "lonaxis": {
          "range": [
           5,
           15
          ]
         },
         "projection": {
          "type": "mercator"
         },
         "resolution": 50,
         "scope": "europe",
         "showcoastlines": true,
         "showframe": false
        },
        "showlegend": true,
        "template": {
         "data": {
          "bar": [
           {
            "error_x": {
             "color": "#2a3f5f"
            },
            "error_y": {
             "color": "#2a3f5f"
            },
            "marker": {
             "line": {
              "color": "#E5ECF6",
              "width": 0.5
             }
            },
            "type": "bar"
           }
          ],
          "barpolar": [
           {
            "marker": {
             "line": {
              "color": "#E5ECF6",
              "width": 0.5
             }
            },
            "type": "barpolar"
           }
          ],
          "carpet": [
           {
            "aaxis": {
             "endlinecolor": "#2a3f5f",
             "gridcolor": "white",
             "linecolor": "white",
             "minorgridcolor": "white",
             "startlinecolor": "#2a3f5f"
            },
            "baxis": {
             "endlinecolor": "#2a3f5f",
             "gridcolor": "white",
             "linecolor": "white",
             "minorgridcolor": "white",
             "startlinecolor": "#2a3f5f"
            },
            "type": "carpet"
           }
          ],
          "choropleth": [
           {
            "colorbar": {
             "outlinewidth": 0,
             "ticks": ""
            },
            "type": "choropleth"
           }
          ],
          "contour": [
           {
            "colorbar": {
             "outlinewidth": 0,
             "ticks": ""
            },
            "colorscale": [
             [
              0,
              "#0d0887"
             ],
             [
              0.1111111111111111,
              "#46039f"
             ],
             [
              0.2222222222222222,
              "#7201a8"
             ],
             [
              0.3333333333333333,
              "#9c179e"
             ],
             [
              0.4444444444444444,
              "#bd3786"
             ],
             [
              0.5555555555555556,
              "#d8576b"
             ],
             [
              0.6666666666666666,
              "#ed7953"
             ],
             [
              0.7777777777777778,
              "#fb9f3a"
             ],
             [
              0.8888888888888888,
              "#fdca26"
             ],
             [
              1,
              "#f0f921"
             ]
            ],
            "type": "contour"
           }
          ],
          "contourcarpet": [
           {
            "colorbar": {
             "outlinewidth": 0,
             "ticks": ""
            },
            "type": "contourcarpet"
           }
          ],
          "heatmap": [
           {
            "colorbar": {
             "outlinewidth": 0,
             "ticks": ""
            },
            "colorscale": [
             [
              0,
              "#0d0887"
             ],
             [
              0.1111111111111111,
              "#46039f"
             ],
             [
              0.2222222222222222,
              "#7201a8"
             ],
             [
              0.3333333333333333,
              "#9c179e"
             ],
             [
              0.4444444444444444,
              "#bd3786"
             ],
             [
              0.5555555555555556,
              "#d8576b"
             ],
             [
              0.6666666666666666,
              "#ed7953"
             ],
             [
              0.7777777777777778,
              "#fb9f3a"
             ],
             [
              0.8888888888888888,
              "#fdca26"
             ],
             [
              1,
              "#f0f921"
             ]
            ],
            "type": "heatmap"
           }
          ],
          "heatmapgl": [
           {
            "colorbar": {
             "outlinewidth": 0,
             "ticks": ""
            },
            "colorscale": [
             [
              0,
              "#0d0887"
             ],
             [
              0.1111111111111111,
              "#46039f"
             ],
             [
              0.2222222222222222,
              "#7201a8"
             ],
             [
              0.3333333333333333,
              "#9c179e"
             ],
             [
              0.4444444444444444,
              "#bd3786"
             ],
             [
              0.5555555555555556,
              "#d8576b"
             ],
             [
              0.6666666666666666,
              "#ed7953"
             ],
             [
              0.7777777777777778,
              "#fb9f3a"
             ],
             [
              0.8888888888888888,
              "#fdca26"
             ],
             [
              1,
              "#f0f921"
             ]
            ],
            "type": "heatmapgl"
           }
          ],
          "histogram": [
           {
            "marker": {
             "colorbar": {
              "outlinewidth": 0,
              "ticks": ""
             }
            },
            "type": "histogram"
           }
          ],
          "histogram2d": [
           {
            "colorbar": {
             "outlinewidth": 0,
             "ticks": ""
            },
            "colorscale": [
             [
              0,
              "#0d0887"
             ],
             [
              0.1111111111111111,
              "#46039f"
             ],
             [
              0.2222222222222222,
              "#7201a8"
             ],
             [
              0.3333333333333333,
              "#9c179e"
             ],
             [
              0.4444444444444444,
              "#bd3786"
             ],
             [
              0.5555555555555556,
              "#d8576b"
             ],
             [
              0.6666666666666666,
              "#ed7953"
             ],
             [
              0.7777777777777778,
              "#fb9f3a"
             ],
             [
              0.8888888888888888,
              "#fdca26"
             ],
             [
              1,
              "#f0f921"
             ]
            ],
            "type": "histogram2d"
           }
          ],
          "histogram2dcontour": [
           {
            "colorbar": {
             "outlinewidth": 0,
             "ticks": ""
            },
            "colorscale": [
             [
              0,
              "#0d0887"
             ],
             [
              0.1111111111111111,
              "#46039f"
             ],
             [
              0.2222222222222222,
              "#7201a8"
             ],
             [
              0.3333333333333333,
              "#9c179e"
             ],
             [
              0.4444444444444444,
              "#bd3786"
             ],
             [
              0.5555555555555556,
              "#d8576b"
             ],
             [
              0.6666666666666666,
              "#ed7953"
             ],
             [
              0.7777777777777778,
              "#fb9f3a"
             ],
             [
              0.8888888888888888,
              "#fdca26"
             ],
             [
              1,
              "#f0f921"
             ]
            ],
            "type": "histogram2dcontour"
           }
          ],
          "mesh3d": [
           {
            "colorbar": {
             "outlinewidth": 0,
             "ticks": ""
            },
            "type": "mesh3d"
           }
          ],
          "parcoords": [
           {
            "line": {
             "colorbar": {
              "outlinewidth": 0,
              "ticks": ""
             }
            },
            "type": "parcoords"
           }
          ],
          "pie": [
           {
            "automargin": true,
            "type": "pie"
           }
          ],
          "scatter": [
           {
            "marker": {
             "colorbar": {
              "outlinewidth": 0,
              "ticks": ""
             }
            },
            "type": "scatter"
           }
          ],
          "scatter3d": [
           {
            "line": {
             "colorbar": {
              "outlinewidth": 0,
              "ticks": ""
             }
            },
            "marker": {
             "colorbar": {
              "outlinewidth": 0,
              "ticks": ""
             }
            },
            "type": "scatter3d"
           }
          ],
          "scattercarpet": [
           {
            "marker": {
             "colorbar": {
              "outlinewidth": 0,
              "ticks": ""
             }
            },
            "type": "scattercarpet"
           }
          ],
          "scattergeo": [
           {
            "marker": {
             "colorbar": {
              "outlinewidth": 0,
              "ticks": ""
             }
            },
            "type": "scattergeo"
           }
          ],
          "scattergl": [
           {
            "marker": {
             "colorbar": {
              "outlinewidth": 0,
              "ticks": ""
             }
            },
            "type": "scattergl"
           }
          ],
          "scattermapbox": [
           {
            "marker": {
             "colorbar": {
              "outlinewidth": 0,
              "ticks": ""
             }
            },
            "type": "scattermapbox"
           }
          ],
          "scatterpolar": [
           {
            "marker": {
             "colorbar": {
              "outlinewidth": 0,
              "ticks": ""
             }
            },
            "type": "scatterpolar"
           }
          ],
          "scatterpolargl": [
           {
            "marker": {
             "colorbar": {
              "outlinewidth": 0,
              "ticks": ""
             }
            },
            "type": "scatterpolargl"
           }
          ],
          "scatterternary": [
           {
            "marker": {
             "colorbar": {
              "outlinewidth": 0,
              "ticks": ""
             }
            },
            "type": "scatterternary"
           }
          ],
          "surface": [
           {
            "colorbar": {
             "outlinewidth": 0,
             "ticks": ""
            },
            "colorscale": [
             [
              0,
              "#0d0887"
             ],
             [
              0.1111111111111111,
              "#46039f"
             ],
             [
              0.2222222222222222,
              "#7201a8"
             ],
             [
              0.3333333333333333,
              "#9c179e"
             ],
             [
              0.4444444444444444,
              "#bd3786"
             ],
             [
              0.5555555555555556,
              "#d8576b"
             ],
             [
              0.6666666666666666,
              "#ed7953"
             ],
             [
              0.7777777777777778,
              "#fb9f3a"
             ],
             [
              0.8888888888888888,
              "#fdca26"
             ],
             [
              1,
              "#f0f921"
             ]
            ],
            "type": "surface"
           }
          ],
          "table": [
           {
            "cells": {
             "fill": {
              "color": "#EBF0F8"
             },
             "line": {
              "color": "white"
             }
            },
            "header": {
             "fill": {
              "color": "#C8D4E3"
             },
             "line": {
              "color": "white"
             }
            },
            "type": "table"
           }
          ]
         },
         "layout": {
          "annotationdefaults": {
           "arrowcolor": "#2a3f5f",
           "arrowhead": 0,
           "arrowwidth": 1
          },
          "coloraxis": {
           "colorbar": {
            "outlinewidth": 0,
            "ticks": ""
           }
          },
          "colorscale": {
           "diverging": [
            [
             0,
             "#8e0152"
            ],
            [
             0.1,
             "#c51b7d"
            ],
            [
             0.2,
             "#de77ae"
            ],
            [
             0.3,
             "#f1b6da"
            ],
            [
             0.4,
             "#fde0ef"
            ],
            [
             0.5,
             "#f7f7f7"
            ],
            [
             0.6,
             "#e6f5d0"
            ],
            [
             0.7,
             "#b8e186"
            ],
            [
             0.8,
             "#7fbc41"
            ],
            [
             0.9,
             "#4d9221"
            ],
            [
             1,
             "#276419"
            ]
           ],
           "sequential": [
            [
             0,
             "#0d0887"
            ],
            [
             0.1111111111111111,
             "#46039f"
            ],
            [
             0.2222222222222222,
             "#7201a8"
            ],
            [
             0.3333333333333333,
             "#9c179e"
            ],
            [
             0.4444444444444444,
             "#bd3786"
            ],
            [
             0.5555555555555556,
             "#d8576b"
            ],
            [
             0.6666666666666666,
             "#ed7953"
            ],
            [
             0.7777777777777778,
             "#fb9f3a"
            ],
            [
             0.8888888888888888,
             "#fdca26"
            ],
            [
             1,
             "#f0f921"
            ]
           ],
           "sequentialminus": [
            [
             0,
             "#0d0887"
            ],
            [
             0.1111111111111111,
             "#46039f"
            ],
            [
             0.2222222222222222,
             "#7201a8"
            ],
            [
             0.3333333333333333,
             "#9c179e"
            ],
            [
             0.4444444444444444,
             "#bd3786"
            ],
            [
             0.5555555555555556,
             "#d8576b"
            ],
            [
             0.6666666666666666,
             "#ed7953"
            ],
            [
             0.7777777777777778,
             "#fb9f3a"
            ],
            [
             0.8888888888888888,
             "#fdca26"
            ],
            [
             1,
             "#f0f921"
            ]
           ]
          },
          "colorway": [
           "#636efa",
           "#EF553B",
           "#00cc96",
           "#ab63fa",
           "#FFA15A",
           "#19d3f3",
           "#FF6692",
           "#B6E880",
           "#FF97FF",
           "#FECB52"
          ],
          "font": {
           "color": "#2a3f5f"
          },
          "geo": {
           "bgcolor": "white",
           "lakecolor": "white",
           "landcolor": "#E5ECF6",
           "showlakes": true,
           "showland": true,
           "subunitcolor": "white"
          },
          "hoverlabel": {
           "align": "left"
          },
          "hovermode": "closest",
          "mapbox": {
           "style": "light"
          },
          "paper_bgcolor": "white",
          "plot_bgcolor": "#E5ECF6",
          "polar": {
           "angularaxis": {
            "gridcolor": "white",
            "linecolor": "white",
            "ticks": ""
           },
           "bgcolor": "#E5ECF6",
           "radialaxis": {
            "gridcolor": "white",
            "linecolor": "white",
            "ticks": ""
           }
          },
          "scene": {
           "xaxis": {
            "backgroundcolor": "#E5ECF6",
            "gridcolor": "white",
            "gridwidth": 2,
            "linecolor": "white",
            "showbackground": true,
            "ticks": "",
            "zerolinecolor": "white"
           },
           "yaxis": {
            "backgroundcolor": "#E5ECF6",
            "gridcolor": "white",
            "gridwidth": 2,
            "linecolor": "white",
            "showbackground": true,
            "ticks": "",
            "zerolinecolor": "white"
           },
           "zaxis": {
            "backgroundcolor": "#E5ECF6",
            "gridcolor": "white",
            "gridwidth": 2,
            "linecolor": "white",
            "showbackground": true,
            "ticks": "",
            "zerolinecolor": "white"
           }
          },
          "shapedefaults": {
           "line": {
            "color": "#2a3f5f"
           }
          },
          "ternary": {
           "aaxis": {
            "gridcolor": "white",
            "linecolor": "white",
            "ticks": ""
           },
           "baxis": {
            "gridcolor": "white",
            "linecolor": "white",
            "ticks": ""
           },
           "bgcolor": "#E5ECF6",
           "caxis": {
            "gridcolor": "white",
            "linecolor": "white",
            "ticks": ""
           }
          },
          "title": {
           "x": 0.05
          },
          "xaxis": {
           "automargin": true,
           "gridcolor": "white",
           "linecolor": "white",
           "ticks": "",
           "title": {
            "standoff": 15
           },
           "zerolinecolor": "white",
           "zerolinewidth": 2
          },
          "yaxis": {
           "automargin": true,
           "gridcolor": "white",
           "linecolor": "white",
           "ticks": "",
           "title": {
            "standoff": 15
           },
           "zerolinecolor": "white",
           "zerolinewidth": 2
          }
         }
        },
        "title": {
         "text": "2018 Revenue [in Mio. EUR] of selected Automotive suppliers"
        }
       }
      },
      "text/html": [
       "<div>\n",
       "        \n",
       "        \n",
       "            <div id=\"6778d4b3-d40b-4c55-9ab6-b4d2a3a6311f\" class=\"plotly-graph-div\" style=\"height:525px; width:100%;\"></div>\n",
       "            <script type=\"text/javascript\">\n",
       "                require([\"plotly\"], function(Plotly) {\n",
       "                    window.PLOTLYENV=window.PLOTLYENV || {};\n",
       "                    \n",
       "                if (document.getElementById(\"6778d4b3-d40b-4c55-9ab6-b4d2a3a6311f\")) {\n",
       "                    Plotly.newPlot(\n",
       "                        '6778d4b3-d40b-4c55-9ab6-b4d2a3a6311f',\n",
       "                        [{\"hovertemplate\": \"<b>Robert Bosch GmbH </b><br><br>Revenue 2018: 78465.0<br># Employees: 409900<br>\", \"lat\": [48.79080560000001, 52.4042924, 47.6422797, 51.46279209999999, 49.57824160000001], \"locationmode\": \"geojson-id\", \"lon\": [9.0651574, 9.7256772, 9.4972996, 6.9787572, 10.8819032], \"marker\": {\"color\": \"royalblue\", \"line\": {\"color\": \"rgb(40,40,40)\", \"width\": 0.5}, \"size\": [784.65, 444.04, 369.29, 347.77, 142.41], \"sizemode\": \"area\"}, \"name\": \"Top 5 biggest companies\", \"type\": \"scattergeo\"}, {\"hovertemplate\": \"<b>HELLA GmbH & Co. KGaA </b><br><br>Revenue 2018: 6990.0<br># Employees: 38845<br>\", \"lat\": [51.6731727, 50.255698, 49.449102, 48.72718370000001], \"locationmode\": \"geojson-id\", \"lon\": [8.3588214, 10.955081800000002, 11.0873543, 9.3526316], \"marker\": {\"color\": \"crimson\", \"line\": {\"color\": \"rgb(40,40,40)\", \"width\": 0.5}, \"size\": [69.9, 62.63, 51.01, 46.1], \"sizemode\": \"area\"}, \"name\": \"Top 10 biggest companies\", \"type\": \"scattergeo\"}, {\"hovertemplate\": \"<b>Voith GmbH & Co. KGaA </b><br><br>Revenue 2018: 4209.0<br># Employees: 19511<br>\", \"lat\": [48.6628951, 48.95356820000001, 49.4429032, 48.0644849], \"locationmode\": \"geojson-id\", \"lon\": [10.1658148, 9.1241772, 11.1044714, 11.3744084], \"marker\": {\"color\": \"lightseagreen\", \"line\": {\"color\": \"rgb(40,40,40)\", \"width\": 0.5}, \"size\": [42.09, 38.7, 36.94, 34.33], \"sizemode\": \"area\"}, \"name\": \"Top 15 biggest companies\", \"type\": \"scattergeo\"}, {\"hovertemplate\": \"<b>AUNDE Group SE </b><br><br>Revenue 2018: 2700.0<br># Employees: 24500<br>\", \"lat\": [51.1987421, 49.00721710000001, 51.1035104, 49.4764407], \"locationmode\": \"geojson-id\", \"lon\": [6.3944066999999984, 8.352578099999999, 7.866654599999999, 8.4930737], \"marker\": {\"color\": \"orange\", \"line\": {\"color\": \"rgb(40,40,40)\", \"width\": 0.5}, \"size\": [27.0, 26.39, 23.85, 21.4], \"sizemode\": \"area\"}, \"name\": \"Top 20 biggest companies\", \"type\": \"scattergeo\"}],\n",
       "                        {\"geo\": {\"center\": {\"lat\": 50.757958, \"lon\": 10.266271}, \"coastlinecolor\": \"white\", \"countrycolor\": \"white\", \"domain\": {\"x\": [0, 1], \"y\": [0, 1]}, \"landcolor\": \"rgb(229, 229, 229)\", \"lataxis\": {\"range\": [47.0, 55.0]}, \"lonaxis\": {\"range\": [5.0, 15.0]}, \"projection\": {\"type\": \"mercator\"}, \"resolution\": 50, \"scope\": \"europe\", \"showcoastlines\": true, \"showframe\": false}, \"showlegend\": true, \"template\": {\"data\": {\"bar\": [{\"error_x\": {\"color\": \"#2a3f5f\"}, \"error_y\": {\"color\": \"#2a3f5f\"}, \"marker\": {\"line\": {\"color\": \"#E5ECF6\", \"width\": 0.5}}, \"type\": \"bar\"}], \"barpolar\": [{\"marker\": {\"line\": {\"color\": \"#E5ECF6\", \"width\": 0.5}}, \"type\": \"barpolar\"}], \"carpet\": [{\"aaxis\": {\"endlinecolor\": \"#2a3f5f\", \"gridcolor\": \"white\", \"linecolor\": \"white\", \"minorgridcolor\": \"white\", \"startlinecolor\": \"#2a3f5f\"}, \"baxis\": {\"endlinecolor\": \"#2a3f5f\", \"gridcolor\": \"white\", \"linecolor\": \"white\", \"minorgridcolor\": \"white\", \"startlinecolor\": \"#2a3f5f\"}, \"type\": \"carpet\"}], \"choropleth\": [{\"colorbar\": {\"outlinewidth\": 0, \"ticks\": \"\"}, \"type\": \"choropleth\"}], \"contour\": [{\"colorbar\": {\"outlinewidth\": 0, \"ticks\": \"\"}, \"colorscale\": [[0.0, \"#0d0887\"], [0.1111111111111111, \"#46039f\"], [0.2222222222222222, \"#7201a8\"], [0.3333333333333333, \"#9c179e\"], [0.4444444444444444, \"#bd3786\"], [0.5555555555555556, \"#d8576b\"], [0.6666666666666666, \"#ed7953\"], [0.7777777777777778, \"#fb9f3a\"], [0.8888888888888888, \"#fdca26\"], [1.0, \"#f0f921\"]], \"type\": \"contour\"}], \"contourcarpet\": [{\"colorbar\": {\"outlinewidth\": 0, \"ticks\": \"\"}, \"type\": \"contourcarpet\"}], \"heatmap\": [{\"colorbar\": {\"outlinewidth\": 0, \"ticks\": \"\"}, \"colorscale\": [[0.0, \"#0d0887\"], [0.1111111111111111, \"#46039f\"], [0.2222222222222222, \"#7201a8\"], [0.3333333333333333, \"#9c179e\"], [0.4444444444444444, \"#bd3786\"], [0.5555555555555556, \"#d8576b\"], [0.6666666666666666, \"#ed7953\"], [0.7777777777777778, \"#fb9f3a\"], [0.8888888888888888, \"#fdca26\"], [1.0, \"#f0f921\"]], \"type\": \"heatmap\"}], \"heatmapgl\": [{\"colorbar\": {\"outlinewidth\": 0, \"ticks\": \"\"}, \"colorscale\": [[0.0, \"#0d0887\"], [0.1111111111111111, \"#46039f\"], [0.2222222222222222, \"#7201a8\"], [0.3333333333333333, \"#9c179e\"], [0.4444444444444444, \"#bd3786\"], [0.5555555555555556, \"#d8576b\"], [0.6666666666666666, \"#ed7953\"], [0.7777777777777778, \"#fb9f3a\"], [0.8888888888888888, \"#fdca26\"], [1.0, \"#f0f921\"]], \"type\": \"heatmapgl\"}], \"histogram\": [{\"marker\": {\"colorbar\": {\"outlinewidth\": 0, \"ticks\": \"\"}}, \"type\": \"histogram\"}], \"histogram2d\": [{\"colorbar\": {\"outlinewidth\": 0, \"ticks\": \"\"}, \"colorscale\": [[0.0, \"#0d0887\"], [0.1111111111111111, \"#46039f\"], [0.2222222222222222, \"#7201a8\"], [0.3333333333333333, \"#9c179e\"], [0.4444444444444444, \"#bd3786\"], [0.5555555555555556, \"#d8576b\"], [0.6666666666666666, \"#ed7953\"], [0.7777777777777778, \"#fb9f3a\"], [0.8888888888888888, \"#fdca26\"], [1.0, \"#f0f921\"]], \"type\": \"histogram2d\"}], \"histogram2dcontour\": [{\"colorbar\": {\"outlinewidth\": 0, \"ticks\": \"\"}, \"colorscale\": [[0.0, \"#0d0887\"], [0.1111111111111111, \"#46039f\"], [0.2222222222222222, \"#7201a8\"], [0.3333333333333333, \"#9c179e\"], [0.4444444444444444, \"#bd3786\"], [0.5555555555555556, \"#d8576b\"], [0.6666666666666666, \"#ed7953\"], [0.7777777777777778, \"#fb9f3a\"], [0.8888888888888888, \"#fdca26\"], [1.0, \"#f0f921\"]], \"type\": \"histogram2dcontour\"}], \"mesh3d\": [{\"colorbar\": {\"outlinewidth\": 0, \"ticks\": \"\"}, \"type\": \"mesh3d\"}], \"parcoords\": [{\"line\": {\"colorbar\": {\"outlinewidth\": 0, \"ticks\": \"\"}}, \"type\": \"parcoords\"}], \"pie\": [{\"automargin\": true, \"type\": \"pie\"}], \"scatter\": [{\"marker\": {\"colorbar\": {\"outlinewidth\": 0, \"ticks\": \"\"}}, \"type\": \"scatter\"}], \"scatter3d\": [{\"line\": {\"colorbar\": {\"outlinewidth\": 0, \"ticks\": \"\"}}, \"marker\": {\"colorbar\": {\"outlinewidth\": 0, \"ticks\": \"\"}}, \"type\": \"scatter3d\"}], \"scattercarpet\": [{\"marker\": {\"colorbar\": {\"outlinewidth\": 0, \"ticks\": \"\"}}, \"type\": \"scattercarpet\"}], \"scattergeo\": [{\"marker\": {\"colorbar\": {\"outlinewidth\": 0, \"ticks\": \"\"}}, \"type\": \"scattergeo\"}], \"scattergl\": [{\"marker\": {\"colorbar\": {\"outlinewidth\": 0, \"ticks\": \"\"}}, \"type\": \"scattergl\"}], \"scattermapbox\": [{\"marker\": {\"colorbar\": {\"outlinewidth\": 0, \"ticks\": \"\"}}, \"type\": \"scattermapbox\"}], \"scatterpolar\": [{\"marker\": {\"colorbar\": {\"outlinewidth\": 0, \"ticks\": \"\"}}, \"type\": \"scatterpolar\"}], \"scatterpolargl\": [{\"marker\": {\"colorbar\": {\"outlinewidth\": 0, \"ticks\": \"\"}}, \"type\": \"scatterpolargl\"}], \"scatterternary\": [{\"marker\": {\"colorbar\": {\"outlinewidth\": 0, \"ticks\": \"\"}}, \"type\": \"scatterternary\"}], \"surface\": [{\"colorbar\": {\"outlinewidth\": 0, \"ticks\": \"\"}, \"colorscale\": [[0.0, \"#0d0887\"], [0.1111111111111111, \"#46039f\"], [0.2222222222222222, \"#7201a8\"], [0.3333333333333333, \"#9c179e\"], [0.4444444444444444, \"#bd3786\"], [0.5555555555555556, \"#d8576b\"], [0.6666666666666666, \"#ed7953\"], [0.7777777777777778, \"#fb9f3a\"], [0.8888888888888888, \"#fdca26\"], [1.0, \"#f0f921\"]], \"type\": \"surface\"}], \"table\": [{\"cells\": {\"fill\": {\"color\": \"#EBF0F8\"}, \"line\": {\"color\": \"white\"}}, \"header\": {\"fill\": {\"color\": \"#C8D4E3\"}, \"line\": {\"color\": \"white\"}}, \"type\": \"table\"}]}, \"layout\": {\"annotationdefaults\": {\"arrowcolor\": \"#2a3f5f\", \"arrowhead\": 0, \"arrowwidth\": 1}, \"coloraxis\": {\"colorbar\": {\"outlinewidth\": 0, \"ticks\": \"\"}}, \"colorscale\": {\"diverging\": [[0, \"#8e0152\"], [0.1, \"#c51b7d\"], [0.2, \"#de77ae\"], [0.3, \"#f1b6da\"], [0.4, \"#fde0ef\"], [0.5, \"#f7f7f7\"], [0.6, \"#e6f5d0\"], [0.7, \"#b8e186\"], [0.8, \"#7fbc41\"], [0.9, \"#4d9221\"], [1, \"#276419\"]], \"sequential\": [[0.0, \"#0d0887\"], [0.1111111111111111, \"#46039f\"], [0.2222222222222222, \"#7201a8\"], [0.3333333333333333, \"#9c179e\"], [0.4444444444444444, \"#bd3786\"], [0.5555555555555556, \"#d8576b\"], [0.6666666666666666, \"#ed7953\"], [0.7777777777777778, \"#fb9f3a\"], [0.8888888888888888, \"#fdca26\"], [1.0, \"#f0f921\"]], \"sequentialminus\": [[0.0, \"#0d0887\"], [0.1111111111111111, \"#46039f\"], [0.2222222222222222, \"#7201a8\"], [0.3333333333333333, \"#9c179e\"], [0.4444444444444444, \"#bd3786\"], [0.5555555555555556, \"#d8576b\"], [0.6666666666666666, \"#ed7953\"], [0.7777777777777778, \"#fb9f3a\"], [0.8888888888888888, \"#fdca26\"], [1.0, \"#f0f921\"]]}, \"colorway\": [\"#636efa\", \"#EF553B\", \"#00cc96\", \"#ab63fa\", \"#FFA15A\", \"#19d3f3\", \"#FF6692\", \"#B6E880\", \"#FF97FF\", \"#FECB52\"], \"font\": {\"color\": \"#2a3f5f\"}, \"geo\": {\"bgcolor\": \"white\", \"lakecolor\": \"white\", \"landcolor\": \"#E5ECF6\", \"showlakes\": true, \"showland\": true, \"subunitcolor\": \"white\"}, \"hoverlabel\": {\"align\": \"left\"}, \"hovermode\": \"closest\", \"mapbox\": {\"style\": \"light\"}, \"paper_bgcolor\": \"white\", \"plot_bgcolor\": \"#E5ECF6\", \"polar\": {\"angularaxis\": {\"gridcolor\": \"white\", \"linecolor\": \"white\", \"ticks\": \"\"}, \"bgcolor\": \"#E5ECF6\", \"radialaxis\": {\"gridcolor\": \"white\", \"linecolor\": \"white\", \"ticks\": \"\"}}, \"scene\": {\"xaxis\": {\"backgroundcolor\": \"#E5ECF6\", \"gridcolor\": \"white\", \"gridwidth\": 2, \"linecolor\": \"white\", \"showbackground\": true, \"ticks\": \"\", \"zerolinecolor\": \"white\"}, \"yaxis\": {\"backgroundcolor\": \"#E5ECF6\", \"gridcolor\": \"white\", \"gridwidth\": 2, \"linecolor\": \"white\", \"showbackground\": true, \"ticks\": \"\", \"zerolinecolor\": \"white\"}, \"zaxis\": {\"backgroundcolor\": \"#E5ECF6\", \"gridcolor\": \"white\", \"gridwidth\": 2, \"linecolor\": \"white\", \"showbackground\": true, \"ticks\": \"\", \"zerolinecolor\": \"white\"}}, \"shapedefaults\": {\"line\": {\"color\": \"#2a3f5f\"}}, \"ternary\": {\"aaxis\": {\"gridcolor\": \"white\", \"linecolor\": \"white\", \"ticks\": \"\"}, \"baxis\": {\"gridcolor\": \"white\", \"linecolor\": \"white\", \"ticks\": \"\"}, \"bgcolor\": \"#E5ECF6\", \"caxis\": {\"gridcolor\": \"white\", \"linecolor\": \"white\", \"ticks\": \"\"}}, \"title\": {\"x\": 0.05}, \"xaxis\": {\"automargin\": true, \"gridcolor\": \"white\", \"linecolor\": \"white\", \"ticks\": \"\", \"title\": {\"standoff\": 15}, \"zerolinecolor\": \"white\", \"zerolinewidth\": 2}, \"yaxis\": {\"automargin\": true, \"gridcolor\": \"white\", \"linecolor\": \"white\", \"ticks\": \"\", \"title\": {\"standoff\": 15}, \"zerolinecolor\": \"white\", \"zerolinewidth\": 2}}}, \"title\": {\"text\": \"2018 Revenue [in Mio. EUR] of selected Automotive suppliers\"}},\n",
       "                        {\"responsive\": true}\n",
       "                    ).then(function(){\n",
       "                            \n",
       "var gd = document.getElementById('6778d4b3-d40b-4c55-9ab6-b4d2a3a6311f');\n",
       "var x = new MutationObserver(function (mutations, observer) {{\n",
       "        var display = window.getComputedStyle(gd).display;\n",
       "        if (!display || display === 'none') {{\n",
       "            console.log([gd, 'removed!']);\n",
       "            Plotly.purge(gd);\n",
       "            observer.disconnect();\n",
       "        }}\n",
       "}});\n",
       "\n",
       "// Listen for the removal of the full notebook cells\n",
       "var notebookContainer = gd.closest('#notebook-container');\n",
       "if (notebookContainer) {{\n",
       "    x.observe(notebookContainer, {childList: true});\n",
       "}}\n",
       "\n",
       "// Listen for the clearing of the current output cell\n",
       "var outputEl = gd.closest('.output');\n",
       "if (outputEl) {{\n",
       "    x.observe(outputEl, {childList: true});\n",
       "}}\n",
       "\n",
       "                        })\n",
       "                };\n",
       "                });\n",
       "            </script>\n",
       "        </div>"
      ]
     },
     "metadata": {},
     "output_type": "display_data"
    }
   ],
   "source": [
    "scale = 100\n",
    "fig = go.Figure()\n",
    "\n",
    "## sort df by revenue in a descending manner -> biggest company by revenue is first\n",
    "df = df.sort_values(by=['Umsatz 2018 (in Mio. €)'], ascending=False)\n",
    "\n",
    "biggest_companies = [(0, 5),(6, 10),(11, 15),(16, 20)] #[(0,5),(6,20),(21,50),(51,100),(101,215)] # by revenue 2017\n",
    "colors = [\"royalblue\",\"crimson\",\"lightseagreen\",\"orange\"]\n",
    "\n",
    "for i in range(len(biggest_companies)):\n",
    "    # create a sub dataframe containing only the the indexed rows\n",
    "    lim = biggest_companies[i]\n",
    "    df_sub = df[lim[0]:lim[1]]\n",
    "    # plot the stuff\n",
    "    fig.add_trace(go.Scattergeo(\n",
    "        locationmode = 'geojson-id',\n",
    "        lon = df_sub['longitude'],\n",
    "        lat = df_sub['latitude'],\n",
    "        hovertemplate = \"<b>{} </b><br><br>\".format(df_sub['Unternehmen'].values[0]) +\n",
    "                \"Revenue 2018: {}<br>\".format(df_sub['Umsatz 2018 (in Mio. €)'].values[0]) +\n",
    "                \"# Employees: {}<br>\".format(df_sub[\"Mitarbeiter\"].values[0]) ,\n",
    "        name = 'Top {} biggest companies'.format(lim[1]),\n",
    "        marker = dict(\n",
    "            # scale the bubble size properly, to at least have a size of 5\n",
    "            size = df_sub['Umsatz 2018 (in Mio. €)'].apply(lambda x: (x/scale) if (x/scale) > 5 else 5),\n",
    "            color = colors[i],\n",
    "            line_color='rgb(40,40,40)',\n",
    "            line_width=0.5,\n",
    "            sizemode = 'area'\n",
    "        )))\n",
    "\n",
    "# get the layout right\n",
    "fig.update_layout(\n",
    "        title_text = '2018 Revenue [in Mio. EUR] of selected Automotive suppliers',\n",
    "        showlegend = True,\n",
    "    \n",
    "    geo = go.layout.Geo(\n",
    "        resolution = 50,\n",
    "        scope = 'europe',\n",
    "        showframe = False,\n",
    "        showcoastlines = True,\n",
    "        landcolor = \"rgb(229, 229, 229)\",\n",
    "        countrycolor = \"white\" ,\n",
    "        coastlinecolor = \"white\",\n",
    "        projection_type = 'mercator',\n",
    "        # limit our projection to Germany only\n",
    "        lonaxis_range= [ 5.0, 15.0 ],\n",
    "        lataxis_range= [ 47.0, 55.0 ],\n",
    "        # center the projection at Germany's center coordinates\n",
    "        center = {\"lat\": 50.757958, \"lon\": 10.266271},\n",
    "        domain = dict(x = [ 0, 1 ], y = [ 0, 1 ])\n",
    "    )\n",
    ")\n",
    "## Save Plot on plotly account\n",
    "py.plot(fig, filename = 'biggest firms', auto_open=True, config={\"displayModeBar\": False})\n",
    "fig.show()\n",
    "\n",
    "## Also possible to save it as HTML and host it on github\n",
    "#pio.write_html(fig, file=’biggest firms.html’, auto_open=True)"
   ]
  },
  {
   "cell_type": "markdown",
   "metadata": {},
   "source": [
    "## Visualize By Federal States"
   ]
  },
  {
   "cell_type": "code",
   "execution_count": 153,
   "metadata": {},
   "outputs": [
    {
     "data": {
      "application/vnd.plotly.v1+json": {
       "config": {
        "plotlyServerURL": "https://plotly.com"
       },
       "data": [
        {
         "hovertemplate": "<b>Robert Bosch GmbH </b><br><br>Revenue 2018: 78465.0<br># Employees: 409900<br>",
         "lat": [
          48.79080560000001,
          47.6422797,
          49.5407466,
          48.72718370000001,
          48.6628951,
          48.95356820000001,
          49.00721710000001,
          49.4764407
         ],
         "locationmode": "geojson-id",
         "lon": [
          9.0651574,
          9.4972996,
          8.662045299999999,
          9.3526316,
          10.1658148,
          9.1241772,
          8.352578099999999,
          8.4930737
         ],
         "marker": {
          "line": {
           "color": "rgb(40,40,40)",
           "width": 0.5
          },
          "size": [
           784.65,
           369.29,
           93.46,
           46.1,
           42.09,
           38.7,
           26.39,
           21.4
          ],
          "sizemode": "area"
         },
         "name": "Baden-Württemberg",
         "type": "scattergeo"
        },
        {
         "hovertemplate": "<b>Continental AG </b><br><br>Revenue 2018: 44404.0<br># Employees: 243226<br>",
         "lat": [
          52.4042924
         ],
         "locationmode": "geojson-id",
         "lon": [
          9.7256772
         ],
         "marker": {
          "line": {
           "color": "rgb(40,40,40)",
           "width": 0.5
          },
          "size": [
           444.04
          ],
          "sizemode": "area"
         },
         "name": "Niedersachsen",
         "type": "scattergeo"
        },
        {
         "hovertemplate": "<b>thyssenkrupp AG </b><br><br>Revenue 2018: 34777.0<br># Employees: 161096<br>",
         "lat": [
          51.46279209999999,
          51.6731727,
          51.1140959,
          51.1987421,
          51.1035104
         ],
         "locationmode": "geojson-id",
         "lon": [
          6.9787572,
          8.3588214,
          7.7082643,
          6.3944066999999984,
          7.866654599999999
         ],
         "marker": {
          "line": {
           "color": "rgb(40,40,40)",
           "width": 0.5
          },
          "size": [
           347.77,
           69.9,
           28.11,
           27,
           23.85
          ],
          "sizemode": "area"
         },
         "name": "NRW",
         "type": "scattergeo"
        },
        {
         "hovertemplate": "<b>Schaeffler AG </b><br><br>Revenue 2018: 14241.0<br># Employees: 92478<br>",
         "lat": [
          49.57824160000001,
          50.255698,
          49.449102,
          48.43777290000001,
          49.4429032,
          48.0644849
         ],
         "locationmode": "geojson-id",
         "lon": [
          10.8819032,
          10.955081800000002,
          11.0873543,
          12.3430106,
          11.1044714,
          11.3744084
         ],
         "marker": {
          "line": {
           "color": "rgb(40,40,40)",
           "width": 0.5
          },
          "size": [
           142.41,
           62.63,
           51.01,
           45.51,
           36.94,
           34.33
          ],
          "sizemode": "area"
         },
         "name": "Bayern",
         "type": "scattergeo"
        }
       ],
       "layout": {
        "geo": {
         "center": {
          "lat": 50.757958,
          "lon": 10.266271
         },
         "coastlinecolor": "white",
         "countrycolor": "white",
         "domain": {
          "x": [
           0,
           1
          ],
          "y": [
           0,
           1
          ]
         },
         "landcolor": "rgb(229, 229, 229)",
         "lataxis": {
          "range": [
           47,
           55
          ]
         },
         "lonaxis": {
          "range": [
           5,
           15
          ]
         },
         "projection": {
          "type": "mercator"
         },
         "resolution": 50,
         "scope": "europe",
         "showcoastlines": true,
         "showframe": false
        },
        "showlegend": true,
        "template": {
         "data": {
          "bar": [
           {
            "error_x": {
             "color": "#2a3f5f"
            },
            "error_y": {
             "color": "#2a3f5f"
            },
            "marker": {
             "line": {
              "color": "#E5ECF6",
              "width": 0.5
             }
            },
            "type": "bar"
           }
          ],
          "barpolar": [
           {
            "marker": {
             "line": {
              "color": "#E5ECF6",
              "width": 0.5
             }
            },
            "type": "barpolar"
           }
          ],
          "carpet": [
           {
            "aaxis": {
             "endlinecolor": "#2a3f5f",
             "gridcolor": "white",
             "linecolor": "white",
             "minorgridcolor": "white",
             "startlinecolor": "#2a3f5f"
            },
            "baxis": {
             "endlinecolor": "#2a3f5f",
             "gridcolor": "white",
             "linecolor": "white",
             "minorgridcolor": "white",
             "startlinecolor": "#2a3f5f"
            },
            "type": "carpet"
           }
          ],
          "choropleth": [
           {
            "colorbar": {
             "outlinewidth": 0,
             "ticks": ""
            },
            "type": "choropleth"
           }
          ],
          "contour": [
           {
            "colorbar": {
             "outlinewidth": 0,
             "ticks": ""
            },
            "colorscale": [
             [
              0,
              "#0d0887"
             ],
             [
              0.1111111111111111,
              "#46039f"
             ],
             [
              0.2222222222222222,
              "#7201a8"
             ],
             [
              0.3333333333333333,
              "#9c179e"
             ],
             [
              0.4444444444444444,
              "#bd3786"
             ],
             [
              0.5555555555555556,
              "#d8576b"
             ],
             [
              0.6666666666666666,
              "#ed7953"
             ],
             [
              0.7777777777777778,
              "#fb9f3a"
             ],
             [
              0.8888888888888888,
              "#fdca26"
             ],
             [
              1,
              "#f0f921"
             ]
            ],
            "type": "contour"
           }
          ],
          "contourcarpet": [
           {
            "colorbar": {
             "outlinewidth": 0,
             "ticks": ""
            },
            "type": "contourcarpet"
           }
          ],
          "heatmap": [
           {
            "colorbar": {
             "outlinewidth": 0,
             "ticks": ""
            },
            "colorscale": [
             [
              0,
              "#0d0887"
             ],
             [
              0.1111111111111111,
              "#46039f"
             ],
             [
              0.2222222222222222,
              "#7201a8"
             ],
             [
              0.3333333333333333,
              "#9c179e"
             ],
             [
              0.4444444444444444,
              "#bd3786"
             ],
             [
              0.5555555555555556,
              "#d8576b"
             ],
             [
              0.6666666666666666,
              "#ed7953"
             ],
             [
              0.7777777777777778,
              "#fb9f3a"
             ],
             [
              0.8888888888888888,
              "#fdca26"
             ],
             [
              1,
              "#f0f921"
             ]
            ],
            "type": "heatmap"
           }
          ],
          "heatmapgl": [
           {
            "colorbar": {
             "outlinewidth": 0,
             "ticks": ""
            },
            "colorscale": [
             [
              0,
              "#0d0887"
             ],
             [
              0.1111111111111111,
              "#46039f"
             ],
             [
              0.2222222222222222,
              "#7201a8"
             ],
             [
              0.3333333333333333,
              "#9c179e"
             ],
             [
              0.4444444444444444,
              "#bd3786"
             ],
             [
              0.5555555555555556,
              "#d8576b"
             ],
             [
              0.6666666666666666,
              "#ed7953"
             ],
             [
              0.7777777777777778,
              "#fb9f3a"
             ],
             [
              0.8888888888888888,
              "#fdca26"
             ],
             [
              1,
              "#f0f921"
             ]
            ],
            "type": "heatmapgl"
           }
          ],
          "histogram": [
           {
            "marker": {
             "colorbar": {
              "outlinewidth": 0,
              "ticks": ""
             }
            },
            "type": "histogram"
           }
          ],
          "histogram2d": [
           {
            "colorbar": {
             "outlinewidth": 0,
             "ticks": ""
            },
            "colorscale": [
             [
              0,
              "#0d0887"
             ],
             [
              0.1111111111111111,
              "#46039f"
             ],
             [
              0.2222222222222222,
              "#7201a8"
             ],
             [
              0.3333333333333333,
              "#9c179e"
             ],
             [
              0.4444444444444444,
              "#bd3786"
             ],
             [
              0.5555555555555556,
              "#d8576b"
             ],
             [
              0.6666666666666666,
              "#ed7953"
             ],
             [
              0.7777777777777778,
              "#fb9f3a"
             ],
             [
              0.8888888888888888,
              "#fdca26"
             ],
             [
              1,
              "#f0f921"
             ]
            ],
            "type": "histogram2d"
           }
          ],
          "histogram2dcontour": [
           {
            "colorbar": {
             "outlinewidth": 0,
             "ticks": ""
            },
            "colorscale": [
             [
              0,
              "#0d0887"
             ],
             [
              0.1111111111111111,
              "#46039f"
             ],
             [
              0.2222222222222222,
              "#7201a8"
             ],
             [
              0.3333333333333333,
              "#9c179e"
             ],
             [
              0.4444444444444444,
              "#bd3786"
             ],
             [
              0.5555555555555556,
              "#d8576b"
             ],
             [
              0.6666666666666666,
              "#ed7953"
             ],
             [
              0.7777777777777778,
              "#fb9f3a"
             ],
             [
              0.8888888888888888,
              "#fdca26"
             ],
             [
              1,
              "#f0f921"
             ]
            ],
            "type": "histogram2dcontour"
           }
          ],
          "mesh3d": [
           {
            "colorbar": {
             "outlinewidth": 0,
             "ticks": ""
            },
            "type": "mesh3d"
           }
          ],
          "parcoords": [
           {
            "line": {
             "colorbar": {
              "outlinewidth": 0,
              "ticks": ""
             }
            },
            "type": "parcoords"
           }
          ],
          "pie": [
           {
            "automargin": true,
            "type": "pie"
           }
          ],
          "scatter": [
           {
            "marker": {
             "colorbar": {
              "outlinewidth": 0,
              "ticks": ""
             }
            },
            "type": "scatter"
           }
          ],
          "scatter3d": [
           {
            "line": {
             "colorbar": {
              "outlinewidth": 0,
              "ticks": ""
             }
            },
            "marker": {
             "colorbar": {
              "outlinewidth": 0,
              "ticks": ""
             }
            },
            "type": "scatter3d"
           }
          ],
          "scattercarpet": [
           {
            "marker": {
             "colorbar": {
              "outlinewidth": 0,
              "ticks": ""
             }
            },
            "type": "scattercarpet"
           }
          ],
          "scattergeo": [
           {
            "marker": {
             "colorbar": {
              "outlinewidth": 0,
              "ticks": ""
             }
            },
            "type": "scattergeo"
           }
          ],
          "scattergl": [
           {
            "marker": {
             "colorbar": {
              "outlinewidth": 0,
              "ticks": ""
             }
            },
            "type": "scattergl"
           }
          ],
          "scattermapbox": [
           {
            "marker": {
             "colorbar": {
              "outlinewidth": 0,
              "ticks": ""
             }
            },
            "type": "scattermapbox"
           }
          ],
          "scatterpolar": [
           {
            "marker": {
             "colorbar": {
              "outlinewidth": 0,
              "ticks": ""
             }
            },
            "type": "scatterpolar"
           }
          ],
          "scatterpolargl": [
           {
            "marker": {
             "colorbar": {
              "outlinewidth": 0,
              "ticks": ""
             }
            },
            "type": "scatterpolargl"
           }
          ],
          "scatterternary": [
           {
            "marker": {
             "colorbar": {
              "outlinewidth": 0,
              "ticks": ""
             }
            },
            "type": "scatterternary"
           }
          ],
          "surface": [
           {
            "colorbar": {
             "outlinewidth": 0,
             "ticks": ""
            },
            "colorscale": [
             [
              0,
              "#0d0887"
             ],
             [
              0.1111111111111111,
              "#46039f"
             ],
             [
              0.2222222222222222,
              "#7201a8"
             ],
             [
              0.3333333333333333,
              "#9c179e"
             ],
             [
              0.4444444444444444,
              "#bd3786"
             ],
             [
              0.5555555555555556,
              "#d8576b"
             ],
             [
              0.6666666666666666,
              "#ed7953"
             ],
             [
              0.7777777777777778,
              "#fb9f3a"
             ],
             [
              0.8888888888888888,
              "#fdca26"
             ],
             [
              1,
              "#f0f921"
             ]
            ],
            "type": "surface"
           }
          ],
          "table": [
           {
            "cells": {
             "fill": {
              "color": "#EBF0F8"
             },
             "line": {
              "color": "white"
             }
            },
            "header": {
             "fill": {
              "color": "#C8D4E3"
             },
             "line": {
              "color": "white"
             }
            },
            "type": "table"
           }
          ]
         },
         "layout": {
          "annotationdefaults": {
           "arrowcolor": "#2a3f5f",
           "arrowhead": 0,
           "arrowwidth": 1
          },
          "coloraxis": {
           "colorbar": {
            "outlinewidth": 0,
            "ticks": ""
           }
          },
          "colorscale": {
           "diverging": [
            [
             0,
             "#8e0152"
            ],
            [
             0.1,
             "#c51b7d"
            ],
            [
             0.2,
             "#de77ae"
            ],
            [
             0.3,
             "#f1b6da"
            ],
            [
             0.4,
             "#fde0ef"
            ],
            [
             0.5,
             "#f7f7f7"
            ],
            [
             0.6,
             "#e6f5d0"
            ],
            [
             0.7,
             "#b8e186"
            ],
            [
             0.8,
             "#7fbc41"
            ],
            [
             0.9,
             "#4d9221"
            ],
            [
             1,
             "#276419"
            ]
           ],
           "sequential": [
            [
             0,
             "#0d0887"
            ],
            [
             0.1111111111111111,
             "#46039f"
            ],
            [
             0.2222222222222222,
             "#7201a8"
            ],
            [
             0.3333333333333333,
             "#9c179e"
            ],
            [
             0.4444444444444444,
             "#bd3786"
            ],
            [
             0.5555555555555556,
             "#d8576b"
            ],
            [
             0.6666666666666666,
             "#ed7953"
            ],
            [
             0.7777777777777778,
             "#fb9f3a"
            ],
            [
             0.8888888888888888,
             "#fdca26"
            ],
            [
             1,
             "#f0f921"
            ]
           ],
           "sequentialminus": [
            [
             0,
             "#0d0887"
            ],
            [
             0.1111111111111111,
             "#46039f"
            ],
            [
             0.2222222222222222,
             "#7201a8"
            ],
            [
             0.3333333333333333,
             "#9c179e"
            ],
            [
             0.4444444444444444,
             "#bd3786"
            ],
            [
             0.5555555555555556,
             "#d8576b"
            ],
            [
             0.6666666666666666,
             "#ed7953"
            ],
            [
             0.7777777777777778,
             "#fb9f3a"
            ],
            [
             0.8888888888888888,
             "#fdca26"
            ],
            [
             1,
             "#f0f921"
            ]
           ]
          },
          "colorway": [
           "#636efa",
           "#EF553B",
           "#00cc96",
           "#ab63fa",
           "#FFA15A",
           "#19d3f3",
           "#FF6692",
           "#B6E880",
           "#FF97FF",
           "#FECB52"
          ],
          "font": {
           "color": "#2a3f5f"
          },
          "geo": {
           "bgcolor": "white",
           "lakecolor": "white",
           "landcolor": "#E5ECF6",
           "showlakes": true,
           "showland": true,
           "subunitcolor": "white"
          },
          "hoverlabel": {
           "align": "left"
          },
          "hovermode": "closest",
          "mapbox": {
           "style": "light"
          },
          "paper_bgcolor": "white",
          "plot_bgcolor": "#E5ECF6",
          "polar": {
           "angularaxis": {
            "gridcolor": "white",
            "linecolor": "white",
            "ticks": ""
           },
           "bgcolor": "#E5ECF6",
           "radialaxis": {
            "gridcolor": "white",
            "linecolor": "white",
            "ticks": ""
           }
          },
          "scene": {
           "xaxis": {
            "backgroundcolor": "#E5ECF6",
            "gridcolor": "white",
            "gridwidth": 2,
            "linecolor": "white",
            "showbackground": true,
            "ticks": "",
            "zerolinecolor": "white"
           },
           "yaxis": {
            "backgroundcolor": "#E5ECF6",
            "gridcolor": "white",
            "gridwidth": 2,
            "linecolor": "white",
            "showbackground": true,
            "ticks": "",
            "zerolinecolor": "white"
           },
           "zaxis": {
            "backgroundcolor": "#E5ECF6",
            "gridcolor": "white",
            "gridwidth": 2,
            "linecolor": "white",
            "showbackground": true,
            "ticks": "",
            "zerolinecolor": "white"
           }
          },
          "shapedefaults": {
           "line": {
            "color": "#2a3f5f"
           }
          },
          "ternary": {
           "aaxis": {
            "gridcolor": "white",
            "linecolor": "white",
            "ticks": ""
           },
           "baxis": {
            "gridcolor": "white",
            "linecolor": "white",
            "ticks": ""
           },
           "bgcolor": "#E5ECF6",
           "caxis": {
            "gridcolor": "white",
            "linecolor": "white",
            "ticks": ""
           }
          },
          "title": {
           "x": 0.05
          },
          "xaxis": {
           "automargin": true,
           "gridcolor": "white",
           "linecolor": "white",
           "ticks": "",
           "title": {
            "standoff": 15
           },
           "zerolinecolor": "white",
           "zerolinewidth": 2
          },
          "yaxis": {
           "automargin": true,
           "gridcolor": "white",
           "linecolor": "white",
           "ticks": "",
           "title": {
            "standoff": 15
           },
           "zerolinecolor": "white",
           "zerolinewidth": 2
          }
         }
        },
        "title": {
         "text": "Automotive suppliers by federal States"
        }
       }
      },
      "text/html": [
       "<div>\n",
       "        \n",
       "        \n",
       "            <div id=\"2e6eeda3-2db9-4c52-8969-f9abd22f7999\" class=\"plotly-graph-div\" style=\"height:525px; width:100%;\"></div>\n",
       "            <script type=\"text/javascript\">\n",
       "                require([\"plotly\"], function(Plotly) {\n",
       "                    window.PLOTLYENV=window.PLOTLYENV || {};\n",
       "                    \n",
       "                if (document.getElementById(\"2e6eeda3-2db9-4c52-8969-f9abd22f7999\")) {\n",
       "                    Plotly.newPlot(\n",
       "                        '2e6eeda3-2db9-4c52-8969-f9abd22f7999',\n",
       "                        [{\"hovertemplate\": \"<b>Robert Bosch GmbH </b><br><br>Revenue 2018: 78465.0<br># Employees: 409900<br>\", \"lat\": [48.79080560000001, 47.6422797, 49.5407466, 48.72718370000001, 48.6628951, 48.95356820000001, 49.00721710000001, 49.4764407], \"locationmode\": \"geojson-id\", \"lon\": [9.0651574, 9.4972996, 8.662045299999999, 9.3526316, 10.1658148, 9.1241772, 8.352578099999999, 8.4930737], \"marker\": {\"line\": {\"color\": \"rgb(40,40,40)\", \"width\": 0.5}, \"size\": [784.65, 369.29, 93.46, 46.1, 42.09, 38.7, 26.39, 21.4], \"sizemode\": \"area\"}, \"name\": \"Baden-W\\u00fcrttemberg\", \"type\": \"scattergeo\"}, {\"hovertemplate\": \"<b>Continental AG </b><br><br>Revenue 2018: 44404.0<br># Employees: 243226<br>\", \"lat\": [52.4042924], \"locationmode\": \"geojson-id\", \"lon\": [9.7256772], \"marker\": {\"line\": {\"color\": \"rgb(40,40,40)\", \"width\": 0.5}, \"size\": [444.04], \"sizemode\": \"area\"}, \"name\": \"Niedersachsen\", \"type\": \"scattergeo\"}, {\"hovertemplate\": \"<b>thyssenkrupp AG </b><br><br>Revenue 2018: 34777.0<br># Employees: 161096<br>\", \"lat\": [51.46279209999999, 51.6731727, 51.1140959, 51.1987421, 51.1035104], \"locationmode\": \"geojson-id\", \"lon\": [6.9787572, 8.3588214, 7.7082643, 6.3944066999999984, 7.866654599999999], \"marker\": {\"line\": {\"color\": \"rgb(40,40,40)\", \"width\": 0.5}, \"size\": [347.77, 69.9, 28.11, 27.0, 23.85], \"sizemode\": \"area\"}, \"name\": \"NRW\", \"type\": \"scattergeo\"}, {\"hovertemplate\": \"<b>Schaeffler AG </b><br><br>Revenue 2018: 14241.0<br># Employees: 92478<br>\", \"lat\": [49.57824160000001, 50.255698, 49.449102, 48.43777290000001, 49.4429032, 48.0644849], \"locationmode\": \"geojson-id\", \"lon\": [10.8819032, 10.955081800000002, 11.0873543, 12.3430106, 11.1044714, 11.3744084], \"marker\": {\"line\": {\"color\": \"rgb(40,40,40)\", \"width\": 0.5}, \"size\": [142.41, 62.63, 51.01, 45.51, 36.94, 34.33], \"sizemode\": \"area\"}, \"name\": \"Bayern\", \"type\": \"scattergeo\"}],\n",
       "                        {\"geo\": {\"center\": {\"lat\": 50.757958, \"lon\": 10.266271}, \"coastlinecolor\": \"white\", \"countrycolor\": \"white\", \"domain\": {\"x\": [0, 1], \"y\": [0, 1]}, \"landcolor\": \"rgb(229, 229, 229)\", \"lataxis\": {\"range\": [47.0, 55.0]}, \"lonaxis\": {\"range\": [5.0, 15.0]}, \"projection\": {\"type\": \"mercator\"}, \"resolution\": 50, \"scope\": \"europe\", \"showcoastlines\": true, \"showframe\": false}, \"showlegend\": true, \"template\": {\"data\": {\"bar\": [{\"error_x\": {\"color\": \"#2a3f5f\"}, \"error_y\": {\"color\": \"#2a3f5f\"}, \"marker\": {\"line\": {\"color\": \"#E5ECF6\", \"width\": 0.5}}, \"type\": \"bar\"}], \"barpolar\": [{\"marker\": {\"line\": {\"color\": \"#E5ECF6\", \"width\": 0.5}}, \"type\": \"barpolar\"}], \"carpet\": [{\"aaxis\": {\"endlinecolor\": \"#2a3f5f\", \"gridcolor\": \"white\", \"linecolor\": \"white\", \"minorgridcolor\": \"white\", \"startlinecolor\": \"#2a3f5f\"}, \"baxis\": {\"endlinecolor\": \"#2a3f5f\", \"gridcolor\": \"white\", \"linecolor\": \"white\", \"minorgridcolor\": \"white\", \"startlinecolor\": \"#2a3f5f\"}, \"type\": \"carpet\"}], \"choropleth\": [{\"colorbar\": {\"outlinewidth\": 0, \"ticks\": \"\"}, \"type\": \"choropleth\"}], \"contour\": [{\"colorbar\": {\"outlinewidth\": 0, \"ticks\": \"\"}, \"colorscale\": [[0.0, \"#0d0887\"], [0.1111111111111111, \"#46039f\"], [0.2222222222222222, \"#7201a8\"], [0.3333333333333333, \"#9c179e\"], [0.4444444444444444, \"#bd3786\"], [0.5555555555555556, \"#d8576b\"], [0.6666666666666666, \"#ed7953\"], [0.7777777777777778, \"#fb9f3a\"], [0.8888888888888888, \"#fdca26\"], [1.0, \"#f0f921\"]], \"type\": \"contour\"}], \"contourcarpet\": [{\"colorbar\": {\"outlinewidth\": 0, \"ticks\": \"\"}, \"type\": \"contourcarpet\"}], \"heatmap\": [{\"colorbar\": {\"outlinewidth\": 0, \"ticks\": \"\"}, \"colorscale\": [[0.0, \"#0d0887\"], [0.1111111111111111, \"#46039f\"], [0.2222222222222222, \"#7201a8\"], [0.3333333333333333, \"#9c179e\"], [0.4444444444444444, \"#bd3786\"], [0.5555555555555556, \"#d8576b\"], [0.6666666666666666, \"#ed7953\"], [0.7777777777777778, \"#fb9f3a\"], [0.8888888888888888, \"#fdca26\"], [1.0, \"#f0f921\"]], \"type\": \"heatmap\"}], \"heatmapgl\": [{\"colorbar\": {\"outlinewidth\": 0, \"ticks\": \"\"}, \"colorscale\": [[0.0, \"#0d0887\"], [0.1111111111111111, \"#46039f\"], [0.2222222222222222, \"#7201a8\"], [0.3333333333333333, \"#9c179e\"], [0.4444444444444444, \"#bd3786\"], [0.5555555555555556, \"#d8576b\"], [0.6666666666666666, \"#ed7953\"], [0.7777777777777778, \"#fb9f3a\"], [0.8888888888888888, \"#fdca26\"], [1.0, \"#f0f921\"]], \"type\": \"heatmapgl\"}], \"histogram\": [{\"marker\": {\"colorbar\": {\"outlinewidth\": 0, \"ticks\": \"\"}}, \"type\": \"histogram\"}], \"histogram2d\": [{\"colorbar\": {\"outlinewidth\": 0, \"ticks\": \"\"}, \"colorscale\": [[0.0, \"#0d0887\"], [0.1111111111111111, \"#46039f\"], [0.2222222222222222, \"#7201a8\"], [0.3333333333333333, \"#9c179e\"], [0.4444444444444444, \"#bd3786\"], [0.5555555555555556, \"#d8576b\"], [0.6666666666666666, \"#ed7953\"], [0.7777777777777778, \"#fb9f3a\"], [0.8888888888888888, \"#fdca26\"], [1.0, \"#f0f921\"]], \"type\": \"histogram2d\"}], \"histogram2dcontour\": [{\"colorbar\": {\"outlinewidth\": 0, \"ticks\": \"\"}, \"colorscale\": [[0.0, \"#0d0887\"], [0.1111111111111111, \"#46039f\"], [0.2222222222222222, \"#7201a8\"], [0.3333333333333333, \"#9c179e\"], [0.4444444444444444, \"#bd3786\"], [0.5555555555555556, \"#d8576b\"], [0.6666666666666666, \"#ed7953\"], [0.7777777777777778, \"#fb9f3a\"], [0.8888888888888888, \"#fdca26\"], [1.0, \"#f0f921\"]], \"type\": \"histogram2dcontour\"}], \"mesh3d\": [{\"colorbar\": {\"outlinewidth\": 0, \"ticks\": \"\"}, \"type\": \"mesh3d\"}], \"parcoords\": [{\"line\": {\"colorbar\": {\"outlinewidth\": 0, \"ticks\": \"\"}}, \"type\": \"parcoords\"}], \"pie\": [{\"automargin\": true, \"type\": \"pie\"}], \"scatter\": [{\"marker\": {\"colorbar\": {\"outlinewidth\": 0, \"ticks\": \"\"}}, \"type\": \"scatter\"}], \"scatter3d\": [{\"line\": {\"colorbar\": {\"outlinewidth\": 0, \"ticks\": \"\"}}, \"marker\": {\"colorbar\": {\"outlinewidth\": 0, \"ticks\": \"\"}}, \"type\": \"scatter3d\"}], \"scattercarpet\": [{\"marker\": {\"colorbar\": {\"outlinewidth\": 0, \"ticks\": \"\"}}, \"type\": \"scattercarpet\"}], \"scattergeo\": [{\"marker\": {\"colorbar\": {\"outlinewidth\": 0, \"ticks\": \"\"}}, \"type\": \"scattergeo\"}], \"scattergl\": [{\"marker\": {\"colorbar\": {\"outlinewidth\": 0, \"ticks\": \"\"}}, \"type\": \"scattergl\"}], \"scattermapbox\": [{\"marker\": {\"colorbar\": {\"outlinewidth\": 0, \"ticks\": \"\"}}, \"type\": \"scattermapbox\"}], \"scatterpolar\": [{\"marker\": {\"colorbar\": {\"outlinewidth\": 0, \"ticks\": \"\"}}, \"type\": \"scatterpolar\"}], \"scatterpolargl\": [{\"marker\": {\"colorbar\": {\"outlinewidth\": 0, \"ticks\": \"\"}}, \"type\": \"scatterpolargl\"}], \"scatterternary\": [{\"marker\": {\"colorbar\": {\"outlinewidth\": 0, \"ticks\": \"\"}}, \"type\": \"scatterternary\"}], \"surface\": [{\"colorbar\": {\"outlinewidth\": 0, \"ticks\": \"\"}, \"colorscale\": [[0.0, \"#0d0887\"], [0.1111111111111111, \"#46039f\"], [0.2222222222222222, \"#7201a8\"], [0.3333333333333333, \"#9c179e\"], [0.4444444444444444, \"#bd3786\"], [0.5555555555555556, \"#d8576b\"], [0.6666666666666666, \"#ed7953\"], [0.7777777777777778, \"#fb9f3a\"], [0.8888888888888888, \"#fdca26\"], [1.0, \"#f0f921\"]], \"type\": \"surface\"}], \"table\": [{\"cells\": {\"fill\": {\"color\": \"#EBF0F8\"}, \"line\": {\"color\": \"white\"}}, \"header\": {\"fill\": {\"color\": \"#C8D4E3\"}, \"line\": {\"color\": \"white\"}}, \"type\": \"table\"}]}, \"layout\": {\"annotationdefaults\": {\"arrowcolor\": \"#2a3f5f\", \"arrowhead\": 0, \"arrowwidth\": 1}, \"coloraxis\": {\"colorbar\": {\"outlinewidth\": 0, \"ticks\": \"\"}}, \"colorscale\": {\"diverging\": [[0, \"#8e0152\"], [0.1, \"#c51b7d\"], [0.2, \"#de77ae\"], [0.3, \"#f1b6da\"], [0.4, \"#fde0ef\"], [0.5, \"#f7f7f7\"], [0.6, \"#e6f5d0\"], [0.7, \"#b8e186\"], [0.8, \"#7fbc41\"], [0.9, \"#4d9221\"], [1, \"#276419\"]], \"sequential\": [[0.0, \"#0d0887\"], [0.1111111111111111, \"#46039f\"], [0.2222222222222222, \"#7201a8\"], [0.3333333333333333, \"#9c179e\"], [0.4444444444444444, \"#bd3786\"], [0.5555555555555556, \"#d8576b\"], [0.6666666666666666, \"#ed7953\"], [0.7777777777777778, \"#fb9f3a\"], [0.8888888888888888, \"#fdca26\"], [1.0, \"#f0f921\"]], \"sequentialminus\": [[0.0, \"#0d0887\"], [0.1111111111111111, \"#46039f\"], [0.2222222222222222, \"#7201a8\"], [0.3333333333333333, \"#9c179e\"], [0.4444444444444444, \"#bd3786\"], [0.5555555555555556, \"#d8576b\"], [0.6666666666666666, \"#ed7953\"], [0.7777777777777778, \"#fb9f3a\"], [0.8888888888888888, \"#fdca26\"], [1.0, \"#f0f921\"]]}, \"colorway\": [\"#636efa\", \"#EF553B\", \"#00cc96\", \"#ab63fa\", \"#FFA15A\", \"#19d3f3\", \"#FF6692\", \"#B6E880\", \"#FF97FF\", \"#FECB52\"], \"font\": {\"color\": \"#2a3f5f\"}, \"geo\": {\"bgcolor\": \"white\", \"lakecolor\": \"white\", \"landcolor\": \"#E5ECF6\", \"showlakes\": true, \"showland\": true, \"subunitcolor\": \"white\"}, \"hoverlabel\": {\"align\": \"left\"}, \"hovermode\": \"closest\", \"mapbox\": {\"style\": \"light\"}, \"paper_bgcolor\": \"white\", \"plot_bgcolor\": \"#E5ECF6\", \"polar\": {\"angularaxis\": {\"gridcolor\": \"white\", \"linecolor\": \"white\", \"ticks\": \"\"}, \"bgcolor\": \"#E5ECF6\", \"radialaxis\": {\"gridcolor\": \"white\", \"linecolor\": \"white\", \"ticks\": \"\"}}, \"scene\": {\"xaxis\": {\"backgroundcolor\": \"#E5ECF6\", \"gridcolor\": \"white\", \"gridwidth\": 2, \"linecolor\": \"white\", \"showbackground\": true, \"ticks\": \"\", \"zerolinecolor\": \"white\"}, \"yaxis\": {\"backgroundcolor\": \"#E5ECF6\", \"gridcolor\": \"white\", \"gridwidth\": 2, \"linecolor\": \"white\", \"showbackground\": true, \"ticks\": \"\", \"zerolinecolor\": \"white\"}, \"zaxis\": {\"backgroundcolor\": \"#E5ECF6\", \"gridcolor\": \"white\", \"gridwidth\": 2, \"linecolor\": \"white\", \"showbackground\": true, \"ticks\": \"\", \"zerolinecolor\": \"white\"}}, \"shapedefaults\": {\"line\": {\"color\": \"#2a3f5f\"}}, \"ternary\": {\"aaxis\": {\"gridcolor\": \"white\", \"linecolor\": \"white\", \"ticks\": \"\"}, \"baxis\": {\"gridcolor\": \"white\", \"linecolor\": \"white\", \"ticks\": \"\"}, \"bgcolor\": \"#E5ECF6\", \"caxis\": {\"gridcolor\": \"white\", \"linecolor\": \"white\", \"ticks\": \"\"}}, \"title\": {\"x\": 0.05}, \"xaxis\": {\"automargin\": true, \"gridcolor\": \"white\", \"linecolor\": \"white\", \"ticks\": \"\", \"title\": {\"standoff\": 15}, \"zerolinecolor\": \"white\", \"zerolinewidth\": 2}, \"yaxis\": {\"automargin\": true, \"gridcolor\": \"white\", \"linecolor\": \"white\", \"ticks\": \"\", \"title\": {\"standoff\": 15}, \"zerolinecolor\": \"white\", \"zerolinewidth\": 2}}}, \"title\": {\"text\": \"Automotive suppliers by federal States\"}},\n",
       "                        {\"responsive\": true}\n",
       "                    ).then(function(){\n",
       "                            \n",
       "var gd = document.getElementById('2e6eeda3-2db9-4c52-8969-f9abd22f7999');\n",
       "var x = new MutationObserver(function (mutations, observer) {{\n",
       "        var display = window.getComputedStyle(gd).display;\n",
       "        if (!display || display === 'none') {{\n",
       "            console.log([gd, 'removed!']);\n",
       "            Plotly.purge(gd);\n",
       "            observer.disconnect();\n",
       "        }}\n",
       "}});\n",
       "\n",
       "// Listen for the removal of the full notebook cells\n",
       "var notebookContainer = gd.closest('#notebook-container');\n",
       "if (notebookContainer) {{\n",
       "    x.observe(notebookContainer, {childList: true});\n",
       "}}\n",
       "\n",
       "// Listen for the clearing of the current output cell\n",
       "var outputEl = gd.closest('.output');\n",
       "if (outputEl) {{\n",
       "    x.observe(outputEl, {childList: true});\n",
       "}}\n",
       "\n",
       "                        })\n",
       "                };\n",
       "                });\n",
       "            </script>\n",
       "        </div>"
      ]
     },
     "metadata": {},
     "output_type": "display_data"
    }
   ],
   "source": [
    "scale = 100\n",
    "federal_map = go.Figure()\n",
    "\n",
    "for federal_state in list(df['Bundesland'].unique()):\n",
    "    # create sub dataframe containing the 16 federal states in Germany\n",
    "    df_sub = df[df['Bundesland'] == federal_state]\n",
    "    # plot the bubbles on the map\n",
    "    federal_map.add_trace(go.Scattergeo(\n",
    "        locationmode = 'geojson-id',\n",
    "        lon = df_sub['longitude'],\n",
    "        lat = df_sub['latitude'],\n",
    "        name = federal_state,\n",
    "        hovertemplate = \"<b>{} </b><br><br>\".format(df_sub['Unternehmen'].values[0]) +\n",
    "        \"Revenue 2018: {}<br>\".format(df_sub['Umsatz 2018 (in Mio. €)'].values[0]) +\n",
    "        \"# Employees: {}<br>\".format(df_sub[\"Mitarbeiter\"].values[0]) ,\n",
    "        marker = dict(\n",
    "            # scale it properly to at least have a marker size of 5\n",
    "            size = df_sub['Umsatz 2018 (in Mio. €)'].apply(lambda x: (x/scale) if (x/scale) > 5 else 5),\n",
    "            line_color='rgb(40,40,40)',\n",
    "            line_width=0.5,\n",
    "            sizemode = 'area'\n",
    "        )))\n",
    "\n",
    "federal_map.update_layout(\n",
    "        title_text = 'Automotive suppliers by federal States',\n",
    "        showlegend = True,\n",
    "    \n",
    "    geo = go.layout.Geo(\n",
    "        resolution = 50,\n",
    "        scope = 'europe',\n",
    "        showframe = False,\n",
    "        showcoastlines = True,\n",
    "        landcolor = \"rgb(229, 229, 229)\",\n",
    "        countrycolor = \"white\" ,\n",
    "        coastlinecolor = \"white\",\n",
    "        \n",
    "        # projection_mode is one of [Equirectangular, Mercator, Orthographic, Natural earth, Kavrayskiy7, Miller,\n",
    "        # Robinson, Eckert4, Azimuthal equal area, Azimuthal equidistant, Conic equal area, Conic conformal,\n",
    "        # Conic equidistant, Gnomonic, Stereographic, Mollweide, Hammer, Transverse mercator]\n",
    "        projection_type = 'mercator',\n",
    "        # focus the plot on Germany, since all suppliers are located in Germany\n",
    "        lonaxis_range= [ 5.0, 15.0 ],\n",
    "        lataxis_range= [ 47.0, 55.0 ],\n",
    "        center = {\"lat\": 50.757958, \"lon\": 10.266271},\n",
    "        domain = dict(x = [ 0, 1 ], y = [ 0, 1 ])\n",
    "    )\n",
    ")\n",
    "#py.plot(federal_map, filename = 'federal firms', auto_open=True, config={\"displayModeBar\": False})\n",
    "federal_map.show()\n",
    "\n",
    "# save as HTML for Github\n",
    "pio.write_html(federal_map, file='federal_suppliers.html', auto_open=True)"
   ]
  },
  {
   "cell_type": "markdown",
   "metadata": {},
   "source": [
    "## Visualize by Revenue Differences over all recorded years"
   ]
  },
  {
   "cell_type": "code",
   "execution_count": 131,
   "metadata": {},
   "outputs": [
    {
     "data": {
      "text/plain": [
       "['Umsatz 2018 (in Mio. €)',\n",
       " 'Umsatz 2017 (in Mio. €)',\n",
       " 'Umsatz 2016 (in Mio. €)',\n",
       " 'Umsatz 2015 (in Mio. €)']"
      ]
     },
     "execution_count": 131,
     "metadata": {},
     "output_type": "execute_result"
    }
   ],
   "source": [
    "columns"
   ]
  },
  {
   "cell_type": "code",
   "execution_count": 134,
   "metadata": {},
   "outputs": [
    {
     "data": {
      "application/vnd.plotly.v1+json": {
       "config": {
        "plotlyServerURL": "https://plotly.com"
       },
       "data": [
        {
         "hovertemplate": "<b>Robert Bosch GmbH </b><br><br>Revenue 2018: 78465.0<br>Revenue 2017: 78066.0<br>Revenue 2016: 73129.0<br>Revenue 2015: 70607.0<br>",
         "lat": [
          48.79080560000001
         ],
         "lon": [
          9.0651574
         ],
         "marker": {
          "line": {
           "width": 0
          },
          "size": [
           52.31
          ]
         },
         "name": "Robert Bosch GmbH",
         "type": "scattergeo"
        },
        {
         "hovertemplate": "<b>Continental AG </b><br><br>Revenue 2018: 44404.0<br>Revenue 2017: 44010.0<br>Revenue 2016: 40550.0<br>Revenue 2015: 39232.0<br>",
         "lat": [
          52.4042924
         ],
         "lon": [
          9.7256772
         ],
         "marker": {
          "line": {
           "width": 0
          },
          "size": [
           29.602666666666668
          ]
         },
         "name": "Continental AG",
         "type": "scattergeo"
        },
        {
         "hovertemplate": "<b>ZF Friedrichshafen AG </b><br><br>Revenue 2018: 36929.0<br>Revenue 2017: 36444.0<br>Revenue 2016: 35166.0<br>Revenue 2015: 29154.0<br>",
         "lat": [
          47.6422797
         ],
         "lon": [
          9.4972996
         ],
         "marker": {
          "line": {
           "width": 0
          },
          "size": [
           24.619333333333334
          ]
         },
         "name": "ZF Friedrichshafen AG",
         "type": "scattergeo"
        },
        {
         "hovertemplate": "<b>thyssenkrupp AG </b><br><br>Revenue 2018: 34777.0<br>Revenue 2017: 33993.0<br>Revenue 2016: 39263.0<br>Revenue 2015: 42778.0<br>",
         "lat": [
          51.46279209999999
         ],
         "lon": [
          6.9787572
         ],
         "marker": {
          "line": {
           "width": 0
          },
          "size": [
           23.184666666666665
          ]
         },
         "name": "thyssenkrupp AG",
         "type": "scattergeo"
        },
        {
         "hovertemplate": "<b>Schaeffler AG </b><br><br>Revenue 2018: 14241.0<br>Revenue 2017: 14021.0<br>Revenue 2016: 13338.0<br>Revenue 2015: 13179.0<br>",
         "lat": [
          49.57824160000001
         ],
         "lon": [
          10.8819032
         ],
         "marker": {
          "line": {
           "width": 0
          },
          "size": [
           9.494
          ]
         },
         "name": "Schaeffler AG",
         "type": "scattergeo"
        },
        {
         "hovertemplate": "<b>Freudenberg SE </b><br><br>Revenue 2018: 9346.0<br>Revenue 2017: 9455.0<br>Revenue 2016: 6411.0<br>Revenue 2015: 7900.0<br>",
         "lat": [
          49.5407466
         ],
         "lon": [
          8.662045299999999
         ],
         "marker": {
          "line": {
           "width": 0
          },
          "size": [
           6.230666666666667
          ]
         },
         "name": "Freudenberg SE",
         "type": "scattergeo"
        },
        {
         "hovertemplate": "<b>HELLA GmbH & Co. KGaA </b><br><br>Revenue 2018: 6990.0<br>Revenue 2017: 7060.0<br>Revenue 2016: 6585.0<br>Revenue 2015: nan<br>",
         "lat": [
          51.6731727
         ],
         "lon": [
          8.3588214
         ],
         "marker": {
          "line": {
           "width": 0
          },
          "size": [
           5
          ]
         },
         "name": "HELLA GmbH & Co. KGaA",
         "type": "scattergeo"
        },
        {
         "hovertemplate": "<b>Brose Fahrzeugteile SE & Co. Kommanditgesellschaft </b><br><br>Revenue 2018: 6263.0<br>Revenue 2017: 6311.0<br>Revenue 2016: 6149.0<br>Revenue 2015: 6053.0<br>",
         "lat": [
          50.255698
         ],
         "lon": [
          10.955081800000002
         ],
         "marker": {
          "line": {
           "width": 0
          },
          "size": [
           5
          ]
         },
         "name": "Brose Fahrzeugteile SE & Co. Kommanditgesellschaft",
         "type": "scattergeo"
        },
        {
         "hovertemplate": "<b>LEONI AG </b><br><br>Revenue 2018: 5101.0<br>Revenue 2017: 4925.0<br>Revenue 2016: 4431.0<br>Revenue 2015: 4502.0<br>",
         "lat": [
          49.449102
         ],
         "lon": [
          11.0873543
         ],
         "marker": {
          "line": {
           "width": 0
          },
          "size": [
           5
          ]
         },
         "name": "LEONI AG",
         "type": "scattergeo"
        },
        {
         "hovertemplate": "<b>Eberspächer Gruppe GmbH & Co. KG </b><br><br>Revenue 2018: 4610.0<br>Revenue 2017: 4481.0<br>Revenue 2016: 4324.0<br>Revenue 2015: 4371.0<br>",
         "lat": [
          48.72718370000001
         ],
         "lon": [
          9.3526316
         ],
         "marker": {
          "line": {
           "width": 0
          },
          "size": [
           5
          ]
         },
         "name": "Eberspächer Gruppe GmbH & Co. KG",
         "type": "scattergeo"
        },
        {
         "hovertemplate": "<b>Fritz Dräxlmaier GmbH & Co. KG </b><br><br>Revenue 2018: 4551.0<br>Revenue 2017: 4063.0<br>Revenue 2016: 3677.0<br>Revenue 2015: 3744.0<br>",
         "lat": [
          48.43777290000001
         ],
         "lon": [
          12.3430106
         ],
         "marker": {
          "line": {
           "width": 0
          },
          "size": [
           5
          ]
         },
         "name": "Fritz Dräxlmaier GmbH & Co. KG",
         "type": "scattergeo"
        },
        {
         "hovertemplate": "<b>Voith GmbH & Co. KGaA </b><br><br>Revenue 2018: 4209.0<br>Revenue 2017: 4224.0<br>Revenue 2016: 4252.0<br>Revenue 2015: 4303.0<br>",
         "lat": [
          48.6628951
         ],
         "lon": [
          10.1658148
         ],
         "marker": {
          "line": {
           "width": 0
          },
          "size": [
           5
          ]
         },
         "name": "Voith GmbH & Co. KGaA",
         "type": "scattergeo"
        },
        {
         "hovertemplate": "<b>Dürr Aktiengesellschaft </b><br><br>Revenue 2018: 3870.0<br>Revenue 2017: 3713.0<br>Revenue 2016: 3574.0<br>Revenue 2015: 3767.0<br>",
         "lat": [
          48.95356820000001
         ],
         "lon": [
          9.1241772
         ],
         "marker": {
          "line": {
           "width": 0
          },
          "size": [
           5
          ]
         },
         "name": "Dürr Aktiengesellschaft",
         "type": "scattergeo"
        },
        {
         "hovertemplate": "<b>Diehl Stiftung & Co. KG </b><br><br>Revenue 2018: 3694.0<br>Revenue 2017: 3749.0<br>Revenue 2016: 3410.0<br>Revenue 2015: 3109.0<br>",
         "lat": [
          49.4429032
         ],
         "lon": [
          11.1044714
         ],
         "marker": {
          "line": {
           "width": 0
          },
          "size": [
           5
          ]
         },
         "name": "Diehl Stiftung & Co. KG",
         "type": "scattergeo"
        },
        {
         "hovertemplate": "<b>Webasto SE </b><br><br>Revenue 2018: 3433.0<br>Revenue 2017: 3512.0<br>Revenue 2016: 3187.0<br>Revenue 2015: 2942.0<br>",
         "lat": [
          48.0644849
         ],
         "lon": [
          11.3744084
         ],
         "marker": {
          "line": {
           "width": 0
          },
          "size": [
           5
          ]
         },
         "name": "Webasto SE",
         "type": "scattergeo"
        },
        {
         "hovertemplate": "<b>OTTO FUCHS KG </b><br><br>Revenue 2018: 2811.0<br>Revenue 2017: 2658.0<br>Revenue 2016: 2448.0<br>Revenue 2015: 2386.0<br>",
         "lat": [
          51.1140959
         ],
         "lon": [
          7.7082643
         ],
         "marker": {
          "line": {
           "width": 0
          },
          "size": [
           5
          ]
         },
         "name": "OTTO FUCHS KG",
         "type": "scattergeo"
        },
        {
         "hovertemplate": "<b>AUNDE Group SE </b><br><br>Revenue 2018: 2700.0<br>Revenue 2017: nan<br>Revenue 2016: nan<br>Revenue 2015: nan<br>",
         "lat": [
          51.1987421
         ],
         "lon": [
          6.3944066999999984
         ],
         "marker": {
          "line": {
           "width": 0
          },
          "size": [
           5
          ]
         },
         "name": "AUNDE Group SE",
         "type": "scattergeo"
        },
        {
         "hovertemplate": "<b>Michelin Reifenwerke AG & Co. KGaA </b><br><br>Revenue 2018: 2639.0<br>Revenue 2017: 2755.0<br>Revenue 2016: 2611.0<br>Revenue 2015: 2520.0<br>",
         "lat": [
          49.00721710000001
         ],
         "lon": [
          8.352578099999999
         ],
         "marker": {
          "line": {
           "width": 0
          },
          "size": [
           5
          ]
         },
         "name": "Michelin Reifenwerke AG & Co. KGaA",
         "type": "scattergeo"
        },
        {
         "hovertemplate": "<b>Muhr und Bender KG </b><br><br>Revenue 2018: 2385.0<br>Revenue 2017: 2176.0<br>Revenue 2016: 1952.0<br>Revenue 2015: 1817.0<br>",
         "lat": [
          51.1035104
         ],
         "lon": [
          7.866654599999999
         ],
         "marker": {
          "line": {
           "width": 0
          },
          "size": [
           5
          ]
         },
         "name": "Muhr und Bender KG",
         "type": "scattergeo"
        },
        {
         "hovertemplate": "<b>Röchling SE & Co. KG </b><br><br>Revenue 2018: 2140.0<br>Revenue 2017: 1841.0<br>Revenue 2016: 1657.0<br>Revenue 2015: 1555.0<br>",
         "lat": [
          49.4764407
         ],
         "lon": [
          8.4930737
         ],
         "marker": {
          "line": {
           "width": 0
          },
          "size": [
           5
          ]
         },
         "name": "Röchling SE & Co. KG",
         "type": "scattergeo"
        },
        {
         "autocolorscale": false,
         "colorscale": [
          [
           0,
           "rgb(0, 0, 0)"
          ],
          [
           1,
           "rgb(0, 0, 0)"
          ]
         ],
         "geo": "geo2",
         "locationmode": "country names",
         "locations": [
          "Germany",
          "Germany",
          "Germany",
          "Germany",
          "Germany",
          "Germany",
          "Germany",
          "Germany",
          "Germany",
          "Germany",
          "Germany",
          "Germany",
          "Germany",
          "Germany",
          "Germany",
          "Germany",
          "Germany",
          "Germany",
          "Germany",
          "Germany"
         ],
         "showscale": false,
         "type": "choropleth",
         "z": [
          78465,
          44404,
          36929,
          34777,
          14241,
          9346,
          6990,
          6263,
          5101,
          4610,
          4551,
          4209,
          3870,
          3694,
          3433,
          2811,
          2700,
          2639,
          2385,
          2140
         ]
        },
        {
         "geo": "geo2",
         "lat": [
          44.019434
         ],
         "lon": [
          10.267117
         ],
         "mode": "text",
         "name": "Germany",
         "showlegend": false,
         "text": [
          "Europe"
         ],
         "type": "scattergeo"
        }
       ],
       "layout": {
        "geo": {
         "coastlinecolor": "white",
         "countrycolor": "white",
         "domain": {
          "x": [
           0,
           0.9
          ],
          "y": [
           0,
           0.9
          ]
         },
         "landcolor": "rgb(229, 229, 229)",
         "lataxis": {
          "range": [
           47,
           55
          ]
         },
         "lonaxis": {
          "range": [
           5,
           15
          ]
         },
         "projection": {
          "type": "mercator"
         },
         "resolution": 50,
         "scope": "europe",
         "showcoastlines": true,
         "showframe": false
        },
        "geo2": {
         "bgcolor": "rgba(255, 255, 255, 0.0)",
         "domain": {
          "x": [
           0,
           0.27
          ],
          "y": [
           0,
           1
          ]
         },
         "landcolor": "rgb(229, 229, 229)",
         "scope": "europe",
         "showcountries": false,
         "showframe": false
        },
        "legend": {
         "traceorder": "reversed"
        },
        "template": {
         "data": {
          "bar": [
           {
            "error_x": {
             "color": "#2a3f5f"
            },
            "error_y": {
             "color": "#2a3f5f"
            },
            "marker": {
             "line": {
              "color": "#E5ECF6",
              "width": 0.5
             }
            },
            "type": "bar"
           }
          ],
          "barpolar": [
           {
            "marker": {
             "line": {
              "color": "#E5ECF6",
              "width": 0.5
             }
            },
            "type": "barpolar"
           }
          ],
          "carpet": [
           {
            "aaxis": {
             "endlinecolor": "#2a3f5f",
             "gridcolor": "white",
             "linecolor": "white",
             "minorgridcolor": "white",
             "startlinecolor": "#2a3f5f"
            },
            "baxis": {
             "endlinecolor": "#2a3f5f",
             "gridcolor": "white",
             "linecolor": "white",
             "minorgridcolor": "white",
             "startlinecolor": "#2a3f5f"
            },
            "type": "carpet"
           }
          ],
          "choropleth": [
           {
            "colorbar": {
             "outlinewidth": 0,
             "ticks": ""
            },
            "type": "choropleth"
           }
          ],
          "contour": [
           {
            "colorbar": {
             "outlinewidth": 0,
             "ticks": ""
            },
            "colorscale": [
             [
              0,
              "#0d0887"
             ],
             [
              0.1111111111111111,
              "#46039f"
             ],
             [
              0.2222222222222222,
              "#7201a8"
             ],
             [
              0.3333333333333333,
              "#9c179e"
             ],
             [
              0.4444444444444444,
              "#bd3786"
             ],
             [
              0.5555555555555556,
              "#d8576b"
             ],
             [
              0.6666666666666666,
              "#ed7953"
             ],
             [
              0.7777777777777778,
              "#fb9f3a"
             ],
             [
              0.8888888888888888,
              "#fdca26"
             ],
             [
              1,
              "#f0f921"
             ]
            ],
            "type": "contour"
           }
          ],
          "contourcarpet": [
           {
            "colorbar": {
             "outlinewidth": 0,
             "ticks": ""
            },
            "type": "contourcarpet"
           }
          ],
          "heatmap": [
           {
            "colorbar": {
             "outlinewidth": 0,
             "ticks": ""
            },
            "colorscale": [
             [
              0,
              "#0d0887"
             ],
             [
              0.1111111111111111,
              "#46039f"
             ],
             [
              0.2222222222222222,
              "#7201a8"
             ],
             [
              0.3333333333333333,
              "#9c179e"
             ],
             [
              0.4444444444444444,
              "#bd3786"
             ],
             [
              0.5555555555555556,
              "#d8576b"
             ],
             [
              0.6666666666666666,
              "#ed7953"
             ],
             [
              0.7777777777777778,
              "#fb9f3a"
             ],
             [
              0.8888888888888888,
              "#fdca26"
             ],
             [
              1,
              "#f0f921"
             ]
            ],
            "type": "heatmap"
           }
          ],
          "heatmapgl": [
           {
            "colorbar": {
             "outlinewidth": 0,
             "ticks": ""
            },
            "colorscale": [
             [
              0,
              "#0d0887"
             ],
             [
              0.1111111111111111,
              "#46039f"
             ],
             [
              0.2222222222222222,
              "#7201a8"
             ],
             [
              0.3333333333333333,
              "#9c179e"
             ],
             [
              0.4444444444444444,
              "#bd3786"
             ],
             [
              0.5555555555555556,
              "#d8576b"
             ],
             [
              0.6666666666666666,
              "#ed7953"
             ],
             [
              0.7777777777777778,
              "#fb9f3a"
             ],
             [
              0.8888888888888888,
              "#fdca26"
             ],
             [
              1,
              "#f0f921"
             ]
            ],
            "type": "heatmapgl"
           }
          ],
          "histogram": [
           {
            "marker": {
             "colorbar": {
              "outlinewidth": 0,
              "ticks": ""
             }
            },
            "type": "histogram"
           }
          ],
          "histogram2d": [
           {
            "colorbar": {
             "outlinewidth": 0,
             "ticks": ""
            },
            "colorscale": [
             [
              0,
              "#0d0887"
             ],
             [
              0.1111111111111111,
              "#46039f"
             ],
             [
              0.2222222222222222,
              "#7201a8"
             ],
             [
              0.3333333333333333,
              "#9c179e"
             ],
             [
              0.4444444444444444,
              "#bd3786"
             ],
             [
              0.5555555555555556,
              "#d8576b"
             ],
             [
              0.6666666666666666,
              "#ed7953"
             ],
             [
              0.7777777777777778,
              "#fb9f3a"
             ],
             [
              0.8888888888888888,
              "#fdca26"
             ],
             [
              1,
              "#f0f921"
             ]
            ],
            "type": "histogram2d"
           }
          ],
          "histogram2dcontour": [
           {
            "colorbar": {
             "outlinewidth": 0,
             "ticks": ""
            },
            "colorscale": [
             [
              0,
              "#0d0887"
             ],
             [
              0.1111111111111111,
              "#46039f"
             ],
             [
              0.2222222222222222,
              "#7201a8"
             ],
             [
              0.3333333333333333,
              "#9c179e"
             ],
             [
              0.4444444444444444,
              "#bd3786"
             ],
             [
              0.5555555555555556,
              "#d8576b"
             ],
             [
              0.6666666666666666,
              "#ed7953"
             ],
             [
              0.7777777777777778,
              "#fb9f3a"
             ],
             [
              0.8888888888888888,
              "#fdca26"
             ],
             [
              1,
              "#f0f921"
             ]
            ],
            "type": "histogram2dcontour"
           }
          ],
          "mesh3d": [
           {
            "colorbar": {
             "outlinewidth": 0,
             "ticks": ""
            },
            "type": "mesh3d"
           }
          ],
          "parcoords": [
           {
            "line": {
             "colorbar": {
              "outlinewidth": 0,
              "ticks": ""
             }
            },
            "type": "parcoords"
           }
          ],
          "pie": [
           {
            "automargin": true,
            "type": "pie"
           }
          ],
          "scatter": [
           {
            "marker": {
             "colorbar": {
              "outlinewidth": 0,
              "ticks": ""
             }
            },
            "type": "scatter"
           }
          ],
          "scatter3d": [
           {
            "line": {
             "colorbar": {
              "outlinewidth": 0,
              "ticks": ""
             }
            },
            "marker": {
             "colorbar": {
              "outlinewidth": 0,
              "ticks": ""
             }
            },
            "type": "scatter3d"
           }
          ],
          "scattercarpet": [
           {
            "marker": {
             "colorbar": {
              "outlinewidth": 0,
              "ticks": ""
             }
            },
            "type": "scattercarpet"
           }
          ],
          "scattergeo": [
           {
            "marker": {
             "colorbar": {
              "outlinewidth": 0,
              "ticks": ""
             }
            },
            "type": "scattergeo"
           }
          ],
          "scattergl": [
           {
            "marker": {
             "colorbar": {
              "outlinewidth": 0,
              "ticks": ""
             }
            },
            "type": "scattergl"
           }
          ],
          "scattermapbox": [
           {
            "marker": {
             "colorbar": {
              "outlinewidth": 0,
              "ticks": ""
             }
            },
            "type": "scattermapbox"
           }
          ],
          "scatterpolar": [
           {
            "marker": {
             "colorbar": {
              "outlinewidth": 0,
              "ticks": ""
             }
            },
            "type": "scatterpolar"
           }
          ],
          "scatterpolargl": [
           {
            "marker": {
             "colorbar": {
              "outlinewidth": 0,
              "ticks": ""
             }
            },
            "type": "scatterpolargl"
           }
          ],
          "scatterternary": [
           {
            "marker": {
             "colorbar": {
              "outlinewidth": 0,
              "ticks": ""
             }
            },
            "type": "scatterternary"
           }
          ],
          "surface": [
           {
            "colorbar": {
             "outlinewidth": 0,
             "ticks": ""
            },
            "colorscale": [
             [
              0,
              "#0d0887"
             ],
             [
              0.1111111111111111,
              "#46039f"
             ],
             [
              0.2222222222222222,
              "#7201a8"
             ],
             [
              0.3333333333333333,
              "#9c179e"
             ],
             [
              0.4444444444444444,
              "#bd3786"
             ],
             [
              0.5555555555555556,
              "#d8576b"
             ],
             [
              0.6666666666666666,
              "#ed7953"
             ],
             [
              0.7777777777777778,
              "#fb9f3a"
             ],
             [
              0.8888888888888888,
              "#fdca26"
             ],
             [
              1,
              "#f0f921"
             ]
            ],
            "type": "surface"
           }
          ],
          "table": [
           {
            "cells": {
             "fill": {
              "color": "#EBF0F8"
             },
             "line": {
              "color": "white"
             }
            },
            "header": {
             "fill": {
              "color": "#C8D4E3"
             },
             "line": {
              "color": "white"
             }
            },
            "type": "table"
           }
          ]
         },
         "layout": {
          "annotationdefaults": {
           "arrowcolor": "#2a3f5f",
           "arrowhead": 0,
           "arrowwidth": 1
          },
          "coloraxis": {
           "colorbar": {
            "outlinewidth": 0,
            "ticks": ""
           }
          },
          "colorscale": {
           "diverging": [
            [
             0,
             "#8e0152"
            ],
            [
             0.1,
             "#c51b7d"
            ],
            [
             0.2,
             "#de77ae"
            ],
            [
             0.3,
             "#f1b6da"
            ],
            [
             0.4,
             "#fde0ef"
            ],
            [
             0.5,
             "#f7f7f7"
            ],
            [
             0.6,
             "#e6f5d0"
            ],
            [
             0.7,
             "#b8e186"
            ],
            [
             0.8,
             "#7fbc41"
            ],
            [
             0.9,
             "#4d9221"
            ],
            [
             1,
             "#276419"
            ]
           ],
           "sequential": [
            [
             0,
             "#0d0887"
            ],
            [
             0.1111111111111111,
             "#46039f"
            ],
            [
             0.2222222222222222,
             "#7201a8"
            ],
            [
             0.3333333333333333,
             "#9c179e"
            ],
            [
             0.4444444444444444,
             "#bd3786"
            ],
            [
             0.5555555555555556,
             "#d8576b"
            ],
            [
             0.6666666666666666,
             "#ed7953"
            ],
            [
             0.7777777777777778,
             "#fb9f3a"
            ],
            [
             0.8888888888888888,
             "#fdca26"
            ],
            [
             1,
             "#f0f921"
            ]
           ],
           "sequentialminus": [
            [
             0,
             "#0d0887"
            ],
            [
             0.1111111111111111,
             "#46039f"
            ],
            [
             0.2222222222222222,
             "#7201a8"
            ],
            [
             0.3333333333333333,
             "#9c179e"
            ],
            [
             0.4444444444444444,
             "#bd3786"
            ],
            [
             0.5555555555555556,
             "#d8576b"
            ],
            [
             0.6666666666666666,
             "#ed7953"
            ],
            [
             0.7777777777777778,
             "#fb9f3a"
            ],
            [
             0.8888888888888888,
             "#fdca26"
            ],
            [
             1,
             "#f0f921"
            ]
           ]
          },
          "colorway": [
           "#636efa",
           "#EF553B",
           "#00cc96",
           "#ab63fa",
           "#FFA15A",
           "#19d3f3",
           "#FF6692",
           "#B6E880",
           "#FF97FF",
           "#FECB52"
          ],
          "font": {
           "color": "#2a3f5f"
          },
          "geo": {
           "bgcolor": "white",
           "lakecolor": "white",
           "landcolor": "#E5ECF6",
           "showlakes": true,
           "showland": true,
           "subunitcolor": "white"
          },
          "hoverlabel": {
           "align": "left"
          },
          "hovermode": "closest",
          "mapbox": {
           "style": "light"
          },
          "paper_bgcolor": "white",
          "plot_bgcolor": "#E5ECF6",
          "polar": {
           "angularaxis": {
            "gridcolor": "white",
            "linecolor": "white",
            "ticks": ""
           },
           "bgcolor": "#E5ECF6",
           "radialaxis": {
            "gridcolor": "white",
            "linecolor": "white",
            "ticks": ""
           }
          },
          "scene": {
           "xaxis": {
            "backgroundcolor": "#E5ECF6",
            "gridcolor": "white",
            "gridwidth": 2,
            "linecolor": "white",
            "showbackground": true,
            "ticks": "",
            "zerolinecolor": "white"
           },
           "yaxis": {
            "backgroundcolor": "#E5ECF6",
            "gridcolor": "white",
            "gridwidth": 2,
            "linecolor": "white",
            "showbackground": true,
            "ticks": "",
            "zerolinecolor": "white"
           },
           "zaxis": {
            "backgroundcolor": "#E5ECF6",
            "gridcolor": "white",
            "gridwidth": 2,
            "linecolor": "white",
            "showbackground": true,
            "ticks": "",
            "zerolinecolor": "white"
           }
          },
          "shapedefaults": {
           "line": {
            "color": "#2a3f5f"
           }
          },
          "ternary": {
           "aaxis": {
            "gridcolor": "white",
            "linecolor": "white",
            "ticks": ""
           },
           "baxis": {
            "gridcolor": "white",
            "linecolor": "white",
            "ticks": ""
           },
           "bgcolor": "#E5ECF6",
           "caxis": {
            "gridcolor": "white",
            "linecolor": "white",
            "ticks": ""
           }
          },
          "title": {
           "x": 0.05
          },
          "xaxis": {
           "automargin": true,
           "gridcolor": "white",
           "linecolor": "white",
           "ticks": "",
           "title": {
            "standoff": 15
           },
           "zerolinecolor": "white",
           "zerolinewidth": 2
          },
          "yaxis": {
           "automargin": true,
           "gridcolor": "white",
           "linecolor": "white",
           "ticks": "",
           "title": {
            "standoff": 15
           },
           "zerolinecolor": "white",
           "zerolinewidth": 2
          }
         }
        },
        "title": {
         "text": "Automobilzulieferer Umsatz Entwicklung"
        }
       }
      },
      "text/html": [
       "<div>\n",
       "        \n",
       "        \n",
       "            <div id=\"d9760852-c0eb-4dc5-b958-b9601496c73c\" class=\"plotly-graph-div\" style=\"height:525px; width:100%;\"></div>\n",
       "            <script type=\"text/javascript\">\n",
       "                require([\"plotly\"], function(Plotly) {\n",
       "                    window.PLOTLYENV=window.PLOTLYENV || {};\n",
       "                    \n",
       "                if (document.getElementById(\"d9760852-c0eb-4dc5-b958-b9601496c73c\")) {\n",
       "                    Plotly.newPlot(\n",
       "                        'd9760852-c0eb-4dc5-b958-b9601496c73c',\n",
       "                        [{\"hovertemplate\": \"<b>Robert Bosch GmbH </b><br><br>Revenue 2018: 78465.0<br>Revenue 2017: 78066.0<br>Revenue 2016: 73129.0<br>Revenue 2015: 70607.0<br>\", \"lat\": [48.79080560000001], \"lon\": [9.0651574], \"marker\": {\"line\": {\"width\": 0}, \"size\": [52.31]}, \"name\": \"Robert Bosch GmbH\", \"type\": \"scattergeo\"}, {\"hovertemplate\": \"<b>Continental AG </b><br><br>Revenue 2018: 44404.0<br>Revenue 2017: 44010.0<br>Revenue 2016: 40550.0<br>Revenue 2015: 39232.0<br>\", \"lat\": [52.4042924], \"lon\": [9.7256772], \"marker\": {\"line\": {\"width\": 0}, \"size\": [29.602666666666668]}, \"name\": \"Continental AG\", \"type\": \"scattergeo\"}, {\"hovertemplate\": \"<b>ZF Friedrichshafen AG </b><br><br>Revenue 2018: 36929.0<br>Revenue 2017: 36444.0<br>Revenue 2016: 35166.0<br>Revenue 2015: 29154.0<br>\", \"lat\": [47.6422797], \"lon\": [9.4972996], \"marker\": {\"line\": {\"width\": 0}, \"size\": [24.619333333333334]}, \"name\": \"ZF Friedrichshafen AG\", \"type\": \"scattergeo\"}, {\"hovertemplate\": \"<b>thyssenkrupp AG </b><br><br>Revenue 2018: 34777.0<br>Revenue 2017: 33993.0<br>Revenue 2016: 39263.0<br>Revenue 2015: 42778.0<br>\", \"lat\": [51.46279209999999], \"lon\": [6.9787572], \"marker\": {\"line\": {\"width\": 0}, \"size\": [23.184666666666665]}, \"name\": \"thyssenkrupp AG\", \"type\": \"scattergeo\"}, {\"hovertemplate\": \"<b>Schaeffler AG </b><br><br>Revenue 2018: 14241.0<br>Revenue 2017: 14021.0<br>Revenue 2016: 13338.0<br>Revenue 2015: 13179.0<br>\", \"lat\": [49.57824160000001], \"lon\": [10.8819032], \"marker\": {\"line\": {\"width\": 0}, \"size\": [9.494]}, \"name\": \"Schaeffler AG\", \"type\": \"scattergeo\"}, {\"hovertemplate\": \"<b>Freudenberg SE </b><br><br>Revenue 2018: 9346.0<br>Revenue 2017: 9455.0<br>Revenue 2016: 6411.0<br>Revenue 2015: 7900.0<br>\", \"lat\": [49.5407466], \"lon\": [8.662045299999999], \"marker\": {\"line\": {\"width\": 0}, \"size\": [6.230666666666667]}, \"name\": \"Freudenberg SE\", \"type\": \"scattergeo\"}, {\"hovertemplate\": \"<b>HELLA GmbH & Co. KGaA </b><br><br>Revenue 2018: 6990.0<br>Revenue 2017: 7060.0<br>Revenue 2016: 6585.0<br>Revenue 2015: nan<br>\", \"lat\": [51.6731727], \"lon\": [8.3588214], \"marker\": {\"line\": {\"width\": 0}, \"size\": [5]}, \"name\": \"HELLA GmbH & Co. KGaA\", \"type\": \"scattergeo\"}, {\"hovertemplate\": \"<b>Brose Fahrzeugteile SE & Co. Kommanditgesellschaft </b><br><br>Revenue 2018: 6263.0<br>Revenue 2017: 6311.0<br>Revenue 2016: 6149.0<br>Revenue 2015: 6053.0<br>\", \"lat\": [50.255698], \"lon\": [10.955081800000002], \"marker\": {\"line\": {\"width\": 0}, \"size\": [5]}, \"name\": \"Brose Fahrzeugteile SE & Co. Kommanditgesellschaft\", \"type\": \"scattergeo\"}, {\"hovertemplate\": \"<b>LEONI AG </b><br><br>Revenue 2018: 5101.0<br>Revenue 2017: 4925.0<br>Revenue 2016: 4431.0<br>Revenue 2015: 4502.0<br>\", \"lat\": [49.449102], \"lon\": [11.0873543], \"marker\": {\"line\": {\"width\": 0}, \"size\": [5]}, \"name\": \"LEONI AG\", \"type\": \"scattergeo\"}, {\"hovertemplate\": \"<b>Ebersp\\u00e4cher Gruppe GmbH & Co. KG </b><br><br>Revenue 2018: 4610.0<br>Revenue 2017: 4481.0<br>Revenue 2016: 4324.0<br>Revenue 2015: 4371.0<br>\", \"lat\": [48.72718370000001], \"lon\": [9.3526316], \"marker\": {\"line\": {\"width\": 0}, \"size\": [5]}, \"name\": \"Ebersp\\u00e4cher Gruppe GmbH & Co. KG\", \"type\": \"scattergeo\"}, {\"hovertemplate\": \"<b>Fritz Dr\\u00e4xlmaier GmbH & Co. KG </b><br><br>Revenue 2018: 4551.0<br>Revenue 2017: 4063.0<br>Revenue 2016: 3677.0<br>Revenue 2015: 3744.0<br>\", \"lat\": [48.43777290000001], \"lon\": [12.3430106], \"marker\": {\"line\": {\"width\": 0}, \"size\": [5]}, \"name\": \"Fritz Dr\\u00e4xlmaier GmbH & Co. KG\", \"type\": \"scattergeo\"}, {\"hovertemplate\": \"<b>Voith GmbH & Co. KGaA </b><br><br>Revenue 2018: 4209.0<br>Revenue 2017: 4224.0<br>Revenue 2016: 4252.0<br>Revenue 2015: 4303.0<br>\", \"lat\": [48.6628951], \"lon\": [10.1658148], \"marker\": {\"line\": {\"width\": 0}, \"size\": [5]}, \"name\": \"Voith GmbH & Co. KGaA\", \"type\": \"scattergeo\"}, {\"hovertemplate\": \"<b>D\\u00fcrr Aktiengesellschaft </b><br><br>Revenue 2018: 3870.0<br>Revenue 2017: 3713.0<br>Revenue 2016: 3574.0<br>Revenue 2015: 3767.0<br>\", \"lat\": [48.95356820000001], \"lon\": [9.1241772], \"marker\": {\"line\": {\"width\": 0}, \"size\": [5]}, \"name\": \"D\\u00fcrr Aktiengesellschaft\", \"type\": \"scattergeo\"}, {\"hovertemplate\": \"<b>Diehl Stiftung & Co. KG </b><br><br>Revenue 2018: 3694.0<br>Revenue 2017: 3749.0<br>Revenue 2016: 3410.0<br>Revenue 2015: 3109.0<br>\", \"lat\": [49.4429032], \"lon\": [11.1044714], \"marker\": {\"line\": {\"width\": 0}, \"size\": [5]}, \"name\": \"Diehl Stiftung & Co. KG\", \"type\": \"scattergeo\"}, {\"hovertemplate\": \"<b>Webasto SE </b><br><br>Revenue 2018: 3433.0<br>Revenue 2017: 3512.0<br>Revenue 2016: 3187.0<br>Revenue 2015: 2942.0<br>\", \"lat\": [48.0644849], \"lon\": [11.3744084], \"marker\": {\"line\": {\"width\": 0}, \"size\": [5]}, \"name\": \"Webasto SE\", \"type\": \"scattergeo\"}, {\"hovertemplate\": \"<b>OTTO FUCHS KG </b><br><br>Revenue 2018: 2811.0<br>Revenue 2017: 2658.0<br>Revenue 2016: 2448.0<br>Revenue 2015: 2386.0<br>\", \"lat\": [51.1140959], \"lon\": [7.7082643], \"marker\": {\"line\": {\"width\": 0}, \"size\": [5]}, \"name\": \"OTTO FUCHS KG\", \"type\": \"scattergeo\"}, {\"hovertemplate\": \"<b>AUNDE Group SE </b><br><br>Revenue 2018: 2700.0<br>Revenue 2017: nan<br>Revenue 2016: nan<br>Revenue 2015: nan<br>\", \"lat\": [51.1987421], \"lon\": [6.3944066999999984], \"marker\": {\"line\": {\"width\": 0}, \"size\": [5]}, \"name\": \"AUNDE Group SE\", \"type\": \"scattergeo\"}, {\"hovertemplate\": \"<b>Michelin Reifenwerke AG & Co. KGaA </b><br><br>Revenue 2018: 2639.0<br>Revenue 2017: 2755.0<br>Revenue 2016: 2611.0<br>Revenue 2015: 2520.0<br>\", \"lat\": [49.00721710000001], \"lon\": [8.352578099999999], \"marker\": {\"line\": {\"width\": 0}, \"size\": [5]}, \"name\": \"Michelin Reifenwerke AG & Co. KGaA\", \"type\": \"scattergeo\"}, {\"hovertemplate\": \"<b>Muhr und Bender KG </b><br><br>Revenue 2018: 2385.0<br>Revenue 2017: 2176.0<br>Revenue 2016: 1952.0<br>Revenue 2015: 1817.0<br>\", \"lat\": [51.1035104], \"lon\": [7.866654599999999], \"marker\": {\"line\": {\"width\": 0}, \"size\": [5]}, \"name\": \"Muhr und Bender KG\", \"type\": \"scattergeo\"}, {\"hovertemplate\": \"<b>R\\u00f6chling SE & Co. KG </b><br><br>Revenue 2018: 2140.0<br>Revenue 2017: 1841.0<br>Revenue 2016: 1657.0<br>Revenue 2015: 1555.0<br>\", \"lat\": [49.4764407], \"lon\": [8.4930737], \"marker\": {\"line\": {\"width\": 0}, \"size\": [5]}, \"name\": \"R\\u00f6chling SE & Co. KG\", \"type\": \"scattergeo\"}, {\"autocolorscale\": false, \"colorscale\": [[0, \"rgb(0, 0, 0)\"], [1, \"rgb(0, 0, 0)\"]], \"geo\": \"geo2\", \"locationmode\": \"country names\", \"locations\": [\"Germany\", \"Germany\", \"Germany\", \"Germany\", \"Germany\", \"Germany\", \"Germany\", \"Germany\", \"Germany\", \"Germany\", \"Germany\", \"Germany\", \"Germany\", \"Germany\", \"Germany\", \"Germany\", \"Germany\", \"Germany\", \"Germany\", \"Germany\"], \"showscale\": false, \"type\": \"choropleth\", \"z\": [78465.0, 44404.0, 36929.0, 34777.0, 14241.0, 9346.0, 6990.0, 6263.0, 5101.0, 4610.0, 4551.0, 4209.0, 3870.0, 3694.0, 3433.0, 2811.0, 2700.0, 2639.0, 2385.0, 2140.0]}, {\"geo\": \"geo2\", \"lat\": [44.019434], \"lon\": [10.267117], \"mode\": \"text\", \"name\": \"Germany\", \"showlegend\": false, \"text\": [\"Europe\"], \"type\": \"scattergeo\"}],\n",
       "                        {\"geo\": {\"coastlinecolor\": \"white\", \"countrycolor\": \"white\", \"domain\": {\"x\": [0, 0.9], \"y\": [0, 0.9]}, \"landcolor\": \"rgb(229, 229, 229)\", \"lataxis\": {\"range\": [47.0, 55.0]}, \"lonaxis\": {\"range\": [5.0, 15.0]}, \"projection\": {\"type\": \"mercator\"}, \"resolution\": 50, \"scope\": \"europe\", \"showcoastlines\": true, \"showframe\": false}, \"geo2\": {\"bgcolor\": \"rgba(255, 255, 255, 0.0)\", \"domain\": {\"x\": [0, 0.27], \"y\": [0, 1]}, \"landcolor\": \"rgb(229, 229, 229)\", \"scope\": \"europe\", \"showcountries\": false, \"showframe\": false}, \"legend\": {\"traceorder\": \"reversed\"}, \"template\": {\"data\": {\"bar\": [{\"error_x\": {\"color\": \"#2a3f5f\"}, \"error_y\": {\"color\": \"#2a3f5f\"}, \"marker\": {\"line\": {\"color\": \"#E5ECF6\", \"width\": 0.5}}, \"type\": \"bar\"}], \"barpolar\": [{\"marker\": {\"line\": {\"color\": \"#E5ECF6\", \"width\": 0.5}}, \"type\": \"barpolar\"}], \"carpet\": [{\"aaxis\": {\"endlinecolor\": \"#2a3f5f\", \"gridcolor\": \"white\", \"linecolor\": \"white\", \"minorgridcolor\": \"white\", \"startlinecolor\": \"#2a3f5f\"}, \"baxis\": {\"endlinecolor\": \"#2a3f5f\", \"gridcolor\": \"white\", \"linecolor\": \"white\", \"minorgridcolor\": \"white\", \"startlinecolor\": \"#2a3f5f\"}, \"type\": \"carpet\"}], \"choropleth\": [{\"colorbar\": {\"outlinewidth\": 0, \"ticks\": \"\"}, \"type\": \"choropleth\"}], \"contour\": [{\"colorbar\": {\"outlinewidth\": 0, \"ticks\": \"\"}, \"colorscale\": [[0.0, \"#0d0887\"], [0.1111111111111111, \"#46039f\"], [0.2222222222222222, \"#7201a8\"], [0.3333333333333333, \"#9c179e\"], [0.4444444444444444, \"#bd3786\"], [0.5555555555555556, \"#d8576b\"], [0.6666666666666666, \"#ed7953\"], [0.7777777777777778, \"#fb9f3a\"], [0.8888888888888888, \"#fdca26\"], [1.0, \"#f0f921\"]], \"type\": \"contour\"}], \"contourcarpet\": [{\"colorbar\": {\"outlinewidth\": 0, \"ticks\": \"\"}, \"type\": \"contourcarpet\"}], \"heatmap\": [{\"colorbar\": {\"outlinewidth\": 0, \"ticks\": \"\"}, \"colorscale\": [[0.0, \"#0d0887\"], [0.1111111111111111, \"#46039f\"], [0.2222222222222222, \"#7201a8\"], [0.3333333333333333, \"#9c179e\"], [0.4444444444444444, \"#bd3786\"], [0.5555555555555556, \"#d8576b\"], [0.6666666666666666, \"#ed7953\"], [0.7777777777777778, \"#fb9f3a\"], [0.8888888888888888, \"#fdca26\"], [1.0, \"#f0f921\"]], \"type\": \"heatmap\"}], \"heatmapgl\": [{\"colorbar\": {\"outlinewidth\": 0, \"ticks\": \"\"}, \"colorscale\": [[0.0, \"#0d0887\"], [0.1111111111111111, \"#46039f\"], [0.2222222222222222, \"#7201a8\"], [0.3333333333333333, \"#9c179e\"], [0.4444444444444444, \"#bd3786\"], [0.5555555555555556, \"#d8576b\"], [0.6666666666666666, \"#ed7953\"], [0.7777777777777778, \"#fb9f3a\"], [0.8888888888888888, \"#fdca26\"], [1.0, \"#f0f921\"]], \"type\": \"heatmapgl\"}], \"histogram\": [{\"marker\": {\"colorbar\": {\"outlinewidth\": 0, \"ticks\": \"\"}}, \"type\": \"histogram\"}], \"histogram2d\": [{\"colorbar\": {\"outlinewidth\": 0, \"ticks\": \"\"}, \"colorscale\": [[0.0, \"#0d0887\"], [0.1111111111111111, \"#46039f\"], [0.2222222222222222, \"#7201a8\"], [0.3333333333333333, \"#9c179e\"], [0.4444444444444444, \"#bd3786\"], [0.5555555555555556, \"#d8576b\"], [0.6666666666666666, \"#ed7953\"], [0.7777777777777778, \"#fb9f3a\"], [0.8888888888888888, \"#fdca26\"], [1.0, \"#f0f921\"]], \"type\": \"histogram2d\"}], \"histogram2dcontour\": [{\"colorbar\": {\"outlinewidth\": 0, \"ticks\": \"\"}, \"colorscale\": [[0.0, \"#0d0887\"], [0.1111111111111111, \"#46039f\"], [0.2222222222222222, \"#7201a8\"], [0.3333333333333333, \"#9c179e\"], [0.4444444444444444, \"#bd3786\"], [0.5555555555555556, \"#d8576b\"], [0.6666666666666666, \"#ed7953\"], [0.7777777777777778, \"#fb9f3a\"], [0.8888888888888888, \"#fdca26\"], [1.0, \"#f0f921\"]], \"type\": \"histogram2dcontour\"}], \"mesh3d\": [{\"colorbar\": {\"outlinewidth\": 0, \"ticks\": \"\"}, \"type\": \"mesh3d\"}], \"parcoords\": [{\"line\": {\"colorbar\": {\"outlinewidth\": 0, \"ticks\": \"\"}}, \"type\": \"parcoords\"}], \"pie\": [{\"automargin\": true, \"type\": \"pie\"}], \"scatter\": [{\"marker\": {\"colorbar\": {\"outlinewidth\": 0, \"ticks\": \"\"}}, \"type\": \"scatter\"}], \"scatter3d\": [{\"line\": {\"colorbar\": {\"outlinewidth\": 0, \"ticks\": \"\"}}, \"marker\": {\"colorbar\": {\"outlinewidth\": 0, \"ticks\": \"\"}}, \"type\": \"scatter3d\"}], \"scattercarpet\": [{\"marker\": {\"colorbar\": {\"outlinewidth\": 0, \"ticks\": \"\"}}, \"type\": \"scattercarpet\"}], \"scattergeo\": [{\"marker\": {\"colorbar\": {\"outlinewidth\": 0, \"ticks\": \"\"}}, \"type\": \"scattergeo\"}], \"scattergl\": [{\"marker\": {\"colorbar\": {\"outlinewidth\": 0, \"ticks\": \"\"}}, \"type\": \"scattergl\"}], \"scattermapbox\": [{\"marker\": {\"colorbar\": {\"outlinewidth\": 0, \"ticks\": \"\"}}, \"type\": \"scattermapbox\"}], \"scatterpolar\": [{\"marker\": {\"colorbar\": {\"outlinewidth\": 0, \"ticks\": \"\"}}, \"type\": \"scatterpolar\"}], \"scatterpolargl\": [{\"marker\": {\"colorbar\": {\"outlinewidth\": 0, \"ticks\": \"\"}}, \"type\": \"scatterpolargl\"}], \"scatterternary\": [{\"marker\": {\"colorbar\": {\"outlinewidth\": 0, \"ticks\": \"\"}}, \"type\": \"scatterternary\"}], \"surface\": [{\"colorbar\": {\"outlinewidth\": 0, \"ticks\": \"\"}, \"colorscale\": [[0.0, \"#0d0887\"], [0.1111111111111111, \"#46039f\"], [0.2222222222222222, \"#7201a8\"], [0.3333333333333333, \"#9c179e\"], [0.4444444444444444, \"#bd3786\"], [0.5555555555555556, \"#d8576b\"], [0.6666666666666666, \"#ed7953\"], [0.7777777777777778, \"#fb9f3a\"], [0.8888888888888888, \"#fdca26\"], [1.0, \"#f0f921\"]], \"type\": \"surface\"}], \"table\": [{\"cells\": {\"fill\": {\"color\": \"#EBF0F8\"}, \"line\": {\"color\": \"white\"}}, \"header\": {\"fill\": {\"color\": \"#C8D4E3\"}, \"line\": {\"color\": \"white\"}}, \"type\": \"table\"}]}, \"layout\": {\"annotationdefaults\": {\"arrowcolor\": \"#2a3f5f\", \"arrowhead\": 0, \"arrowwidth\": 1}, \"coloraxis\": {\"colorbar\": {\"outlinewidth\": 0, \"ticks\": \"\"}}, \"colorscale\": {\"diverging\": [[0, \"#8e0152\"], [0.1, \"#c51b7d\"], [0.2, \"#de77ae\"], [0.3, \"#f1b6da\"], [0.4, \"#fde0ef\"], [0.5, \"#f7f7f7\"], [0.6, \"#e6f5d0\"], [0.7, \"#b8e186\"], [0.8, \"#7fbc41\"], [0.9, \"#4d9221\"], [1, \"#276419\"]], \"sequential\": [[0.0, \"#0d0887\"], [0.1111111111111111, \"#46039f\"], [0.2222222222222222, \"#7201a8\"], [0.3333333333333333, \"#9c179e\"], [0.4444444444444444, \"#bd3786\"], [0.5555555555555556, \"#d8576b\"], [0.6666666666666666, \"#ed7953\"], [0.7777777777777778, \"#fb9f3a\"], [0.8888888888888888, \"#fdca26\"], [1.0, \"#f0f921\"]], \"sequentialminus\": [[0.0, \"#0d0887\"], [0.1111111111111111, \"#46039f\"], [0.2222222222222222, \"#7201a8\"], [0.3333333333333333, \"#9c179e\"], [0.4444444444444444, \"#bd3786\"], [0.5555555555555556, \"#d8576b\"], [0.6666666666666666, \"#ed7953\"], [0.7777777777777778, \"#fb9f3a\"], [0.8888888888888888, \"#fdca26\"], [1.0, \"#f0f921\"]]}, \"colorway\": [\"#636efa\", \"#EF553B\", \"#00cc96\", \"#ab63fa\", \"#FFA15A\", \"#19d3f3\", \"#FF6692\", \"#B6E880\", \"#FF97FF\", \"#FECB52\"], \"font\": {\"color\": \"#2a3f5f\"}, \"geo\": {\"bgcolor\": \"white\", \"lakecolor\": \"white\", \"landcolor\": \"#E5ECF6\", \"showlakes\": true, \"showland\": true, \"subunitcolor\": \"white\"}, \"hoverlabel\": {\"align\": \"left\"}, \"hovermode\": \"closest\", \"mapbox\": {\"style\": \"light\"}, \"paper_bgcolor\": \"white\", \"plot_bgcolor\": \"#E5ECF6\", \"polar\": {\"angularaxis\": {\"gridcolor\": \"white\", \"linecolor\": \"white\", \"ticks\": \"\"}, \"bgcolor\": \"#E5ECF6\", \"radialaxis\": {\"gridcolor\": \"white\", \"linecolor\": \"white\", \"ticks\": \"\"}}, \"scene\": {\"xaxis\": {\"backgroundcolor\": \"#E5ECF6\", \"gridcolor\": \"white\", \"gridwidth\": 2, \"linecolor\": \"white\", \"showbackground\": true, \"ticks\": \"\", \"zerolinecolor\": \"white\"}, \"yaxis\": {\"backgroundcolor\": \"#E5ECF6\", \"gridcolor\": \"white\", \"gridwidth\": 2, \"linecolor\": \"white\", \"showbackground\": true, \"ticks\": \"\", \"zerolinecolor\": \"white\"}, \"zaxis\": {\"backgroundcolor\": \"#E5ECF6\", \"gridcolor\": \"white\", \"gridwidth\": 2, \"linecolor\": \"white\", \"showbackground\": true, \"ticks\": \"\", \"zerolinecolor\": \"white\"}}, \"shapedefaults\": {\"line\": {\"color\": \"#2a3f5f\"}}, \"ternary\": {\"aaxis\": {\"gridcolor\": \"white\", \"linecolor\": \"white\", \"ticks\": \"\"}, \"baxis\": {\"gridcolor\": \"white\", \"linecolor\": \"white\", \"ticks\": \"\"}, \"bgcolor\": \"#E5ECF6\", \"caxis\": {\"gridcolor\": \"white\", \"linecolor\": \"white\", \"ticks\": \"\"}}, \"title\": {\"x\": 0.05}, \"xaxis\": {\"automargin\": true, \"gridcolor\": \"white\", \"linecolor\": \"white\", \"ticks\": \"\", \"title\": {\"standoff\": 15}, \"zerolinecolor\": \"white\", \"zerolinewidth\": 2}, \"yaxis\": {\"automargin\": true, \"gridcolor\": \"white\", \"linecolor\": \"white\", \"ticks\": \"\", \"title\": {\"standoff\": 15}, \"zerolinecolor\": \"white\", \"zerolinewidth\": 2}}}, \"title\": {\"text\": \"Automobilzulieferer Umsatz Entwicklung\"}},\n",
       "                        {\"responsive\": true}\n",
       "                    ).then(function(){\n",
       "                            \n",
       "var gd = document.getElementById('d9760852-c0eb-4dc5-b958-b9601496c73c');\n",
       "var x = new MutationObserver(function (mutations, observer) {{\n",
       "        var display = window.getComputedStyle(gd).display;\n",
       "        if (!display || display === 'none') {{\n",
       "            console.log([gd, 'removed!']);\n",
       "            Plotly.purge(gd);\n",
       "            observer.disconnect();\n",
       "        }}\n",
       "}});\n",
       "\n",
       "// Listen for the removal of the full notebook cells\n",
       "var notebookContainer = gd.closest('#notebook-container');\n",
       "if (notebookContainer) {{\n",
       "    x.observe(notebookContainer, {childList: true});\n",
       "}}\n",
       "\n",
       "// Listen for the clearing of the current output cell\n",
       "var outputEl = gd.closest('.output');\n",
       "if (outputEl) {{\n",
       "    x.observe(outputEl, {childList: true});\n",
       "}}\n",
       "\n",
       "                        })\n",
       "                };\n",
       "                });\n",
       "            </script>\n",
       "        </div>"
      ]
     },
     "metadata": {},
     "output_type": "display_data"
    }
   ],
   "source": [
    "scale = 1500\n",
    "# get all columns that have 'Umsatz\" in their column name\n",
    "columns = [ col for col in df.columns if \"Umsatz\" in col]\n",
    "revenue_map = go.Figure()\n",
    "\n",
    "# iterate over each of the Revenue columns\n",
    "for firm in list(df['Unternehmen'].unique()):\n",
    "    df_sub = df[df['Unternehmen'] == firm]\n",
    "    revenue_map.add_trace(go.Scattergeo(\n",
    "            lon = df_sub['longitude'],\n",
    "            lat = df_sub['latitude'],\n",
    "            name = firm,\n",
    "            hovertemplate = \"<b>{} </b><br><br>\".format(df_sub['Unternehmen'].values[0]) +\n",
    "                            \"Revenue 2018: {}<br>\".format(df_sub['Umsatz 2018 (in Mio. €)'].values[0]) +\n",
    "                            \"Revenue 2017: {}<br>\".format(df_sub['Umsatz 2017 (in Mio. €)'].values[0]) +\n",
    "                            \"Revenue 2016: {}<br>\".format(df_sub['Umsatz 2016 (in Mio. €)'].values[0]) +\n",
    "                            \"Revenue 2015: {}<br>\".format(df_sub['Umsatz 2015 (in Mio. €)'].values[0]),\n",
    "            marker = dict(\n",
    "                size = df_sub['Umsatz 2018 (in Mio. €)'].apply(lambda x: (x/scale) if (x/scale) > 5 else 5) ,\n",
    "                line_width = 0\n",
    "        )))\n",
    "\n",
    "## Color Germany within the Europe Map\n",
    "revenue_map.add_trace(go.Choropleth(\n",
    "        locationmode = 'country names',\n",
    "        # get the country for each of the elements in the dataframe\n",
    "        locations = ['Germany' for i in range(len(df))],\n",
    "        z = df['Umsatz 2018 (in Mio. €)'], # determine a value\n",
    "        colorscale = [[0,'rgb(0, 0, 0)'],[1,'rgb(0, 0, 0)']],\n",
    "        autocolorscale = False,\n",
    "        showscale = False,\n",
    "        geo = 'geo2'\n",
    "    ))\n",
    "\n",
    "## Add the font on the second plot (= Europe Map) and define text and highlighting country\n",
    "revenue_map.add_trace(go.Scattergeo(\n",
    "        lon = [10.267117],\n",
    "        lat = [44.019434],\n",
    "        text = ['Europe'],\n",
    "        mode = 'text',\n",
    "        name = 'Germany',\n",
    "        showlegend = False,\n",
    "        geo = 'geo2'\n",
    "    ))\n",
    "\n",
    "## get the layout straight for the Germany Bubble Plot and Europe Map\n",
    "revenue_map.update_layout(\n",
    "    title = go.layout.Title(\n",
    "        text = 'Automobilzulieferer Umsatz Entwicklung'),\n",
    "    geo = go.layout.Geo(\n",
    "        resolution = 50,\n",
    "        scope = 'europe',\n",
    "        showframe = False,\n",
    "        showcoastlines = True,\n",
    "        landcolor = \"rgb(229, 229, 229)\",\n",
    "        countrycolor = \"white\" ,\n",
    "        coastlinecolor = \"white\",\n",
    "        projection_type = 'mercator',\n",
    "        lonaxis_range= [ 5.0, 15.0 ],\n",
    "        lataxis_range= [ 47.0, 55.0 ],\n",
    "        # define size and location of Germany map to not collide with europe map\n",
    "        domain = dict(x = [ 0, 0.9 ], y = [ 0, 0.9 ])\n",
    "    ),\n",
    "    # highlight Germany within Europe Map to visualize which country is displayed\n",
    "    geo2 = go.layout.Geo(\n",
    "        scope = 'europe',\n",
    "        showframe = False,\n",
    "        landcolor = \"rgb(229, 229, 229)\",\n",
    "        showcountries = False,\n",
    "        # determine size and location of Europe map\n",
    "        domain = dict(x = [ 0, 0.27 ], y = [ 0, 1 ]),\n",
    "        bgcolor = 'rgba(255, 255, 255, 0.0)',\n",
    "    ),\n",
    "    legend= {'itemsizing': 'constant'},\n",
    "    legend_traceorder = 'reversed'\n",
    ")\n",
    "py.plot(revenue_map, filename = 'revenue firms', auto_open=True, config={\"displayModeBar\": False})\n",
    "revenue_map.show()"
   ]
  },
  {
   "cell_type": "markdown",
   "metadata": {},
   "source": [
    "## Visualize by Branches"
   ]
  },
  {
   "cell_type": "code",
<<<<<<< HEAD
   "execution_count": 29,
   "metadata": {},
   "outputs": [
    {
     "ename": "SyntaxError",
     "evalue": "invalid syntax (<ipython-input-29-cfad2c1bcdc9>, line 48)",
     "output_type": "error",
     "traceback": [
      "\u001b[1;36m  File \u001b[1;32m\"<ipython-input-29-cfad2c1bcdc9>\"\u001b[1;36m, line \u001b[1;32m48\u001b[0m\n\u001b[1;33m    geo = go.layout.Geo(\u001b[0m\n\u001b[1;37m      ^\u001b[0m\n\u001b[1;31mSyntaxError\u001b[0m\u001b[1;31m:\u001b[0m invalid syntax\n"
     ]
=======
   "execution_count": 128,
   "metadata": {},
   "outputs": [
    {
     "data": {
      "application/vnd.plotly.v1+json": {
       "config": {
        "plotlyServerURL": "https://plotly.com"
       },
       "data": [
        {
         "hovertemplate": "<b>Robert Bosch GmbH </b><br><br>Revenue 2018: 78465.0<br># Employees: 409900<br>",
         "lat": [
          48.79080560000001,
          52.4042924,
          47.6422797
         ],
         "lon": [
          9.0651574,
          9.7256772,
          9.4972996
         ],
         "marker": {
          "line": {
           "width": 0
          },
          "size": [
           52.31,
           29.602666666666668,
           24.619333333333334
          ]
         },
         "name": "Industrie, IT",
         "type": "scattergeo"
        },
        {
         "hovertemplate": "<b>thyssenkrupp AG </b><br><br>Revenue 2018: 34777.0<br># Employees: 161096<br>",
         "lat": [
          51.46279209999999,
          49.57824160000001,
          51.6731727,
          50.255698,
          49.449102,
          48.72718370000001,
          48.43777290000001,
          48.6628951,
          48.95356820000001,
          49.4429032,
          48.0644849,
          51.1140959,
          51.1987421,
          49.00721710000001,
          51.1035104,
          49.4764407
         ],
         "lon": [
          6.9787572,
          10.8819032,
          8.3588214,
          10.955081800000002,
          11.0873543,
          9.3526316,
          12.3430106,
          10.1658148,
          9.1241772,
          11.1044714,
          11.3744084,
          7.7082643,
          6.3944066999999984,
          8.352578099999999,
          7.866654599999999,
          8.4930737
         ],
         "marker": {
          "line": {
           "width": 0
          },
          "size": [
           23.184666666666665,
           9.494,
           5,
           5,
           5,
           5,
           5,
           5,
           5,
           5,
           5,
           5,
           5,
           5,
           5,
           5
          ]
         },
         "name": "Industrie",
         "type": "scattergeo"
        },
        {
         "hovertemplate": "<b>Freudenberg SE </b><br><br>Revenue 2018: 9346.0<br># Employees: 48894<br>",
         "lat": [
          49.5407466
         ],
         "lon": [
          8.662045299999999
         ],
         "marker": {
          "line": {
           "width": 0
          },
          "size": [
           6.230666666666667
          ]
         },
         "name": "Industrie, Konsumgüter",
         "type": "scattergeo"
        },
        {
         "autocolorscale": false,
         "colorscale": [
          [
           0,
           "rgb(0, 0, 0)"
          ],
          [
           1,
           "rgb(0, 0, 0)"
          ]
         ],
         "geo": "geo2",
         "locationmode": "country names",
         "locations": [
          "Germany",
          "Germany",
          "Germany",
          "Germany",
          "Germany",
          "Germany",
          "Germany",
          "Germany",
          "Germany",
          "Germany",
          "Germany",
          "Germany",
          "Germany",
          "Germany",
          "Germany",
          "Germany",
          "Germany",
          "Germany",
          "Germany",
          "Germany"
         ],
         "showscale": false,
         "type": "choropleth",
         "z": [
          78465,
          44404,
          36929,
          34777,
          14241,
          9346,
          6990,
          6263,
          5101,
          4610,
          4551,
          4209,
          3870,
          3694,
          3433,
          2811,
          2700,
          2639,
          2385,
          2140
         ]
        },
        {
         "geo": "geo2",
         "lat": [
          44.019434
         ],
         "lon": [
          10.267117
         ],
         "mode": "text",
         "name": "Germany",
         "showlegend": false,
         "text": [
          "Europe"
         ],
         "type": "scattergeo"
        }
       ],
       "layout": {
        "geo": {
         "coastlinecolor": "white",
         "countrycolor": "white",
         "domain": {
          "x": [
           0,
           0.9
          ],
          "y": [
           0,
           0.9
          ]
         },
         "landcolor": "rgb(229, 229, 229)",
         "lataxis": {
          "range": [
           47,
           55
          ]
         },
         "lonaxis": {
          "range": [
           5,
           15
          ]
         },
         "projection": {
          "type": "mercator"
         },
         "resolution": 50,
         "scope": "europe",
         "showcoastlines": true,
         "showframe": false
        },
        "geo2": {
         "bgcolor": "rgba(255, 255, 255, 0.0)",
         "domain": {
          "x": [
           0,
           0.27
          ],
          "y": [
           0,
           1
          ]
         },
         "landcolor": "rgb(229, 229, 229)",
         "scope": "europe",
         "showcountries": false,
         "showframe": false
        },
        "legend": {
         "traceorder": "reversed"
        },
        "template": {
         "data": {
          "bar": [
           {
            "error_x": {
             "color": "#2a3f5f"
            },
            "error_y": {
             "color": "#2a3f5f"
            },
            "marker": {
             "line": {
              "color": "#E5ECF6",
              "width": 0.5
             }
            },
            "type": "bar"
           }
          ],
          "barpolar": [
           {
            "marker": {
             "line": {
              "color": "#E5ECF6",
              "width": 0.5
             }
            },
            "type": "barpolar"
           }
          ],
          "carpet": [
           {
            "aaxis": {
             "endlinecolor": "#2a3f5f",
             "gridcolor": "white",
             "linecolor": "white",
             "minorgridcolor": "white",
             "startlinecolor": "#2a3f5f"
            },
            "baxis": {
             "endlinecolor": "#2a3f5f",
             "gridcolor": "white",
             "linecolor": "white",
             "minorgridcolor": "white",
             "startlinecolor": "#2a3f5f"
            },
            "type": "carpet"
           }
          ],
          "choropleth": [
           {
            "colorbar": {
             "outlinewidth": 0,
             "ticks": ""
            },
            "type": "choropleth"
           }
          ],
          "contour": [
           {
            "colorbar": {
             "outlinewidth": 0,
             "ticks": ""
            },
            "colorscale": [
             [
              0,
              "#0d0887"
             ],
             [
              0.1111111111111111,
              "#46039f"
             ],
             [
              0.2222222222222222,
              "#7201a8"
             ],
             [
              0.3333333333333333,
              "#9c179e"
             ],
             [
              0.4444444444444444,
              "#bd3786"
             ],
             [
              0.5555555555555556,
              "#d8576b"
             ],
             [
              0.6666666666666666,
              "#ed7953"
             ],
             [
              0.7777777777777778,
              "#fb9f3a"
             ],
             [
              0.8888888888888888,
              "#fdca26"
             ],
             [
              1,
              "#f0f921"
             ]
            ],
            "type": "contour"
           }
          ],
          "contourcarpet": [
           {
            "colorbar": {
             "outlinewidth": 0,
             "ticks": ""
            },
            "type": "contourcarpet"
           }
          ],
          "heatmap": [
           {
            "colorbar": {
             "outlinewidth": 0,
             "ticks": ""
            },
            "colorscale": [
             [
              0,
              "#0d0887"
             ],
             [
              0.1111111111111111,
              "#46039f"
             ],
             [
              0.2222222222222222,
              "#7201a8"
             ],
             [
              0.3333333333333333,
              "#9c179e"
             ],
             [
              0.4444444444444444,
              "#bd3786"
             ],
             [
              0.5555555555555556,
              "#d8576b"
             ],
             [
              0.6666666666666666,
              "#ed7953"
             ],
             [
              0.7777777777777778,
              "#fb9f3a"
             ],
             [
              0.8888888888888888,
              "#fdca26"
             ],
             [
              1,
              "#f0f921"
             ]
            ],
            "type": "heatmap"
           }
          ],
          "heatmapgl": [
           {
            "colorbar": {
             "outlinewidth": 0,
             "ticks": ""
            },
            "colorscale": [
             [
              0,
              "#0d0887"
             ],
             [
              0.1111111111111111,
              "#46039f"
             ],
             [
              0.2222222222222222,
              "#7201a8"
             ],
             [
              0.3333333333333333,
              "#9c179e"
             ],
             [
              0.4444444444444444,
              "#bd3786"
             ],
             [
              0.5555555555555556,
              "#d8576b"
             ],
             [
              0.6666666666666666,
              "#ed7953"
             ],
             [
              0.7777777777777778,
              "#fb9f3a"
             ],
             [
              0.8888888888888888,
              "#fdca26"
             ],
             [
              1,
              "#f0f921"
             ]
            ],
            "type": "heatmapgl"
           }
          ],
          "histogram": [
           {
            "marker": {
             "colorbar": {
              "outlinewidth": 0,
              "ticks": ""
             }
            },
            "type": "histogram"
           }
          ],
          "histogram2d": [
           {
            "colorbar": {
             "outlinewidth": 0,
             "ticks": ""
            },
            "colorscale": [
             [
              0,
              "#0d0887"
             ],
             [
              0.1111111111111111,
              "#46039f"
             ],
             [
              0.2222222222222222,
              "#7201a8"
             ],
             [
              0.3333333333333333,
              "#9c179e"
             ],
             [
              0.4444444444444444,
              "#bd3786"
             ],
             [
              0.5555555555555556,
              "#d8576b"
             ],
             [
              0.6666666666666666,
              "#ed7953"
             ],
             [
              0.7777777777777778,
              "#fb9f3a"
             ],
             [
              0.8888888888888888,
              "#fdca26"
             ],
             [
              1,
              "#f0f921"
             ]
            ],
            "type": "histogram2d"
           }
          ],
          "histogram2dcontour": [
           {
            "colorbar": {
             "outlinewidth": 0,
             "ticks": ""
            },
            "colorscale": [
             [
              0,
              "#0d0887"
             ],
             [
              0.1111111111111111,
              "#46039f"
             ],
             [
              0.2222222222222222,
              "#7201a8"
             ],
             [
              0.3333333333333333,
              "#9c179e"
             ],
             [
              0.4444444444444444,
              "#bd3786"
             ],
             [
              0.5555555555555556,
              "#d8576b"
             ],
             [
              0.6666666666666666,
              "#ed7953"
             ],
             [
              0.7777777777777778,
              "#fb9f3a"
             ],
             [
              0.8888888888888888,
              "#fdca26"
             ],
             [
              1,
              "#f0f921"
             ]
            ],
            "type": "histogram2dcontour"
           }
          ],
          "mesh3d": [
           {
            "colorbar": {
             "outlinewidth": 0,
             "ticks": ""
            },
            "type": "mesh3d"
           }
          ],
          "parcoords": [
           {
            "line": {
             "colorbar": {
              "outlinewidth": 0,
              "ticks": ""
             }
            },
            "type": "parcoords"
           }
          ],
          "pie": [
           {
            "automargin": true,
            "type": "pie"
           }
          ],
          "scatter": [
           {
            "marker": {
             "colorbar": {
              "outlinewidth": 0,
              "ticks": ""
             }
            },
            "type": "scatter"
           }
          ],
          "scatter3d": [
           {
            "line": {
             "colorbar": {
              "outlinewidth": 0,
              "ticks": ""
             }
            },
            "marker": {
             "colorbar": {
              "outlinewidth": 0,
              "ticks": ""
             }
            },
            "type": "scatter3d"
           }
          ],
          "scattercarpet": [
           {
            "marker": {
             "colorbar": {
              "outlinewidth": 0,
              "ticks": ""
             }
            },
            "type": "scattercarpet"
           }
          ],
          "scattergeo": [
           {
            "marker": {
             "colorbar": {
              "outlinewidth": 0,
              "ticks": ""
             }
            },
            "type": "scattergeo"
           }
          ],
          "scattergl": [
           {
            "marker": {
             "colorbar": {
              "outlinewidth": 0,
              "ticks": ""
             }
            },
            "type": "scattergl"
           }
          ],
          "scattermapbox": [
           {
            "marker": {
             "colorbar": {
              "outlinewidth": 0,
              "ticks": ""
             }
            },
            "type": "scattermapbox"
           }
          ],
          "scatterpolar": [
           {
            "marker": {
             "colorbar": {
              "outlinewidth": 0,
              "ticks": ""
             }
            },
            "type": "scatterpolar"
           }
          ],
          "scatterpolargl": [
           {
            "marker": {
             "colorbar": {
              "outlinewidth": 0,
              "ticks": ""
             }
            },
            "type": "scatterpolargl"
           }
          ],
          "scatterternary": [
           {
            "marker": {
             "colorbar": {
              "outlinewidth": 0,
              "ticks": ""
             }
            },
            "type": "scatterternary"
           }
          ],
          "surface": [
           {
            "colorbar": {
             "outlinewidth": 0,
             "ticks": ""
            },
            "colorscale": [
             [
              0,
              "#0d0887"
             ],
             [
              0.1111111111111111,
              "#46039f"
             ],
             [
              0.2222222222222222,
              "#7201a8"
             ],
             [
              0.3333333333333333,
              "#9c179e"
             ],
             [
              0.4444444444444444,
              "#bd3786"
             ],
             [
              0.5555555555555556,
              "#d8576b"
             ],
             [
              0.6666666666666666,
              "#ed7953"
             ],
             [
              0.7777777777777778,
              "#fb9f3a"
             ],
             [
              0.8888888888888888,
              "#fdca26"
             ],
             [
              1,
              "#f0f921"
             ]
            ],
            "type": "surface"
           }
          ],
          "table": [
           {
            "cells": {
             "fill": {
              "color": "#EBF0F8"
             },
             "line": {
              "color": "white"
             }
            },
            "header": {
             "fill": {
              "color": "#C8D4E3"
             },
             "line": {
              "color": "white"
             }
            },
            "type": "table"
           }
          ]
         },
         "layout": {
          "annotationdefaults": {
           "arrowcolor": "#2a3f5f",
           "arrowhead": 0,
           "arrowwidth": 1
          },
          "coloraxis": {
           "colorbar": {
            "outlinewidth": 0,
            "ticks": ""
           }
          },
          "colorscale": {
           "diverging": [
            [
             0,
             "#8e0152"
            ],
            [
             0.1,
             "#c51b7d"
            ],
            [
             0.2,
             "#de77ae"
            ],
            [
             0.3,
             "#f1b6da"
            ],
            [
             0.4,
             "#fde0ef"
            ],
            [
             0.5,
             "#f7f7f7"
            ],
            [
             0.6,
             "#e6f5d0"
            ],
            [
             0.7,
             "#b8e186"
            ],
            [
             0.8,
             "#7fbc41"
            ],
            [
             0.9,
             "#4d9221"
            ],
            [
             1,
             "#276419"
            ]
           ],
           "sequential": [
            [
             0,
             "#0d0887"
            ],
            [
             0.1111111111111111,
             "#46039f"
            ],
            [
             0.2222222222222222,
             "#7201a8"
            ],
            [
             0.3333333333333333,
             "#9c179e"
            ],
            [
             0.4444444444444444,
             "#bd3786"
            ],
            [
             0.5555555555555556,
             "#d8576b"
            ],
            [
             0.6666666666666666,
             "#ed7953"
            ],
            [
             0.7777777777777778,
             "#fb9f3a"
            ],
            [
             0.8888888888888888,
             "#fdca26"
            ],
            [
             1,
             "#f0f921"
            ]
           ],
           "sequentialminus": [
            [
             0,
             "#0d0887"
            ],
            [
             0.1111111111111111,
             "#46039f"
            ],
            [
             0.2222222222222222,
             "#7201a8"
            ],
            [
             0.3333333333333333,
             "#9c179e"
            ],
            [
             0.4444444444444444,
             "#bd3786"
            ],
            [
             0.5555555555555556,
             "#d8576b"
            ],
            [
             0.6666666666666666,
             "#ed7953"
            ],
            [
             0.7777777777777778,
             "#fb9f3a"
            ],
            [
             0.8888888888888888,
             "#fdca26"
            ],
            [
             1,
             "#f0f921"
            ]
           ]
          },
          "colorway": [
           "#636efa",
           "#EF553B",
           "#00cc96",
           "#ab63fa",
           "#FFA15A",
           "#19d3f3",
           "#FF6692",
           "#B6E880",
           "#FF97FF",
           "#FECB52"
          ],
          "font": {
           "color": "#2a3f5f"
          },
          "geo": {
           "bgcolor": "white",
           "lakecolor": "white",
           "landcolor": "#E5ECF6",
           "showlakes": true,
           "showland": true,
           "subunitcolor": "white"
          },
          "hoverlabel": {
           "align": "left"
          },
          "hovermode": "closest",
          "mapbox": {
           "style": "light"
          },
          "paper_bgcolor": "white",
          "plot_bgcolor": "#E5ECF6",
          "polar": {
           "angularaxis": {
            "gridcolor": "white",
            "linecolor": "white",
            "ticks": ""
           },
           "bgcolor": "#E5ECF6",
           "radialaxis": {
            "gridcolor": "white",
            "linecolor": "white",
            "ticks": ""
           }
          },
          "scene": {
           "xaxis": {
            "backgroundcolor": "#E5ECF6",
            "gridcolor": "white",
            "gridwidth": 2,
            "linecolor": "white",
            "showbackground": true,
            "ticks": "",
            "zerolinecolor": "white"
           },
           "yaxis": {
            "backgroundcolor": "#E5ECF6",
            "gridcolor": "white",
            "gridwidth": 2,
            "linecolor": "white",
            "showbackground": true,
            "ticks": "",
            "zerolinecolor": "white"
           },
           "zaxis": {
            "backgroundcolor": "#E5ECF6",
            "gridcolor": "white",
            "gridwidth": 2,
            "linecolor": "white",
            "showbackground": true,
            "ticks": "",
            "zerolinecolor": "white"
           }
          },
          "shapedefaults": {
           "line": {
            "color": "#2a3f5f"
           }
          },
          "ternary": {
           "aaxis": {
            "gridcolor": "white",
            "linecolor": "white",
            "ticks": ""
           },
           "baxis": {
            "gridcolor": "white",
            "linecolor": "white",
            "ticks": ""
           },
           "bgcolor": "#E5ECF6",
           "caxis": {
            "gridcolor": "white",
            "linecolor": "white",
            "ticks": ""
           }
          },
          "title": {
           "x": 0.05
          },
          "xaxis": {
           "automargin": true,
           "gridcolor": "white",
           "linecolor": "white",
           "ticks": "",
           "title": {
            "standoff": 15
           },
           "zerolinecolor": "white",
           "zerolinewidth": 2
          },
          "yaxis": {
           "automargin": true,
           "gridcolor": "white",
           "linecolor": "white",
           "ticks": "",
           "title": {
            "standoff": 15
           },
           "zerolinecolor": "white",
           "zerolinewidth": 2
          }
         }
        },
        "title": {
         "text": "Automobilzulieferer Umsatz nach Branchen"
        }
       }
      },
      "text/html": [
       "<div>\n",
       "        \n",
       "        \n",
       "            <div id=\"e69473ad-1cd4-459b-a5e2-7393d5413270\" class=\"plotly-graph-div\" style=\"height:525px; width:100%;\"></div>\n",
       "            <script type=\"text/javascript\">\n",
       "                require([\"plotly\"], function(Plotly) {\n",
       "                    window.PLOTLYENV=window.PLOTLYENV || {};\n",
       "                    \n",
       "                if (document.getElementById(\"e69473ad-1cd4-459b-a5e2-7393d5413270\")) {\n",
       "                    Plotly.newPlot(\n",
       "                        'e69473ad-1cd4-459b-a5e2-7393d5413270',\n",
       "                        [{\"hovertemplate\": \"<b>Robert Bosch GmbH </b><br><br>Revenue 2018: 78465.0<br># Employees: 409900<br>\", \"lat\": [48.79080560000001, 52.4042924, 47.6422797], \"lon\": [9.0651574, 9.7256772, 9.4972996], \"marker\": {\"line\": {\"width\": 0}, \"size\": [52.31, 29.602666666666668, 24.619333333333334]}, \"name\": \"Industrie, IT\", \"type\": \"scattergeo\"}, {\"hovertemplate\": \"<b>thyssenkrupp AG </b><br><br>Revenue 2018: 34777.0<br># Employees: 161096<br>\", \"lat\": [51.46279209999999, 49.57824160000001, 51.6731727, 50.255698, 49.449102, 48.72718370000001, 48.43777290000001, 48.6628951, 48.95356820000001, 49.4429032, 48.0644849, 51.1140959, 51.1987421, 49.00721710000001, 51.1035104, 49.4764407], \"lon\": [6.9787572, 10.8819032, 8.3588214, 10.955081800000002, 11.0873543, 9.3526316, 12.3430106, 10.1658148, 9.1241772, 11.1044714, 11.3744084, 7.7082643, 6.3944066999999984, 8.352578099999999, 7.866654599999999, 8.4930737], \"marker\": {\"line\": {\"width\": 0}, \"size\": [23.184666666666665, 9.494, 5.0, 5.0, 5.0, 5.0, 5.0, 5.0, 5.0, 5.0, 5.0, 5.0, 5.0, 5.0, 5.0, 5.0]}, \"name\": \"Industrie\", \"type\": \"scattergeo\"}, {\"hovertemplate\": \"<b>Freudenberg SE </b><br><br>Revenue 2018: 9346.0<br># Employees: 48894<br>\", \"lat\": [49.5407466], \"lon\": [8.662045299999999], \"marker\": {\"line\": {\"width\": 0}, \"size\": [6.230666666666667]}, \"name\": \"Industrie, Konsumg\\u00fcter\", \"type\": \"scattergeo\"}, {\"autocolorscale\": false, \"colorscale\": [[0, \"rgb(0, 0, 0)\"], [1, \"rgb(0, 0, 0)\"]], \"geo\": \"geo2\", \"locationmode\": \"country names\", \"locations\": [\"Germany\", \"Germany\", \"Germany\", \"Germany\", \"Germany\", \"Germany\", \"Germany\", \"Germany\", \"Germany\", \"Germany\", \"Germany\", \"Germany\", \"Germany\", \"Germany\", \"Germany\", \"Germany\", \"Germany\", \"Germany\", \"Germany\", \"Germany\"], \"showscale\": false, \"type\": \"choropleth\", \"z\": [78465.0, 44404.0, 36929.0, 34777.0, 14241.0, 9346.0, 6990.0, 6263.0, 5101.0, 4610.0, 4551.0, 4209.0, 3870.0, 3694.0, 3433.0, 2811.0, 2700.0, 2639.0, 2385.0, 2140.0]}, {\"geo\": \"geo2\", \"lat\": [44.019434], \"lon\": [10.267117], \"mode\": \"text\", \"name\": \"Germany\", \"showlegend\": false, \"text\": [\"Europe\"], \"type\": \"scattergeo\"}],\n",
       "                        {\"geo\": {\"coastlinecolor\": \"white\", \"countrycolor\": \"white\", \"domain\": {\"x\": [0, 0.9], \"y\": [0, 0.9]}, \"landcolor\": \"rgb(229, 229, 229)\", \"lataxis\": {\"range\": [47.0, 55.0]}, \"lonaxis\": {\"range\": [5.0, 15.0]}, \"projection\": {\"type\": \"mercator\"}, \"resolution\": 50, \"scope\": \"europe\", \"showcoastlines\": true, \"showframe\": false}, \"geo2\": {\"bgcolor\": \"rgba(255, 255, 255, 0.0)\", \"domain\": {\"x\": [0, 0.27], \"y\": [0, 1]}, \"landcolor\": \"rgb(229, 229, 229)\", \"scope\": \"europe\", \"showcountries\": false, \"showframe\": false}, \"legend\": {\"traceorder\": \"reversed\"}, \"template\": {\"data\": {\"bar\": [{\"error_x\": {\"color\": \"#2a3f5f\"}, \"error_y\": {\"color\": \"#2a3f5f\"}, \"marker\": {\"line\": {\"color\": \"#E5ECF6\", \"width\": 0.5}}, \"type\": \"bar\"}], \"barpolar\": [{\"marker\": {\"line\": {\"color\": \"#E5ECF6\", \"width\": 0.5}}, \"type\": \"barpolar\"}], \"carpet\": [{\"aaxis\": {\"endlinecolor\": \"#2a3f5f\", \"gridcolor\": \"white\", \"linecolor\": \"white\", \"minorgridcolor\": \"white\", \"startlinecolor\": \"#2a3f5f\"}, \"baxis\": {\"endlinecolor\": \"#2a3f5f\", \"gridcolor\": \"white\", \"linecolor\": \"white\", \"minorgridcolor\": \"white\", \"startlinecolor\": \"#2a3f5f\"}, \"type\": \"carpet\"}], \"choropleth\": [{\"colorbar\": {\"outlinewidth\": 0, \"ticks\": \"\"}, \"type\": \"choropleth\"}], \"contour\": [{\"colorbar\": {\"outlinewidth\": 0, \"ticks\": \"\"}, \"colorscale\": [[0.0, \"#0d0887\"], [0.1111111111111111, \"#46039f\"], [0.2222222222222222, \"#7201a8\"], [0.3333333333333333, \"#9c179e\"], [0.4444444444444444, \"#bd3786\"], [0.5555555555555556, \"#d8576b\"], [0.6666666666666666, \"#ed7953\"], [0.7777777777777778, \"#fb9f3a\"], [0.8888888888888888, \"#fdca26\"], [1.0, \"#f0f921\"]], \"type\": \"contour\"}], \"contourcarpet\": [{\"colorbar\": {\"outlinewidth\": 0, \"ticks\": \"\"}, \"type\": \"contourcarpet\"}], \"heatmap\": [{\"colorbar\": {\"outlinewidth\": 0, \"ticks\": \"\"}, \"colorscale\": [[0.0, \"#0d0887\"], [0.1111111111111111, \"#46039f\"], [0.2222222222222222, \"#7201a8\"], [0.3333333333333333, \"#9c179e\"], [0.4444444444444444, \"#bd3786\"], [0.5555555555555556, \"#d8576b\"], [0.6666666666666666, \"#ed7953\"], [0.7777777777777778, \"#fb9f3a\"], [0.8888888888888888, \"#fdca26\"], [1.0, \"#f0f921\"]], \"type\": \"heatmap\"}], \"heatmapgl\": [{\"colorbar\": {\"outlinewidth\": 0, \"ticks\": \"\"}, \"colorscale\": [[0.0, \"#0d0887\"], [0.1111111111111111, \"#46039f\"], [0.2222222222222222, \"#7201a8\"], [0.3333333333333333, \"#9c179e\"], [0.4444444444444444, \"#bd3786\"], [0.5555555555555556, \"#d8576b\"], [0.6666666666666666, \"#ed7953\"], [0.7777777777777778, \"#fb9f3a\"], [0.8888888888888888, \"#fdca26\"], [1.0, \"#f0f921\"]], \"type\": \"heatmapgl\"}], \"histogram\": [{\"marker\": {\"colorbar\": {\"outlinewidth\": 0, \"ticks\": \"\"}}, \"type\": \"histogram\"}], \"histogram2d\": [{\"colorbar\": {\"outlinewidth\": 0, \"ticks\": \"\"}, \"colorscale\": [[0.0, \"#0d0887\"], [0.1111111111111111, \"#46039f\"], [0.2222222222222222, \"#7201a8\"], [0.3333333333333333, \"#9c179e\"], [0.4444444444444444, \"#bd3786\"], [0.5555555555555556, \"#d8576b\"], [0.6666666666666666, \"#ed7953\"], [0.7777777777777778, \"#fb9f3a\"], [0.8888888888888888, \"#fdca26\"], [1.0, \"#f0f921\"]], \"type\": \"histogram2d\"}], \"histogram2dcontour\": [{\"colorbar\": {\"outlinewidth\": 0, \"ticks\": \"\"}, \"colorscale\": [[0.0, \"#0d0887\"], [0.1111111111111111, \"#46039f\"], [0.2222222222222222, \"#7201a8\"], [0.3333333333333333, \"#9c179e\"], [0.4444444444444444, \"#bd3786\"], [0.5555555555555556, \"#d8576b\"], [0.6666666666666666, \"#ed7953\"], [0.7777777777777778, \"#fb9f3a\"], [0.8888888888888888, \"#fdca26\"], [1.0, \"#f0f921\"]], \"type\": \"histogram2dcontour\"}], \"mesh3d\": [{\"colorbar\": {\"outlinewidth\": 0, \"ticks\": \"\"}, \"type\": \"mesh3d\"}], \"parcoords\": [{\"line\": {\"colorbar\": {\"outlinewidth\": 0, \"ticks\": \"\"}}, \"type\": \"parcoords\"}], \"pie\": [{\"automargin\": true, \"type\": \"pie\"}], \"scatter\": [{\"marker\": {\"colorbar\": {\"outlinewidth\": 0, \"ticks\": \"\"}}, \"type\": \"scatter\"}], \"scatter3d\": [{\"line\": {\"colorbar\": {\"outlinewidth\": 0, \"ticks\": \"\"}}, \"marker\": {\"colorbar\": {\"outlinewidth\": 0, \"ticks\": \"\"}}, \"type\": \"scatter3d\"}], \"scattercarpet\": [{\"marker\": {\"colorbar\": {\"outlinewidth\": 0, \"ticks\": \"\"}}, \"type\": \"scattercarpet\"}], \"scattergeo\": [{\"marker\": {\"colorbar\": {\"outlinewidth\": 0, \"ticks\": \"\"}}, \"type\": \"scattergeo\"}], \"scattergl\": [{\"marker\": {\"colorbar\": {\"outlinewidth\": 0, \"ticks\": \"\"}}, \"type\": \"scattergl\"}], \"scattermapbox\": [{\"marker\": {\"colorbar\": {\"outlinewidth\": 0, \"ticks\": \"\"}}, \"type\": \"scattermapbox\"}], \"scatterpolar\": [{\"marker\": {\"colorbar\": {\"outlinewidth\": 0, \"ticks\": \"\"}}, \"type\": \"scatterpolar\"}], \"scatterpolargl\": [{\"marker\": {\"colorbar\": {\"outlinewidth\": 0, \"ticks\": \"\"}}, \"type\": \"scatterpolargl\"}], \"scatterternary\": [{\"marker\": {\"colorbar\": {\"outlinewidth\": 0, \"ticks\": \"\"}}, \"type\": \"scatterternary\"}], \"surface\": [{\"colorbar\": {\"outlinewidth\": 0, \"ticks\": \"\"}, \"colorscale\": [[0.0, \"#0d0887\"], [0.1111111111111111, \"#46039f\"], [0.2222222222222222, \"#7201a8\"], [0.3333333333333333, \"#9c179e\"], [0.4444444444444444, \"#bd3786\"], [0.5555555555555556, \"#d8576b\"], [0.6666666666666666, \"#ed7953\"], [0.7777777777777778, \"#fb9f3a\"], [0.8888888888888888, \"#fdca26\"], [1.0, \"#f0f921\"]], \"type\": \"surface\"}], \"table\": [{\"cells\": {\"fill\": {\"color\": \"#EBF0F8\"}, \"line\": {\"color\": \"white\"}}, \"header\": {\"fill\": {\"color\": \"#C8D4E3\"}, \"line\": {\"color\": \"white\"}}, \"type\": \"table\"}]}, \"layout\": {\"annotationdefaults\": {\"arrowcolor\": \"#2a3f5f\", \"arrowhead\": 0, \"arrowwidth\": 1}, \"coloraxis\": {\"colorbar\": {\"outlinewidth\": 0, \"ticks\": \"\"}}, \"colorscale\": {\"diverging\": [[0, \"#8e0152\"], [0.1, \"#c51b7d\"], [0.2, \"#de77ae\"], [0.3, \"#f1b6da\"], [0.4, \"#fde0ef\"], [0.5, \"#f7f7f7\"], [0.6, \"#e6f5d0\"], [0.7, \"#b8e186\"], [0.8, \"#7fbc41\"], [0.9, \"#4d9221\"], [1, \"#276419\"]], \"sequential\": [[0.0, \"#0d0887\"], [0.1111111111111111, \"#46039f\"], [0.2222222222222222, \"#7201a8\"], [0.3333333333333333, \"#9c179e\"], [0.4444444444444444, \"#bd3786\"], [0.5555555555555556, \"#d8576b\"], [0.6666666666666666, \"#ed7953\"], [0.7777777777777778, \"#fb9f3a\"], [0.8888888888888888, \"#fdca26\"], [1.0, \"#f0f921\"]], \"sequentialminus\": [[0.0, \"#0d0887\"], [0.1111111111111111, \"#46039f\"], [0.2222222222222222, \"#7201a8\"], [0.3333333333333333, \"#9c179e\"], [0.4444444444444444, \"#bd3786\"], [0.5555555555555556, \"#d8576b\"], [0.6666666666666666, \"#ed7953\"], [0.7777777777777778, \"#fb9f3a\"], [0.8888888888888888, \"#fdca26\"], [1.0, \"#f0f921\"]]}, \"colorway\": [\"#636efa\", \"#EF553B\", \"#00cc96\", \"#ab63fa\", \"#FFA15A\", \"#19d3f3\", \"#FF6692\", \"#B6E880\", \"#FF97FF\", \"#FECB52\"], \"font\": {\"color\": \"#2a3f5f\"}, \"geo\": {\"bgcolor\": \"white\", \"lakecolor\": \"white\", \"landcolor\": \"#E5ECF6\", \"showlakes\": true, \"showland\": true, \"subunitcolor\": \"white\"}, \"hoverlabel\": {\"align\": \"left\"}, \"hovermode\": \"closest\", \"mapbox\": {\"style\": \"light\"}, \"paper_bgcolor\": \"white\", \"plot_bgcolor\": \"#E5ECF6\", \"polar\": {\"angularaxis\": {\"gridcolor\": \"white\", \"linecolor\": \"white\", \"ticks\": \"\"}, \"bgcolor\": \"#E5ECF6\", \"radialaxis\": {\"gridcolor\": \"white\", \"linecolor\": \"white\", \"ticks\": \"\"}}, \"scene\": {\"xaxis\": {\"backgroundcolor\": \"#E5ECF6\", \"gridcolor\": \"white\", \"gridwidth\": 2, \"linecolor\": \"white\", \"showbackground\": true, \"ticks\": \"\", \"zerolinecolor\": \"white\"}, \"yaxis\": {\"backgroundcolor\": \"#E5ECF6\", \"gridcolor\": \"white\", \"gridwidth\": 2, \"linecolor\": \"white\", \"showbackground\": true, \"ticks\": \"\", \"zerolinecolor\": \"white\"}, \"zaxis\": {\"backgroundcolor\": \"#E5ECF6\", \"gridcolor\": \"white\", \"gridwidth\": 2, \"linecolor\": \"white\", \"showbackground\": true, \"ticks\": \"\", \"zerolinecolor\": \"white\"}}, \"shapedefaults\": {\"line\": {\"color\": \"#2a3f5f\"}}, \"ternary\": {\"aaxis\": {\"gridcolor\": \"white\", \"linecolor\": \"white\", \"ticks\": \"\"}, \"baxis\": {\"gridcolor\": \"white\", \"linecolor\": \"white\", \"ticks\": \"\"}, \"bgcolor\": \"#E5ECF6\", \"caxis\": {\"gridcolor\": \"white\", \"linecolor\": \"white\", \"ticks\": \"\"}}, \"title\": {\"x\": 0.05}, \"xaxis\": {\"automargin\": true, \"gridcolor\": \"white\", \"linecolor\": \"white\", \"ticks\": \"\", \"title\": {\"standoff\": 15}, \"zerolinecolor\": \"white\", \"zerolinewidth\": 2}, \"yaxis\": {\"automargin\": true, \"gridcolor\": \"white\", \"linecolor\": \"white\", \"ticks\": \"\", \"title\": {\"standoff\": 15}, \"zerolinecolor\": \"white\", \"zerolinewidth\": 2}}}, \"title\": {\"text\": \"Automobilzulieferer Umsatz nach Branchen\"}},\n",
       "                        {\"responsive\": true}\n",
       "                    ).then(function(){\n",
       "                            \n",
       "var gd = document.getElementById('e69473ad-1cd4-459b-a5e2-7393d5413270');\n",
       "var x = new MutationObserver(function (mutations, observer) {{\n",
       "        var display = window.getComputedStyle(gd).display;\n",
       "        if (!display || display === 'none') {{\n",
       "            console.log([gd, 'removed!']);\n",
       "            Plotly.purge(gd);\n",
       "            observer.disconnect();\n",
       "        }}\n",
       "}});\n",
       "\n",
       "// Listen for the removal of the full notebook cells\n",
       "var notebookContainer = gd.closest('#notebook-container');\n",
       "if (notebookContainer) {{\n",
       "    x.observe(notebookContainer, {childList: true});\n",
       "}}\n",
       "\n",
       "// Listen for the clearing of the current output cell\n",
       "var outputEl = gd.closest('.output');\n",
       "if (outputEl) {{\n",
       "    x.observe(outputEl, {childList: true});\n",
       "}}\n",
       "\n",
       "                        })\n",
       "                };\n",
       "                });\n",
       "            </script>\n",
       "        </div>"
      ]
     },
     "metadata": {},
     "output_type": "display_data"
>>>>>>> 43c3f4fbec4b4d8c427eb3e7336f70c7b1eae197
    }
   ],
   "source": [
    "#colors = ['rgb(153, 255, 153)','rgb(255, 153, 0)','rgb(26, 117, 255)','rgb(255, 77, 77)']\n",
    "scale = 1500\n",
    "branchen = list(df[\"Branche\"].unique())\n",
    "\n",
    "branchen_map = go.Figure()\n",
    "\n",
    "# iterate over the sectors\n",
    "for branch in branchen:\n",
    "    df_sub = df[df['Branche'] == branch]\n",
    "    branchen_map.add_trace(go.Scattergeo(\n",
    "        lon = df_sub['longitude'],\n",
    "        lat = df_sub['latitude'],\n",
    "        name = branch,\n",
    "        hovertemplate = \"<b>{} </b><br><br>\".format(df_sub['Unternehmen'].values[0]) +\n",
    "        \"Revenue 2018: {}<br>\".format(df_sub['Umsatz 2018 (in Mio. €)'].values[0]) +\n",
    "        \"# Employees: {}<br>\".format(df_sub[\"Mitarbeiter\"].values[0]) ,\n",
    "            marker = dict(\n",
    "                size = df_sub['Umsatz 2018 (in Mio. €)'].apply(lambda x: (x/scale) if (x/scale) > 5 else 5) ,\n",
    "                #color = colors[i],\n",
    "                line_width = 0\n",
    "        )))\n",
    "\n",
    "## Highlight Germany in the Europe Map\n",
    "branchen_map.add_trace(go.Choropleth(\n",
    "        locationmode = 'country names',\n",
    "        locations = ['Germany' for i in range(len(df2))],\n",
    "        z = df2['Umsatz 2018 (in Mio. €)'],\n",
    "        colorscale = [[0,'rgb(0, 0, 0)'],[1,'rgb(0, 0, 0)']],\n",
    "        autocolorscale = False,\n",
    "        showscale = False,\n",
    "        geo = 'geo2'\n",
    "    ))\n",
    "## Insert the Europe Caption in the Europe map and on hovering show Germany\n",
    "branchen_map.add_trace(go.Scattergeo(\n",
    "        lon = [10.267117],\n",
    "        lat = [44.019434],\n",
    "        text = ['Europe'],\n",
    "        mode = 'text',\n",
    "        name = 'Germany',\n",
    "        showlegend = False,\n",
    "        geo = 'geo2'\n",
    "    ))\n",
    "## Update the layout\n",
    "branchen_map.update_layout(\n",
    "    title = go.layout.Title(\n",
    "        text = 'Automobilzulieferer Umsatz nach Branchen'),\n",
<<<<<<< HEAD
    "    legend= {'itemsizing': 'constant'},\n",
=======
>>>>>>> 43c3f4fbec4b4d8c427eb3e7336f70c7b1eae197
    "    geo = go.layout.Geo(\n",
    "        resolution = 50,\n",
    "        scope = 'europe',\n",
    "        showframe = False,\n",
    "        showcoastlines = True,\n",
    "        landcolor = \"rgb(229, 229, 229)\",\n",
    "        countrycolor = \"white\" ,\n",
    "        coastlinecolor = \"white\",\n",
    "        projection_type = 'mercator',\n",
    "        lonaxis_range= [ 5.0, 15.0 ],\n",
    "        lataxis_range= [ 47.0, 55.0 ],\n",
    "        domain = dict(x = [ 0, 0.9 ], y = [ 0, 0.9 ])\n",
    "    ),\n",
    "    geo2 = go.layout.Geo(\n",
    "        scope = 'europe',\n",
    "        showframe = False,\n",
    "        landcolor = \"rgb(229, 229, 229)\",\n",
    "        showcountries = False,\n",
    "        domain = dict(x = [ 0, 0.27 ], y = [ 0, 1 ]),\n",
    "        bgcolor = 'rgba(255, 255, 255, 0.0)',\n",
    "    ),\n",
    "    legend_traceorder = 'reversed'\n",
    ")\n",
    "py.plot(branchen_map, filename = 'branchen firms', auto_open=True, config={\"displayModeBar\": False})\n",
    "branchen_map.show()"
   ]
  },
  {
   "cell_type": "markdown",
   "metadata": {},
   "source": [
    "## Next thing is Revenue Development per Company over the years"
   ]
  },
  {
   "cell_type": "code",
<<<<<<< HEAD
   "execution_count": 20,
=======
   "execution_count": 24,
>>>>>>> 43c3f4fbec4b4d8c427eb3e7336f70c7b1eae197
   "metadata": {},
   "outputs": [
    {
     "data": {
      "text/html": [
       "<div>\n",
       "<style scoped>\n",
       "    .dataframe tbody tr th:only-of-type {\n",
       "        vertical-align: middle;\n",
       "    }\n",
       "\n",
       "    .dataframe tbody tr th {\n",
       "        vertical-align: top;\n",
       "    }\n",
       "\n",
       "    .dataframe thead th {\n",
       "        text-align: right;\n",
       "    }\n",
       "</style>\n",
       "<table border=\"1\" class=\"dataframe\">\n",
       "  <thead>\n",
       "    <tr style=\"text-align: right;\">\n",
       "      <th></th>\n",
       "      <th>Unternehmen</th>\n",
       "      <th>Umsatz 2015 (in Mio. €)</th>\n",
       "      <th>Umsatz 2016 (in Mio. €)</th>\n",
       "      <th>Umsatz 2017 (in Mio. €)</th>\n",
       "      <th>Umsatz 2018 (in Mio. €)</th>\n",
       "    </tr>\n",
       "  </thead>\n",
       "  <tbody>\n",
       "    <tr>\n",
       "      <th>0</th>\n",
       "      <td>Robert Bosch GmbH</td>\n",
       "      <td>70607.0</td>\n",
       "      <td>73129.0</td>\n",
       "      <td>78066.0</td>\n",
       "      <td>78465.0</td>\n",
       "    </tr>\n",
       "    <tr>\n",
       "      <th>1</th>\n",
       "      <td>Continental AG</td>\n",
       "      <td>39232.0</td>\n",
       "      <td>40550.0</td>\n",
       "      <td>44010.0</td>\n",
       "      <td>44404.0</td>\n",
       "    </tr>\n",
       "    <tr>\n",
       "      <th>2</th>\n",
       "      <td>ZF Friedrichshafen AG</td>\n",
       "      <td>29154.0</td>\n",
       "      <td>35166.0</td>\n",
       "      <td>36444.0</td>\n",
       "      <td>36929.0</td>\n",
       "    </tr>\n",
       "    <tr>\n",
       "      <th>3</th>\n",
       "      <td>thyssenkrupp AG</td>\n",
       "      <td>42778.0</td>\n",
       "      <td>39263.0</td>\n",
       "      <td>33993.0</td>\n",
       "      <td>34777.0</td>\n",
       "    </tr>\n",
       "    <tr>\n",
       "      <th>4</th>\n",
       "      <td>Schaeffler AG</td>\n",
       "      <td>13179.0</td>\n",
       "      <td>13338.0</td>\n",
       "      <td>14021.0</td>\n",
       "      <td>14241.0</td>\n",
       "    </tr>\n",
       "    <tr>\n",
       "      <th>5</th>\n",
       "      <td>Freudenberg SE</td>\n",
       "      <td>7900.0</td>\n",
       "      <td>6411.0</td>\n",
       "      <td>9455.0</td>\n",
       "      <td>9346.0</td>\n",
       "    </tr>\n",
       "    <tr>\n",
       "      <th>6</th>\n",
       "      <td>HELLA GmbH &amp; Co. KGaA</td>\n",
       "      <td>NaN</td>\n",
       "      <td>6585.0</td>\n",
       "      <td>7060.0</td>\n",
       "      <td>6990.0</td>\n",
       "    </tr>\n",
       "    <tr>\n",
       "      <th>7</th>\n",
       "      <td>Brose Fahrzeugteile SE &amp; Co. Kommanditgesellsc...</td>\n",
       "      <td>6053.0</td>\n",
       "      <td>6149.0</td>\n",
       "      <td>6311.0</td>\n",
       "      <td>6263.0</td>\n",
       "    </tr>\n",
       "    <tr>\n",
       "      <th>8</th>\n",
       "      <td>LEONI AG</td>\n",
       "      <td>4502.0</td>\n",
       "      <td>4431.0</td>\n",
       "      <td>4925.0</td>\n",
       "      <td>5101.0</td>\n",
       "    </tr>\n",
       "    <tr>\n",
       "      <th>9</th>\n",
       "      <td>Eberspächer Gruppe GmbH &amp; Co. KG</td>\n",
       "      <td>4371.0</td>\n",
       "      <td>4324.0</td>\n",
       "      <td>4481.0</td>\n",
       "      <td>4610.0</td>\n",
       "    </tr>\n",
       "    <tr>\n",
       "      <th>10</th>\n",
       "      <td>Fritz Dräxlmaier GmbH &amp; Co. KG</td>\n",
       "      <td>3744.0</td>\n",
       "      <td>3677.0</td>\n",
       "      <td>4063.0</td>\n",
       "      <td>4551.0</td>\n",
       "    </tr>\n",
       "    <tr>\n",
       "      <th>11</th>\n",
       "      <td>Voith GmbH &amp; Co. KGaA</td>\n",
       "      <td>4303.0</td>\n",
       "      <td>4252.0</td>\n",
       "      <td>4224.0</td>\n",
       "      <td>4209.0</td>\n",
       "    </tr>\n",
       "    <tr>\n",
       "      <th>12</th>\n",
       "      <td>Dürr Aktiengesellschaft</td>\n",
       "      <td>3767.0</td>\n",
       "      <td>3574.0</td>\n",
       "      <td>3713.0</td>\n",
       "      <td>3870.0</td>\n",
       "    </tr>\n",
       "    <tr>\n",
       "      <th>13</th>\n",
       "      <td>Diehl Stiftung &amp; Co. KG</td>\n",
       "      <td>3109.0</td>\n",
       "      <td>3410.0</td>\n",
       "      <td>3749.0</td>\n",
       "      <td>3694.0</td>\n",
       "    </tr>\n",
       "    <tr>\n",
       "      <th>14</th>\n",
       "      <td>Webasto SE</td>\n",
       "      <td>2942.0</td>\n",
       "      <td>3187.0</td>\n",
       "      <td>3512.0</td>\n",
       "      <td>3433.0</td>\n",
       "    </tr>\n",
       "    <tr>\n",
       "      <th>15</th>\n",
       "      <td>OTTO FUCHS KG</td>\n",
       "      <td>2386.0</td>\n",
       "      <td>2448.0</td>\n",
       "      <td>2658.0</td>\n",
       "      <td>2811.0</td>\n",
       "    </tr>\n",
       "    <tr>\n",
       "      <th>16</th>\n",
       "      <td>AUNDE Group SE</td>\n",
       "      <td>NaN</td>\n",
       "      <td>NaN</td>\n",
       "      <td>NaN</td>\n",
       "      <td>2700.0</td>\n",
       "    </tr>\n",
       "    <tr>\n",
       "      <th>17</th>\n",
       "      <td>Michelin Reifenwerke AG &amp; Co. KGaA</td>\n",
       "      <td>2520.0</td>\n",
       "      <td>2611.0</td>\n",
       "      <td>2755.0</td>\n",
       "      <td>2639.0</td>\n",
       "    </tr>\n",
       "    <tr>\n",
       "      <th>18</th>\n",
       "      <td>Muhr und Bender KG</td>\n",
       "      <td>1817.0</td>\n",
       "      <td>1952.0</td>\n",
       "      <td>2176.0</td>\n",
       "      <td>2385.0</td>\n",
       "    </tr>\n",
       "    <tr>\n",
       "      <th>19</th>\n",
       "      <td>Röchling SE &amp; Co. KG</td>\n",
       "      <td>1555.0</td>\n",
       "      <td>1657.0</td>\n",
       "      <td>1841.0</td>\n",
       "      <td>2140.0</td>\n",
       "    </tr>\n",
       "  </tbody>\n",
       "</table>\n",
       "</div>"
      ],
      "text/plain": [
       "                                          Unternehmen  \\\n",
       "0                                   Robert Bosch GmbH   \n",
       "1                                      Continental AG   \n",
       "2                               ZF Friedrichshafen AG   \n",
       "3                                     thyssenkrupp AG   \n",
       "4                                       Schaeffler AG   \n",
       "5                                      Freudenberg SE   \n",
       "6                               HELLA GmbH & Co. KGaA   \n",
       "7   Brose Fahrzeugteile SE & Co. Kommanditgesellsc...   \n",
       "8                                            LEONI AG   \n",
       "9                    Eberspächer Gruppe GmbH & Co. KG   \n",
       "10                     Fritz Dräxlmaier GmbH & Co. KG   \n",
       "11                              Voith GmbH & Co. KGaA   \n",
       "12                            Dürr Aktiengesellschaft   \n",
       "13                            Diehl Stiftung & Co. KG   \n",
       "14                                         Webasto SE   \n",
       "15                                      OTTO FUCHS KG   \n",
       "16                                     AUNDE Group SE   \n",
       "17                 Michelin Reifenwerke AG & Co. KGaA   \n",
       "18                                 Muhr und Bender KG   \n",
       "19                               Röchling SE & Co. KG   \n",
       "\n",
       "    Umsatz 2015 (in Mio. €)  Umsatz 2016 (in Mio. €)  Umsatz 2017 (in Mio. €)  \\\n",
       "0                   70607.0                  73129.0                  78066.0   \n",
       "1                   39232.0                  40550.0                  44010.0   \n",
       "2                   29154.0                  35166.0                  36444.0   \n",
       "3                   42778.0                  39263.0                  33993.0   \n",
       "4                   13179.0                  13338.0                  14021.0   \n",
       "5                    7900.0                   6411.0                   9455.0   \n",
       "6                       NaN                   6585.0                   7060.0   \n",
       "7                    6053.0                   6149.0                   6311.0   \n",
       "8                    4502.0                   4431.0                   4925.0   \n",
       "9                    4371.0                   4324.0                   4481.0   \n",
       "10                   3744.0                   3677.0                   4063.0   \n",
       "11                   4303.0                   4252.0                   4224.0   \n",
       "12                   3767.0                   3574.0                   3713.0   \n",
       "13                   3109.0                   3410.0                   3749.0   \n",
       "14                   2942.0                   3187.0                   3512.0   \n",
       "15                   2386.0                   2448.0                   2658.0   \n",
       "16                      NaN                      NaN                      NaN   \n",
       "17                   2520.0                   2611.0                   2755.0   \n",
       "18                   1817.0                   1952.0                   2176.0   \n",
       "19                   1555.0                   1657.0                   1841.0   \n",
       "\n",
       "    Umsatz 2018 (in Mio. €)  \n",
       "0                   78465.0  \n",
       "1                   44404.0  \n",
       "2                   36929.0  \n",
       "3                   34777.0  \n",
       "4                   14241.0  \n",
       "5                    9346.0  \n",
       "6                    6990.0  \n",
       "7                    6263.0  \n",
       "8                    5101.0  \n",
       "9                    4610.0  \n",
       "10                   4551.0  \n",
       "11                   4209.0  \n",
       "12                   3870.0  \n",
       "13                   3694.0  \n",
       "14                   3433.0  \n",
       "15                   2811.0  \n",
       "16                   2700.0  \n",
       "17                   2639.0  \n",
       "18                   2385.0  \n",
       "19                   2140.0  "
      ]
     },
<<<<<<< HEAD
     "execution_count": 20,
=======
     "execution_count": 24,
>>>>>>> 43c3f4fbec4b4d8c427eb3e7336f70c7b1eae197
     "metadata": {},
     "output_type": "execute_result"
    }
   ],
   "source": [
    "cols = ['Unternehmen', 'Umsatz 2015 (in Mio. €)', 'Umsatz 2016 (in Mio. €)', 'Umsatz 2017 (in Mio. €)', 'Umsatz 2018 (in Mio. €)']\n",
    "revenue_plot = df.loc[:, cols]\n",
    "## extract all the years, cast it to int and reverse the list to get [2015, 2016, 2017, 2018]\n",
    "years = [ int(ele[0]) for ele in list(filter(None, [ re.findall('\\d+', string) for string in df.columns ]))][::-1]\n",
    "revenue_plot"
   ]
  },
  {
   "cell_type": "code",
<<<<<<< HEAD
   "execution_count": 28,
=======
   "execution_count": 26,
>>>>>>> 43c3f4fbec4b4d8c427eb3e7336f70c7b1eae197
   "metadata": {
    "scrolled": false
   },
   "outputs": [
    {
     "data": {
      "application/vnd.plotly.v1+json": {
       "config": {
        "plotlyServerURL": "https://plotly.com"
       },
       "data": [
        {
         "mode": "markers+lines",
         "name": "Robert Bosch GmbH",
         "text": "<b>Robert Bosch GmbH</b> <br>Revenue 2015: 70607.0 <br>Revenue 2016: 73129.0 <br>Revenue 2017: 78066.0 <br>Revenue 2018: 78465.0",
         "type": "scatter",
         "x": [
          2015,
          2016,
          2017,
          2018
         ],
         "y": [
          70607,
          73129,
          78066,
          78465
         ]
        },
        {
         "mode": "markers+lines",
         "name": "Continental AG",
         "text": "<b>Continental AG</b> <br>Revenue 2015: 39232.0 <br>Revenue 2016: 40550.0 <br>Revenue 2017: 44010.0 <br>Revenue 2018: 44404.0",
         "type": "scatter",
         "x": [
          2015,
          2016,
          2017,
          2018
         ],
         "y": [
          39232,
          40550,
          44010,
          44404
         ]
        },
        {
         "mode": "markers+lines",
         "name": "ZF Friedrichshafen AG",
         "text": "<b>ZF Friedrichshafen AG</b> <br>Revenue 2015: 29154.0 <br>Revenue 2016: 35166.0 <br>Revenue 2017: 36444.0 <br>Revenue 2018: 36929.0",
         "type": "scatter",
         "x": [
          2015,
          2016,
          2017,
          2018
         ],
         "y": [
          29154,
          35166,
          36444,
          36929
         ]
        },
        {
         "mode": "markers+lines",
         "name": "thyssenkrupp AG",
         "text": "<b>thyssenkrupp AG</b> <br>Revenue 2015: 42778.0 <br>Revenue 2016: 39263.0 <br>Revenue 2017: 33993.0 <br>Revenue 2018: 34777.0",
         "type": "scatter",
         "x": [
          2015,
          2016,
          2017,
          2018
         ],
         "y": [
          42778,
          39263,
          33993,
          34777
         ]
        },
        {
         "mode": "markers+lines",
         "name": "Schaeffler AG",
         "text": "<b>Schaeffler AG</b> <br>Revenue 2015: 13179.0 <br>Revenue 2016: 13338.0 <br>Revenue 2017: 14021.0 <br>Revenue 2018: 14241.0",
         "type": "scatter",
         "x": [
          2015,
          2016,
          2017,
          2018
         ],
         "y": [
          13179,
          13338,
          14021,
          14241
         ]
        },
        {
         "mode": "markers+lines",
         "name": "Freudenberg SE",
         "text": "<b>Freudenberg SE</b> <br>Revenue 2015: 7900.0 <br>Revenue 2016: 6411.0 <br>Revenue 2017: 9455.0 <br>Revenue 2018: 9346.0",
         "type": "scatter",
         "x": [
          2015,
          2016,
          2017,
          2018
         ],
         "y": [
          7900,
          6411,
          9455,
          9346
         ]
        },
        {
         "mode": "markers+lines",
         "name": "HELLA GmbH & Co. KGaA",
         "text": "<b>HELLA GmbH & Co. KGaA</b> <br>Revenue 2015: nan <br>Revenue 2016: 6585.0 <br>Revenue 2017: 7060.0 <br>Revenue 2018: 6990.0",
         "type": "scatter",
         "x": [
          2015,
          2016,
          2017,
          2018
         ],
         "y": [
          null,
          6585,
          7060,
          6990
         ]
        },
        {
         "mode": "markers+lines",
         "name": "Brose Fahrzeugteile SE & Co. Kommanditgesellschaft",
         "text": "<b>Brose Fahrzeugteile SE & Co. Kommanditgesellschaft</b> <br>Revenue 2015: 6053.0 <br>Revenue 2016: 6149.0 <br>Revenue 2017: 6311.0 <br>Revenue 2018: 6263.0",
         "type": "scatter",
         "x": [
          2015,
          2016,
          2017,
          2018
         ],
         "y": [
          6053,
          6149,
          6311,
          6263
         ]
        },
        {
         "mode": "markers+lines",
         "name": "LEONI AG",
         "text": "<b>LEONI AG</b> <br>Revenue 2015: 4502.0 <br>Revenue 2016: 4431.0 <br>Revenue 2017: 4925.0 <br>Revenue 2018: 5101.0",
         "type": "scatter",
         "x": [
          2015,
          2016,
          2017,
          2018
         ],
         "y": [
          4502,
          4431,
          4925,
          5101
         ]
        },
        {
         "mode": "markers+lines",
         "name": "Eberspächer Gruppe GmbH & Co. KG",
         "text": "<b>Eberspächer Gruppe GmbH & Co. KG</b> <br>Revenue 2015: 4371.0 <br>Revenue 2016: 4324.0 <br>Revenue 2017: 4481.0 <br>Revenue 2018: 4610.0",
         "type": "scatter",
         "x": [
          2015,
          2016,
          2017,
          2018
         ],
         "y": [
          4371,
          4324,
          4481,
          4610
         ]
        },
        {
         "mode": "markers+lines",
         "name": "Fritz Dräxlmaier GmbH & Co. KG",
         "text": "<b>Fritz Dräxlmaier GmbH & Co. KG</b> <br>Revenue 2015: 3744.0 <br>Revenue 2016: 3677.0 <br>Revenue 2017: 4063.0 <br>Revenue 2018: 4551.0",
         "type": "scatter",
         "x": [
          2015,
          2016,
          2017,
          2018
         ],
         "y": [
          3744,
          3677,
          4063,
          4551
         ]
        },
        {
         "mode": "markers+lines",
         "name": "Voith GmbH & Co. KGaA",
         "text": "<b>Voith GmbH & Co. KGaA</b> <br>Revenue 2015: 4303.0 <br>Revenue 2016: 4252.0 <br>Revenue 2017: 4224.0 <br>Revenue 2018: 4209.0",
         "type": "scatter",
         "x": [
          2015,
          2016,
          2017,
          2018
         ],
         "y": [
          4303,
          4252,
          4224,
          4209
         ]
        },
        {
         "mode": "markers+lines",
         "name": "Dürr Aktiengesellschaft",
         "text": "<b>Dürr Aktiengesellschaft</b> <br>Revenue 2015: 3767.0 <br>Revenue 2016: 3574.0 <br>Revenue 2017: 3713.0 <br>Revenue 2018: 3870.0",
         "type": "scatter",
         "x": [
          2015,
          2016,
          2017,
          2018
         ],
         "y": [
          3767,
          3574,
          3713,
          3870
         ]
        },
        {
         "mode": "markers+lines",
         "name": "Diehl Stiftung & Co. KG",
         "text": "<b>Diehl Stiftung & Co. KG</b> <br>Revenue 2015: 3109.0 <br>Revenue 2016: 3410.0 <br>Revenue 2017: 3749.0 <br>Revenue 2018: 3694.0",
         "type": "scatter",
         "x": [
          2015,
          2016,
          2017,
          2018
         ],
         "y": [
          3109,
          3410,
          3749,
          3694
         ]
        },
        {
         "mode": "markers+lines",
         "name": "Webasto SE",
         "text": "<b>Webasto SE</b> <br>Revenue 2015: 2942.0 <br>Revenue 2016: 3187.0 <br>Revenue 2017: 3512.0 <br>Revenue 2018: 3433.0",
         "type": "scatter",
         "x": [
          2015,
          2016,
          2017,
          2018
         ],
         "y": [
          2942,
          3187,
          3512,
          3433
         ]
        },
        {
         "mode": "markers+lines",
         "name": "OTTO FUCHS KG",
         "text": "<b>OTTO FUCHS KG</b> <br>Revenue 2015: 2386.0 <br>Revenue 2016: 2448.0 <br>Revenue 2017: 2658.0 <br>Revenue 2018: 2811.0",
         "type": "scatter",
         "x": [
          2015,
          2016,
          2017,
          2018
         ],
         "y": [
          2386,
          2448,
          2658,
          2811
         ]
        },
        {
         "mode": "markers+lines",
         "name": "AUNDE Group SE",
         "text": "<b>AUNDE Group SE</b> <br>Revenue 2015: nan <br>Revenue 2016: nan <br>Revenue 2017: nan <br>Revenue 2018: 2700.0",
         "type": "scatter",
         "x": [
          2015,
          2016,
          2017,
          2018
         ],
         "y": [
          null,
          null,
          null,
          2700
         ]
        },
        {
         "mode": "markers+lines",
         "name": "Michelin Reifenwerke AG & Co. KGaA",
         "text": "<b>Michelin Reifenwerke AG & Co. KGaA</b> <br>Revenue 2015: 2520.0 <br>Revenue 2016: 2611.0 <br>Revenue 2017: 2755.0 <br>Revenue 2018: 2639.0",
         "type": "scatter",
         "x": [
          2015,
          2016,
          2017,
          2018
         ],
         "y": [
          2520,
          2611,
          2755,
          2639
         ]
        },
        {
         "mode": "markers+lines",
         "name": "Muhr und Bender KG",
         "text": "<b>Muhr und Bender KG</b> <br>Revenue 2015: 1817.0 <br>Revenue 2016: 1952.0 <br>Revenue 2017: 2176.0 <br>Revenue 2018: 2385.0",
         "type": "scatter",
         "x": [
          2015,
          2016,
          2017,
          2018
         ],
         "y": [
          1817,
          1952,
          2176,
          2385
         ]
        },
        {
         "mode": "markers+lines",
         "name": "Röchling SE & Co. KG",
         "text": "<b>Röchling SE & Co. KG</b> <br>Revenue 2015: 1555.0 <br>Revenue 2016: 1657.0 <br>Revenue 2017: 1841.0 <br>Revenue 2018: 2140.0",
         "type": "scatter",
         "x": [
          2015,
          2016,
          2017,
          2018
         ],
         "y": [
          1555,
          1657,
          1841,
          2140
         ]
        }
       ],
       "layout": {
        "height": 800,
        "legend": {
         "title": {
          "text": "<b> Company </b>"
         }
        },
        "template": {
         "data": {
          "bar": [
           {
            "error_x": {
             "color": "#2a3f5f"
            },
            "error_y": {
             "color": "#2a3f5f"
            },
            "marker": {
             "line": {
              "color": "#E5ECF6",
              "width": 0.5
             }
            },
            "type": "bar"
           }
          ],
          "barpolar": [
           {
            "marker": {
             "line": {
              "color": "#E5ECF6",
              "width": 0.5
             }
            },
            "type": "barpolar"
           }
          ],
          "carpet": [
           {
            "aaxis": {
             "endlinecolor": "#2a3f5f",
             "gridcolor": "white",
             "linecolor": "white",
             "minorgridcolor": "white",
             "startlinecolor": "#2a3f5f"
            },
            "baxis": {
             "endlinecolor": "#2a3f5f",
             "gridcolor": "white",
             "linecolor": "white",
             "minorgridcolor": "white",
             "startlinecolor": "#2a3f5f"
            },
            "type": "carpet"
           }
          ],
          "choropleth": [
           {
            "colorbar": {
             "outlinewidth": 0,
             "ticks": ""
            },
            "type": "choropleth"
           }
          ],
          "contour": [
           {
            "colorbar": {
             "outlinewidth": 0,
             "ticks": ""
            },
            "colorscale": [
             [
              0,
              "#0d0887"
             ],
             [
              0.1111111111111111,
              "#46039f"
             ],
             [
              0.2222222222222222,
              "#7201a8"
             ],
             [
              0.3333333333333333,
              "#9c179e"
             ],
             [
              0.4444444444444444,
              "#bd3786"
             ],
             [
              0.5555555555555556,
              "#d8576b"
             ],
             [
              0.6666666666666666,
              "#ed7953"
             ],
             [
              0.7777777777777778,
              "#fb9f3a"
             ],
             [
              0.8888888888888888,
              "#fdca26"
             ],
             [
              1,
              "#f0f921"
             ]
            ],
            "type": "contour"
           }
          ],
          "contourcarpet": [
           {
            "colorbar": {
             "outlinewidth": 0,
             "ticks": ""
            },
            "type": "contourcarpet"
           }
          ],
          "heatmap": [
           {
            "colorbar": {
             "outlinewidth": 0,
             "ticks": ""
            },
            "colorscale": [
             [
              0,
              "#0d0887"
             ],
             [
              0.1111111111111111,
              "#46039f"
             ],
             [
              0.2222222222222222,
              "#7201a8"
             ],
             [
              0.3333333333333333,
              "#9c179e"
             ],
             [
              0.4444444444444444,
              "#bd3786"
             ],
             [
              0.5555555555555556,
              "#d8576b"
             ],
             [
              0.6666666666666666,
              "#ed7953"
             ],
             [
              0.7777777777777778,
              "#fb9f3a"
             ],
             [
              0.8888888888888888,
              "#fdca26"
             ],
             [
              1,
              "#f0f921"
             ]
            ],
            "type": "heatmap"
           }
          ],
          "heatmapgl": [
           {
            "colorbar": {
             "outlinewidth": 0,
             "ticks": ""
            },
            "colorscale": [
             [
              0,
              "#0d0887"
             ],
             [
              0.1111111111111111,
              "#46039f"
             ],
             [
              0.2222222222222222,
              "#7201a8"
             ],
             [
              0.3333333333333333,
              "#9c179e"
             ],
             [
              0.4444444444444444,
              "#bd3786"
             ],
             [
              0.5555555555555556,
              "#d8576b"
             ],
             [
              0.6666666666666666,
              "#ed7953"
             ],
             [
              0.7777777777777778,
              "#fb9f3a"
             ],
             [
              0.8888888888888888,
              "#fdca26"
             ],
             [
              1,
              "#f0f921"
             ]
            ],
            "type": "heatmapgl"
           }
          ],
          "histogram": [
           {
            "marker": {
             "colorbar": {
              "outlinewidth": 0,
              "ticks": ""
             }
            },
            "type": "histogram"
           }
          ],
          "histogram2d": [
           {
            "colorbar": {
             "outlinewidth": 0,
             "ticks": ""
            },
            "colorscale": [
             [
              0,
              "#0d0887"
             ],
             [
              0.1111111111111111,
              "#46039f"
             ],
             [
              0.2222222222222222,
              "#7201a8"
             ],
             [
              0.3333333333333333,
              "#9c179e"
             ],
             [
              0.4444444444444444,
              "#bd3786"
             ],
             [
              0.5555555555555556,
              "#d8576b"
             ],
             [
              0.6666666666666666,
              "#ed7953"
             ],
             [
              0.7777777777777778,
              "#fb9f3a"
             ],
             [
              0.8888888888888888,
              "#fdca26"
             ],
             [
              1,
              "#f0f921"
             ]
            ],
            "type": "histogram2d"
           }
          ],
          "histogram2dcontour": [
           {
            "colorbar": {
             "outlinewidth": 0,
             "ticks": ""
            },
            "colorscale": [
             [
              0,
              "#0d0887"
             ],
             [
              0.1111111111111111,
              "#46039f"
             ],
             [
              0.2222222222222222,
              "#7201a8"
             ],
             [
              0.3333333333333333,
              "#9c179e"
             ],
             [
              0.4444444444444444,
              "#bd3786"
             ],
             [
              0.5555555555555556,
              "#d8576b"
             ],
             [
              0.6666666666666666,
              "#ed7953"
             ],
             [
              0.7777777777777778,
              "#fb9f3a"
             ],
             [
              0.8888888888888888,
              "#fdca26"
             ],
             [
              1,
              "#f0f921"
             ]
            ],
            "type": "histogram2dcontour"
           }
          ],
          "mesh3d": [
           {
            "colorbar": {
             "outlinewidth": 0,
             "ticks": ""
            },
            "type": "mesh3d"
           }
          ],
          "parcoords": [
           {
            "line": {
             "colorbar": {
              "outlinewidth": 0,
              "ticks": ""
             }
            },
            "type": "parcoords"
           }
          ],
          "pie": [
           {
            "automargin": true,
            "type": "pie"
           }
          ],
          "scatter": [
           {
            "marker": {
             "colorbar": {
              "outlinewidth": 0,
              "ticks": ""
             }
            },
            "type": "scatter"
           }
          ],
          "scatter3d": [
           {
            "line": {
             "colorbar": {
              "outlinewidth": 0,
              "ticks": ""
             }
            },
            "marker": {
             "colorbar": {
              "outlinewidth": 0,
              "ticks": ""
             }
            },
            "type": "scatter3d"
           }
          ],
          "scattercarpet": [
           {
            "marker": {
             "colorbar": {
              "outlinewidth": 0,
              "ticks": ""
             }
            },
            "type": "scattercarpet"
           }
          ],
          "scattergeo": [
           {
            "marker": {
             "colorbar": {
              "outlinewidth": 0,
              "ticks": ""
             }
            },
            "type": "scattergeo"
           }
          ],
          "scattergl": [
           {
            "marker": {
             "colorbar": {
              "outlinewidth": 0,
              "ticks": ""
             }
            },
            "type": "scattergl"
           }
          ],
          "scattermapbox": [
           {
            "marker": {
             "colorbar": {
              "outlinewidth": 0,
              "ticks": ""
             }
            },
            "type": "scattermapbox"
           }
          ],
          "scatterpolar": [
           {
            "marker": {
             "colorbar": {
              "outlinewidth": 0,
              "ticks": ""
             }
            },
            "type": "scatterpolar"
           }
          ],
          "scatterpolargl": [
           {
            "marker": {
             "colorbar": {
              "outlinewidth": 0,
              "ticks": ""
             }
            },
            "type": "scatterpolargl"
           }
          ],
          "scatterternary": [
           {
            "marker": {
             "colorbar": {
              "outlinewidth": 0,
              "ticks": ""
             }
            },
            "type": "scatterternary"
           }
          ],
          "surface": [
           {
            "colorbar": {
             "outlinewidth": 0,
             "ticks": ""
            },
            "colorscale": [
             [
              0,
              "#0d0887"
             ],
             [
              0.1111111111111111,
              "#46039f"
             ],
             [
              0.2222222222222222,
              "#7201a8"
             ],
             [
              0.3333333333333333,
              "#9c179e"
             ],
             [
              0.4444444444444444,
              "#bd3786"
             ],
             [
              0.5555555555555556,
              "#d8576b"
             ],
             [
              0.6666666666666666,
              "#ed7953"
             ],
             [
              0.7777777777777778,
              "#fb9f3a"
             ],
             [
              0.8888888888888888,
              "#fdca26"
             ],
             [
              1,
              "#f0f921"
             ]
            ],
            "type": "surface"
           }
          ],
          "table": [
           {
            "cells": {
             "fill": {
              "color": "#EBF0F8"
             },
             "line": {
              "color": "white"
             }
            },
            "header": {
             "fill": {
              "color": "#C8D4E3"
             },
             "line": {
              "color": "white"
             }
            },
            "type": "table"
           }
          ]
         },
         "layout": {
          "annotationdefaults": {
           "arrowcolor": "#2a3f5f",
           "arrowhead": 0,
           "arrowwidth": 1
          },
          "coloraxis": {
           "colorbar": {
            "outlinewidth": 0,
            "ticks": ""
           }
          },
          "colorscale": {
           "diverging": [
            [
             0,
             "#8e0152"
            ],
            [
             0.1,
             "#c51b7d"
            ],
            [
             0.2,
             "#de77ae"
            ],
            [
             0.3,
             "#f1b6da"
            ],
            [
             0.4,
             "#fde0ef"
            ],
            [
             0.5,
             "#f7f7f7"
            ],
            [
             0.6,
             "#e6f5d0"
            ],
            [
             0.7,
             "#b8e186"
            ],
            [
             0.8,
             "#7fbc41"
            ],
            [
             0.9,
             "#4d9221"
            ],
            [
             1,
             "#276419"
            ]
           ],
           "sequential": [
            [
             0,
             "#0d0887"
            ],
            [
             0.1111111111111111,
             "#46039f"
            ],
            [
             0.2222222222222222,
             "#7201a8"
            ],
            [
             0.3333333333333333,
             "#9c179e"
            ],
            [
             0.4444444444444444,
             "#bd3786"
            ],
            [
             0.5555555555555556,
             "#d8576b"
            ],
            [
             0.6666666666666666,
             "#ed7953"
            ],
            [
             0.7777777777777778,
             "#fb9f3a"
            ],
            [
             0.8888888888888888,
             "#fdca26"
            ],
            [
             1,
             "#f0f921"
            ]
           ],
           "sequentialminus": [
            [
             0,
             "#0d0887"
            ],
            [
             0.1111111111111111,
             "#46039f"
            ],
            [
             0.2222222222222222,
             "#7201a8"
            ],
            [
             0.3333333333333333,
             "#9c179e"
            ],
            [
             0.4444444444444444,
             "#bd3786"
            ],
            [
             0.5555555555555556,
             "#d8576b"
            ],
            [
             0.6666666666666666,
             "#ed7953"
            ],
            [
             0.7777777777777778,
             "#fb9f3a"
            ],
            [
             0.8888888888888888,
             "#fdca26"
            ],
            [
             1,
             "#f0f921"
            ]
           ]
          },
          "colorway": [
           "#636efa",
           "#EF553B",
           "#00cc96",
           "#ab63fa",
           "#FFA15A",
           "#19d3f3",
           "#FF6692",
           "#B6E880",
           "#FF97FF",
           "#FECB52"
          ],
          "font": {
           "color": "#2a3f5f"
          },
          "geo": {
           "bgcolor": "white",
           "lakecolor": "white",
           "landcolor": "#E5ECF6",
           "showlakes": true,
           "showland": true,
           "subunitcolor": "white"
          },
          "hoverlabel": {
           "align": "left"
          },
          "hovermode": "closest",
          "mapbox": {
           "style": "light"
          },
          "paper_bgcolor": "white",
          "plot_bgcolor": "#E5ECF6",
          "polar": {
           "angularaxis": {
            "gridcolor": "white",
            "linecolor": "white",
            "ticks": ""
           },
           "bgcolor": "#E5ECF6",
           "radialaxis": {
            "gridcolor": "white",
            "linecolor": "white",
            "ticks": ""
           }
          },
          "scene": {
           "xaxis": {
            "backgroundcolor": "#E5ECF6",
            "gridcolor": "white",
            "gridwidth": 2,
            "linecolor": "white",
            "showbackground": true,
            "ticks": "",
            "zerolinecolor": "white"
           },
           "yaxis": {
            "backgroundcolor": "#E5ECF6",
            "gridcolor": "white",
            "gridwidth": 2,
            "linecolor": "white",
            "showbackground": true,
            "ticks": "",
            "zerolinecolor": "white"
           },
           "zaxis": {
            "backgroundcolor": "#E5ECF6",
            "gridcolor": "white",
            "gridwidth": 2,
            "linecolor": "white",
            "showbackground": true,
            "ticks": "",
            "zerolinecolor": "white"
           }
          },
          "shapedefaults": {
           "line": {
            "color": "#2a3f5f"
           }
          },
          "ternary": {
           "aaxis": {
            "gridcolor": "white",
            "linecolor": "white",
            "ticks": ""
           },
           "baxis": {
            "gridcolor": "white",
            "linecolor": "white",
            "ticks": ""
           },
           "bgcolor": "#E5ECF6",
           "caxis": {
            "gridcolor": "white",
            "linecolor": "white",
            "ticks": ""
           }
          },
          "title": {
           "x": 0.05
          },
          "xaxis": {
           "automargin": true,
           "gridcolor": "white",
           "linecolor": "white",
           "ticks": "",
           "title": {
            "standoff": 15
           },
           "zerolinecolor": "white",
           "zerolinewidth": 2
          },
          "yaxis": {
           "automargin": true,
           "gridcolor": "white",
           "linecolor": "white",
           "ticks": "",
           "title": {
            "standoff": 15
           },
           "zerolinecolor": "white",
           "zerolinewidth": 2
          }
         }
        },
<<<<<<< HEAD
        "width": 1100,
=======
>>>>>>> 43c3f4fbec4b4d8c427eb3e7336f70c7b1eae197
        "xaxis": {
         "dtick": 1,
         "tick0": 2015,
         "tickmode": "linear",
         "title": {
          "font": {
           "size": 22
          },
          "text": "Years"
         }
        },
        "yaxis": {
         "title": {
          "font": {
           "size": 22
          },
          "text": "Revenue in Mio. €"
         }
        }
       }
      },
      "text/html": [
       "<div>\n",
       "        \n",
       "        \n",
<<<<<<< HEAD
       "            <div id=\"8c7cc3f7-eb83-41be-aa54-77e7f240a068\" class=\"plotly-graph-div\" style=\"height:800px; width:1100px;\"></div>\n",
=======
       "            <div id=\"34abc740-b570-41b5-a3da-61becee4959e\" class=\"plotly-graph-div\" style=\"height:525px; width:100%;\"></div>\n",
>>>>>>> 43c3f4fbec4b4d8c427eb3e7336f70c7b1eae197
       "            <script type=\"text/javascript\">\n",
       "                require([\"plotly\"], function(Plotly) {\n",
       "                    window.PLOTLYENV=window.PLOTLYENV || {};\n",
       "                    \n",
<<<<<<< HEAD
       "                if (document.getElementById(\"8c7cc3f7-eb83-41be-aa54-77e7f240a068\")) {\n",
       "                    Plotly.newPlot(\n",
       "                        '8c7cc3f7-eb83-41be-aa54-77e7f240a068',\n",
       "                        [{\"mode\": \"markers+lines\", \"name\": \"Robert Bosch GmbH\", \"text\": \"<b>Robert Bosch GmbH</b> <br>Revenue 2015: 70607.0 <br>Revenue 2016: 73129.0 <br>Revenue 2017: 78066.0 <br>Revenue 2018: 78465.0\", \"type\": \"scatter\", \"x\": [2015, 2016, 2017, 2018], \"y\": [70607.0, 73129.0, 78066.0, 78465.0]}, {\"mode\": \"markers+lines\", \"name\": \"Continental AG\", \"text\": \"<b>Continental AG</b> <br>Revenue 2015: 39232.0 <br>Revenue 2016: 40550.0 <br>Revenue 2017: 44010.0 <br>Revenue 2018: 44404.0\", \"type\": \"scatter\", \"x\": [2015, 2016, 2017, 2018], \"y\": [39232.0, 40550.0, 44010.0, 44404.0]}, {\"mode\": \"markers+lines\", \"name\": \"ZF Friedrichshafen AG\", \"text\": \"<b>ZF Friedrichshafen AG</b> <br>Revenue 2015: 29154.0 <br>Revenue 2016: 35166.0 <br>Revenue 2017: 36444.0 <br>Revenue 2018: 36929.0\", \"type\": \"scatter\", \"x\": [2015, 2016, 2017, 2018], \"y\": [29154.0, 35166.0, 36444.0, 36929.0]}, {\"mode\": \"markers+lines\", \"name\": \"thyssenkrupp AG\", \"text\": \"<b>thyssenkrupp AG</b> <br>Revenue 2015: 42778.0 <br>Revenue 2016: 39263.0 <br>Revenue 2017: 33993.0 <br>Revenue 2018: 34777.0\", \"type\": \"scatter\", \"x\": [2015, 2016, 2017, 2018], \"y\": [42778.0, 39263.0, 33993.0, 34777.0]}, {\"mode\": \"markers+lines\", \"name\": \"Schaeffler AG\", \"text\": \"<b>Schaeffler AG</b> <br>Revenue 2015: 13179.0 <br>Revenue 2016: 13338.0 <br>Revenue 2017: 14021.0 <br>Revenue 2018: 14241.0\", \"type\": \"scatter\", \"x\": [2015, 2016, 2017, 2018], \"y\": [13179.0, 13338.0, 14021.0, 14241.0]}, {\"mode\": \"markers+lines\", \"name\": \"Freudenberg SE\", \"text\": \"<b>Freudenberg SE</b> <br>Revenue 2015: 7900.0 <br>Revenue 2016: 6411.0 <br>Revenue 2017: 9455.0 <br>Revenue 2018: 9346.0\", \"type\": \"scatter\", \"x\": [2015, 2016, 2017, 2018], \"y\": [7900.0, 6411.0, 9455.0, 9346.0]}, {\"mode\": \"markers+lines\", \"name\": \"HELLA GmbH & Co. KGaA\", \"text\": \"<b>HELLA GmbH & Co. KGaA</b> <br>Revenue 2015: nan <br>Revenue 2016: 6585.0 <br>Revenue 2017: 7060.0 <br>Revenue 2018: 6990.0\", \"type\": \"scatter\", \"x\": [2015, 2016, 2017, 2018], \"y\": [null, 6585.0, 7060.0, 6990.0]}, {\"mode\": \"markers+lines\", \"name\": \"Brose Fahrzeugteile SE & Co. Kommanditgesellschaft\", \"text\": \"<b>Brose Fahrzeugteile SE & Co. Kommanditgesellschaft</b> <br>Revenue 2015: 6053.0 <br>Revenue 2016: 6149.0 <br>Revenue 2017: 6311.0 <br>Revenue 2018: 6263.0\", \"type\": \"scatter\", \"x\": [2015, 2016, 2017, 2018], \"y\": [6053.0, 6149.0, 6311.0, 6263.0]}, {\"mode\": \"markers+lines\", \"name\": \"LEONI AG\", \"text\": \"<b>LEONI AG</b> <br>Revenue 2015: 4502.0 <br>Revenue 2016: 4431.0 <br>Revenue 2017: 4925.0 <br>Revenue 2018: 5101.0\", \"type\": \"scatter\", \"x\": [2015, 2016, 2017, 2018], \"y\": [4502.0, 4431.0, 4925.0, 5101.0]}, {\"mode\": \"markers+lines\", \"name\": \"Ebersp\\u00e4cher Gruppe GmbH & Co. KG\", \"text\": \"<b>Ebersp\\u00e4cher Gruppe GmbH & Co. KG</b> <br>Revenue 2015: 4371.0 <br>Revenue 2016: 4324.0 <br>Revenue 2017: 4481.0 <br>Revenue 2018: 4610.0\", \"type\": \"scatter\", \"x\": [2015, 2016, 2017, 2018], \"y\": [4371.0, 4324.0, 4481.0, 4610.0]}, {\"mode\": \"markers+lines\", \"name\": \"Fritz Dr\\u00e4xlmaier GmbH & Co. KG\", \"text\": \"<b>Fritz Dr\\u00e4xlmaier GmbH & Co. KG</b> <br>Revenue 2015: 3744.0 <br>Revenue 2016: 3677.0 <br>Revenue 2017: 4063.0 <br>Revenue 2018: 4551.0\", \"type\": \"scatter\", \"x\": [2015, 2016, 2017, 2018], \"y\": [3744.0, 3677.0, 4063.0, 4551.0]}, {\"mode\": \"markers+lines\", \"name\": \"Voith GmbH & Co. KGaA\", \"text\": \"<b>Voith GmbH & Co. KGaA</b> <br>Revenue 2015: 4303.0 <br>Revenue 2016: 4252.0 <br>Revenue 2017: 4224.0 <br>Revenue 2018: 4209.0\", \"type\": \"scatter\", \"x\": [2015, 2016, 2017, 2018], \"y\": [4303.0, 4252.0, 4224.0, 4209.0]}, {\"mode\": \"markers+lines\", \"name\": \"D\\u00fcrr Aktiengesellschaft\", \"text\": \"<b>D\\u00fcrr Aktiengesellschaft</b> <br>Revenue 2015: 3767.0 <br>Revenue 2016: 3574.0 <br>Revenue 2017: 3713.0 <br>Revenue 2018: 3870.0\", \"type\": \"scatter\", \"x\": [2015, 2016, 2017, 2018], \"y\": [3767.0, 3574.0, 3713.0, 3870.0]}, {\"mode\": \"markers+lines\", \"name\": \"Diehl Stiftung & Co. KG\", \"text\": \"<b>Diehl Stiftung & Co. KG</b> <br>Revenue 2015: 3109.0 <br>Revenue 2016: 3410.0 <br>Revenue 2017: 3749.0 <br>Revenue 2018: 3694.0\", \"type\": \"scatter\", \"x\": [2015, 2016, 2017, 2018], \"y\": [3109.0, 3410.0, 3749.0, 3694.0]}, {\"mode\": \"markers+lines\", \"name\": \"Webasto SE\", \"text\": \"<b>Webasto SE</b> <br>Revenue 2015: 2942.0 <br>Revenue 2016: 3187.0 <br>Revenue 2017: 3512.0 <br>Revenue 2018: 3433.0\", \"type\": \"scatter\", \"x\": [2015, 2016, 2017, 2018], \"y\": [2942.0, 3187.0, 3512.0, 3433.0]}, {\"mode\": \"markers+lines\", \"name\": \"OTTO FUCHS KG\", \"text\": \"<b>OTTO FUCHS KG</b> <br>Revenue 2015: 2386.0 <br>Revenue 2016: 2448.0 <br>Revenue 2017: 2658.0 <br>Revenue 2018: 2811.0\", \"type\": \"scatter\", \"x\": [2015, 2016, 2017, 2018], \"y\": [2386.0, 2448.0, 2658.0, 2811.0]}, {\"mode\": \"markers+lines\", \"name\": \"AUNDE Group SE\", \"text\": \"<b>AUNDE Group SE</b> <br>Revenue 2015: nan <br>Revenue 2016: nan <br>Revenue 2017: nan <br>Revenue 2018: 2700.0\", \"type\": \"scatter\", \"x\": [2015, 2016, 2017, 2018], \"y\": [null, null, null, 2700.0]}, {\"mode\": \"markers+lines\", \"name\": \"Michelin Reifenwerke AG & Co. KGaA\", \"text\": \"<b>Michelin Reifenwerke AG & Co. KGaA</b> <br>Revenue 2015: 2520.0 <br>Revenue 2016: 2611.0 <br>Revenue 2017: 2755.0 <br>Revenue 2018: 2639.0\", \"type\": \"scatter\", \"x\": [2015, 2016, 2017, 2018], \"y\": [2520.0, 2611.0, 2755.0, 2639.0]}, {\"mode\": \"markers+lines\", \"name\": \"Muhr und Bender KG\", \"text\": \"<b>Muhr und Bender KG</b> <br>Revenue 2015: 1817.0 <br>Revenue 2016: 1952.0 <br>Revenue 2017: 2176.0 <br>Revenue 2018: 2385.0\", \"type\": \"scatter\", \"x\": [2015, 2016, 2017, 2018], \"y\": [1817.0, 1952.0, 2176.0, 2385.0]}, {\"mode\": \"markers+lines\", \"name\": \"R\\u00f6chling SE & Co. KG\", \"text\": \"<b>R\\u00f6chling SE & Co. KG</b> <br>Revenue 2015: 1555.0 <br>Revenue 2016: 1657.0 <br>Revenue 2017: 1841.0 <br>Revenue 2018: 2140.0\", \"type\": \"scatter\", \"x\": [2015, 2016, 2017, 2018], \"y\": [1555.0, 1657.0, 1841.0, 2140.0]}],\n",
       "                        {\"height\": 800, \"legend\": {\"title\": {\"text\": \"<b> Company </b>\"}}, \"template\": {\"data\": {\"bar\": [{\"error_x\": {\"color\": \"#2a3f5f\"}, \"error_y\": {\"color\": \"#2a3f5f\"}, \"marker\": {\"line\": {\"color\": \"#E5ECF6\", \"width\": 0.5}}, \"type\": \"bar\"}], \"barpolar\": [{\"marker\": {\"line\": {\"color\": \"#E5ECF6\", \"width\": 0.5}}, \"type\": \"barpolar\"}], \"carpet\": [{\"aaxis\": {\"endlinecolor\": \"#2a3f5f\", \"gridcolor\": \"white\", \"linecolor\": \"white\", \"minorgridcolor\": \"white\", \"startlinecolor\": \"#2a3f5f\"}, \"baxis\": {\"endlinecolor\": \"#2a3f5f\", \"gridcolor\": \"white\", \"linecolor\": \"white\", \"minorgridcolor\": \"white\", \"startlinecolor\": \"#2a3f5f\"}, \"type\": \"carpet\"}], \"choropleth\": [{\"colorbar\": {\"outlinewidth\": 0, \"ticks\": \"\"}, \"type\": \"choropleth\"}], \"contour\": [{\"colorbar\": {\"outlinewidth\": 0, \"ticks\": \"\"}, \"colorscale\": [[0.0, \"#0d0887\"], [0.1111111111111111, \"#46039f\"], [0.2222222222222222, \"#7201a8\"], [0.3333333333333333, \"#9c179e\"], [0.4444444444444444, \"#bd3786\"], [0.5555555555555556, \"#d8576b\"], [0.6666666666666666, \"#ed7953\"], [0.7777777777777778, \"#fb9f3a\"], [0.8888888888888888, \"#fdca26\"], [1.0, \"#f0f921\"]], \"type\": \"contour\"}], \"contourcarpet\": [{\"colorbar\": {\"outlinewidth\": 0, \"ticks\": \"\"}, \"type\": \"contourcarpet\"}], \"heatmap\": [{\"colorbar\": {\"outlinewidth\": 0, \"ticks\": \"\"}, \"colorscale\": [[0.0, \"#0d0887\"], [0.1111111111111111, \"#46039f\"], [0.2222222222222222, \"#7201a8\"], [0.3333333333333333, \"#9c179e\"], [0.4444444444444444, \"#bd3786\"], [0.5555555555555556, \"#d8576b\"], [0.6666666666666666, \"#ed7953\"], [0.7777777777777778, \"#fb9f3a\"], [0.8888888888888888, \"#fdca26\"], [1.0, \"#f0f921\"]], \"type\": \"heatmap\"}], \"heatmapgl\": [{\"colorbar\": {\"outlinewidth\": 0, \"ticks\": \"\"}, \"colorscale\": [[0.0, \"#0d0887\"], [0.1111111111111111, \"#46039f\"], [0.2222222222222222, \"#7201a8\"], [0.3333333333333333, \"#9c179e\"], [0.4444444444444444, \"#bd3786\"], [0.5555555555555556, \"#d8576b\"], [0.6666666666666666, \"#ed7953\"], [0.7777777777777778, \"#fb9f3a\"], [0.8888888888888888, \"#fdca26\"], [1.0, \"#f0f921\"]], \"type\": \"heatmapgl\"}], \"histogram\": [{\"marker\": {\"colorbar\": {\"outlinewidth\": 0, \"ticks\": \"\"}}, \"type\": \"histogram\"}], \"histogram2d\": [{\"colorbar\": {\"outlinewidth\": 0, \"ticks\": \"\"}, \"colorscale\": [[0.0, \"#0d0887\"], [0.1111111111111111, \"#46039f\"], [0.2222222222222222, \"#7201a8\"], [0.3333333333333333, \"#9c179e\"], [0.4444444444444444, \"#bd3786\"], [0.5555555555555556, \"#d8576b\"], [0.6666666666666666, \"#ed7953\"], [0.7777777777777778, \"#fb9f3a\"], [0.8888888888888888, \"#fdca26\"], [1.0, \"#f0f921\"]], \"type\": \"histogram2d\"}], \"histogram2dcontour\": [{\"colorbar\": {\"outlinewidth\": 0, \"ticks\": \"\"}, \"colorscale\": [[0.0, \"#0d0887\"], [0.1111111111111111, \"#46039f\"], [0.2222222222222222, \"#7201a8\"], [0.3333333333333333, \"#9c179e\"], [0.4444444444444444, \"#bd3786\"], [0.5555555555555556, \"#d8576b\"], [0.6666666666666666, \"#ed7953\"], [0.7777777777777778, \"#fb9f3a\"], [0.8888888888888888, \"#fdca26\"], [1.0, \"#f0f921\"]], \"type\": \"histogram2dcontour\"}], \"mesh3d\": [{\"colorbar\": {\"outlinewidth\": 0, \"ticks\": \"\"}, \"type\": \"mesh3d\"}], \"parcoords\": [{\"line\": {\"colorbar\": {\"outlinewidth\": 0, \"ticks\": \"\"}}, \"type\": \"parcoords\"}], \"pie\": [{\"automargin\": true, \"type\": \"pie\"}], \"scatter\": [{\"marker\": {\"colorbar\": {\"outlinewidth\": 0, \"ticks\": \"\"}}, \"type\": \"scatter\"}], \"scatter3d\": [{\"line\": {\"colorbar\": {\"outlinewidth\": 0, \"ticks\": \"\"}}, \"marker\": {\"colorbar\": {\"outlinewidth\": 0, \"ticks\": \"\"}}, \"type\": \"scatter3d\"}], \"scattercarpet\": [{\"marker\": {\"colorbar\": {\"outlinewidth\": 0, \"ticks\": \"\"}}, \"type\": \"scattercarpet\"}], \"scattergeo\": [{\"marker\": {\"colorbar\": {\"outlinewidth\": 0, \"ticks\": \"\"}}, \"type\": \"scattergeo\"}], \"scattergl\": [{\"marker\": {\"colorbar\": {\"outlinewidth\": 0, \"ticks\": \"\"}}, \"type\": \"scattergl\"}], \"scattermapbox\": [{\"marker\": {\"colorbar\": {\"outlinewidth\": 0, \"ticks\": \"\"}}, \"type\": \"scattermapbox\"}], \"scatterpolar\": [{\"marker\": {\"colorbar\": {\"outlinewidth\": 0, \"ticks\": \"\"}}, \"type\": \"scatterpolar\"}], \"scatterpolargl\": [{\"marker\": {\"colorbar\": {\"outlinewidth\": 0, \"ticks\": \"\"}}, \"type\": \"scatterpolargl\"}], \"scatterternary\": [{\"marker\": {\"colorbar\": {\"outlinewidth\": 0, \"ticks\": \"\"}}, \"type\": \"scatterternary\"}], \"surface\": [{\"colorbar\": {\"outlinewidth\": 0, \"ticks\": \"\"}, \"colorscale\": [[0.0, \"#0d0887\"], [0.1111111111111111, \"#46039f\"], [0.2222222222222222, \"#7201a8\"], [0.3333333333333333, \"#9c179e\"], [0.4444444444444444, \"#bd3786\"], [0.5555555555555556, \"#d8576b\"], [0.6666666666666666, \"#ed7953\"], [0.7777777777777778, \"#fb9f3a\"], [0.8888888888888888, \"#fdca26\"], [1.0, \"#f0f921\"]], \"type\": \"surface\"}], \"table\": [{\"cells\": {\"fill\": {\"color\": \"#EBF0F8\"}, \"line\": {\"color\": \"white\"}}, \"header\": {\"fill\": {\"color\": \"#C8D4E3\"}, \"line\": {\"color\": \"white\"}}, \"type\": \"table\"}]}, \"layout\": {\"annotationdefaults\": {\"arrowcolor\": \"#2a3f5f\", \"arrowhead\": 0, \"arrowwidth\": 1}, \"coloraxis\": {\"colorbar\": {\"outlinewidth\": 0, \"ticks\": \"\"}}, \"colorscale\": {\"diverging\": [[0, \"#8e0152\"], [0.1, \"#c51b7d\"], [0.2, \"#de77ae\"], [0.3, \"#f1b6da\"], [0.4, \"#fde0ef\"], [0.5, \"#f7f7f7\"], [0.6, \"#e6f5d0\"], [0.7, \"#b8e186\"], [0.8, \"#7fbc41\"], [0.9, \"#4d9221\"], [1, \"#276419\"]], \"sequential\": [[0.0, \"#0d0887\"], [0.1111111111111111, \"#46039f\"], [0.2222222222222222, \"#7201a8\"], [0.3333333333333333, \"#9c179e\"], [0.4444444444444444, \"#bd3786\"], [0.5555555555555556, \"#d8576b\"], [0.6666666666666666, \"#ed7953\"], [0.7777777777777778, \"#fb9f3a\"], [0.8888888888888888, \"#fdca26\"], [1.0, \"#f0f921\"]], \"sequentialminus\": [[0.0, \"#0d0887\"], [0.1111111111111111, \"#46039f\"], [0.2222222222222222, \"#7201a8\"], [0.3333333333333333, \"#9c179e\"], [0.4444444444444444, \"#bd3786\"], [0.5555555555555556, \"#d8576b\"], [0.6666666666666666, \"#ed7953\"], [0.7777777777777778, \"#fb9f3a\"], [0.8888888888888888, \"#fdca26\"], [1.0, \"#f0f921\"]]}, \"colorway\": [\"#636efa\", \"#EF553B\", \"#00cc96\", \"#ab63fa\", \"#FFA15A\", \"#19d3f3\", \"#FF6692\", \"#B6E880\", \"#FF97FF\", \"#FECB52\"], \"font\": {\"color\": \"#2a3f5f\"}, \"geo\": {\"bgcolor\": \"white\", \"lakecolor\": \"white\", \"landcolor\": \"#E5ECF6\", \"showlakes\": true, \"showland\": true, \"subunitcolor\": \"white\"}, \"hoverlabel\": {\"align\": \"left\"}, \"hovermode\": \"closest\", \"mapbox\": {\"style\": \"light\"}, \"paper_bgcolor\": \"white\", \"plot_bgcolor\": \"#E5ECF6\", \"polar\": {\"angularaxis\": {\"gridcolor\": \"white\", \"linecolor\": \"white\", \"ticks\": \"\"}, \"bgcolor\": \"#E5ECF6\", \"radialaxis\": {\"gridcolor\": \"white\", \"linecolor\": \"white\", \"ticks\": \"\"}}, \"scene\": {\"xaxis\": {\"backgroundcolor\": \"#E5ECF6\", \"gridcolor\": \"white\", \"gridwidth\": 2, \"linecolor\": \"white\", \"showbackground\": true, \"ticks\": \"\", \"zerolinecolor\": \"white\"}, \"yaxis\": {\"backgroundcolor\": \"#E5ECF6\", \"gridcolor\": \"white\", \"gridwidth\": 2, \"linecolor\": \"white\", \"showbackground\": true, \"ticks\": \"\", \"zerolinecolor\": \"white\"}, \"zaxis\": {\"backgroundcolor\": \"#E5ECF6\", \"gridcolor\": \"white\", \"gridwidth\": 2, \"linecolor\": \"white\", \"showbackground\": true, \"ticks\": \"\", \"zerolinecolor\": \"white\"}}, \"shapedefaults\": {\"line\": {\"color\": \"#2a3f5f\"}}, \"ternary\": {\"aaxis\": {\"gridcolor\": \"white\", \"linecolor\": \"white\", \"ticks\": \"\"}, \"baxis\": {\"gridcolor\": \"white\", \"linecolor\": \"white\", \"ticks\": \"\"}, \"bgcolor\": \"#E5ECF6\", \"caxis\": {\"gridcolor\": \"white\", \"linecolor\": \"white\", \"ticks\": \"\"}}, \"title\": {\"x\": 0.05}, \"xaxis\": {\"automargin\": true, \"gridcolor\": \"white\", \"linecolor\": \"white\", \"ticks\": \"\", \"title\": {\"standoff\": 15}, \"zerolinecolor\": \"white\", \"zerolinewidth\": 2}, \"yaxis\": {\"automargin\": true, \"gridcolor\": \"white\", \"linecolor\": \"white\", \"ticks\": \"\", \"title\": {\"standoff\": 15}, \"zerolinecolor\": \"white\", \"zerolinewidth\": 2}}}, \"width\": 1100, \"xaxis\": {\"dtick\": 1, \"tick0\": 2015, \"tickmode\": \"linear\", \"title\": {\"font\": {\"size\": 22}, \"text\": \"Years\"}}, \"yaxis\": {\"title\": {\"font\": {\"size\": 22}, \"text\": \"Revenue in Mio. \\u20ac\"}}},\n",
       "                        {\"responsive\": true}\n",
       "                    ).then(function(){\n",
       "                            \n",
       "var gd = document.getElementById('8c7cc3f7-eb83-41be-aa54-77e7f240a068');\n",
=======
       "                if (document.getElementById(\"34abc740-b570-41b5-a3da-61becee4959e\")) {\n",
       "                    Plotly.newPlot(\n",
       "                        '34abc740-b570-41b5-a3da-61becee4959e',\n",
       "                        [{\"mode\": \"markers+lines\", \"name\": \"Robert Bosch GmbH\", \"text\": \"<b>Robert Bosch GmbH</b> <br>Revenue 2015: 70607.0 <br>Revenue 2016: 73129.0 <br>Revenue 2017: 78066.0 <br>Revenue 2018: 78465.0\", \"type\": \"scatter\", \"x\": [2015, 2016, 2017, 2018], \"y\": [70607.0, 73129.0, 78066.0, 78465.0]}, {\"mode\": \"markers+lines\", \"name\": \"Continental AG\", \"text\": \"<b>Continental AG</b> <br>Revenue 2015: 39232.0 <br>Revenue 2016: 40550.0 <br>Revenue 2017: 44010.0 <br>Revenue 2018: 44404.0\", \"type\": \"scatter\", \"x\": [2015, 2016, 2017, 2018], \"y\": [39232.0, 40550.0, 44010.0, 44404.0]}, {\"mode\": \"markers+lines\", \"name\": \"ZF Friedrichshafen AG\", \"text\": \"<b>ZF Friedrichshafen AG</b> <br>Revenue 2015: 29154.0 <br>Revenue 2016: 35166.0 <br>Revenue 2017: 36444.0 <br>Revenue 2018: 36929.0\", \"type\": \"scatter\", \"x\": [2015, 2016, 2017, 2018], \"y\": [29154.0, 35166.0, 36444.0, 36929.0]}, {\"mode\": \"markers+lines\", \"name\": \"thyssenkrupp AG\", \"text\": \"<b>thyssenkrupp AG</b> <br>Revenue 2015: 42778.0 <br>Revenue 2016: 39263.0 <br>Revenue 2017: 33993.0 <br>Revenue 2018: 34777.0\", \"type\": \"scatter\", \"x\": [2015, 2016, 2017, 2018], \"y\": [42778.0, 39263.0, 33993.0, 34777.0]}, {\"mode\": \"markers+lines\", \"name\": \"Schaeffler AG\", \"text\": \"<b>Schaeffler AG</b> <br>Revenue 2015: 13179.0 <br>Revenue 2016: 13338.0 <br>Revenue 2017: 14021.0 <br>Revenue 2018: 14241.0\", \"type\": \"scatter\", \"x\": [2015, 2016, 2017, 2018], \"y\": [13179.0, 13338.0, 14021.0, 14241.0]}, {\"mode\": \"markers+lines\", \"name\": \"Freudenberg SE\", \"text\": \"<b>Freudenberg SE</b> <br>Revenue 2015: 7900.0 <br>Revenue 2016: 6411.0 <br>Revenue 2017: 9455.0 <br>Revenue 2018: 9346.0\", \"type\": \"scatter\", \"x\": [2015, 2016, 2017, 2018], \"y\": [7900.0, 6411.0, 9455.0, 9346.0]}, {\"mode\": \"markers+lines\", \"name\": \"HELLA GmbH & Co. KGaA\", \"text\": \"<b>HELLA GmbH & Co. KGaA</b> <br>Revenue 2015: nan <br>Revenue 2016: 6585.0 <br>Revenue 2017: 7060.0 <br>Revenue 2018: 6990.0\", \"type\": \"scatter\", \"x\": [2015, 2016, 2017, 2018], \"y\": [null, 6585.0, 7060.0, 6990.0]}, {\"mode\": \"markers+lines\", \"name\": \"Brose Fahrzeugteile SE & Co. Kommanditgesellschaft\", \"text\": \"<b>Brose Fahrzeugteile SE & Co. Kommanditgesellschaft</b> <br>Revenue 2015: 6053.0 <br>Revenue 2016: 6149.0 <br>Revenue 2017: 6311.0 <br>Revenue 2018: 6263.0\", \"type\": \"scatter\", \"x\": [2015, 2016, 2017, 2018], \"y\": [6053.0, 6149.0, 6311.0, 6263.0]}, {\"mode\": \"markers+lines\", \"name\": \"LEONI AG\", \"text\": \"<b>LEONI AG</b> <br>Revenue 2015: 4502.0 <br>Revenue 2016: 4431.0 <br>Revenue 2017: 4925.0 <br>Revenue 2018: 5101.0\", \"type\": \"scatter\", \"x\": [2015, 2016, 2017, 2018], \"y\": [4502.0, 4431.0, 4925.0, 5101.0]}, {\"mode\": \"markers+lines\", \"name\": \"Ebersp\\u00e4cher Gruppe GmbH & Co. KG\", \"text\": \"<b>Ebersp\\u00e4cher Gruppe GmbH & Co. KG</b> <br>Revenue 2015: 4371.0 <br>Revenue 2016: 4324.0 <br>Revenue 2017: 4481.0 <br>Revenue 2018: 4610.0\", \"type\": \"scatter\", \"x\": [2015, 2016, 2017, 2018], \"y\": [4371.0, 4324.0, 4481.0, 4610.0]}, {\"mode\": \"markers+lines\", \"name\": \"Fritz Dr\\u00e4xlmaier GmbH & Co. KG\", \"text\": \"<b>Fritz Dr\\u00e4xlmaier GmbH & Co. KG</b> <br>Revenue 2015: 3744.0 <br>Revenue 2016: 3677.0 <br>Revenue 2017: 4063.0 <br>Revenue 2018: 4551.0\", \"type\": \"scatter\", \"x\": [2015, 2016, 2017, 2018], \"y\": [3744.0, 3677.0, 4063.0, 4551.0]}, {\"mode\": \"markers+lines\", \"name\": \"Voith GmbH & Co. KGaA\", \"text\": \"<b>Voith GmbH & Co. KGaA</b> <br>Revenue 2015: 4303.0 <br>Revenue 2016: 4252.0 <br>Revenue 2017: 4224.0 <br>Revenue 2018: 4209.0\", \"type\": \"scatter\", \"x\": [2015, 2016, 2017, 2018], \"y\": [4303.0, 4252.0, 4224.0, 4209.0]}, {\"mode\": \"markers+lines\", \"name\": \"D\\u00fcrr Aktiengesellschaft\", \"text\": \"<b>D\\u00fcrr Aktiengesellschaft</b> <br>Revenue 2015: 3767.0 <br>Revenue 2016: 3574.0 <br>Revenue 2017: 3713.0 <br>Revenue 2018: 3870.0\", \"type\": \"scatter\", \"x\": [2015, 2016, 2017, 2018], \"y\": [3767.0, 3574.0, 3713.0, 3870.0]}, {\"mode\": \"markers+lines\", \"name\": \"Diehl Stiftung & Co. KG\", \"text\": \"<b>Diehl Stiftung & Co. KG</b> <br>Revenue 2015: 3109.0 <br>Revenue 2016: 3410.0 <br>Revenue 2017: 3749.0 <br>Revenue 2018: 3694.0\", \"type\": \"scatter\", \"x\": [2015, 2016, 2017, 2018], \"y\": [3109.0, 3410.0, 3749.0, 3694.0]}, {\"mode\": \"markers+lines\", \"name\": \"Webasto SE\", \"text\": \"<b>Webasto SE</b> <br>Revenue 2015: 2942.0 <br>Revenue 2016: 3187.0 <br>Revenue 2017: 3512.0 <br>Revenue 2018: 3433.0\", \"type\": \"scatter\", \"x\": [2015, 2016, 2017, 2018], \"y\": [2942.0, 3187.0, 3512.0, 3433.0]}, {\"mode\": \"markers+lines\", \"name\": \"OTTO FUCHS KG\", \"text\": \"<b>OTTO FUCHS KG</b> <br>Revenue 2015: 2386.0 <br>Revenue 2016: 2448.0 <br>Revenue 2017: 2658.0 <br>Revenue 2018: 2811.0\", \"type\": \"scatter\", \"x\": [2015, 2016, 2017, 2018], \"y\": [2386.0, 2448.0, 2658.0, 2811.0]}, {\"mode\": \"markers+lines\", \"name\": \"AUNDE Group SE\", \"text\": \"<b>AUNDE Group SE</b> <br>Revenue 2015: nan <br>Revenue 2016: nan <br>Revenue 2017: nan <br>Revenue 2018: 2700.0\", \"type\": \"scatter\", \"x\": [2015, 2016, 2017, 2018], \"y\": [null, null, null, 2700.0]}, {\"mode\": \"markers+lines\", \"name\": \"Michelin Reifenwerke AG & Co. KGaA\", \"text\": \"<b>Michelin Reifenwerke AG & Co. KGaA</b> <br>Revenue 2015: 2520.0 <br>Revenue 2016: 2611.0 <br>Revenue 2017: 2755.0 <br>Revenue 2018: 2639.0\", \"type\": \"scatter\", \"x\": [2015, 2016, 2017, 2018], \"y\": [2520.0, 2611.0, 2755.0, 2639.0]}, {\"mode\": \"markers+lines\", \"name\": \"Muhr und Bender KG\", \"text\": \"<b>Muhr und Bender KG</b> <br>Revenue 2015: 1817.0 <br>Revenue 2016: 1952.0 <br>Revenue 2017: 2176.0 <br>Revenue 2018: 2385.0\", \"type\": \"scatter\", \"x\": [2015, 2016, 2017, 2018], \"y\": [1817.0, 1952.0, 2176.0, 2385.0]}, {\"mode\": \"markers+lines\", \"name\": \"R\\u00f6chling SE & Co. KG\", \"text\": \"<b>R\\u00f6chling SE & Co. KG</b> <br>Revenue 2015: 1555.0 <br>Revenue 2016: 1657.0 <br>Revenue 2017: 1841.0 <br>Revenue 2018: 2140.0\", \"type\": \"scatter\", \"x\": [2015, 2016, 2017, 2018], \"y\": [1555.0, 1657.0, 1841.0, 2140.0]}],\n",
       "                        {\"template\": {\"data\": {\"bar\": [{\"error_x\": {\"color\": \"#2a3f5f\"}, \"error_y\": {\"color\": \"#2a3f5f\"}, \"marker\": {\"line\": {\"color\": \"#E5ECF6\", \"width\": 0.5}}, \"type\": \"bar\"}], \"barpolar\": [{\"marker\": {\"line\": {\"color\": \"#E5ECF6\", \"width\": 0.5}}, \"type\": \"barpolar\"}], \"carpet\": [{\"aaxis\": {\"endlinecolor\": \"#2a3f5f\", \"gridcolor\": \"white\", \"linecolor\": \"white\", \"minorgridcolor\": \"white\", \"startlinecolor\": \"#2a3f5f\"}, \"baxis\": {\"endlinecolor\": \"#2a3f5f\", \"gridcolor\": \"white\", \"linecolor\": \"white\", \"minorgridcolor\": \"white\", \"startlinecolor\": \"#2a3f5f\"}, \"type\": \"carpet\"}], \"choropleth\": [{\"colorbar\": {\"outlinewidth\": 0, \"ticks\": \"\"}, \"type\": \"choropleth\"}], \"contour\": [{\"colorbar\": {\"outlinewidth\": 0, \"ticks\": \"\"}, \"colorscale\": [[0.0, \"#0d0887\"], [0.1111111111111111, \"#46039f\"], [0.2222222222222222, \"#7201a8\"], [0.3333333333333333, \"#9c179e\"], [0.4444444444444444, \"#bd3786\"], [0.5555555555555556, \"#d8576b\"], [0.6666666666666666, \"#ed7953\"], [0.7777777777777778, \"#fb9f3a\"], [0.8888888888888888, \"#fdca26\"], [1.0, \"#f0f921\"]], \"type\": \"contour\"}], \"contourcarpet\": [{\"colorbar\": {\"outlinewidth\": 0, \"ticks\": \"\"}, \"type\": \"contourcarpet\"}], \"heatmap\": [{\"colorbar\": {\"outlinewidth\": 0, \"ticks\": \"\"}, \"colorscale\": [[0.0, \"#0d0887\"], [0.1111111111111111, \"#46039f\"], [0.2222222222222222, \"#7201a8\"], [0.3333333333333333, \"#9c179e\"], [0.4444444444444444, \"#bd3786\"], [0.5555555555555556, \"#d8576b\"], [0.6666666666666666, \"#ed7953\"], [0.7777777777777778, \"#fb9f3a\"], [0.8888888888888888, \"#fdca26\"], [1.0, \"#f0f921\"]], \"type\": \"heatmap\"}], \"heatmapgl\": [{\"colorbar\": {\"outlinewidth\": 0, \"ticks\": \"\"}, \"colorscale\": [[0.0, \"#0d0887\"], [0.1111111111111111, \"#46039f\"], [0.2222222222222222, \"#7201a8\"], [0.3333333333333333, \"#9c179e\"], [0.4444444444444444, \"#bd3786\"], [0.5555555555555556, \"#d8576b\"], [0.6666666666666666, \"#ed7953\"], [0.7777777777777778, \"#fb9f3a\"], [0.8888888888888888, \"#fdca26\"], [1.0, \"#f0f921\"]], \"type\": \"heatmapgl\"}], \"histogram\": [{\"marker\": {\"colorbar\": {\"outlinewidth\": 0, \"ticks\": \"\"}}, \"type\": \"histogram\"}], \"histogram2d\": [{\"colorbar\": {\"outlinewidth\": 0, \"ticks\": \"\"}, \"colorscale\": [[0.0, \"#0d0887\"], [0.1111111111111111, \"#46039f\"], [0.2222222222222222, \"#7201a8\"], [0.3333333333333333, \"#9c179e\"], [0.4444444444444444, \"#bd3786\"], [0.5555555555555556, \"#d8576b\"], [0.6666666666666666, \"#ed7953\"], [0.7777777777777778, \"#fb9f3a\"], [0.8888888888888888, \"#fdca26\"], [1.0, \"#f0f921\"]], \"type\": \"histogram2d\"}], \"histogram2dcontour\": [{\"colorbar\": {\"outlinewidth\": 0, \"ticks\": \"\"}, \"colorscale\": [[0.0, \"#0d0887\"], [0.1111111111111111, \"#46039f\"], [0.2222222222222222, \"#7201a8\"], [0.3333333333333333, \"#9c179e\"], [0.4444444444444444, \"#bd3786\"], [0.5555555555555556, \"#d8576b\"], [0.6666666666666666, \"#ed7953\"], [0.7777777777777778, \"#fb9f3a\"], [0.8888888888888888, \"#fdca26\"], [1.0, \"#f0f921\"]], \"type\": \"histogram2dcontour\"}], \"mesh3d\": [{\"colorbar\": {\"outlinewidth\": 0, \"ticks\": \"\"}, \"type\": \"mesh3d\"}], \"parcoords\": [{\"line\": {\"colorbar\": {\"outlinewidth\": 0, \"ticks\": \"\"}}, \"type\": \"parcoords\"}], \"pie\": [{\"automargin\": true, \"type\": \"pie\"}], \"scatter\": [{\"marker\": {\"colorbar\": {\"outlinewidth\": 0, \"ticks\": \"\"}}, \"type\": \"scatter\"}], \"scatter3d\": [{\"line\": {\"colorbar\": {\"outlinewidth\": 0, \"ticks\": \"\"}}, \"marker\": {\"colorbar\": {\"outlinewidth\": 0, \"ticks\": \"\"}}, \"type\": \"scatter3d\"}], \"scattercarpet\": [{\"marker\": {\"colorbar\": {\"outlinewidth\": 0, \"ticks\": \"\"}}, \"type\": \"scattercarpet\"}], \"scattergeo\": [{\"marker\": {\"colorbar\": {\"outlinewidth\": 0, \"ticks\": \"\"}}, \"type\": \"scattergeo\"}], \"scattergl\": [{\"marker\": {\"colorbar\": {\"outlinewidth\": 0, \"ticks\": \"\"}}, \"type\": \"scattergl\"}], \"scattermapbox\": [{\"marker\": {\"colorbar\": {\"outlinewidth\": 0, \"ticks\": \"\"}}, \"type\": \"scattermapbox\"}], \"scatterpolar\": [{\"marker\": {\"colorbar\": {\"outlinewidth\": 0, \"ticks\": \"\"}}, \"type\": \"scatterpolar\"}], \"scatterpolargl\": [{\"marker\": {\"colorbar\": {\"outlinewidth\": 0, \"ticks\": \"\"}}, \"type\": \"scatterpolargl\"}], \"scatterternary\": [{\"marker\": {\"colorbar\": {\"outlinewidth\": 0, \"ticks\": \"\"}}, \"type\": \"scatterternary\"}], \"surface\": [{\"colorbar\": {\"outlinewidth\": 0, \"ticks\": \"\"}, \"colorscale\": [[0.0, \"#0d0887\"], [0.1111111111111111, \"#46039f\"], [0.2222222222222222, \"#7201a8\"], [0.3333333333333333, \"#9c179e\"], [0.4444444444444444, \"#bd3786\"], [0.5555555555555556, \"#d8576b\"], [0.6666666666666666, \"#ed7953\"], [0.7777777777777778, \"#fb9f3a\"], [0.8888888888888888, \"#fdca26\"], [1.0, \"#f0f921\"]], \"type\": \"surface\"}], \"table\": [{\"cells\": {\"fill\": {\"color\": \"#EBF0F8\"}, \"line\": {\"color\": \"white\"}}, \"header\": {\"fill\": {\"color\": \"#C8D4E3\"}, \"line\": {\"color\": \"white\"}}, \"type\": \"table\"}]}, \"layout\": {\"annotationdefaults\": {\"arrowcolor\": \"#2a3f5f\", \"arrowhead\": 0, \"arrowwidth\": 1}, \"coloraxis\": {\"colorbar\": {\"outlinewidth\": 0, \"ticks\": \"\"}}, \"colorscale\": {\"diverging\": [[0, \"#8e0152\"], [0.1, \"#c51b7d\"], [0.2, \"#de77ae\"], [0.3, \"#f1b6da\"], [0.4, \"#fde0ef\"], [0.5, \"#f7f7f7\"], [0.6, \"#e6f5d0\"], [0.7, \"#b8e186\"], [0.8, \"#7fbc41\"], [0.9, \"#4d9221\"], [1, \"#276419\"]], \"sequential\": [[0.0, \"#0d0887\"], [0.1111111111111111, \"#46039f\"], [0.2222222222222222, \"#7201a8\"], [0.3333333333333333, \"#9c179e\"], [0.4444444444444444, \"#bd3786\"], [0.5555555555555556, \"#d8576b\"], [0.6666666666666666, \"#ed7953\"], [0.7777777777777778, \"#fb9f3a\"], [0.8888888888888888, \"#fdca26\"], [1.0, \"#f0f921\"]], \"sequentialminus\": [[0.0, \"#0d0887\"], [0.1111111111111111, \"#46039f\"], [0.2222222222222222, \"#7201a8\"], [0.3333333333333333, \"#9c179e\"], [0.4444444444444444, \"#bd3786\"], [0.5555555555555556, \"#d8576b\"], [0.6666666666666666, \"#ed7953\"], [0.7777777777777778, \"#fb9f3a\"], [0.8888888888888888, \"#fdca26\"], [1.0, \"#f0f921\"]]}, \"colorway\": [\"#636efa\", \"#EF553B\", \"#00cc96\", \"#ab63fa\", \"#FFA15A\", \"#19d3f3\", \"#FF6692\", \"#B6E880\", \"#FF97FF\", \"#FECB52\"], \"font\": {\"color\": \"#2a3f5f\"}, \"geo\": {\"bgcolor\": \"white\", \"lakecolor\": \"white\", \"landcolor\": \"#E5ECF6\", \"showlakes\": true, \"showland\": true, \"subunitcolor\": \"white\"}, \"hoverlabel\": {\"align\": \"left\"}, \"hovermode\": \"closest\", \"mapbox\": {\"style\": \"light\"}, \"paper_bgcolor\": \"white\", \"plot_bgcolor\": \"#E5ECF6\", \"polar\": {\"angularaxis\": {\"gridcolor\": \"white\", \"linecolor\": \"white\", \"ticks\": \"\"}, \"bgcolor\": \"#E5ECF6\", \"radialaxis\": {\"gridcolor\": \"white\", \"linecolor\": \"white\", \"ticks\": \"\"}}, \"scene\": {\"xaxis\": {\"backgroundcolor\": \"#E5ECF6\", \"gridcolor\": \"white\", \"gridwidth\": 2, \"linecolor\": \"white\", \"showbackground\": true, \"ticks\": \"\", \"zerolinecolor\": \"white\"}, \"yaxis\": {\"backgroundcolor\": \"#E5ECF6\", \"gridcolor\": \"white\", \"gridwidth\": 2, \"linecolor\": \"white\", \"showbackground\": true, \"ticks\": \"\", \"zerolinecolor\": \"white\"}, \"zaxis\": {\"backgroundcolor\": \"#E5ECF6\", \"gridcolor\": \"white\", \"gridwidth\": 2, \"linecolor\": \"white\", \"showbackground\": true, \"ticks\": \"\", \"zerolinecolor\": \"white\"}}, \"shapedefaults\": {\"line\": {\"color\": \"#2a3f5f\"}}, \"ternary\": {\"aaxis\": {\"gridcolor\": \"white\", \"linecolor\": \"white\", \"ticks\": \"\"}, \"baxis\": {\"gridcolor\": \"white\", \"linecolor\": \"white\", \"ticks\": \"\"}, \"bgcolor\": \"#E5ECF6\", \"caxis\": {\"gridcolor\": \"white\", \"linecolor\": \"white\", \"ticks\": \"\"}}, \"title\": {\"x\": 0.05}, \"xaxis\": {\"automargin\": true, \"gridcolor\": \"white\", \"linecolor\": \"white\", \"ticks\": \"\", \"title\": {\"standoff\": 15}, \"zerolinecolor\": \"white\", \"zerolinewidth\": 2}, \"yaxis\": {\"automargin\": true, \"gridcolor\": \"white\", \"linecolor\": \"white\", \"ticks\": \"\", \"title\": {\"standoff\": 15}, \"zerolinecolor\": \"white\", \"zerolinewidth\": 2}}}, \"xaxis\": {\"dtick\": 1, \"tick0\": 2015, \"tickmode\": \"linear\"}},\n",
       "                        {\"responsive\": true}\n",
       "                    ).then(function(){\n",
       "                            \n",
       "var gd = document.getElementById('34abc740-b570-41b5-a3da-61becee4959e');\n",
>>>>>>> 43c3f4fbec4b4d8c427eb3e7336f70c7b1eae197
       "var x = new MutationObserver(function (mutations, observer) {{\n",
       "        var display = window.getComputedStyle(gd).display;\n",
       "        if (!display || display === 'none') {{\n",
       "            console.log([gd, 'removed!']);\n",
       "            Plotly.purge(gd);\n",
       "            observer.disconnect();\n",
       "        }}\n",
       "}});\n",
       "\n",
       "// Listen for the removal of the full notebook cells\n",
       "var notebookContainer = gd.closest('#notebook-container');\n",
       "if (notebookContainer) {{\n",
       "    x.observe(notebookContainer, {childList: true});\n",
       "}}\n",
       "\n",
       "// Listen for the clearing of the current output cell\n",
       "var outputEl = gd.closest('.output');\n",
       "if (outputEl) {{\n",
       "    x.observe(outputEl, {childList: true});\n",
       "}}\n",
       "\n",
       "                        })\n",
       "                };\n",
       "                });\n",
       "            </script>\n",
       "        </div>"
      ]
     },
     "metadata": {},
     "output_type": "display_data"
    }
   ],
   "source": [
    "years = [2015, 2016, 2017, 2018]\n",
    "\n",
    "revenue_cruve = go.Figure()\n",
    "for i in range(len(revenue_plot)):\n",
    "    plot_df = pd.DataFrame(\n",
    "        {'Company': [revenue_plot.iloc[i, 0] for j in range(len(years))],\n",
    "         'Year': years,\n",
    "         'Revenue': list(revenue_plot.loc[i, [\"Umsatz 2015 (in Mio. €)\", 'Umsatz 2016 (in Mio. €)', 'Umsatz 2017 (in Mio. €)', 'Umsatz 2018 (in Mio. €)']]) },\n",
    "        columns = ['Company', 'Year', 'Revenue'])\n",
    "    revenue_cruve.add_trace(go.Scatter(\n",
    "                    x=plot_df['Year'],\n",
    "                    y=plot_df['Revenue'],\n",
    "                    name=plot_df['Company'][0],\n",
    "                    text =  '<b>{}</b> <br>'.format(plot_df['Company'][0]) +\n",
    "                            'Revenue {}: {} <br>'.format(plot_df['Year'][0], plot_df['Revenue'][0]) +\n",
    "                            'Revenue {}: {} <br>'.format(plot_df['Year'][1], plot_df['Revenue'][1]) +\n",
    "                            'Revenue {}: {} <br>'.format(plot_df['Year'][2], plot_df['Revenue'][2]) +\n",
    "                            'Revenue {}: {}'.format(plot_df['Year'][3], plot_df['Revenue'][3])\n",
    "    ))\n",
    "\n",
    "revenue_cruve.update_traces(mode=\"markers+lines\",\n",
    "                            hovertemplate = None                           )\n",
    "    \n",
    "revenue_cruve.update_layout(\n",
    "    #title_text=\"Automobilzulieferer in Deutschland\",\n",
    "    #hovermode = 'x',\n",
    "    width = 1100,\n",
    "    height = 800,\n",
    "    legend_title='<b> Company </b>',\n",
    "    \n",
    "    yaxis=dict(\n",
    "        title_text=\"Revenue in Mio. €\",\n",
    "        titlefont=dict(size=22),\n",
    "    ),\n",
    "    \n",
    "    xaxis = dict(\n",
    "        title_text = \"Years\",\n",
    "        tickmode = 'linear',\n",
    "        tick0 = years[0],\n",
    "        titlefont=dict(size=22),\n",
    "        dtick = 1)\n",
    ")\n",
    "config = dict({'scrollZoom':True, \n",
    "               'displayModeBar':False,\n",
    "               'showLink':False, \n",
    "               'displaylogo': False,\n",
    "               'editable': False})\n",
    "\n",
    "py.plot(revenue_cruve, filename='revenue firms curve', auto_open=True, config=config)\n",
    "revenue_cruve.show()"
   ]
  },
  {
   "cell_type": "code",
   "execution_count": 21,
   "metadata": {},
   "outputs": [
    {
     "data": {
      "text/plain": [
       "'<iframe id=\"igraph\" scrolling=\"no\" style=\"border:none;\" seamless=\"seamless\" src=\"https://plotly.com/~lenlehm/9.embed\" height=\"525\" width=\"100%\"></iframe>'"
      ]
     },
     "execution_count": 21,
     "metadata": {},
     "output_type": "execute_result"
    }
   ],
   "source": [
    "tls.get_embed('https://plotly.com/~lenlehm/9/#/')"
   ]
  },
  {
   "cell_type": "markdown",
   "metadata": {},
   "source": [
    "## Dash it to make it visible in the web"
   ]
  },
  {
   "cell_type": "code",
   "execution_count": null,
   "metadata": {
    "collapsed": true
   },
   "outputs": [],
   "source": [
    "import dash\n",
    "import dash_core_components as dcc\n",
    "import dash_html_components as html\n",
    "\n",
    "app = dash.Dash()\n",
    "app.layout = html.Div([\n",
    "    dcc.Graph(figure=revenue_cruve),\n",
    "    dcc.Graph(figure=branchen_map),\n",
    "    dcc.Graph(figure=revenue_map),\n",
    "    dcc.Graph(figure=federal_map),\n",
    "    dcc.Graph(figure=fig)\n",
    "    \n",
    "])\n",
    "\n",
    "app.run_server(debug=True, use_reloader=False)  # Turn off reloader if inside Jupyter"
   ]
  },
  {
   "cell_type": "code",
   "execution_count": null,
   "metadata": {
    "collapsed": true
   },
   "outputs": [],
   "source": []
  }
 ],
 "metadata": {
  "kernelspec": {
   "display_name": "Python 3",
   "language": "python",
   "name": "python3"
  },
  "language_info": {
   "codemirror_mode": {
    "name": "ipython",
    "version": 3
   },
   "file_extension": ".py",
   "mimetype": "text/x-python",
   "name": "python",
   "nbconvert_exporter": "python",
   "pygments_lexer": "ipython3",
   "version": "3.6.4"
  }
 },
 "nbformat": 4,
 "nbformat_minor": 2
}
